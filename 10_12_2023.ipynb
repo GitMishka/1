{
  "nbformat": 4,
  "nbformat_minor": 0,
  "metadata": {
    "colab": {
      "provenance": [],
      "authorship_tag": "ABX9TyPBdI8KOiTO+GQPJEmevKDr",
      "include_colab_link": true
    },
    "kernelspec": {
      "name": "python3",
      "display_name": "Python 3"
    },
    "language_info": {
      "name": "python"
    }
  },
  "cells": [
    {
      "cell_type": "markdown",
      "metadata": {
        "id": "view-in-github",
        "colab_type": "text"
      },
      "source": [
        "<a href=\"https://colab.research.google.com/github/GitMishka/1/blob/main/10_12_2023.ipynb\" target=\"_parent\"><img src=\"https://colab.research.google.com/assets/colab-badge.svg\" alt=\"Open In Colab\"/></a>"
      ]
    },
    {
      "cell_type": "code",
      "execution_count": null,
      "metadata": {
        "id": "ebCnnzeYJ813"
      },
      "outputs": [],
      "source": []
    },
    {
      "cell_type": "markdown",
      "source": [
        "CREATE TEMP TABLE temp_table AS\n",
        "SELECT *\n",
        "FROM \"paylocityPositionHistory\" pph\n",
        "JOIN \"survey_test\" st\n",
        "ON EXTRACT(YEAR FROM CAST(pph.\"Position Effective Date\" AS DATE)) = EXTRACT(YEAR FROM st.\"startDate\")\n",
        "AND EXTRACT(MONTH FROM CAST(pph.\"Position Effective Date\" AS DATE)) = EXTRACT(MONTH FROM st.\"startDate\")\n",
        "WHERE (pph.\"jobTitle\" = 'Director of Nursing' OR pph.\"jobTitle\" = 'Executive Director')\n",
        "AND EXTRACT(YEAR FROM CAST(pp\n"
      ],
      "metadata": {
        "id": "boFCfzZ6KYqK"
      }
    },
    {
      "cell_type": "code",
      "source": [
        "CREATE TEMP TABLE temp_table AS\n",
        "SELECT *\n",
        "FROM \"paylocityPositionHistory\" pph\n",
        "JOIN \"survey_test\" st\n",
        "ON EXTRACT(YEAR FROM CAST(pph.\"Position Effective Date\" AS DATE)) = EXTRACT(YEAR FROM st.\"startDate\")\n",
        "AND EXTRACT(MONTH FROM CAST(pph.\"Position Effective Date\" AS DATE)) = EXTRACT(MONTH FROM st.\"startDate\")\n",
        "WHERE (pph.\"jobTitle\" = 'Director of Nursing' OR pph.\"jobTitle\" = 'Executive Director')\n",
        "AND EXTRACT(YEAR FROM CAST(pp\n"
      ],
      "metadata": {
        "id": "mlxLP5RWKbjm"
      },
      "execution_count": null,
      "outputs": []
    },
    {
      "cell_type": "code",
      "source": [
        "CASE\n",
        "    WHEN [Cost Center 1 Description] = 'Lantern at Morning Pointe Franklin TN' THEN 'FKTL'\n",
        "    WHEN [Cost Center 1 Description] = 'Lantern at Morning Pointe Louisville' THEN 'LVLL'\n",
        "    WHEN [Cost Center 1 Description] = 'Lantern at Morning Pointe of Chattanooga' THEN 'CHTL'\n",
        "    WHEN [Cost Center 1 Description] = 'Lantern at Morning Pointe of Clinton' THEN 'CLIN'\n",
        "    WHEN [Cost Center 1 Description] = 'Lantern at Morning Pointe of Collegedale' THEN 'CGDL'\n",
        "    WHEN [Cost Center 1 Description] = 'LANTERN AT MORNING POINTE OF FRANKFORT' THEN 'FRKL'\n",
        "    WHEN [Cost Center 1 Description] = 'Lantern at Morning Pointe of Knoxville' THEN 'KNXL'\n",
        "    WHEN [Cost Center 1 Description] = 'Lantern at Morning Pointe of Lenoir City' THEN 'LENL'\n",
        "    WHEN [Cost Center 1 Description] = 'LANTERN AT MORNING POINTE OF LEXINGTON' THEN 'LEXL'\n",
        "    WHEN [Cost Center 1 Description] = 'Lantern at Morning Pointe of Powell' THEN 'PWLL'\n",
        "    WHEN [Cost Center 1 Description] = 'LANTERN AT MORNING POINTE OF RUSSELL' THEN 'RUSL'\n",
        "    WHEN [Cost Center 1 Description] = 'Lantern at Morning Pointe of Spring Hill' THEN 'SPRL'\n",
        "    WHEN [Cost Center 1 Description] = 'LEXL' THEN 'LEXL'\n",
        "    WHEN [Cost Center 1 Description] = 'Morning Pointe at Happy Valley' THEN 'HPPY'\n",
        "    WHEN [Cost Center 1 Description] = 'Morning Pointe of Athens' THEN 'ATHS'\n",
        "    WHEN [Cost Center 1 Description] = 'Morning Pointe of Brentwood' THEN 'BRWD'\n",
        "    WHEN [Cost Center 1 Description] = 'Morning Pointe of Calhoun' THEN 'CALH'\n",
        "    WHEN [Cost Center 1 Description] = 'Morning Pointe of Chattanooga' THEN 'CHTT'\n",
        "    WHEN [Cost Center 1 Description] = 'Morning Pointe of Columbia' THEN 'COLM'\n",
        "    WHEN [Cost Center 1 Description] = 'MORNING POINTE OF DANVILLE' THEN 'DANV'\n",
        "    WHEN [Cost Center 1 Description] = 'Morning Pointe of East Hamilton' THEN 'EHAM'\n",
        "    WHEN [Cost Center 1 Description] = 'MORNING POINTE OF FRANKFORT' THEN 'FRKT'\n",
        "    WHEN [Cost Center 1 Description] = 'Morning Pointe of Franklin' THEN 'FRLN'\n",
        "    WHEN [Cost Center 1 Description] = 'Morning Pointe of Franklin TN' THEN 'FKTN'\n",
        "    WHEN [Cost Center 1 Description] = 'Morning Pointe of Greenbriar' THEN 'GRNB'\n",
        "    WHEN [Cost Center 1 Description] = 'Morning Pointe of Greeneville' THEN 'GRNV'\n",
        "    WHEN [Cost Center 1 Description] = 'Morning Pointe of Hardin Valley' THEN 'HARD'\n",
        "    WHEN [Cost Center 1 Description] = 'Morning Pointe of Hixson' THEN 'HIXN'\n",
        "    WHEN [Cost Center 1 Description] = 'Morning Pointe of Knoxville' THEN 'KNOX'\n",
        "    WHEN [Cost Center 1 Description] = 'Morning Pointe of Lenoir City' THEN 'LENC'\n",
        "    WHEN [Cost Center 1 Description] = 'MORNING POINTE OF LEXINGTON' THEN 'LEXN'\n",
        "    WHEN [Cost Center 1 Description] = 'MORNING POINTE OF LEXINGTON EAST' THEN 'LEXE'\n",
        "    WHEN [Cost Center 1 Description] = 'MORNING POINTE OF LOUISVILLE' THEN 'LVLM'\n",
        "    WHEN [Cost Center 1 Description] = 'Morning Pointe of Powell' THEN 'POWL'\n",
        "    WHEN [Cost Center 1 Description] = 'Morning Pointe of Richmond' THEN 'RICH'\n",
        "    WHEN [Cost Center 1 Description] = 'Morning Pointe of Russell' THEN 'RUSS'\n",
        "    WHEN [Cost Center 1 Description] = 'Morning Pointe of Spring Hill' THEN 'SPRH'\n",
        "    WHEN [Cost Center 1 Description] = 'Morning Pointe of Tullahoma' THEN 'TULA'\n",
        "    WHEN [Cost Center 1 Description] = 'Morning Pointe of Tuscaloosa' THEN 'TUSC'\n",
        "    ELSE [Cost Center 1 Description]\n",
        "END AS community_code\n"
      ],
      "metadata": {
        "id": "QpH-Gcp_KjE5"
      },
      "execution_count": null,
      "outputs": []
    }
  ]
}