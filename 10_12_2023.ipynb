{
  "nbformat": 4,
  "nbformat_minor": 0,
  "metadata": {
    "colab": {
      "provenance": [],
      "authorship_tag": "ABX9TyOCUUlERGWJkyLvuVG765pk",
      "include_colab_link": true
    },
    "kernelspec": {
      "name": "python3",
      "display_name": "Python 3"
    },
    "language_info": {
      "name": "python"
    }
  },
  "cells": [
    {
      "cell_type": "markdown",
      "metadata": {
        "id": "view-in-github",
        "colab_type": "text"
      },
      "source": [
        "<a href=\"https://colab.research.google.com/github/GitMishka/1/blob/main/10_12_2023.ipynb\" target=\"_parent\"><img src=\"https://colab.research.google.com/assets/colab-badge.svg\" alt=\"Open In Colab\"/></a>"
      ]
    },
    {
      "cell_type": "code",
      "execution_count": null,
      "metadata": {
        "id": "ebCnnzeYJ813"
      },
      "outputs": [],
      "source": []
    },
    {
      "cell_type": "markdown",
      "source": [
        "CREATE TEMP TABLE temp_table AS\n",
        "SELECT *\n",
        "FROM \"paylocityPositionHistory\" pph\n",
        "JOIN \"survey_test\" st\n",
        "ON EXTRACT(YEAR FROM CAST(pph.\"Position Effective Date\" AS DATE)) = EXTRACT(YEAR FROM st.\"startDate\")\n",
        "AND EXTRACT(MONTH FROM CAST(pph.\"Position Effective Date\" AS DATE)) = EXTRACT(MONTH FROM st.\"startDate\")\n",
        "WHERE (pph.\"jobTitle\" = 'Director of Nursing' OR pph.\"jobTitle\" = 'Executive Director')\n",
        "AND EXTRACT(YEAR FROM CAST(pp\n"
      ],
      "metadata": {
        "id": "boFCfzZ6KYqK"
      }
    },
    {
      "cell_type": "code",
      "source": [
        "CREATE TEMP TABLE temp_table AS\n",
        "SELECT *\n",
        "FROM \"paylocityPositionHistory\" pph\n",
        "JOIN \"survey_test\" st\n",
        "ON EXTRACT(YEAR FROM CAST(pph.\"Position Effective Date\" AS DATE)) = EXTRACT(YEAR FROM st.\"startDate\")\n",
        "AND EXTRACT(MONTH FROM CAST(pph.\"Position Effective Date\" AS DATE)) = EXTRACT(MONTH FROM st.\"startDate\")\n",
        "WHERE (pph.\"jobTitle\" = 'Director of Nursing' OR pph.\"jobTitle\" = 'Executive Director')\n",
        "AND EXTRACT(YEAR FROM CAST(pp\n"
      ],
      "metadata": {
        "id": "mlxLP5RWKbjm"
      },
      "execution_count": null,
      "outputs": []
    },
    {
      "cell_type": "code",
      "source": [
        "CASE\n",
        "    WHEN [Cost Center 1 Description] = 'Lantern at Morning Pointe Franklin TN' THEN 'FKTL'\n",
        "    WHEN [Cost Center 1 Description] = 'Lantern at Morning Pointe Louisville' THEN 'LVLL'\n",
        "    WHEN [Cost Center 1 Description] = 'Lantern at Morning Pointe of Chattanooga' THEN 'CHTL'\n",
        "    WHEN [Cost Center 1 Description] = 'Lantern at Morning Pointe of Clinton' THEN 'CLIN'\n",
        "    WHEN [Cost Center 1 Description] = 'Lantern at Morning Pointe of Collegedale' THEN 'CGDL'\n",
        "    WHEN [Cost Center 1 Description] = 'LANTERN AT MORNING POINTE OF FRANKFORT' THEN 'FRKL'\n",
        "    WHEN [Cost Center 1 Description] = 'Lantern at Morning Pointe of Knoxville' THEN 'KNXL'\n",
        "    WHEN [Cost Center 1 Description] = 'Lantern at Morning Pointe of Lenoir City' THEN 'LENL'\n",
        "    WHEN [Cost Center 1 Description] = 'LANTERN AT MORNING POINTE OF LEXINGTON' THEN 'LEXL'\n",
        "    WHEN [Cost Center 1 Description] = 'Lantern at Morning Pointe of Powell' THEN 'PWLL'\n",
        "    WHEN [Cost Center 1 Description] = 'LANTERN AT MORNING POINTE OF RUSSELL' THEN 'RUSL'\n",
        "    WHEN [Cost Center 1 Description] = 'Lantern at Morning Pointe of Spring Hill' THEN 'SPRL'\n",
        "    WHEN [Cost Center 1 Description] = 'LEXL' THEN 'LEXL'\n",
        "    WHEN [Cost Center 1 Description] = 'Morning Pointe at Happy Valley' THEN 'HPPY'\n",
        "    WHEN [Cost Center 1 Description] = 'Morning Pointe of Athens' THEN 'ATHS'\n",
        "    WHEN [Cost Center 1 Description] = 'Morning Pointe of Brentwood' THEN 'BRWD'\n",
        "    WHEN [Cost Center 1 Description] = 'Morning Pointe of Calhoun' THEN 'CALH'\n",
        "    WHEN [Cost Center 1 Description] = 'Morning Pointe of Chattanooga' THEN 'CHTT'\n",
        "    WHEN [Cost Center 1 Description] = 'Morning Pointe of Columbia' THEN 'COLM'\n",
        "    WHEN [Cost Center 1 Description] = 'MORNING POINTE OF DANVILLE' THEN 'DANV'\n",
        "    WHEN [Cost Center 1 Description] = 'Morning Pointe of East Hamilton' THEN 'EHAM'\n",
        "    WHEN [Cost Center 1 Description] = 'MORNING POINTE OF FRANKFORT' THEN 'FRKT'\n",
        "    WHEN [Cost Center 1 Description] = 'Morning Pointe of Franklin' THEN 'FRLN'\n",
        "    WHEN [Cost Center 1 Description] = 'Morning Pointe of Franklin TN' THEN 'FKTN'\n",
        "    WHEN [Cost Center 1 Description] = 'Morning Pointe of Greenbriar' THEN 'GRNB'\n",
        "    WHEN [Cost Center 1 Description] = 'Morning Pointe of Greeneville' THEN 'GRNV'\n",
        "    WHEN [Cost Center 1 Description] = 'Morning Pointe of Hardin Valley' THEN 'HARD'\n",
        "    WHEN [Cost Center 1 Description] = 'Morning Pointe of Hixson' THEN 'HIXN'\n",
        "    WHEN [Cost Center 1 Description] = 'Morning Pointe of Knoxville' THEN 'KNOX'\n",
        "    WHEN [Cost Center 1 Description] = 'Morning Pointe of Lenoir City' THEN 'LENC'\n",
        "    WHEN [Cost Center 1 Description] = 'MORNING POINTE OF LEXINGTON' THEN 'LEXN'\n",
        "    WHEN [Cost Center 1 Description] = 'MORNING POINTE OF LEXINGTON EAST' THEN 'LEXE'\n",
        "    WHEN [Cost Center 1 Description] = 'MORNING POINTE OF LOUISVILLE' THEN 'LVLM'\n",
        "    WHEN [Cost Center 1 Description] = 'Morning Pointe of Powell' THEN 'POWL'\n",
        "    WHEN [Cost Center 1 Description] = 'Morning Pointe of Richmond' THEN 'RICH'\n",
        "    WHEN [Cost Center 1 Description] = 'Morning Pointe of Russell' THEN 'RUSS'\n",
        "    WHEN [Cost Center 1 Description] = 'Morning Pointe of Spring Hill' THEN 'SPRH'\n",
        "    WHEN [Cost Center 1 Description] = 'Morning Pointe of Tullahoma' THEN 'TULA'\n",
        "    WHEN [Cost Center 1 Description] = 'Morning Pointe of Tuscaloosa' THEN 'TUSC'\n",
        "    ELSE [Cost Center 1 Description]\n",
        "END AS community_code\n"
      ],
      "metadata": {
        "id": "QpH-Gcp_KjE5"
      },
      "execution_count": null,
      "outputs": []
    },
    {
      "cell_type": "code",
      "source": [],
      "metadata": {
        "id": "xLFTR8SVLCt8"
      },
      "execution_count": null,
      "outputs": []
    },
    {
      "cell_type": "code",
      "source": [
        "import pandas as pd\n",
        "\n",
        "data = {'Name': ['Alice', 'Bob', 'Carol'],\n",
        "        'Age': [25, 30, 27],\n",
        "        'Gender': ['F', 'M', 'F']}\n",
        "df = pd.DataFrame(data)\n",
        "\n",
        "df['Salary'] = [50000, 60000, 52000]\n",
        "\n",
        "filtered_df = df[df['Age'] > 26]\n",
        "print(filtered_df)\n"
      ],
      "metadata": {
        "colab": {
          "base_uri": "https://localhost:8080/"
        },
        "id": "HKQtRHTELC4X",
        "outputId": "d9424321-e88b-4bd8-b422-8289d4aa6b69"
      },
      "execution_count": 1,
      "outputs": [
        {
          "output_type": "stream",
          "name": "stdout",
          "text": [
            "    Name  Age Gender  Salary\n",
            "1    Bob   30      M   60000\n",
            "2  Carol   27      F   52000\n"
          ]
        }
      ]
    },
    {
      "cell_type": "code",
      "source": [
        "data = {'Name': ['Alice', 'Bob', 'Carol', 'David'],\n",
        "        'Department': ['HR', 'Finance', 'HR', 'Finance'],\n",
        "        'Salary': [50000, 60000, 52000, 65000]}\n",
        "df = pd.DataFrame(data)\n",
        "\n",
        "grouped = df.groupby('Department')['Salary'].mean()\n",
        "\n",
        "highest_salary_dept = grouped.idxmax()\n",
        "print(highest_salary_dept)\n"
      ],
      "metadata": {
        "colab": {
          "base_uri": "https://localhost:8080/"
        },
        "id": "gXIDffmrLTCG",
        "outputId": "d2cc3d89-2445-4953-e02f-7ece77f0ca3d"
      },
      "execution_count": 2,
      "outputs": [
        {
          "output_type": "stream",
          "name": "stdout",
          "text": [
            "Finance\n"
          ]
        }
      ]
    },
    {
      "cell_type": "code",
      "source": [
        "dates = pd.date_range(start='today', periods=7)\n",
        "\n",
        "date_df = pd.DataFrame(dates, columns=['Date'])\n",
        "\n",
        "date_df['Weekday'] = date_df['Date'].dt.day_name()\n",
        "print(date_df)\n"
      ],
      "metadata": {
        "colab": {
          "base_uri": "https://localhost:8080/"
        },
        "id": "XUXrLazgLd3C",
        "outputId": "6eafdc60-ac60-4b95-a927-dab7ee863fd0"
      },
      "execution_count": 3,
      "outputs": [
        {
          "output_type": "stream",
          "name": "stdout",
          "text": [
            "                        Date    Weekday\n",
            "0 2023-10-13 03:56:53.546602     Friday\n",
            "1 2023-10-14 03:56:53.546602   Saturday\n",
            "2 2023-10-15 03:56:53.546602     Sunday\n",
            "3 2023-10-16 03:56:53.546602     Monday\n",
            "4 2023-10-17 03:56:53.546602    Tuesday\n",
            "5 2023-10-18 03:56:53.546602  Wednesday\n",
            "6 2023-10-19 03:56:53.546602   Thursday\n"
          ]
        }
      ]
    }
  ]
}