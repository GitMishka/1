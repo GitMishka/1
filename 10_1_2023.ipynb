{
  "nbformat": 4,
  "nbformat_minor": 0,
  "metadata": {
    "colab": {
      "provenance": [],
      "authorship_tag": "ABX9TyNnYdZFpCmugTQEg7y1yi+Y",
      "include_colab_link": true
    },
    "kernelspec": {
      "name": "python3",
      "display_name": "Python 3"
    },
    "language_info": {
      "name": "python"
    }
  },
  "cells": [
    {
      "cell_type": "markdown",
      "metadata": {
        "id": "view-in-github",
        "colab_type": "text"
      },
      "source": [
        "<a href=\"https://colab.research.google.com/github/GitMishka/1/blob/main/10_1_2023.ipynb\" target=\"_parent\"><img src=\"https://colab.research.google.com/assets/colab-badge.svg\" alt=\"Open In Colab\"/></a>"
      ]
    },
    {
      "cell_type": "code",
      "execution_count": 1,
      "metadata": {
        "id": "FWJ3XN6oMS9i"
      },
      "outputs": [],
      "source": [
        "def fib_memo(n, memo={}):\n",
        "    if n in memo:\n",
        "        return memo[n]\n",
        "    if n <= 2:\n",
        "        return 1\n",
        "    memo[n] = fib_memo(n-1, memo) + fib_memo(n-2, memo)\n",
        "    return memo[n]\n"
      ]
    },
    {
      "cell_type": "code",
      "source": [
        "def merge_intervals(intervals):\n",
        "    if not intervals:\n",
        "        return []\n",
        "\n",
        "    intervals.sort(key=lambda x: x[0])\n",
        "    merged = [intervals[0]]\n",
        "\n",
        "    for current_interval in intervals[1:]:\n",
        "        last_interval = merged[-1]\n",
        "        if current_interval[0] <= last_interval[1]:\n",
        "            last_interval[1] = max(last_interval[1], current_interval[1])\n",
        "        else:\n",
        "            merged.append(current_interval)\n",
        "\n",
        "    return merged\n",
        "merge_intervals([[1,3],[2,6],[8,10],[15,18]])"
      ],
      "metadata": {
        "id": "kVxd_h_Zfnql"
      },
      "execution_count": null,
      "outputs": []
    },
    {
      "cell_type": "code",
      "source": [
        "def isValid(s):\n",
        "    stack = []\n",
        "    mapping = {\")\": \"(\", \"}\": \"{\", \"]\": \"[\"}\n",
        "\n",
        "    for char in s:\n",
        "        if char in mapping:\n",
        "            top_element = stack.pop() if stack else '#'\n",
        "            if mapping[char] != top_element:\n",
        "                return False\n",
        "        else:\n",
        "            stack.append(char)\n",
        "\n",
        "    return not stack\n",
        "isValid('wadw()wadwad[]dwad]')"
      ],
      "metadata": {
        "id": "J6_8Lu1Sf15p"
      },
      "execution_count": null,
      "outputs": []
    },
    {
      "cell_type": "code",
      "source": [
        "def max_sub_array(nums):\n",
        "    if not nums:\n",
        "        return 0\n",
        "\n",
        "    current_sum = max_sum = nums[0]\n",
        "    for num in nums[1:]:\n",
        "        current_sum = max(num, current_sum + num)\n",
        "        max_sum = max(max_sum, current_sum)\n",
        "\n",
        "    return max_sum\n",
        "max_sub_array([1,1,2,3,43,4,5,6,-1,1])"
      ],
      "metadata": {
        "colab": {
          "base_uri": "https://localhost:8080/"
        },
        "id": "kVCJQYvThNg_",
        "outputId": "eb5db36d-0211-47cb-f320-21074d7393a7"
      },
      "execution_count": 4,
      "outputs": [
        {
          "output_type": "execute_result",
          "data": {
            "text/plain": [
              "65"
            ]
          },
          "metadata": {},
          "execution_count": 4
        }
      ]
    },
    {
      "cell_type": "code",
      "source": [
        "def longest_palindrome(s):\n",
        "    if not s:\n",
        "        return \"\"\n",
        "\n",
        "    start = end = 0\n",
        "    for i in range(len(s)):\n",
        "        len1 = expand_around_center(s, i, i)\n",
        "        len2 = expand_around_center(s, i, i + 1)\n",
        "        max_len = max(len1, len2)\n",
        "        if max_len > (end - start):\n",
        "            start = i - (max_len - 1) // 2\n",
        "            end = i + max_len // 2\n",
        "\n",
        "    return s[start:end+1]\n",
        "\n",
        "def expand_around_center(s, left, right):\n",
        "    while left >= 0 and right < len(s) and s[left] == s[right]:\n",
        "        left -= 1\n",
        "        right += 1\n",
        "    return right - left - 1\n",
        "longest_palindrome(\"babad\")"
      ],
      "metadata": {
        "colab": {
          "base_uri": "https://localhost:8080/",
          "height": 43
        },
        "id": "vzHpmnoXh9P_",
        "outputId": "5e45dcc1-f402-439b-ee34-4a3d4d327cd7"
      },
      "execution_count": 5,
      "outputs": [
        {
          "output_type": "execute_result",
          "data": {
            "text/plain": [
              "'aba'"
            ],
            "application/vnd.google.colaboratory.intrinsic+json": {
              "type": "string"
            }
          },
          "metadata": {},
          "execution_count": 5
        }
      ]
    }
  ]
}