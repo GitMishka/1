{
  "nbformat": 4,
  "nbformat_minor": 0,
  "metadata": {
    "colab": {
      "provenance": [],
      "authorship_tag": "ABX9TyOaZq1Lr0u/2ShxIfpzRLEP",
      "include_colab_link": true
    },
    "kernelspec": {
      "name": "python3",
      "display_name": "Python 3"
    },
    "language_info": {
      "name": "python"
    }
  },
  "cells": [
    {
      "cell_type": "markdown",
      "metadata": {
        "id": "view-in-github",
        "colab_type": "text"
      },
      "source": [
        "<a href=\"https://colab.research.google.com/github/GitMishka/1/blob/main/10_23_2023.ipynb\" target=\"_parent\"><img src=\"https://colab.research.google.com/assets/colab-badge.svg\" alt=\"Open In Colab\"/></a>"
      ]
    },
    {
      "cell_type": "code",
      "execution_count": null,
      "metadata": {
        "id": "BFhvNHmdTitp"
      },
      "outputs": [],
      "source": [
        "CREATE TABLE books (\n",
        "    book_id SERIAL PRIMARY KEY,\n",
        "    title VARCHAR(255) NOT NULL,\n",
        "    author VARCHAR(255) NOT NULL,\n",
        "    published_date DATE,\n",
        "    isbn VARCHAR(13)\n",
        ");\n"
      ]
    },
    {
      "cell_type": "code",
      "source": [
        "INSERT INTO books (title, author, published_date, isbn)\n",
        "VALUES ('The Great Gatsby', 'F. Scott Fitzgerald', '1925-04-10', '9780743273565');\n"
      ],
      "metadata": {
        "id": "2m6XteRhUJJw"
      },
      "execution_count": null,
      "outputs": []
    },
    {
      "cell_type": "code",
      "source": [
        "SELECT * FROM books WHERE author = 'F. Scott Fitzgerald';\n"
      ],
      "metadata": {
        "id": "cyAnv95TULgE"
      },
      "execution_count": null,
      "outputs": []
    },
    {
      "cell_type": "code",
      "source": [
        "UPDATE books\n",
        "SET published_date = '1925-04-10'\n",
        "WHERE title = 'The Great Gatsby';\n"
      ],
      "metadata": {
        "id": "EAYDl0vqUOac"
      },
      "execution_count": null,
      "outputs": []
    },
    {
      "cell_type": "code",
      "source": [
        "UPDATE books\n",
        "SET published_date = '1925-04-10'\n",
        "WHERE title = 'The Great Gatsby';\n"
      ],
      "metadata": {
        "id": "DGfvvljeUWJ0"
      },
      "execution_count": null,
      "outputs": []
    },
    {
      "cell_type": "code",
      "source": [
        "DELETE FROM books WHERE title = 'The Great Gatsby';\n"
      ],
      "metadata": {
        "id": "iX3THiD7UYkp"
      },
      "execution_count": null,
      "outputs": []
    },
    {
      "cell_type": "code",
      "source": [
        "DELETE FROM books WHERE title = 'The Great Gatsby';\n"
      ],
      "metadata": {
        "id": "64DaAbdMUarJ"
      },
      "execution_count": null,
      "outputs": []
    },
    {
      "cell_type": "code",
      "source": [
        "SELECT salesperson_id,\n",
        "       COUNT(*) as total_sales_count,\n",
        "       DENSE_RANK() OVER (ORDER BY COUNT(*) DESC) as dense_rank\n",
        "FROM sales\n",
        "GROUP BY salesperson_id;\n"
      ],
      "metadata": {
        "id": "fBaIq4vDUp2P"
      },
      "execution_count": null,
      "outputs": []
    },
    {
      "cell_type": "code",
      "source": [
        "SELECT salesperson_id,\n",
        "       sale_date,\n",
        "       amount,\n",
        "       ROW_NUMBER() OVER (PARTITION BY salesperson_id ORDER BY sale_date) as row\n",
        "FROM sales;\n"
      ],
      "metadata": {
        "id": "K-J_SogvUwDH"
      },
      "execution_count": null,
      "outputs": []
    },
    {
      "cell_type": "code",
      "source": [
        "SELECT salesperson_id,\n",
        "       EXTRACT(MONTH FROM sale_date) as month,\n",
        "       EXTRACT(YEAR FROM sale_date) as year,\n",
        "       amount,\n",
        "       ROW_NUMBER() OVER (PARTITION BY salesperson_id, EXTRACT(MONTH FROM sale_date), EXTRACT(YEAR FROM sale_date) ORDER BY amount DESC) as row\n",
        "FROM sales;\n"
      ],
      "metadata": {
        "id": "87NTezbaUyLw"
      },
      "execution_count": null,
      "outputs": []
    }
  ]
}