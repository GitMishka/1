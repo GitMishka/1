{
  "nbformat": 4,
  "nbformat_minor": 0,
  "metadata": {
    "colab": {
      "provenance": [],
      "authorship_tag": "ABX9TyM3x3AwXi1FI3+tPJnY/zBV",
      "include_colab_link": true
    },
    "kernelspec": {
      "name": "python3",
      "display_name": "Python 3"
    },
    "language_info": {
      "name": "python"
    }
  },
  "cells": [
    {
      "cell_type": "markdown",
      "metadata": {
        "id": "view-in-github",
        "colab_type": "text"
      },
      "source": [
        "<a href=\"https://colab.research.google.com/github/GitMishka/1/blob/main/10_2_2023_(useful_programs).ipynb\" target=\"_parent\"><img src=\"https://colab.research.google.com/assets/colab-badge.svg\" alt=\"Open In Colab\"/></a>"
      ]
    },
    {
      "cell_type": "code",
      "execution_count": 1,
      "metadata": {
        "colab": {
          "base_uri": "https://localhost:8080/",
          "height": 267
        },
        "id": "gFjk3fw5npUQ",
        "outputId": "57eb5c09-9269-47e2-9c0d-3c0f376c54d0"
      },
      "outputs": [
        {
          "name": "stdout",
          "output_type": "stream",
          "text": [
            "Enter folder path: C:\\Users\\Misha\\Desktop\\ressume\n"
          ]
        },
        {
          "output_type": "error",
          "ename": "FileNotFoundError",
          "evalue": "ignored",
          "traceback": [
            "\u001b[0;31m---------------------------------------------------------------------------\u001b[0m",
            "\u001b[0;31mFileNotFoundError\u001b[0m                         Traceback (most recent call last)",
            "\u001b[0;32m<ipython-input-1-4b92989371c4>\u001b[0m in \u001b[0;36m<cell line: 6>\u001b[0;34m()\u001b[0m\n\u001b[1;32m      4\u001b[0m \u001b[0mfolder_path\u001b[0m \u001b[0;34m=\u001b[0m \u001b[0minput\u001b[0m\u001b[0;34m(\u001b[0m\u001b[0;34m\"Enter folder path: \"\u001b[0m\u001b[0;34m)\u001b[0m\u001b[0;34m\u001b[0m\u001b[0;34m\u001b[0m\u001b[0m\n\u001b[1;32m      5\u001b[0m \u001b[0;34m\u001b[0m\u001b[0m\n\u001b[0;32m----> 6\u001b[0;31m \u001b[0;32mfor\u001b[0m \u001b[0mfilename\u001b[0m \u001b[0;32min\u001b[0m \u001b[0mos\u001b[0m\u001b[0;34m.\u001b[0m\u001b[0mlistdir\u001b[0m\u001b[0;34m(\u001b[0m\u001b[0mfolder_path\u001b[0m\u001b[0;34m)\u001b[0m\u001b[0;34m:\u001b[0m\u001b[0;34m\u001b[0m\u001b[0;34m\u001b[0m\u001b[0m\n\u001b[0m\u001b[1;32m      7\u001b[0m     \u001b[0mfile_path\u001b[0m \u001b[0;34m=\u001b[0m \u001b[0mos\u001b[0m\u001b[0;34m.\u001b[0m\u001b[0mpath\u001b[0m\u001b[0;34m.\u001b[0m\u001b[0mjoin\u001b[0m\u001b[0;34m(\u001b[0m\u001b[0mfolder_path\u001b[0m\u001b[0;34m,\u001b[0m \u001b[0mfilename\u001b[0m\u001b[0;34m)\u001b[0m\u001b[0;34m\u001b[0m\u001b[0;34m\u001b[0m\u001b[0m\n\u001b[1;32m      8\u001b[0m     \u001b[0;32mif\u001b[0m \u001b[0mos\u001b[0m\u001b[0;34m.\u001b[0m\u001b[0mpath\u001b[0m\u001b[0;34m.\u001b[0m\u001b[0misfile\u001b[0m\u001b[0;34m(\u001b[0m\u001b[0mfile_path\u001b[0m\u001b[0;34m)\u001b[0m\u001b[0;34m:\u001b[0m\u001b[0;34m\u001b[0m\u001b[0;34m\u001b[0m\u001b[0m\n",
            "\u001b[0;31mFileNotFoundError\u001b[0m: [Errno 2] No such file or directory: 'C:\\\\Users\\\\Misha\\\\Desktop\\\\ressume'"
          ]
        }
      ],
      "source": [
        "#File/Folder Organizer\n",
        "\n",
        "import os\n",
        "import shutil\n",
        "\n",
        "folder_path = input(\"Enter folder path: \")\n",
        "\n",
        "for filename in os.listdir(folder_path):\n",
        "    file_path = os.path.join(folder_path, filename)\n",
        "    if os.path.isfile(file_path):\n",
        "        file_extension = filename.split('.')[-1]\n",
        "        extension_folder = os.path.join(folder_path, file_extension)\n",
        "        if not os.path.exists(extension_folder):\n",
        "            os.mkdir(extension_folder)\n",
        "        shutil.move(file_path, os.path.join(extension_folder, filename))\n"
      ]
    },
    {
      "cell_type": "code",
      "source": [],
      "metadata": {
        "id": "NS-WtYHoo9dS"
      },
      "execution_count": null,
      "outputs": []
    },
    {
      "cell_type": "markdown",
      "source": [
        "Batch Renamer"
      ],
      "metadata": {
        "id": "91m5ngERpAFa"
      }
    },
    {
      "cell_type": "code",
      "source": [
        "import os\n",
        "\n",
        "dir_path = input(\"Enter directory path: \")\n",
        "prefix = input(\"Enter prefix for filenames: \")\n",
        "\n",
        "for count, filename in enumerate(os.listdir(dir_path)):\n",
        "    new_name = f\"{prefix}_{count}.{'.'.join(filename.split('.')[1:])}\"\n",
        "    os.rename(os.path.join(dir_path, filename), os.path.join(dir_path, new_name))\n"
      ],
      "metadata": {
        "id": "-rUfgQQIpE3T"
      },
      "execution_count": null,
      "outputs": []
    },
    {
      "cell_type": "markdown",
      "source": [
        "Alarm clock\n"
      ],
      "metadata": {
        "id": "zRqkzMEhpNr1"
      }
    },
    {
      "cell_type": "code",
      "source": [
        "import time\n",
        "\n",
        "def alarm(set_time):\n",
        "    while True:\n",
        "        time.sleep(1)\n",
        "        current_time = time.strftime(\"%H:%M:%S\")\n",
        "        if current_time == set_time:\n",
        "            print(\"Alarm ringing!\")\n",
        "            break\n",
        "\n",
        "set_time = input(\"Enter alarm time (format HH:MM:SS): \")\n",
        "alarm(set_time)\n"
      ],
      "metadata": {
        "id": "K-hUx4CGpPgq"
      },
      "execution_count": null,
      "outputs": []
    },
    {
      "cell_type": "markdown",
      "source": [
        "Image resizer"
      ],
      "metadata": {
        "id": "VI7xy7-_pTys"
      }
    },
    {
      "cell_type": "code",
      "source": [
        "from PIL import Image\n",
        "import os\n",
        "\n",
        "dir_path = input(\"Enter directory path: \")\n",
        "size = tuple(map(int, input(\"Enter new size (width height): \").split()))\n",
        "\n",
        "for filename in os.listdir(dir_path):\n",
        "    if filename.endswith(('.jpg', '.png', '.jpeg')):\n",
        "        img_path = os.path.join(dir_path, filename)\n",
        "        img = Image.open(img_path)\n",
        "        img_resized = img.resize(size)\n",
        "        img_resized.save(img_path)\n"
      ],
      "metadata": {
        "id": "odU6qNQnpTOh"
      },
      "execution_count": null,
      "outputs": []
    },
    {
      "cell_type": "markdown",
      "source": [
        "pdf combiner"
      ],
      "metadata": {
        "id": "0LWPqBgcpZ3r"
      }
    },
    {
      "cell_type": "code",
      "source": [
        "import PyPDF2\n",
        "import os\n",
        "\n",
        "dir_path = input(\"Enter directory with PDFs: \")\n",
        "pdf_writer = PyPDF2.PdfFileWriter()\n",
        "\n",
        "for filename in sorted(os.listdir(dir_path)):\n",
        "    if filename.endswith('.pdf'):\n",
        "        pdf_path = os.path.join(dir_path, filename)\n",
        "        pdf_reader = PyPDF2.PdfFileReader(pdf_path)\n",
        "        for page_num in range(pdf_reader.numPages):\n",
        "            page = pdf_reader.getPage(page_num)\n",
        "            pdf_writer.addPage(page)\n",
        "\n",
        "with open(os.path.join(dir_path, \"merged.pdf\"), 'wb') as out:\n",
        "    pdf_writer.write(out)\n"
      ],
      "metadata": {
        "id": "0cnC3SG-pcAS"
      },
      "execution_count": null,
      "outputs": []
    },
    {
      "cell_type": "code",
      "source": [],
      "metadata": {
        "id": "Bf6wApaXpdFX"
      },
      "execution_count": null,
      "outputs": []
    }
  ]
}