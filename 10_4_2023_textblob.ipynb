{
  "nbformat": 4,
  "nbformat_minor": 0,
  "metadata": {
    "colab": {
      "provenance": [],
      "authorship_tag": "ABX9TyPm8wCVFyxXkN4KqREUo9m5",
      "include_colab_link": true
    },
    "kernelspec": {
      "name": "python3",
      "display_name": "Python 3"
    },
    "language_info": {
      "name": "python"
    }
  },
  "cells": [
    {
      "cell_type": "markdown",
      "metadata": {
        "id": "view-in-github",
        "colab_type": "text"
      },
      "source": [
        "<a href=\"https://colab.research.google.com/github/GitMishka/1/blob/main/10_4_2023_textblob.ipynb\" target=\"_parent\"><img src=\"https://colab.research.google.com/assets/colab-badge.svg\" alt=\"Open In Colab\"/></a>"
      ]
    },
    {
      "cell_type": "code",
      "execution_count": null,
      "metadata": {
        "id": "-6Rb3H-Q6X9W"
      },
      "outputs": [],
      "source": [
        "!pip install textblob\n",
        "!python -m textblob.download_corpora\n"
      ]
    },
    {
      "cell_type": "code",
      "source": [
        "from google.colab import files\n",
        "\n",
        "uploaded = files.upload()\n",
        "\n",
        "file_name = \"all_data.csv\"\n"
      ],
      "metadata": {
        "id": "XVYEdgul6fUx"
      },
      "execution_count": null,
      "outputs": []
    },
    {
      "cell_type": "code",
      "source": [
        "import pandas as pd\n",
        "from textblob import TextBlob\n",
        "\n",
        "df = pd.read_csv(file_name)\n",
        "\n",
        "df['Polarity'] = df[\"Q2 - What can we do better?\"].apply(lambda x: TextBlob(str(x)).sentiment.polarity)\n",
        "df['Subjectivity'] = df[\"Q2 - What can we do better?\"].apply(lambda x: TextBlob(str(x)).sentiment.subjectivity)\n",
        "\n",
        "df[[\"Q2 - What can we do better?\", \"Polarity\", \"Subjectivity\"]].head()\n"
      ],
      "metadata": {
        "id": "1VDsPorg6nyZ"
      },
      "execution_count": null,
      "outputs": []
    }
  ]
}