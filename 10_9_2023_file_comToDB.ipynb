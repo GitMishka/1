{
  "nbformat": 4,
  "nbformat_minor": 0,
  "metadata": {
    "colab": {
      "provenance": [],
      "authorship_tag": "ABX9TyMJ+kmJ5bTmW7xl6LNiX3At",
      "include_colab_link": true
    },
    "kernelspec": {
      "name": "python3",
      "display_name": "Python 3"
    },
    "language_info": {
      "name": "python"
    }
  },
  "cells": [
    {
      "cell_type": "markdown",
      "metadata": {
        "id": "view-in-github",
        "colab_type": "text"
      },
      "source": [
        "<a href=\"https://colab.research.google.com/github/GitMishka/1/blob/main/10_9_2023_file_comToDB.ipynb\" target=\"_parent\"><img src=\"https://colab.research.google.com/assets/colab-badge.svg\" alt=\"Open In Colab\"/></a>"
      ]
    },
    {
      "cell_type": "code",
      "execution_count": null,
      "metadata": {
        "id": "L4RNiqIGumk4"
      },
      "outputs": [],
      "source": [
        "!pip install psycopg2-binary requests pandas"
      ]
    },
    {
      "cell_type": "code",
      "source": [
        "import pandas as pd\n",
        "import psycopg2\n",
        "import requests\n",
        "from io import StringIO\n"
      ],
      "metadata": {
        "id": "u1lWsdm_1S3o"
      },
      "execution_count": null,
      "outputs": []
    },
    {
      "cell_type": "code",
      "source": [
        "url = \"'/yardi-qualtrics/testsftp/all_data.csv\"\n",
        "response = requests.get(url)\n",
        "assert response.status_code == 200, 'Failed to download the CSV file'\n",
        "csv_content = response.text\n",
        "csv_file = StringIO(csv_content)\n",
        "df = pd.read_csv(csv_file)"
      ],
      "metadata": {
        "id": "QQrE-tsP1e-G"
      },
      "execution_count": null,
      "outputs": []
    },
    {
      "cell_type": "code",
      "source": [],
      "metadata": {
        "id": "dY6F-GMw1fDY"
      },
      "execution_count": null,
      "outputs": []
    }
  ]
}