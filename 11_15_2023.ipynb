{
  "nbformat": 4,
  "nbformat_minor": 0,
  "metadata": {
    "colab": {
      "provenance": [],
      "authorship_tag": "ABX9TyOqrOQLnltlkEMfgo2dHvpE",
      "include_colab_link": true
    },
    "kernelspec": {
      "name": "python3",
      "display_name": "Python 3"
    },
    "language_info": {
      "name": "python"
    }
  },
  "cells": [
    {
      "cell_type": "markdown",
      "metadata": {
        "id": "view-in-github",
        "colab_type": "text"
      },
      "source": [
        "<a href=\"https://colab.research.google.com/github/GitMishka/1/blob/main/11_15_2023.ipynb\" target=\"_parent\"><img src=\"https://colab.research.google.com/assets/colab-badge.svg\" alt=\"Open In Colab\"/></a>"
      ]
    },
    {
      "cell_type": "code",
      "execution_count": 1,
      "metadata": {
        "colab": {
          "base_uri": "https://localhost:8080/"
        },
        "id": "v6nQp3MibeA1",
        "outputId": "dfb1ad10-7ead-42b6-fe92-fc27c517b19c"
      },
      "outputs": [
        {
          "output_type": "stream",
          "name": "stdout",
          "text": [
            "10\n"
          ]
        }
      ],
      "source": [
        "def sum_of_digits(number):\n",
        "    return sum(int(digit) for digit in str(number))\n",
        "\n",
        "print(sum_of_digits(1234))\n"
      ]
    },
    {
      "cell_type": "code",
      "source": [
        "def is_anagram(str1, str2):\n",
        "    return sorted(str1) == sorted(str2)\n",
        "\n",
        "print(is_anagram(\"listen\", \"silent\"))"
      ],
      "metadata": {
        "id": "R7UVbWmLfNu_"
      },
      "execution_count": null,
      "outputs": []
    },
    {
      "cell_type": "code",
      "source": [
        "def second_largest(numbers):\n",
        "    unique_numbers = list(set(numbers))\n",
        "    unique_numbers.sort()\n",
        "    return unique_numbers[-2] if len(unique_numbers) >= 2 else None\n",
        "\n",
        "\n",
        "print(second_largest([1, 3, 4, 5, 0, 3]))\n"
      ],
      "metadata": {
        "colab": {
          "base_uri": "https://localhost:8080/"
        },
        "id": "yuImISm1fSDm",
        "outputId": "b59698be-1866-4cb0-bfad-09b79f59c627"
      },
      "execution_count": 2,
      "outputs": [
        {
          "output_type": "stream",
          "name": "stdout",
          "text": [
            "4\n"
          ]
        }
      ]
    },
    {
      "cell_type": "code",
      "source": [
        "def count_char_occurrences(s, char):\n",
        "    return s.count(char)\n",
        "\n",
        "print(count_char_occurrences(\"hello world\", \"l\"))\n"
      ],
      "metadata": {
        "id": "blXaf1uxfcJj"
      },
      "execution_count": null,
      "outputs": []
    }
  ]
}