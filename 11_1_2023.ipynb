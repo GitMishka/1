{
  "nbformat": 4,
  "nbformat_minor": 0,
  "metadata": {
    "colab": {
      "provenance": [],
      "authorship_tag": "ABX9TyMi+UjKoNiFQ9OxgXkS9yIz",
      "include_colab_link": true
    },
    "kernelspec": {
      "name": "python3",
      "display_name": "Python 3"
    },
    "language_info": {
      "name": "python"
    }
  },
  "cells": [
    {
      "cell_type": "markdown",
      "metadata": {
        "id": "view-in-github",
        "colab_type": "text"
      },
      "source": [
        "<a href=\"https://colab.research.google.com/github/GitMishka/1/blob/main/11_1_2023.ipynb\" target=\"_parent\"><img src=\"https://colab.research.google.com/assets/colab-badge.svg\" alt=\"Open In Colab\"/></a>"
      ]
    },
    {
      "cell_type": "code",
      "execution_count": 3,
      "metadata": {
        "colab": {
          "base_uri": "https://localhost:8080/"
        },
        "id": "VUHbY7MI5olb",
        "outputId": "15e332a5-c164-4e74-fbaa-c5f76240f579"
      },
      "outputs": [
        {
          "output_type": "stream",
          "name": "stdout",
          "text": [
            "2\n",
            "1\n",
            "4\n",
            "4\n",
            "1\n"
          ]
        }
      ],
      "source": [
        "def StringReduction(s):\n",
        "    while True:\n",
        "        temp = s\n",
        "\n",
        "        s = s.replace('ab', 'c').replace('ba', 'c')\n",
        "        s = s.replace('ac', 'b').replace('ca', 'b')\n",
        "        s = s.replace('bc', 'a').replace('cb', 'a')\n",
        "\n",
        "        if temp == s:\n",
        "            break\n",
        "\n",
        "    return len(s)\n",
        "\n",
        "print(StringReduction(\"cab\"))\n",
        "print(StringReduction(\"bcab\"))\n",
        "print(StringReduction(\"abcabc\"))\n",
        "print(StringReduction(\"cccc\"))\n",
        "print(StringReduction(\"bcab\"))\n",
        "\n"
      ]
    },
    {
      "cell_type": "code",
      "source": [
        "def BitmapHoles(strArr):\n",
        "    matrix = [[int(n) for n in row] for row in strArr]\n",
        "    rows = len(matrix)\n",
        "    cols = len(matrix[0])\n",
        "    holes = 0\n",
        "\n",
        "    def dfs(r, c):\n",
        "        if r < 0 or c < 0 or r >= rows or c >= cols or matrix[r][c] != 0:\n",
        "            return\n",
        "\n",
        "        matrix[r][c] = 1\n",
        "\n",
        "        dfs(r+1, c)\n",
        "        dfs(r-1, c)\n",
        "        dfs(r, c+1)\n",
        "        dfs(r, c-1)\n",
        "\n",
        "    for r in range(rows):\n",
        "        for c in range(cols):\n",
        "            if matrix[r][c] == 0:\n",
        "                dfs(r, c)\n",
        "                holes += 1\n",
        "\n",
        "    return holes\n",
        "\n",
        "print(BitmapHoles([\"10111\", \"10101\", \"11101\", \"11111\"]))\n",
        "print(BitmapHoles([\"1111\", \"1101\", \"0011\", \"1110\"]))\n"
      ],
      "metadata": {
        "colab": {
          "base_uri": "https://localhost:8080/"
        },
        "id": "5ZWG-pHB-S54",
        "outputId": "5f5b01a7-4f9e-471e-b3bc-4760f070f8e1"
      },
      "execution_count": 5,
      "outputs": [
        {
          "output_type": "stream",
          "name": "stdout",
          "text": [
            "2\n",
            "3\n"
          ]
        }
      ]
    },
    {
      "cell_type": "code",
      "source": [
        "import re\n",
        "\n",
        "def CamelCase(s):\n",
        "    words = re.split(r'[^a-zA-Z]', s)\n",
        "    print(words)\n",
        "    camel_case_words = [words[0].lower()]\n",
        "\n",
        "    for word in words[1:]:\n",
        "        camel_case_words.append(word.capitalize())\n",
        "\n",
        "    return ''.join(camel_case_words)\n",
        "\n",
        "print(CamelCase(\"BOB loves-coding\"))\n",
        "print(CamelCase(\"cats AND+Dogs-are=Awesome\"))\n",
        "print(CamelCase(\"a b c d-e-fg\"))\n"
      ],
      "metadata": {
        "colab": {
          "base_uri": "https://localhost:8080/"
        },
        "id": "sfTW40bXLav7",
        "outputId": "1bcd8d38-79a1-4ab1-ab34-e570bff785d1"
      },
      "execution_count": 6,
      "outputs": [
        {
          "output_type": "stream",
          "name": "stdout",
          "text": [
            "['BOB', 'loves', 'coding']\n",
            "bobLovesCoding\n",
            "['cats', 'AND', 'Dogs', 'are', 'Awesome']\n",
            "catsAndDogsAreAwesome\n",
            "['a', 'b', 'c', 'd', 'e', 'fg']\n",
            "aBCDEFg\n"
          ]
        }
      ]
    }
  ]
}