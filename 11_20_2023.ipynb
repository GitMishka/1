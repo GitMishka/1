{
  "nbformat": 4,
  "nbformat_minor": 0,
  "metadata": {
    "colab": {
      "provenance": [],
      "authorship_tag": "ABX9TyObjajEXNSfeO/vXQnDwARo",
      "include_colab_link": true
    },
    "kernelspec": {
      "name": "python3",
      "display_name": "Python 3"
    },
    "language_info": {
      "name": "python"
    }
  },
  "cells": [
    {
      "cell_type": "markdown",
      "metadata": {
        "id": "view-in-github",
        "colab_type": "text"
      },
      "source": [
        "<a href=\"https://colab.research.google.com/github/GitMishka/1/blob/main/11_20_2023.ipynb\" target=\"_parent\"><img src=\"https://colab.research.google.com/assets/colab-badge.svg\" alt=\"Open In Colab\"/></a>"
      ]
    },
    {
      "cell_type": "code",
      "execution_count": 1,
      "metadata": {
        "colab": {
          "base_uri": "https://localhost:8080/"
        },
        "id": "MaoNJnjALOzZ",
        "outputId": "bd42e31b-b3bd-4a09-856a-054fb4d904e0"
      },
      "outputs": [
        {
          "output_type": "stream",
          "name": "stdout",
          "text": [
            "Heads: 52\n",
            "Tails: 48\n"
          ]
        }
      ],
      "source": [
        "import random\n",
        "\n",
        "heads_count = 0\n",
        "tails_count = 0\n",
        "\n",
        "for _ in range(100):\n",
        "    if random.choice(['heads', 'tails']) == 'heads':\n",
        "        heads_count += 1\n",
        "    else:\n",
        "        tails_count += 1\n",
        "\n",
        "print(f\"Heads: {heads_count}\")\n",
        "print(f\"Tails: {tails_count}\")\n"
      ]
    }
  ]
}