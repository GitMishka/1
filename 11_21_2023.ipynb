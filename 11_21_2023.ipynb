{
  "nbformat": 4,
  "nbformat_minor": 0,
  "metadata": {
    "colab": {
      "provenance": [],
      "authorship_tag": "ABX9TyMcJK6pGkn4i8IAEDbS798d",
      "include_colab_link": true
    },
    "kernelspec": {
      "name": "python3",
      "display_name": "Python 3"
    },
    "language_info": {
      "name": "python"
    }
  },
  "cells": [
    {
      "cell_type": "markdown",
      "metadata": {
        "id": "view-in-github",
        "colab_type": "text"
      },
      "source": [
        "<a href=\"https://colab.research.google.com/github/GitMishka/1/blob/main/11_21_2023.ipynb\" target=\"_parent\"><img src=\"https://colab.research.google.com/assets/colab-badge.svg\" alt=\"Open In Colab\"/></a>"
      ]
    },
    {
      "cell_type": "code",
      "execution_count": null,
      "metadata": {
        "id": "EYSHfeDiWwtt"
      },
      "outputs": [],
      "source": [
        "import logging\n",
        "import sqlite3\n",
        "from typing import Dict, Optional\n",
        "\n",
        "logging.basicConfig(level=logging.INFO)\n",
        "\n",
        "def get_user_data(db_path: str, user_id: int) -> Optional[Dict]:\n",
        "    \"\"\"\n",
        "    Fetches user data from the database based on the user ID.\n",
        "\n",
        "    Parameters:\n",
        "    db_path (str): Path to the SQLite database file.\n",
        "    user_id (int): The ID of the user to fetch data for.\n",
        "\n",
        "    Returns:\n",
        "    dict: A dictionary containing user data if found, otherwise None.\n",
        "    \"\"\"\n",
        "    try:\n",
        "        conn = sqlite3.connect(db_path)\n",
        "        cursor = conn.cursor()\n",
        "        cursor.execute(\"SELECT * FROM users WHERE id = ?\", (user_id,))\n",
        "        data = cursor.fetchone()\n",
        "        conn.close()\n",
        "\n",
        "        if data:\n",
        "            user_data = {\"id\": data[0], \"name\": data[1], \"email\": data[2]}\n",
        "            return user_data\n",
        "        else:\n",
        "            return None\n",
        "    except sqlite3.Error as e:\n",
        "        logging.error(f\"Database error: {e}\")\n",
        "        return None\n",
        "    except Exception as e:\n",
        "        logging.error(f\"Error fetching user data: {e}\")\n",
        "        return None\n",
        "\n",
        "if __name__ == \"__main__\":\n",
        "    user_data = get_user_data(\"path/to/database.db\", 1)\n",
        "    if user_data:\n",
        "        print(f\"User Data: {user_data}\")\n",
        "    else:\n",
        "        print(\"User not found.\")\n"
      ]
    },
    {
      "cell_type": "code",
      "source": [
        "import unittest\n",
        "from user_data import get_user_data\n",
        "\n",
        "class TestUserData(unittest.TestCase):\n",
        "\n",
        "    def test_user_data_valid(self):\n",
        "        \"\"\" Test retrieving user data with a valid user ID \"\"\"\n",
        "        result = get_user_data(\"path/to/database.db\", 1)\n",
        "        self.assertIsNotNone(result)\n",
        "\n",
        "    def test_user_data_invalid(self):\n",
        "        \"\"\" Test retrieving user data with an invalid user ID \"\"\"\n",
        "        result = get_user_data(\"path/to/database.db\", -1)\n",
        "        self.assertIsNone(result)\n",
        "\n",
        "if __name__ == '__main__':\n",
        "    unittest.main()\n"
      ],
      "metadata": {
        "id": "_3swaGc6XXYI"
      },
      "execution_count": null,
      "outputs": []
    }
  ]
}