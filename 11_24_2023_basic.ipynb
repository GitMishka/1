{
  "nbformat": 4,
  "nbformat_minor": 0,
  "metadata": {
    "colab": {
      "provenance": [],
      "authorship_tag": "ABX9TyMwP4THXv03CtkLuJEA9Jyv",
      "include_colab_link": true
    },
    "kernelspec": {
      "name": "python3",
      "display_name": "Python 3"
    },
    "language_info": {
      "name": "python"
    }
  },
  "cells": [
    {
      "cell_type": "markdown",
      "metadata": {
        "id": "view-in-github",
        "colab_type": "text"
      },
      "source": [
        "<a href=\"https://colab.research.google.com/github/GitMishka/1/blob/main/11_24_2023_basic.ipynb\" target=\"_parent\"><img src=\"https://colab.research.google.com/assets/colab-badge.svg\" alt=\"Open In Colab\"/></a>"
      ]
    },
    {
      "cell_type": "code",
      "execution_count": 3,
      "metadata": {
        "colab": {
          "base_uri": "https://localhost:8080/"
        },
        "id": "9SVJRHo-t5kH",
        "outputId": "56634523-1ec3-4cb2-ab83-6d1d958b83a1"
      },
      "outputs": [
        {
          "output_type": "stream",
          "name": "stdout",
          "text": [
            "[1, 2, 3, 4, 5, 6, 7, 8, 9, 10]\n"
          ]
        }
      ],
      "source": [
        "numbers = []\n",
        "for i in range(1,11):\n",
        "  numbers.append(i)\n",
        "print(numbers)"
      ]
    },
    {
      "cell_type": "code",
      "source": [
        "n = int(input(\"Enter a number: \"))\n",
        "\n",
        "total = 0\n",
        "\n",
        "for i in range(1,n+1):\n",
        "  # print(i)\n",
        "  total += i\n",
        "  # print(total)\n",
        "print(\"sum:\",total)"
      ],
      "metadata": {
        "id": "xOeONGw9u9as"
      },
      "execution_count": null,
      "outputs": []
    },
    {
      "cell_type": "code",
      "source": [
        "fruits = [\"apple\", \"banana\", \"cherry\"]\n",
        "\n",
        "for fruit in fruits:\n",
        "  print(fruit)"
      ],
      "metadata": {
        "id": "3yM7hAZxv2tb"
      },
      "execution_count": null,
      "outputs": []
    },
    {
      "cell_type": "code",
      "source": [
        "for i in range(1,21):\n",
        "  if i % 2 == 0:\n",
        "    print(i)"
      ],
      "metadata": {
        "colab": {
          "base_uri": "https://localhost:8080/"
        },
        "id": "etC-iP3owBSN",
        "outputId": "ecebf48d-4c18-422e-ef72-483006bdcec8"
      },
      "execution_count": 8,
      "outputs": [
        {
          "output_type": "stream",
          "name": "stdout",
          "text": [
            "2\n",
            "4\n",
            "6\n",
            "8\n",
            "10\n",
            "12\n",
            "14\n",
            "16\n",
            "18\n",
            "20\n"
          ]
        }
      ]
    },
    {
      "cell_type": "code",
      "source": [
        "num = int(input(\"enter a number: \"))\n",
        "for i in range(1,11):\n",
        "  print(f\"{num} x {i} = {num*i}\")"
      ],
      "metadata": {
        "id": "EblOYkjXwLou"
      },
      "execution_count": null,
      "outputs": []
    },
    {
      "cell_type": "code",
      "source": [
        "def count_occurences(lst, element):\n",
        "  count = 0\n",
        "  for item in lst:\n",
        "    if item == element:\n",
        "      count += 1\n",
        "  return count\n",
        "count_occurences([1,2,3,3,4,5,6], 3)"
      ],
      "metadata": {
        "colab": {
          "base_uri": "https://localhost:8080/"
        },
        "id": "HJsFh7CdwmIK",
        "outputId": "e3508075-ac47-4bc2-c3b1-02f15cc58065"
      },
      "execution_count": 10,
      "outputs": [
        {
          "output_type": "execute_result",
          "data": {
            "text/plain": [
              "2"
            ]
          },
          "metadata": {},
          "execution_count": 10
        }
      ]
    },
    {
      "cell_type": "code",
      "source": [
        "def factorial(n):\n",
        "  result = 1\n",
        "  for i in range(1,n+1):\n",
        "    result *= i\n",
        "  return result\n",
        "factorial(8)"
      ],
      "metadata": {
        "colab": {
          "base_uri": "https://localhost:8080/"
        },
        "id": "GdOaUFwhxuqj",
        "outputId": "0178982b-384f-49a1-9d19-f63b78851b41"
      },
      "execution_count": 1,
      "outputs": [
        {
          "output_type": "execute_result",
          "data": {
            "text/plain": [
              "40320"
            ]
          },
          "metadata": {},
          "execution_count": 1
        }
      ]
    },
    {
      "cell_type": "code",
      "source": [
        "def is_prime(n):\n",
        "  if n < 2:\n",
        "    return False\n",
        "  for i in range(2, int(n**.5) + 1):\n",
        "    print(range(2, int(n**.5) + 1))\n",
        "    if n % i == 0:\n",
        "      return False\n",
        "  return True\n",
        "\n",
        "is_prime(5)"
      ],
      "metadata": {
        "colab": {
          "base_uri": "https://localhost:8080/"
        },
        "id": "vda41KastNma",
        "outputId": "ea82dd44-16ef-4c32-baa5-aafd4d90e9bc"
      },
      "execution_count": 8,
      "outputs": [
        {
          "output_type": "stream",
          "name": "stdout",
          "text": [
            "range(2, 3)\n"
          ]
        },
        {
          "output_type": "execute_result",
          "data": {
            "text/plain": [
              "True"
            ]
          },
          "metadata": {},
          "execution_count": 8
        }
      ]
    },
    {
      "cell_type": "code",
      "source": [
        "def fib(n):\n",
        "  a, b = 0, 1\n",
        "  for _ in range(n):\n",
        "    print(a, end = ' ')\n",
        "    a, b = b, a + b\n",
        "  print()\n",
        "fib(10)"
      ],
      "metadata": {
        "colab": {
          "base_uri": "https://localhost:8080/"
        },
        "id": "ulrn5FArwJ_c",
        "outputId": "74764d77-9afc-407c-ad04-6be40029a6dc"
      },
      "execution_count": 9,
      "outputs": [
        {
          "output_type": "stream",
          "name": "stdout",
          "text": [
            "0 1 1 2 3 5 8 13 21 34 \n"
          ]
        }
      ]
    },
    {
      "cell_type": "code",
      "source": [
        "def find_max(lst):\n",
        "  max_value = lst[0]\n",
        "  for num in lst:\n",
        "\n",
        "    if num > max_value:\n",
        "      max_value = num\n",
        "      print(max_value)\n",
        "  return max_value\n",
        "find_max([1,2,3,4,5,6,7,8])"
      ],
      "metadata": {
        "id": "ZlbjntQBwwLu"
      },
      "execution_count": null,
      "outputs": []
    },
    {
      "cell_type": "code",
      "source": [
        "def char_frequency(s):\n",
        "  frequency = {}\n",
        "  for char in s:\n",
        "    if char in frequency:\n",
        "      frequency[char] += 1\n",
        "    else:\n",
        "      frequency[char] = 1\n",
        "  return frequency\n",
        "char_frequency('ddddddddddddddddddddddddddddddduelllllllllll!!!')"
      ],
      "metadata": {
        "colab": {
          "base_uri": "https://localhost:8080/"
        },
        "id": "AWlikw8fyyJF",
        "outputId": "51ec0f13-e438-4ac7-d4f1-a2616b48afc9"
      },
      "execution_count": 15,
      "outputs": [
        {
          "output_type": "execute_result",
          "data": {
            "text/plain": [
              "{'d': 31, 'u': 1, 'e': 1, 'l': 11, '!': 3}"
            ]
          },
          "metadata": {},
          "execution_count": 15
        }
      ]
    },
    {
      "cell_type": "code",
      "source": [
        "def common_elements(l1,l2):\n",
        "  common = []\n",
        "  for element in l1:\n",
        "    if element in l2:\n",
        "      common.append(element)\n",
        "  return common\n",
        "common_elements([1,2,3,4,5,6,7],[3,4,22,223,21,11])"
      ],
      "metadata": {
        "colab": {
          "base_uri": "https://localhost:8080/"
        },
        "id": "OYTLndYQqhvR",
        "outputId": "f2f4a87f-9421-46a7-d362-a381720737ee"
      },
      "execution_count": 1,
      "outputs": [
        {
          "output_type": "execute_result",
          "data": {
            "text/plain": [
              "[3, 4]"
            ]
          },
          "metadata": {},
          "execution_count": 1
        }
      ]
    },
    {
      "cell_type": "code",
      "source": [],
      "metadata": {
        "id": "SZN8_9oTqiB5"
      },
      "execution_count": null,
      "outputs": []
    }
  ]
}