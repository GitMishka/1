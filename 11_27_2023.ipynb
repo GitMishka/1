{
  "nbformat": 4,
  "nbformat_minor": 0,
  "metadata": {
    "colab": {
      "provenance": [],
      "authorship_tag": "ABX9TyOIBDmoHy3i4VnrAc4IHoNu",
      "include_colab_link": true
    },
    "kernelspec": {
      "name": "python3",
      "display_name": "Python 3"
    },
    "language_info": {
      "name": "python"
    }
  },
  "cells": [
    {
      "cell_type": "markdown",
      "metadata": {
        "id": "view-in-github",
        "colab_type": "text"
      },
      "source": [
        "<a href=\"https://colab.research.google.com/github/GitMishka/1/blob/main/11_27_2023.ipynb\" target=\"_parent\"><img src=\"https://colab.research.google.com/assets/colab-badge.svg\" alt=\"Open In Colab\"/></a>"
      ]
    },
    {
      "cell_type": "code",
      "execution_count": 1,
      "metadata": {
        "colab": {
          "base_uri": "https://localhost:8080/"
        },
        "id": "AEflSrduQYZ3",
        "outputId": "123dd4f9-0958-44ed-95fc-47106f3d5f7e"
      },
      "outputs": [
        {
          "output_type": "execute_result",
          "data": {
            "text/plain": [
              "1"
            ]
          },
          "metadata": {},
          "execution_count": 1
        }
      ],
      "source": [
        "def count_substring(string, substring):\n",
        "  count = 0\n",
        "  sub_length = len(substring)\n",
        "\n",
        "  for i in range(len(string) - sub_length +1):\n",
        "    if string[i:i + sub_length] == substring:\n",
        "      count +=1\n",
        "  return count\n",
        "\n",
        "\n",
        "count_substring('wooow','ooo')"
      ]
    }
  ]
}