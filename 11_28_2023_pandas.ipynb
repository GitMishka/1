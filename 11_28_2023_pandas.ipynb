{
  "nbformat": 4,
  "nbformat_minor": 0,
  "metadata": {
    "colab": {
      "provenance": [],
      "authorship_tag": "ABX9TyPP59hhdUIJU1cJHp4Ght28",
      "include_colab_link": true
    },
    "kernelspec": {
      "name": "python3",
      "display_name": "Python 3"
    },
    "language_info": {
      "name": "python"
    }
  },
  "cells": [
    {
      "cell_type": "markdown",
      "metadata": {
        "id": "view-in-github",
        "colab_type": "text"
      },
      "source": [
        "<a href=\"https://colab.research.google.com/github/GitMishka/1/blob/main/11_28_2023_pandas.ipynb\" target=\"_parent\"><img src=\"https://colab.research.google.com/assets/colab-badge.svg\" alt=\"Open In Colab\"/></a>"
      ]
    },
    {
      "cell_type": "code",
      "execution_count": 2,
      "metadata": {
        "id": "DkOIFpznaJ4C"
      },
      "outputs": [],
      "source": [
        "import pandas as pd"
      ]
    },
    {
      "cell_type": "code",
      "source": [
        "data = {'Name': ['Alice', 'Bob', 'Charlie'],\n",
        "        'Age': [25, 30, 35],\n",
        "        'City': ['New York', 'Los Angeles', 'Chicago']}\n",
        "df = pd.DataFrame(data)\n",
        "\n",
        "print(df.head())"
      ],
      "metadata": {
        "colab": {
          "base_uri": "https://localhost:8080/"
        },
        "id": "miEG5QEga7wd",
        "outputId": "be9237ff-74f3-459b-c8cc-0e219f89c279"
      },
      "execution_count": 3,
      "outputs": [
        {
          "output_type": "stream",
          "name": "stdout",
          "text": [
            "      Name  Age         City\n",
            "0    Alice   25     New York\n",
            "1      Bob   30  Los Angeles\n",
            "2  Charlie   35      Chicago\n"
          ]
        }
      ]
    },
    {
      "cell_type": "code",
      "source": [
        "filtered_df = df[df['Age'] > 30]\n",
        "print(filtered_df)"
      ],
      "metadata": {
        "colab": {
          "base_uri": "https://localhost:8080/"
        },
        "id": "KXhL4I9cbGQw",
        "outputId": "05c57053-cc2a-4faf-ba27-01685b41d846"
      },
      "execution_count": 5,
      "outputs": [
        {
          "output_type": "stream",
          "name": "stdout",
          "text": [
            "      Name  Age     City\n",
            "2  Charlie   35  Chicago\n"
          ]
        }
      ]
    },
    {
      "cell_type": "code",
      "source": [
        "grouped_df = df.groupby('City').agg({'Age': 'mean'})\n",
        "print(grouped_df)"
      ],
      "metadata": {
        "colab": {
          "base_uri": "https://localhost:8080/"
        },
        "id": "gqAQAzgwbgzj",
        "outputId": "52838f5b-4d24-44d2-ab36-6a33418cdc73"
      },
      "execution_count": 6,
      "outputs": [
        {
          "output_type": "stream",
          "name": "stdout",
          "text": [
            "              Age\n",
            "City             \n",
            "Chicago      35.0\n",
            "Los Angeles  30.0\n",
            "New York     25.0\n"
          ]
        }
      ]
    },
    {
      "cell_type": "code",
      "source": [
        "import numpy as np\n",
        "\n",
        "data_with_na = {'Scores': [90, np.nan, 95, 85, np.nan]}\n",
        "df_na = pd.DataFrame(data_with_na)\n",
        "print(df_na)\n",
        "df_na_filled = df_na.fillna(df_na.mean())\n",
        "print(df_na_filled)"
      ],
      "metadata": {
        "colab": {
          "base_uri": "https://localhost:8080/"
        },
        "id": "aZtuTalfbwzI",
        "outputId": "02c04e98-aabd-421d-8c8d-793c04ee6ea4"
      },
      "execution_count": 8,
      "outputs": [
        {
          "output_type": "stream",
          "name": "stdout",
          "text": [
            "   Scores\n",
            "0    90.0\n",
            "1     NaN\n",
            "2    95.0\n",
            "3    85.0\n",
            "4     NaN\n",
            "   Scores\n",
            "0    90.0\n",
            "1    90.0\n",
            "2    95.0\n",
            "3    85.0\n",
            "4    90.0\n"
          ]
        }
      ]
    },
    {
      "cell_type": "code",
      "source": [
        "data2 = {'Name': ['Alice', 'Bob', 'Charlie'],\n",
        "         'Salary': [70000, 80000, 90000]}\n",
        "df2 = pd.DataFrame(data2)\n",
        "\n",
        "merged_df = pd.merge(df, df2, on = 'Name')\n",
        "print(merged_df)"
      ],
      "metadata": {
        "colab": {
          "base_uri": "https://localhost:8080/"
        },
        "id": "bFVr4BgNcS2W",
        "outputId": "8b063212-514e-4815-9cc4-38333c0ee6a2"
      },
      "execution_count": 9,
      "outputs": [
        {
          "output_type": "stream",
          "name": "stdout",
          "text": [
            "      Name  Age         City  Salary\n",
            "0    Alice   25     New York   70000\n",
            "1      Bob   30  Los Angeles   80000\n",
            "2  Charlie   35      Chicago   90000\n"
          ]
        }
      ]
    }
  ]
}