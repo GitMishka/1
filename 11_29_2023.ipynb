{
  "nbformat": 4,
  "nbformat_minor": 0,
  "metadata": {
    "colab": {
      "provenance": [],
      "authorship_tag": "ABX9TyN3pEmo1FmZR+8LCsCL+8YZ",
      "include_colab_link": true
    },
    "kernelspec": {
      "name": "python3",
      "display_name": "Python 3"
    },
    "language_info": {
      "name": "python"
    }
  },
  "cells": [
    {
      "cell_type": "markdown",
      "metadata": {
        "id": "view-in-github",
        "colab_type": "text"
      },
      "source": [
        "<a href=\"https://colab.research.google.com/github/GitMishka/1/blob/main/11_29_2023.ipynb\" target=\"_parent\"><img src=\"https://colab.research.google.com/assets/colab-badge.svg\" alt=\"Open In Colab\"/></a>"
      ]
    },
    {
      "cell_type": "code",
      "execution_count": 4,
      "metadata": {
        "colab": {
          "base_uri": "https://localhost:8080/"
        },
        "id": "9gaLFXJLjTRf",
        "outputId": "d45f0243-20ef-4462-be39-9eef443f6bd9"
      },
      "outputs": [
        {
          "output_type": "stream",
          "name": "stdout",
          "text": [
            "one\n",
            "two\n",
            "three\n",
            "four\n"
          ]
        }
      ],
      "source": [
        "with open('text.txt.txt', 'r') as file:\n",
        "  for line in file:\n",
        "    print(line.strip())"
      ]
    },
    {
      "cell_type": "code",
      "source": [
        "my_dict = {'name': 'Alice', 'age': 25, 'location': 'Wonderland'}\n",
        "print(my_dict['name'])\n",
        "my_dict['age'] = 26\n",
        "print(my_dict)"
      ],
      "metadata": {
        "colab": {
          "base_uri": "https://localhost:8080/"
        },
        "id": "toOOstZvj7b2",
        "outputId": "e32b137e-ada8-4733-ba97-a14b9a5263e4"
      },
      "execution_count": 7,
      "outputs": [
        {
          "output_type": "stream",
          "name": "stdout",
          "text": [
            "Alice\n",
            "{'name': 'Alice', 'age': 26, 'location': 'Wonderland'}\n"
          ]
        }
      ]
    },
    {
      "cell_type": "code",
      "source": [
        "def calculate_avg(numbers):\n",
        "  return sum(numbers) / len(numbers)\n",
        "print(calculate_avg([1,2,3,4,5,6,7]))"
      ],
      "metadata": {
        "colab": {
          "base_uri": "https://localhost:8080/"
        },
        "id": "amLSuSnekVBd",
        "outputId": "fbc11196-c81a-4f2c-f7b3-459015adf28e"
      },
      "execution_count": 8,
      "outputs": [
        {
          "output_type": "stream",
          "name": "stdout",
          "text": [
            "4.0\n"
          ]
        }
      ]
    }
  ]
}