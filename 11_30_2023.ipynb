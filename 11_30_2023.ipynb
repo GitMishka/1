{
  "nbformat": 4,
  "nbformat_minor": 0,
  "metadata": {
    "colab": {
      "provenance": [],
      "authorship_tag": "ABX9TyNM6ogRI04JiY6S2rQLhXfz",
      "include_colab_link": true
    },
    "kernelspec": {
      "name": "python3",
      "display_name": "Python 3"
    },
    "language_info": {
      "name": "python"
    }
  },
  "cells": [
    {
      "cell_type": "markdown",
      "metadata": {
        "id": "view-in-github",
        "colab_type": "text"
      },
      "source": [
        "<a href=\"https://colab.research.google.com/github/GitMishka/1/blob/main/11_30_2023.ipynb\" target=\"_parent\"><img src=\"https://colab.research.google.com/assets/colab-badge.svg\" alt=\"Open In Colab\"/></a>"
      ]
    },
    {
      "cell_type": "code",
      "execution_count": 1,
      "metadata": {
        "colab": {
          "base_uri": "https://localhost:8080/"
        },
        "id": "KfsZN8hmqDIV",
        "outputId": "02ad6368-a4d8-40ae-f5e5-abf609cbb2e1"
      },
      "outputs": [
        {
          "output_type": "stream",
          "name": "stdout",
          "text": [
            "one\n",
            "two\n",
            "three\n",
            "four\n",
            "wadwad\n",
            "awd\n",
            "wad\n",
            "aw\n",
            "daw\n",
            "d\n",
            "f\n",
            "sdfg\n",
            "dfg\n",
            "df\n",
            "h\n",
            "dfgh\n",
            "fgdj\n",
            "d\n",
            "fjdjd\n"
          ]
        }
      ],
      "source": [
        "def read_and_print_file(file_path):\n",
        "  try:\n",
        "    with open(file_path,'r') as file:\n",
        "      for line in file:\n",
        "        if line.strip():\n",
        "          print(line.strip())\n",
        "  except FileNotFoundError:\n",
        "    print(f\"The file {file_path} was not found.\")\n",
        "\n",
        "read_and_print_file('example.txt')"
      ]
    },
    {
      "cell_type": "code",
      "source": [
        "class Rectangle:\n",
        "  def __init__(self,length,width):\n",
        "    if length <=0 or width <=0:\n",
        "      raise ValueError(\"Must be positive\")\n",
        "    self.length = length\n",
        "    self.width = width\n",
        "\n",
        "  def area(self):\n",
        "    return self.length * self.width\n",
        "\n",
        "  def perimeter(self):\n",
        "    return 2 * (self.length + self.width)\n",
        "\n",
        "  def is_large_than(self, other):\n",
        "    return self.area() > other.area()\n",
        "\n",
        "rect1 = Rectangle(4,5)\n",
        "rect2 = Rectangle(3,6)\n",
        "\n",
        "print(\"rec1 > rec2:\", rect1.is_large_than(rect2))"
      ],
      "metadata": {
        "colab": {
          "base_uri": "https://localhost:8080/"
        },
        "id": "Il0w5dkArkG8",
        "outputId": "0d9bd4c0-f4e1-4c60-ea37-77d3de1a808b"
      },
      "execution_count": 3,
      "outputs": [
        {
          "output_type": "stream",
          "name": "stdout",
          "text": [
            "rec1 > rec2: True\n"
          ]
        }
      ]
    }
  ]
}