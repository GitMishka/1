{
  "nbformat": 4,
  "nbformat_minor": 0,
  "metadata": {
    "colab": {
      "provenance": [],
      "authorship_tag": "ABX9TyP77MsUyPpK8TXdAp6DIy6l",
      "include_colab_link": true
    },
    "kernelspec": {
      "name": "python3",
      "display_name": "Python 3"
    },
    "language_info": {
      "name": "python"
    }
  },
  "cells": [
    {
      "cell_type": "markdown",
      "metadata": {
        "id": "view-in-github",
        "colab_type": "text"
      },
      "source": [
        "<a href=\"https://colab.research.google.com/github/GitMishka/1/blob/main/11_30_2023.ipynb\" target=\"_parent\"><img src=\"https://colab.research.google.com/assets/colab-badge.svg\" alt=\"Open In Colab\"/></a>"
      ]
    },
    {
      "cell_type": "code",
      "execution_count": 1,
      "metadata": {
        "colab": {
          "base_uri": "https://localhost:8080/"
        },
        "id": "KfsZN8hmqDIV",
        "outputId": "02ad6368-a4d8-40ae-f5e5-abf609cbb2e1"
      },
      "outputs": [
        {
          "output_type": "stream",
          "name": "stdout",
          "text": [
            "one\n",
            "two\n",
            "three\n",
            "four\n",
            "wadwad\n",
            "awd\n",
            "wad\n",
            "aw\n",
            "daw\n",
            "d\n",
            "f\n",
            "sdfg\n",
            "dfg\n",
            "df\n",
            "h\n",
            "dfgh\n",
            "fgdj\n",
            "d\n",
            "fjdjd\n"
          ]
        }
      ],
      "source": [
        "def read_and_print_file(file_path):\n",
        "  try:\n",
        "    with open(file_path,'r') as file:\n",
        "      for line in file:\n",
        "        if line.strip():\n",
        "          print(line.strip())\n",
        "  except FileNotFoundError:\n",
        "    print(f\"The file {file_path} was not found.\")\n",
        "\n",
        "read_and_print_file('example.txt')"
      ]
    }
  ]
}