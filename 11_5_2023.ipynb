{
  "nbformat": 4,
  "nbformat_minor": 0,
  "metadata": {
    "colab": {
      "provenance": [],
      "authorship_tag": "ABX9TyOur2lddrBQaq34uGs198tc",
      "include_colab_link": true
    },
    "kernelspec": {
      "name": "python3",
      "display_name": "Python 3"
    },
    "language_info": {
      "name": "python"
    }
  },
  "cells": [
    {
      "cell_type": "markdown",
      "metadata": {
        "id": "view-in-github",
        "colab_type": "text"
      },
      "source": [
        "<a href=\"https://colab.research.google.com/github/GitMishka/1/blob/main/11_5_2023.ipynb\" target=\"_parent\"><img src=\"https://colab.research.google.com/assets/colab-badge.svg\" alt=\"Open In Colab\"/></a>"
      ]
    },
    {
      "cell_type": "code",
      "execution_count": 1,
      "metadata": {
        "colab": {
          "base_uri": "https://localhost:8080/",
          "height": 43
        },
        "id": "1it0bNsd0dAT",
        "outputId": "7c8ab0c0-54b7-41d3-8b2f-dd658ad4cc2b"
      },
      "outputs": [
        {
          "output_type": "execute_result",
          "data": {
            "text/plain": [
              "'I love Python programming'"
            ],
            "application/vnd.google.colaboratory.intrinsic+json": {
              "type": "string"
            }
          },
          "metadata": {},
          "execution_count": 1
        }
      ],
      "source": [
        "def love(s):\n",
        "  return f'I love {s} programming'\n",
        "love('Python')\n"
      ]
    },
    {
      "cell_type": "code",
      "source": [
        "\n",
        "\n",
        "def is_palindrome(s):\n",
        "    sanitized = ''.join(c for c in s.lower() if c.isalnum())\n",
        "\n",
        "    return sanitized == sanitized[::-1]\n",
        "\n",
        "\n",
        "input_string = \"A man, a plan, a canal, Panama!\"\n",
        "print(is_palindrome(input_string))"
      ],
      "metadata": {
        "colab": {
          "base_uri": "https://localhost:8080/"
        },
        "id": "22pRvxg_74h6",
        "outputId": "fbc0fa68-01b8-46b4-c125-395d6e8a951c"
      },
      "execution_count": 9,
      "outputs": [
        {
          "output_type": "stream",
          "name": "stdout",
          "text": [
            "True\n"
          ]
        }
      ]
    },
    {
      "cell_type": "code",
      "source": [
        "def is_isogram(word):\n",
        "    word = word.lower()\n",
        "    letter_count = {}\n",
        "\n",
        "    for char in word:\n",
        "        if char.isalpha():\n",
        "            if char in letter_count:\n",
        "                return False, print(letter_count)\n",
        "            letter_count[char] = 1\n",
        "    return True\n",
        "\n",
        "\n",
        "print(is_isogram(\"Dermatoglyphics\"))\n",
        "print(is_isogram(\"aba\"))\n",
        "print(is_isogram(\"moOse\"))"
      ],
      "metadata": {
        "colab": {
          "base_uri": "https://localhost:8080/"
        },
        "id": "iXem128M-jGu",
        "outputId": "a09b39ac-4d4d-43e1-ec05-256a20f6b179"
      },
      "execution_count": 12,
      "outputs": [
        {
          "output_type": "stream",
          "name": "stdout",
          "text": [
            "True\n",
            "{'a': 1, 'b': 1}\n",
            "(False, None)\n",
            "{'m': 1, 'o': 1}\n",
            "(False, None)\n"
          ]
        }
      ]
    }
  ]
}