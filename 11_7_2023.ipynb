{
  "nbformat": 4,
  "nbformat_minor": 0,
  "metadata": {
    "colab": {
      "provenance": [],
      "authorship_tag": "ABX9TyPSTfl9Fk6+cQ7EOEN+ACYy",
      "include_colab_link": true
    },
    "kernelspec": {
      "name": "python3",
      "display_name": "Python 3"
    },
    "language_info": {
      "name": "python"
    }
  },
  "cells": [
    {
      "cell_type": "markdown",
      "metadata": {
        "id": "view-in-github",
        "colab_type": "text"
      },
      "source": [
        "<a href=\"https://colab.research.google.com/github/GitMishka/1/blob/main/11_7_2023.ipynb\" target=\"_parent\"><img src=\"https://colab.research.google.com/assets/colab-badge.svg\" alt=\"Open In Colab\"/></a>"
      ]
    },
    {
      "cell_type": "code",
      "execution_count": null,
      "metadata": {
        "colab": {
          "base_uri": "https://localhost:8080/"
        },
        "id": "tFK5SI2XkctK",
        "outputId": "6022e1bc-8ff8-451d-9e02-97143b3828e5"
      },
      "outputs": [
        {
          "output_type": "stream",
          "name": "stdout",
          "text": [
            "    X\n",
            "   XXX\n",
            "  XXXXX\n",
            " XXXXXXX\n",
            "XXXXXXXXX\n"
          ]
        }
      ],
      "source": [
        "def print_pyramid(n):\n",
        "    for i in range(n):\n",
        "        print(' ' * (n - i - 1) + 'X' * (2 * i + 1))\n",
        "\n",
        "print_pyramid(5)\n"
      ]
    },
    {
      "cell_type": "code",
      "source": [],
      "metadata": {
        "id": "pwH7OQruZXD4"
      },
      "execution_count": null,
      "outputs": []
    },
    {
      "cell_type": "code",
      "source": [
        "def square_list(nums):\n",
        "    return [x**2 for x in nums]\n",
        "\n",
        "nums = [1, 2, 3, 4, 5]\n",
        "print(square_list(nums))\n"
      ],
      "metadata": {
        "id": "_CfzSs-IkzB8"
      },
      "execution_count": null,
      "outputs": []
    },
    {
      "cell_type": "code",
      "source": [
        "class Car:\n",
        "    def __init__(self, speed=0):\n",
        "        self.speed = speed\n",
        "\n",
        "    def display_speed(self):\n",
        "        print(f\"The car is going {self.speed} mph.\")\n",
        "\n",
        "    def accelerate(self, increase):\n",
        "        self.speed += increase\n",
        "\n",
        "car = Car(20)\n",
        "car.display_speed()\n",
        "car.accelerate(10)\n",
        "car.display_speed()\n",
        "car.accelerate(5)\n",
        "car.display_speed()\n"
      ],
      "metadata": {
        "colab": {
          "base_uri": "https://localhost:8080/"
        },
        "id": "DH4GBqMMrddq",
        "outputId": "b2aa26e8-d031-476c-e5c5-a7a32026acc9"
      },
      "execution_count": null,
      "outputs": [
        {
          "output_type": "stream",
          "name": "stdout",
          "text": [
            "The car is going 20 mph.\n",
            "The car is going 30 mph.\n",
            "The car is going 35 mph.\n"
          ]
        }
      ]
    },
    {
      "cell_type": "code",
      "source": [
        "def my_decorator(func):\n",
        "    def wrapper(*args, **kwargs):\n",
        "        print(\"Before the function runs.\")\n",
        "        result = func(*args, **kwargs)\n",
        "        print(\"After the function runs.\")\n",
        "        return result\n",
        "    return wrapper\n",
        "\n",
        "@my_decorator\n",
        "def say_hello():\n",
        "    print(\"Hello!\")\n",
        "\n",
        "say_hello()\n"
      ],
      "metadata": {
        "colab": {
          "base_uri": "https://localhost:8080/"
        },
        "id": "ggnNB133uMib",
        "outputId": "d30ec72c-4823-44ce-fcc9-b378ad8fd8c3"
      },
      "execution_count": null,
      "outputs": [
        {
          "output_type": "stream",
          "name": "stdout",
          "text": [
            "Before the function runs.\n",
            "Hello!\n",
            "After the function runs.\n"
          ]
        }
      ]
    },
    {
      "cell_type": "code",
      "source": [
        "def safe_divide(a, b):\n",
        "    try:\n",
        "        return a / b\n",
        "    except ZeroDivisionError:\n",
        "        print(\"You can't divide by zero!\")\n",
        "        return None\n",
        "\n",
        "print(safe_divide(10, 2))\n",
        "print(safe_divide(10, 0))\n"
      ],
      "metadata": {
        "colab": {
          "base_uri": "https://localhost:8080/"
        },
        "id": "h__TY3K3v2oh",
        "outputId": "8c5bad4c-5aca-4ea7-c224-faf857752319"
      },
      "execution_count": null,
      "outputs": [
        {
          "output_type": "stream",
          "name": "stdout",
          "text": [
            "5.0\n",
            "You can't divide by zero!\n",
            "None\n"
          ]
        }
      ]
    },
    {
      "cell_type": "code",
      "source": [
        "import math\n",
        "\n",
        "def calc_factorial(num):\n",
        "    return math.factorial(num)\n",
        "\n",
        "print(calc_factorial(5))\n"
      ],
      "metadata": {
        "id": "TGLQa2CxwIav",
        "outputId": "dd8ac9c5-5b85-4961-eb94-1e5ebe83cad8",
        "colab": {
          "base_uri": "https://localhost:8080/"
        }
      },
      "execution_count": null,
      "outputs": [
        {
          "output_type": "stream",
          "name": "stdout",
          "text": [
            "120\n"
          ]
        }
      ]
    },
    {
      "cell_type": "code",
      "source": [
        "from datetime import datetime, timedelta\n",
        "today = datetime.today()\n",
        "next_year = datetime(today.year + 1, 1, 1)\n",
        "next_year"
      ],
      "metadata": {
        "colab": {
          "base_uri": "https://localhost:8080/"
        },
        "id": "hAnIVWHccIe0",
        "outputId": "832fa221-ad44-4fa9-c70e-c69c0f78dce3"
      },
      "execution_count": 4,
      "outputs": [
        {
          "output_type": "execute_result",
          "data": {
            "text/plain": [
              "datetime.datetime(2024, 1, 1, 0, 0)"
            ]
          },
          "metadata": {},
          "execution_count": 4
        }
      ]
    },
    {
      "cell_type": "code",
      "source": [
        "from datetime import datetime, timedelta\n",
        "\n",
        "def days_until_new_year():\n",
        "    today = datetime.today()\n",
        "    next_year = datetime(today.year + 1, 1, 1)\n",
        "    return (next_year - today).days\n",
        "\n",
        "print(days_until_new_year())\n"
      ],
      "metadata": {
        "colab": {
          "base_uri": "https://localhost:8080/"
        },
        "id": "KdrQCRwQZi5j",
        "outputId": "4d219e5c-e83e-4578-966b-4890921bf553"
      },
      "execution_count": 1,
      "outputs": [
        {
          "output_type": "stream",
          "name": "stdout",
          "text": [
            "53\n"
          ]
        }
      ]
    }
  ]
}