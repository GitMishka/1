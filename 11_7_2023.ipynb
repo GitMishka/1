{
  "nbformat": 4,
  "nbformat_minor": 0,
  "metadata": {
    "colab": {
      "provenance": [],
      "authorship_tag": "ABX9TyMG5D+dUk41A9GUVr67V5qT",
      "include_colab_link": true
    },
    "kernelspec": {
      "name": "python3",
      "display_name": "Python 3"
    },
    "language_info": {
      "name": "python"
    }
  },
  "cells": [
    {
      "cell_type": "markdown",
      "metadata": {
        "id": "view-in-github",
        "colab_type": "text"
      },
      "source": [
        "<a href=\"https://colab.research.google.com/github/GitMishka/1/blob/main/11_7_2023.ipynb\" target=\"_parent\"><img src=\"https://colab.research.google.com/assets/colab-badge.svg\" alt=\"Open In Colab\"/></a>"
      ]
    },
    {
      "cell_type": "code",
      "execution_count": null,
      "metadata": {
        "colab": {
          "base_uri": "https://localhost:8080/"
        },
        "id": "tFK5SI2XkctK",
        "outputId": "6022e1bc-8ff8-451d-9e02-97143b3828e5"
      },
      "outputs": [
        {
          "output_type": "stream",
          "name": "stdout",
          "text": [
            "    X\n",
            "   XXX\n",
            "  XXXXX\n",
            " XXXXXXX\n",
            "XXXXXXXXX\n"
          ]
        }
      ],
      "source": [
        "def print_pyramid(n):\n",
        "    for i in range(n):\n",
        "        print(' ' * (n - i - 1) + 'X' * (2 * i + 1))\n",
        "\n",
        "print_pyramid(5)\n"
      ]
    },
    {
      "cell_type": "code",
      "source": [],
      "metadata": {
        "id": "pwH7OQruZXD4"
      },
      "execution_count": null,
      "outputs": []
    },
    {
      "cell_type": "code",
      "source": [
        "def square_list(nums):\n",
        "    return [x**2 for x in nums]\n",
        "\n",
        "nums = [1, 2, 3, 4, 5]\n",
        "print(square_list(nums))\n"
      ],
      "metadata": {
        "id": "_CfzSs-IkzB8"
      },
      "execution_count": null,
      "outputs": []
    },
    {
      "cell_type": "code",
      "source": [
        "class Car:\n",
        "    def __init__(self, speed=0):\n",
        "        self.speed = speed\n",
        "\n",
        "    def display_speed(self):\n",
        "        print(f\"The car is going {self.speed} mph.\")\n",
        "\n",
        "    def accelerate(self, increase):\n",
        "        self.speed += increase\n",
        "\n",
        "car = Car(20)\n",
        "car.display_speed()\n",
        "car.accelerate(10)\n",
        "car.display_speed()\n",
        "car.accelerate(5)\n",
        "car.display_speed()\n"
      ],
      "metadata": {
        "colab": {
          "base_uri": "https://localhost:8080/"
        },
        "id": "DH4GBqMMrddq",
        "outputId": "b2aa26e8-d031-476c-e5c5-a7a32026acc9"
      },
      "execution_count": null,
      "outputs": [
        {
          "output_type": "stream",
          "name": "stdout",
          "text": [
            "The car is going 20 mph.\n",
            "The car is going 30 mph.\n",
            "The car is going 35 mph.\n"
          ]
        }
      ]
    },
    {
      "cell_type": "code",
      "source": [
        "def my_decorator(func):\n",
        "    def wrapper(*args, **kwargs):\n",
        "        print(\"Before the function runs.\")\n",
        "        result = func(*args, **kwargs)\n",
        "        print(\"After the function runs.\")\n",
        "        return result\n",
        "    return wrapper\n",
        "\n",
        "@my_decorator\n",
        "def say_hello():\n",
        "    print(\"Hello!\")\n",
        "\n",
        "say_hello()\n"
      ],
      "metadata": {
        "colab": {
          "base_uri": "https://localhost:8080/"
        },
        "id": "ggnNB133uMib",
        "outputId": "d30ec72c-4823-44ce-fcc9-b378ad8fd8c3"
      },
      "execution_count": null,
      "outputs": [
        {
          "output_type": "stream",
          "name": "stdout",
          "text": [
            "Before the function runs.\n",
            "Hello!\n",
            "After the function runs.\n"
          ]
        }
      ]
    },
    {
      "cell_type": "code",
      "source": [
        "def safe_divide(a, b):\n",
        "    try:\n",
        "        return a / b\n",
        "    except ZeroDivisionError:\n",
        "        print(\"You can't divide by zero!\")\n",
        "        return None\n",
        "\n",
        "print(safe_divide(10, 2))\n",
        "print(safe_divide(10, 0))\n"
      ],
      "metadata": {
        "colab": {
          "base_uri": "https://localhost:8080/"
        },
        "id": "h__TY3K3v2oh",
        "outputId": "8c5bad4c-5aca-4ea7-c224-faf857752319"
      },
      "execution_count": null,
      "outputs": [
        {
          "output_type": "stream",
          "name": "stdout",
          "text": [
            "5.0\n",
            "You can't divide by zero!\n",
            "None\n"
          ]
        }
      ]
    },
    {
      "cell_type": "code",
      "source": [
        "import math\n",
        "\n",
        "def calc_factorial(num):\n",
        "    return math.factorial(num)\n",
        "\n",
        "print(calc_factorial(5))\n"
      ],
      "metadata": {
        "id": "TGLQa2CxwIav",
        "outputId": "dd8ac9c5-5b85-4961-eb94-1e5ebe83cad8",
        "colab": {
          "base_uri": "https://localhost:8080/"
        }
      },
      "execution_count": null,
      "outputs": [
        {
          "output_type": "stream",
          "name": "stdout",
          "text": [
            "120\n"
          ]
        }
      ]
    },
    {
      "cell_type": "code",
      "source": [
        "from datetime import datetime, timedelta\n",
        "today = datetime.today()\n",
        "next_year = datetime(today.year + 1, 1, 1)\n",
        "next_year"
      ],
      "metadata": {
        "colab": {
          "base_uri": "https://localhost:8080/"
        },
        "id": "hAnIVWHccIe0",
        "outputId": "832fa221-ad44-4fa9-c70e-c69c0f78dce3"
      },
      "execution_count": 4,
      "outputs": [
        {
          "output_type": "execute_result",
          "data": {
            "text/plain": [
              "datetime.datetime(2024, 1, 1, 0, 0)"
            ]
          },
          "metadata": {},
          "execution_count": 4
        }
      ]
    },
    {
      "cell_type": "code",
      "source": [
        "from datetime import datetime, timedelta\n",
        "\n",
        "def days_until_new_year():\n",
        "    today = datetime.today()\n",
        "    next_year = datetime(today.year + 1, 1, 1)\n",
        "    return (next_year - today).days\n",
        "\n",
        "print(days_until_new_year())\n"
      ],
      "metadata": {
        "colab": {
          "base_uri": "https://localhost:8080/"
        },
        "id": "KdrQCRwQZi5j",
        "outputId": "4d219e5c-e83e-4578-966b-4890921bf553"
      },
      "execution_count": 1,
      "outputs": [
        {
          "output_type": "stream",
          "name": "stdout",
          "text": [
            "53\n"
          ]
        }
      ]
    },
    {
      "cell_type": "code",
      "source": [
        "import unittest\n",
        "\n",
        "def add(a, b):\n",
        "    return a + b\n",
        "\n",
        "class TestAddFunction(unittest.TestCase):\n",
        "    def test_add(self):\n",
        "        self.assertEqual(add(2, 3), 5)\n",
        "\n",
        "if __name__ == '__main__':\n",
        "    unittest.main()"
      ],
      "metadata": {
        "id": "3MQ9QQXYcoD5"
      },
      "execution_count": null,
      "outputs": []
    },
    {
      "cell_type": "code",
      "source": [
        "import json\n",
        "\n",
        "def parse_json(json_string, key):\n",
        "    data = json.loads(json_string)\n",
        "    return data.get(key, None)\n",
        "\n",
        "\n",
        "json_string = '{\"name\": \"John\", \"age\": 30}'\n",
        "key = 'name'\n",
        "print(parse_json(json_string, key))\n"
      ],
      "metadata": {
        "id": "nyj2Qj5iQRWm"
      },
      "execution_count": null,
      "outputs": []
    },
    {
      "cell_type": "code",
      "source": [
        "def merge_sorted_lists(list1, list2):\n",
        "    merged_list = []\n",
        "    i, j = 0, 0\n",
        "    while i < len(list1) and j < len(list2):\n",
        "        if list1[i] < list2[j]:\n",
        "            merged_list.append(list1[i])\n",
        "            i += 1\n",
        "        else:\n",
        "            merged_list.append(list2[j])\n",
        "            j += 1\n",
        "    merged_list.extend(list1[i:])\n",
        "    merged_list.extend(list2[j:])\n",
        "    return merged_list\n",
        "\n",
        "list1 = [1, 3, 5]\n",
        "list2 = [2, 4, 6]\n",
        "print(merge_sorted_lists(list1, list2))\n"
      ],
      "metadata": {
        "colab": {
          "base_uri": "https://localhost:8080/"
        },
        "id": "k9oQY5EKQs9g",
        "outputId": "5d4d86cf-21b0-4ba1-cf91-b11e6cbe4c20"
      },
      "execution_count": 3,
      "outputs": [
        {
          "output_type": "stream",
          "name": "stdout",
          "text": [
            "[1, 2, 3, 4, 5, 6]\n"
          ]
        }
      ]
    },
    {
      "cell_type": "code",
      "source": [
        "def is_palindrome(s):\n",
        "    return s == s[::-1]\n",
        "\n",
        "def test_is_palindrome():\n",
        "    assert is_palindrome(\"racecar\") == True\n",
        "    assert is_palindrome(\"hello\") == False\n",
        "    assert is_palindrome(\"level\") == True\n",
        "\n"
      ],
      "metadata": {
        "id": "wBZPsAOYTpJ7"
      },
      "execution_count": 5,
      "outputs": []
    },
    {
      "cell_type": "code",
      "source": [
        "import requests\n",
        "\n",
        "def fetch_status_code(url):\n",
        "    response = requests.get(url)\n",
        "    return response.status_code\n",
        "\n",
        "url = 'https://api.github.com'\n",
        "print(fetch_status_code(url))"
      ],
      "metadata": {
        "colab": {
          "base_uri": "https://localhost:8080/"
        },
        "id": "o5rl4hhWTviz",
        "outputId": "6aa8d75f-a334-4b0c-ba73-3f1457362fb1"
      },
      "execution_count": 6,
      "outputs": [
        {
          "output_type": "stream",
          "name": "stdout",
          "text": [
            "200\n"
          ]
        }
      ]
    }
  ]
}