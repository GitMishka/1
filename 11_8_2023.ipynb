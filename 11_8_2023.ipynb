{
  "nbformat": 4,
  "nbformat_minor": 0,
  "metadata": {
    "colab": {
      "provenance": [],
      "authorship_tag": "ABX9TyNkHsTNviLmbYToJOUG5S0l",
      "include_colab_link": true
    },
    "kernelspec": {
      "name": "python3",
      "display_name": "Python 3"
    },
    "language_info": {
      "name": "python"
    }
  },
  "cells": [
    {
      "cell_type": "markdown",
      "metadata": {
        "id": "view-in-github",
        "colab_type": "text"
      },
      "source": [
        "<a href=\"https://colab.research.google.com/github/GitMishka/1/blob/main/11_8_2023.ipynb\" target=\"_parent\"><img src=\"https://colab.research.google.com/assets/colab-badge.svg\" alt=\"Open In Colab\"/></a>"
      ]
    },
    {
      "cell_type": "code",
      "execution_count": 6,
      "metadata": {
        "colab": {
          "base_uri": "https://localhost:8080/"
        },
        "id": "ZWo1_H9aaUsJ",
        "outputId": "c820f0a6-2648-43e2-ae24-077711e08da6"
      },
      "outputs": [
        {
          "output_type": "stream",
          "name": "stdout",
          "text": [
            "['1', '2', 'Fizz', '4', 'Buzz', 'Fizz', '7', '8', 'Fizz', 'Buzz', '11', 'Fizz', '13', '14', 'FizzBuzz']\n"
          ]
        }
      ],
      "source": [
        "class Solution:\n",
        "    def fizzBuzz(self, n: int) -> list[str]:\n",
        "        result = []\n",
        "        for i in range(1, n+1):\n",
        "            if i % 3 == 0 and i % 5 == 0:\n",
        "                result.append(\"FizzBuzz\")\n",
        "            elif i % 3 == 0:\n",
        "                result.append(\"Fizz\")\n",
        "            elif i % 5 == 0:\n",
        "                result.append(\"Buzz\")\n",
        "            else:\n",
        "                result.append(str(i))\n",
        "        return result\n",
        "\n",
        "solution = Solution()\n",
        "\n",
        "print(solution.fizzBuzz(15))\n"
      ]
    },
    {
      "cell_type": "code",
      "source": [
        "class Solution:\n",
        "    def singleNumber(self, nums: List[int]) -> int:\n",
        "        return 2 * sum(set(nums)) - sum(nums)\n"
      ],
      "metadata": {
        "id": "oZKTAUfmcKHu"
      },
      "execution_count": null,
      "outputs": []
    },
    {
      "cell_type": "code",
      "source": [
        "class Solution:\n",
        "    def arrayPairSum(self, nums: List[int]) -> int:\n",
        "        nums.sort()\n",
        "        return sum(nums[::2])\n"
      ],
      "metadata": {
        "id": "P3Os_9K3cSAP"
      },
      "execution_count": null,
      "outputs": []
    },
    {
      "cell_type": "code",
      "source": [],
      "metadata": {
        "id": "u24oTjlCcTJV"
      },
      "execution_count": null,
      "outputs": []
    },
    {
      "cell_type": "code",
      "source": [],
      "metadata": {
        "id": "W7ezlYyJcTfx"
      },
      "execution_count": null,
      "outputs": []
    }
  ]
}