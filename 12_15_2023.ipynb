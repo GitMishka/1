{
  "nbformat": 4,
  "nbformat_minor": 0,
  "metadata": {
    "colab": {
      "provenance": [],
      "authorship_tag": "ABX9TyOiBXBJcM8/Spu4GAhuEFl3",
      "include_colab_link": true
    },
    "kernelspec": {
      "name": "python3",
      "display_name": "Python 3"
    },
    "language_info": {
      "name": "python"
    }
  },
  "cells": [
    {
      "cell_type": "markdown",
      "metadata": {
        "id": "view-in-github",
        "colab_type": "text"
      },
      "source": [
        "<a href=\"https://colab.research.google.com/github/GitMishka/1/blob/main/12_15_2023.ipynb\" target=\"_parent\"><img src=\"https://colab.research.google.com/assets/colab-badge.svg\" alt=\"Open In Colab\"/></a>"
      ]
    },
    {
      "cell_type": "code",
      "execution_count": 8,
      "metadata": {
        "colab": {
          "base_uri": "https://localhost:8080/"
        },
        "id": "21ixYsuy9K7D",
        "outputId": "cd29c95b-d8b3-4fd7-ad2a-432710ee9075"
      },
      "outputs": [
        {
          "output_type": "stream",
          "name": "stdout",
          "text": [
            "    customer_id  transaction_id  amount                       date    type\n",
            "0            97          633107     569 2023-11-27 04:53:11.876416   debit\n",
            "1            63          525362     181 2023-12-03 04:53:11.876484  credit\n",
            "2            24          655549     816 2023-11-29 04:53:11.876510   debit\n",
            "3            70          696155     952 2023-12-19 04:53:11.876547  credit\n",
            "4            43          612092     957 2023-11-29 04:53:11.876566   debit\n",
            "..          ...             ...     ...                        ...     ...\n",
            "95           23          974915     365 2023-11-24 04:53:11.877918  credit\n",
            "96           56          445729     516 2023-12-01 04:53:11.877933   debit\n",
            "97           51          413239     567 2024-01-02 04:53:11.877947  credit\n",
            "98            4          342974     905 2023-12-15 04:53:11.877961   debit\n",
            "99           73          850844     517 2024-01-15 04:53:11.877973  credit\n",
            "\n",
            "[100 rows x 5 columns]\n"
          ]
        },
        {
          "output_type": "stream",
          "name": "stderr",
          "text": [
            "<ipython-input-8-b8de2fe490ff>:13: FutureWarning: The pandas.datetime class is deprecated and will be removed from pandas in a future version. Import from datetime module instead.\n",
            "  df['date'] = [pd.datetime.now() + pd.Timedelta(days=random.randint(-30, 30)) for _ in range(100)]\n"
          ]
        }
      ],
      "source": [
        "# prompt: creata table with randomized data which would represent a bank trasaction table, populate columns with approriete randomized data\n",
        "\n",
        "import random\n",
        "import pandas as pd\n",
        "\n",
        "# Create a dataframe with 100 rows and 5 columns\n",
        "df = pd.DataFrame(columns=['customer_id', 'transaction_id', 'amount', 'date', 'type'])\n",
        "\n",
        "# Generate random data for each column\n",
        "df['customer_id'] = [random.randint(1, 100) for _ in range(100)]\n",
        "df['transaction_id'] = [random.randint(100000, 999999) for _ in range(100)]\n",
        "df['amount'] = [random.randint(1, 1000) for _ in range(100)]\n",
        "df['date'] = [pd.datetime.now() + pd.Timedelta(days=random.randint(-30, 30)) for _ in range(100)]\n",
        "df['type'] = ['debit', 'credit'] * 50\n",
        "\n",
        "# Print the dataframe\n",
        "print(df)\n"
      ]
    },
    {
      "cell_type": "code",
      "source": [
        "# prompt: create typical pipeline to a database use arbitrary data\n",
        "\n",
        "import sqlite3\n",
        "\n",
        "# Create a connection to the database\n",
        "conn = sqlite3.connect('my_database.db')\n",
        "\n",
        "# Create a cursor to execute SQL statements\n",
        "cursor = conn.cursor()\n",
        "\n",
        "# Create a table to store the data\n",
        "cursor.execute('''CREATE TABLE transactions\n",
        "                  (customer_id INTEGER,\n",
        "                   transaction_id INTEGER,\n",
        "                   amount INTEGER,\n",
        "                   date DATE,\n",
        "                   type TEXT)''')\n",
        "\n",
        "# Insert the data into the table\n",
        "cursor.executemany('INSERT INTO transactions VALUES (?, ?, ?, ?, ?)', df.values)\n",
        "\n",
        "# Commit the changes to the database\n",
        "conn.commit()\n",
        "\n",
        "# Close the connection to the database\n",
        "conn.close()\n"
      ],
      "metadata": {
        "id": "onYIa0OT9oz2"
      },
      "execution_count": null,
      "outputs": []
    },
    {
      "cell_type": "code",
      "source": [],
      "metadata": {
        "id": "CA14ncQ_9VcF"
      },
      "execution_count": null,
      "outputs": []
    }
  ]
}