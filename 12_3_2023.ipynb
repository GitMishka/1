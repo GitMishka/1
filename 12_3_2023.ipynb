{
  "nbformat": 4,
  "nbformat_minor": 0,
  "metadata": {
    "colab": {
      "provenance": [],
      "authorship_tag": "ABX9TyN9zm9NoeveTX03uKfuNCSk",
      "include_colab_link": true
    },
    "kernelspec": {
      "name": "python3",
      "display_name": "Python 3"
    },
    "language_info": {
      "name": "python"
    }
  },
  "cells": [
    {
      "cell_type": "markdown",
      "metadata": {
        "id": "view-in-github",
        "colab_type": "text"
      },
      "source": [
        "<a href=\"https://colab.research.google.com/github/GitMishka/1/blob/main/12_3_2023.ipynb\" target=\"_parent\"><img src=\"https://colab.research.google.com/assets/colab-badge.svg\" alt=\"Open In Colab\"/></a>"
      ]
    },
    {
      "cell_type": "code",
      "execution_count": 1,
      "metadata": {
        "id": "eEVhrOfUMESJ"
      },
      "outputs": [],
      "source": [
        "import random\n"
      ]
    },
    {
      "cell_type": "code",
      "source": [
        "hp = 100\n",
        "invetory = []\n",
        "locations = ['forest',\"abandoned castle\",\"myeterious cave\"]\n",
        "enemies = [\"goblin\",\"skeleton\", \"orc\"]\n",
        "boss = \"dragon\"\n",
        "game_over = False"
      ],
      "metadata": {
        "id": "_E8WrZI-MRIz"
      },
      "execution_count": null,
      "outputs": []
    },
    {
      "cell_type": "code",
      "source": [],
      "metadata": {
        "id": "Lt2wg-u-MnCK"
      },
      "execution_count": null,
      "outputs": []
    }
  ]
}