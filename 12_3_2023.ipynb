{
  "nbformat": 4,
  "nbformat_minor": 0,
  "metadata": {
    "colab": {
      "provenance": [],
      "authorship_tag": "ABX9TyN8wKL3Xwar5TM1OlMJ6RFQ",
      "include_colab_link": true
    },
    "kernelspec": {
      "name": "python3",
      "display_name": "Python 3"
    },
    "language_info": {
      "name": "python"
    }
  },
  "cells": [
    {
      "cell_type": "markdown",
      "metadata": {
        "id": "view-in-github",
        "colab_type": "text"
      },
      "source": [
        "<a href=\"https://colab.research.google.com/github/GitMishka/1/blob/main/12_3_2023.ipynb\" target=\"_parent\"><img src=\"https://colab.research.google.com/assets/colab-badge.svg\" alt=\"Open In Colab\"/></a>"
      ]
    },
    {
      "cell_type": "code",
      "execution_count": 1,
      "metadata": {
        "id": "eEVhrOfUMESJ"
      },
      "outputs": [],
      "source": [
        "import random\n"
      ]
    },
    {
      "cell_type": "code",
      "source": [
        "hp = 100\n",
        "invetory = []\n",
        "locations = ['forest',\"abandoned castle\",\"myeterious cave\"]\n",
        "enemies = [\"goblin\",\"skeleton\", \"orc\"]\n",
        "boss = \"dragon\"\n",
        "game_over = False"
      ],
      "metadata": {
        "id": "_E8WrZI-MRIz"
      },
      "execution_count": null,
      "outputs": []
    },
    {
      "cell_type": "code",
      "source": [
        "while not game_over:\n",
        "  location = random.choice(locations)\n",
        "  print(f\"\\nYou are in {location}. What will you do?\")\n",
        "  print(\"1. Explore\")\n",
        "  print(\"2. Check Inventory\")\n",
        "  print(\"3.Rest\")\n",
        "  choice = input(\" 1,2,or 3\")\n",
        "  if choice == '1':\n",
        "    encounter = random.choice([\"enemy\",\"item\",\"nothing\",\"boss\"])\n",
        "    if encounter == \"enemy\":\n",
        "      enemy = random.choice(enemies)\n",
        "      print(f\"Youn ecountered a {enemy}!\")\n",
        "      while enemy:\n",
        "        print(\"1. Attack\")\n",
        "        print(\"2. Run\")\n",
        "        combat_choice = input(\"1/2\")\n",
        "        if combat_choice == \"1\":\n",
        "          if random.random() > 0.5:\n",
        "            print(f\"{enemy} defeated!\")\n",
        "            enemy = None\n",
        "          else:\n",
        "            hp -= 20\n",
        "            print(f\"The {enemy} hit you! HP: {hp}\")\n",
        "            if hp <= 0:\n",
        "              print(\"you have bean defeated\")\n",
        "              game_over = True\n",
        "              break"
      ],
      "metadata": {
        "colab": {
          "base_uri": "https://localhost:8080/",
          "height": 246
        },
        "id": "Lt2wg-u-MnCK",
        "outputId": "f432ec43-71b2-4ec9-e925-878695835361"
      },
      "execution_count": 3,
      "outputs": [
        {
          "output_type": "error",
          "ename": "NameError",
          "evalue": "ignored",
          "traceback": [
            "\u001b[0;31m---------------------------------------------------------------------------\u001b[0m",
            "\u001b[0;31mNameError\u001b[0m                                 Traceback (most recent call last)",
            "\u001b[0;32m<ipython-input-3-0b23d98c1e8f>\u001b[0m in \u001b[0;36m<cell line: 1>\u001b[0;34m()\u001b[0m\n\u001b[0;32m----> 1\u001b[0;31m \u001b[0;32mwhile\u001b[0m \u001b[0;32mnot\u001b[0m \u001b[0mgame_over\u001b[0m\u001b[0;34m:\u001b[0m\u001b[0;34m\u001b[0m\u001b[0;34m\u001b[0m\u001b[0m\n\u001b[0m\u001b[1;32m      2\u001b[0m   \u001b[0mlocation\u001b[0m \u001b[0;34m=\u001b[0m \u001b[0mrandom\u001b[0m\u001b[0;34m.\u001b[0m\u001b[0mchoice\u001b[0m\u001b[0;34m(\u001b[0m\u001b[0mlocations\u001b[0m\u001b[0;34m)\u001b[0m\u001b[0;34m\u001b[0m\u001b[0;34m\u001b[0m\u001b[0m\n\u001b[1;32m      3\u001b[0m   \u001b[0mprint\u001b[0m\u001b[0;34m(\u001b[0m\u001b[0;34mf\"\\nYou are in {location}. What will you do?\"\u001b[0m\u001b[0;34m)\u001b[0m\u001b[0;34m\u001b[0m\u001b[0;34m\u001b[0m\u001b[0m\n\u001b[1;32m      4\u001b[0m   \u001b[0mprint\u001b[0m\u001b[0;34m(\u001b[0m\u001b[0;34m\"1. Explore\"\u001b[0m\u001b[0;34m)\u001b[0m\u001b[0;34m\u001b[0m\u001b[0;34m\u001b[0m\u001b[0m\n\u001b[1;32m      5\u001b[0m \u001b[0;34m\u001b[0m\u001b[0m\n",
            "\u001b[0;31mNameError\u001b[0m: name 'game_over' is not defined"
          ]
        }
      ]
    },
    {
      "cell_type": "code",
      "source": [],
      "metadata": {
        "id": "CthnlIpERhAc"
      },
      "execution_count": null,
      "outputs": []
    },
    {
      "cell_type": "code",
      "source": [],
      "metadata": {
        "id": "5lscdHrzRftD"
      },
      "execution_count": null,
      "outputs": []
    }
  ]
}