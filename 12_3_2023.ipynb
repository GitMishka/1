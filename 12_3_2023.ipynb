{
  "nbformat": 4,
  "nbformat_minor": 0,
  "metadata": {
    "colab": {
      "provenance": [],
      "authorship_tag": "ABX9TyM34GfS/z8VIbEN+oqo+0ns",
      "include_colab_link": true
    },
    "kernelspec": {
      "name": "python3",
      "display_name": "Python 3"
    },
    "language_info": {
      "name": "python"
    }
  },
  "cells": [
    {
      "cell_type": "markdown",
      "metadata": {
        "id": "view-in-github",
        "colab_type": "text"
      },
      "source": [
        "<a href=\"https://colab.research.google.com/github/GitMishka/1/blob/main/12_3_2023.ipynb\" target=\"_parent\"><img src=\"https://colab.research.google.com/assets/colab-badge.svg\" alt=\"Open In Colab\"/></a>"
      ]
    },
    {
      "cell_type": "code",
      "execution_count": 6,
      "metadata": {
        "id": "eEVhrOfUMESJ"
      },
      "outputs": [],
      "source": [
        "import random\n"
      ]
    },
    {
      "cell_type": "code",
      "source": [
        "hp = 100\n",
        "inventory = []\n",
        "locations = ['forest',\"abandoned castle\",\"myeterious cave\"]\n",
        "enemies = [\"goblin\",\"skeleton\", \"orc\"]\n",
        "boss = \"dragon\"\n",
        "game_over = False"
      ],
      "metadata": {
        "id": "_E8WrZI-MRIz"
      },
      "execution_count": 7,
      "outputs": []
    },
    {
      "cell_type": "code",
      "source": [
        "while not game_over:\n",
        "  location = random.choice(locations)\n",
        "  print(f\"\\nYou are in {location}. What will you do?\")\n",
        "  print(\"1. Explore\")\n",
        "  print(\"2. Check Inventory\")\n",
        "  print(\"3.Rest\")\n",
        "  choice = input(\" 1,2,or 3\")\n",
        "  if choice == '1':\n",
        "    encounter = random.choice([\"enemy\",\"item\",\"nothing\",\"boss\"])\n",
        "    if encounter == \"enemy\":\n",
        "      enemy = random.choice(enemies)\n",
        "      print(f\"Youn ecountered a {enemy}!\")\n",
        "      while enemy:\n",
        "        print(\"1. Attack\")\n",
        "        print(\"2. Run\")\n",
        "        combat_choice = input(\"1/2\")\n",
        "        if combat_choice == \"1\":\n",
        "          if random.random() > 0.5:\n",
        "            print(f\"{enemy} defeated!\")\n",
        "            enemy = None\n",
        "          else:\n",
        "            hp -= 20\n",
        "            print(f\"The {enemy} hit you! HP: {hp}\")\n",
        "            if hp <= 0:\n",
        "              print(\"you have bean defeated\")\n",
        "              game_over = True\n",
        "              break\n",
        "    elif encounter == \"item\":\n",
        "      item = \"heal potion\"\n",
        "      inventory.append(item)\n",
        "      print(f\"You found a {item}\")\n",
        "    elif encounter == \"boss\":\n",
        "      if boss in enemies:\n",
        "        print(f\"You encounter the {boss}!\")\n",
        "        if hp > 50:\n",
        "          print(f\"you defeated {boss} and won the game\")\n",
        "        else:\n",
        "          print(f\"the {boss} defeated you\")\n",
        "        game_over = True\n",
        "      else:\n",
        "        print(\"you ssense a power presence, but it's nothing\")\n",
        "    elif encounter == \"nothing\":\n",
        "      print(\"nothing of intrest\")\n",
        "\n",
        "  elif choice == '2':\n",
        "    if inventory:\n",
        "      print(\"your inventory:\", inventory)\n",
        "    else:\n",
        "      print(\"you inventory is empty\")\n",
        "  elif choice == '3':\n",
        "    hp = min(100, hp + 30)\n",
        "    print(f\"You rest and reocver: HP: {hp}\")\n",
        "if hp > 0:\n",
        "  print(\"you survived\")\n",
        "else:\n",
        "  print(\"game over. you did not survive\")"
      ],
      "metadata": {
        "colab": {
          "base_uri": "https://localhost:8080/"
        },
        "id": "Lt2wg-u-MnCK",
        "outputId": "5908c721-870f-4b50-f4a6-57681bd97f71"
      },
      "execution_count": null,
      "outputs": [
        {
          "output_type": "stream",
          "name": "stdout",
          "text": [
            "\n",
            "You are in forest. What will you do?\n",
            "1. Explore\n",
            "2. Check Inventory\n",
            "3.Rest\n"
          ]
        }
      ]
    },
    {
      "cell_type": "code",
      "source": [],
      "metadata": {
        "id": "CthnlIpERhAc"
      },
      "execution_count": null,
      "outputs": []
    },
    {
      "cell_type": "code",
      "source": [],
      "metadata": {
        "id": "5lscdHrzRftD"
      },
      "execution_count": null,
      "outputs": []
    }
  ]
}