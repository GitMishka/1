{
  "nbformat": 4,
  "nbformat_minor": 0,
  "metadata": {
    "colab": {
      "provenance": [],
      "authorship_tag": "ABX9TyM5ez5vB6ebUhOmzbKzhm4a",
      "include_colab_link": true
    },
    "kernelspec": {
      "name": "python3",
      "display_name": "Python 3"
    },
    "language_info": {
      "name": "python"
    }
  },
  "cells": [
    {
      "cell_type": "markdown",
      "metadata": {
        "id": "view-in-github",
        "colab_type": "text"
      },
      "source": [
        "<a href=\"https://colab.research.google.com/github/GitMishka/1/blob/main/1_14_2024.ipynb\" target=\"_parent\"><img src=\"https://colab.research.google.com/assets/colab-badge.svg\" alt=\"Open In Colab\"/></a>"
      ]
    },
    {
      "cell_type": "code",
      "execution_count": 1,
      "metadata": {
        "colab": {
          "base_uri": "https://localhost:8080/"
        },
        "id": "4ehc6hpi_WtM",
        "outputId": "5329e9bd-df64-416c-d788-0bb7e5bd3a59"
      },
      "outputs": [
        {
          "output_type": "stream",
          "name": "stdout",
          "text": [
            "[('John', 30), ('Jane', 25)]\n"
          ]
        }
      ],
      "source": [
        "\n",
        "import sqlite3\n",
        "conn = sqlite3.connect(':memory:')\n",
        "c = conn.cursor()\n",
        "c.execute('CREATE TABLE IF NOT EXISTS users (name TEXT, age INTEGER)')\n",
        "c.execute('INSERT INTO users VALUES (\"John\", 30)')\n",
        "c.execute('INSERT INTO users VALUES (\"Jane\", 25)')\n",
        "c.execute('SELECT * FROM users')\n",
        "print(c.fetchall())\n"
      ]
    },
    {
      "cell_type": "code",
      "source": [],
      "metadata": {
        "id": "nCcz9WpPcRTQ"
      },
      "execution_count": null,
      "outputs": []
    },
    {
      "cell_type": "code",
      "source": [
        "\n",
        "import sqlite3\n",
        "\n",
        "conn = sqlite3.connect(':memory:')\n",
        "\n",
        "cursor = conn.cursor()\n",
        "cursor.execute('''CREATE TABLE students (name TEXT, age INTEGER)''')\n",
        "\n",
        "cursor.execute('''INSERT INTO students VALUES ('John', 20)''')\n",
        "cursor.execute('''INSERT INTO students VALUES ('Mary', 21)''')\n",
        "\n",
        "conn.commit()\n",
        "\n",
        "conn.close()\n"
      ],
      "metadata": {
        "id": "3OT1M07ib-wc"
      },
      "execution_count": 2,
      "outputs": []
    }
  ]
}