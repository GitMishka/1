{
  "nbformat": 4,
  "nbformat_minor": 0,
  "metadata": {
    "colab": {
      "provenance": [],
      "authorship_tag": "ABX9TyPvZzsr6ISQskJCkVSv2jaT",
      "include_colab_link": true
    },
    "kernelspec": {
      "name": "python3",
      "display_name": "Python 3"
    },
    "language_info": {
      "name": "python"
    }
  },
  "cells": [
    {
      "cell_type": "markdown",
      "metadata": {
        "id": "view-in-github",
        "colab_type": "text"
      },
      "source": [
        "<a href=\"https://colab.research.google.com/github/GitMishka/1/blob/main/1_17_2024.ipynb\" target=\"_parent\"><img src=\"https://colab.research.google.com/assets/colab-badge.svg\" alt=\"Open In Colab\"/></a>"
      ]
    },
    {
      "cell_type": "code",
      "execution_count": 3,
      "metadata": {
        "colab": {
          "base_uri": "https://localhost:8080/"
        },
        "id": "Tc20hbUlTIpk",
        "outputId": "d207bb93-ff99-46d6-df83-7c83ab997624"
      },
      "outputs": [
        {
          "output_type": "execute_result",
          "data": {
            "text/plain": [
              "True"
            ]
          },
          "metadata": {},
          "execution_count": 3
        }
      ],
      "source": [
        "def is_valid_email(email):\n",
        "  import re\n",
        "  pattern = r'\\b[A-Za-z0-9._%+-]+@[A-Za-z0-9.-]+\\.[A-Z|a-z]{2,}\\b'\n",
        "  return re.fullmatch(pattern, email) is not None\n",
        "is_valid_email('@.com')\n"
      ]
    },
    {
      "cell_type": "code",
      "source": [
        "def camel_to_snake(name):\n",
        "  import re\n",
        "  return re.sub('([A-Z])',r'_\\1,',name).lower()"
      ],
      "metadata": {
        "id": "jeXN3Us2VN9J"
      },
      "execution_count": null,
      "outputs": []
    },
    {
      "cell_type": "code",
      "source": [],
      "metadata": {
        "id": "4307KaxXVj31"
      },
      "execution_count": null,
      "outputs": []
    }
  ]
}