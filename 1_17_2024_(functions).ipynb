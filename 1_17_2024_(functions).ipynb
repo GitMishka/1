{
  "nbformat": 4,
  "nbformat_minor": 0,
  "metadata": {
    "colab": {
      "provenance": [],
      "authorship_tag": "ABX9TyPHTmP5q1e7oPv3SXplzxOP",
      "include_colab_link": true
    },
    "kernelspec": {
      "name": "python3",
      "display_name": "Python 3"
    },
    "language_info": {
      "name": "python"
    }
  },
  "cells": [
    {
      "cell_type": "markdown",
      "metadata": {
        "id": "view-in-github",
        "colab_type": "text"
      },
      "source": [
        "<a href=\"https://colab.research.google.com/github/GitMishka/1/blob/main/1_17_2024_(functions).ipynb\" target=\"_parent\"><img src=\"https://colab.research.google.com/assets/colab-badge.svg\" alt=\"Open In Colab\"/></a>"
      ]
    },
    {
      "cell_type": "code",
      "execution_count": 3,
      "metadata": {
        "colab": {
          "base_uri": "https://localhost:8080/"
        },
        "id": "Tc20hbUlTIpk",
        "outputId": "d207bb93-ff99-46d6-df83-7c83ab997624"
      },
      "outputs": [
        {
          "output_type": "execute_result",
          "data": {
            "text/plain": [
              "True"
            ]
          },
          "metadata": {},
          "execution_count": 3
        }
      ],
      "source": [
        "def is_valid_email(email):\n",
        "  import re\n",
        "  pattern = r'\\b[A-Za-z0-9._%+-]+@[A-Za-z0-9.-]+\\.[A-Z|a-z]{2,}\\b'\n",
        "  return re.fullmatch(pattern, email) is not None\n",
        "is_valid_email('@.com')\n"
      ]
    },
    {
      "cell_type": "code",
      "source": [
        "def camel_to_snake(name):\n",
        "  import re\n",
        "  return re.sub('([A-Z])',r'_\\1,',name).lower()"
      ],
      "metadata": {
        "id": "jeXN3Us2VN9J"
      },
      "execution_count": null,
      "outputs": []
    },
    {
      "cell_type": "code",
      "source": [
        "def convert_data_format(date_string, from_format, to_format):\n",
        "  from datetime import datetime\n",
        "  return datetime.strptime(date_string, from_format).strftime(to_format)"
      ],
      "metadata": {
        "id": "4307KaxXVj31"
      },
      "execution_count": null,
      "outputs": []
    },
    {
      "cell_type": "code",
      "source": [
        "def calculate_area_of_circle(radius):\n",
        "  import math\n",
        "  return math.pi * radius ** 2"
      ],
      "metadata": {
        "id": "J9IJeU7zWPL4"
      },
      "execution_count": null,
      "outputs": []
    },
    {
      "cell_type": "code",
      "source": [
        "def read_csv(file_path):\n",
        "  import csv\n",
        "  with open(file_path, mode = 'r', encoding = 'utf-8') as file:\n",
        "    return list(csv.DictReader(file))"
      ],
      "metadata": {
        "id": "FqVCqpLXW3o4"
      },
      "execution_count": null,
      "outputs": []
    },
    {
      "cell_type": "code",
      "source": [
        "def scrape_website_title(url):\n",
        "  import requests\n",
        "  from bs4 import BeautifulSoup\n",
        "  response = requests.get(url)\n",
        "  soup = BeautifulSoup(response.content, 'html.parser')\n",
        "  return soup.title.string if soup.title else 'No title found'"
      ],
      "metadata": {
        "id": "Z-kCqbJhXL4T"
      },
      "execution_count": null,
      "outputs": []
    },
    {
      "cell_type": "code",
      "source": [
        "def fetch_all(db_connection, table):\n",
        "  cursor = db_connection.cursor()\n",
        "  query = f'SELECT * FROM {table}'\n",
        "  cursor.execute(query)\n",
        "  return cursor.fetchall()"
      ],
      "metadata": {
        "id": "xU9dFBEJXmDj"
      },
      "execution_count": null,
      "outputs": []
    },
    {
      "cell_type": "code",
      "source": [
        "def remove_outlier(data):\n",
        "  import numpy as np\n",
        "  mean = np.mean(data)\n",
        "  std_dev = np.std(data)\n",
        "  return [x for x in data if (mean - 2* std_dev <= x <= mean +2 * std_dev)]"
      ],
      "metadata": {
        "id": "PCmLP-rOX5wP"
      },
      "execution_count": null,
      "outputs": []
    },
    {
      "cell_type": "code",
      "source": [
        "\n",
        "\n",
        "def get_weather_data(api_url, api_key, city):\n",
        "    \"\"\"Get weather data for a specified city.\"\"\"\n",
        "    import requests\n",
        "    full_url = f\"{api_url}?q={city}&appid={api_key}\"\n",
        "    response = requests.get(full_url)\n",
        "    return response.json()\n"
      ],
      "metadata": {
        "id": "VYLAmVwt1f6_"
      },
      "execution_count": null,
      "outputs": []
    }
  ]
}