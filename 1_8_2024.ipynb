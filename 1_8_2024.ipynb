{
  "nbformat": 4,
  "nbformat_minor": 0,
  "metadata": {
    "colab": {
      "provenance": [],
      "authorship_tag": "ABX9TyPNj+vNzbqOPsNYrykO8DdH",
      "include_colab_link": true
    },
    "kernelspec": {
      "name": "python3",
      "display_name": "Python 3"
    },
    "language_info": {
      "name": "python"
    }
  },
  "cells": [
    {
      "cell_type": "markdown",
      "metadata": {
        "id": "view-in-github",
        "colab_type": "text"
      },
      "source": [
        "<a href=\"https://colab.research.google.com/github/GitMishka/1/blob/main/1_8_2024.ipynb\" target=\"_parent\"><img src=\"https://colab.research.google.com/assets/colab-badge.svg\" alt=\"Open In Colab\"/></a>"
      ]
    },
    {
      "cell_type": "code",
      "execution_count": 2,
      "metadata": {
        "colab": {
          "base_uri": "https://localhost:8080/"
        },
        "id": "zsb--_XbiNk4",
        "outputId": "27c5a0ed-1918-453b-a1d8-9287203b98e5"
      },
      "outputs": [
        {
          "output_type": "stream",
          "name": "stdout",
          "text": [
            "True\n",
            "False\n"
          ]
        }
      ],
      "source": [
        "def is_palindrome(s):\n",
        "  clean_s = ''.join(char.lower() for  char in s if char.isalnum())\n",
        "  return clean_s == clean_s[::-1]\n",
        "\n",
        "print(is_palindrome(\"A man, a plan, a canal: Panama\"))\n",
        "print(is_palindrome(\"Hello\"))"
      ]
    },
    {
      "cell_type": "code",
      "source": [],
      "metadata": {
        "id": "nKyhNem7i9_P"
      },
      "execution_count": null,
      "outputs": []
    }
  ]
}