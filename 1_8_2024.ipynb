{
  "nbformat": 4,
  "nbformat_minor": 0,
  "metadata": {
    "colab": {
      "provenance": [],
      "authorship_tag": "ABX9TyMb4fZQXQJf4zaVvVMRgwU4",
      "include_colab_link": true
    },
    "kernelspec": {
      "name": "python3",
      "display_name": "Python 3"
    },
    "language_info": {
      "name": "python"
    }
  },
  "cells": [
    {
      "cell_type": "markdown",
      "metadata": {
        "id": "view-in-github",
        "colab_type": "text"
      },
      "source": [
        "<a href=\"https://colab.research.google.com/github/GitMishka/1/blob/main/1_8_2024.ipynb\" target=\"_parent\"><img src=\"https://colab.research.google.com/assets/colab-badge.svg\" alt=\"Open In Colab\"/></a>"
      ]
    },
    {
      "cell_type": "code",
      "execution_count": 2,
      "metadata": {
        "colab": {
          "base_uri": "https://localhost:8080/"
        },
        "id": "zsb--_XbiNk4",
        "outputId": "27c5a0ed-1918-453b-a1d8-9287203b98e5"
      },
      "outputs": [
        {
          "output_type": "stream",
          "name": "stdout",
          "text": [
            "True\n",
            "False\n"
          ]
        }
      ],
      "source": [
        "def is_palindrome(s):\n",
        "  clean_s = ''.join(char.lower() for  char in s if char.isalnum())\n",
        "  return clean_s == clean_s[::-1]\n",
        "\n",
        "print(is_palindrome(\"A man, a plan, a canal: Panama\"))\n",
        "print(is_palindrome(\"Hello\"))"
      ]
    },
    {
      "cell_type": "code",
      "source": [
        "def word_lengths(words):\n",
        "  return {word: len(word) for word in words}\n",
        "print(word_lengths([\"test\",\"class\",\"dict\"]))"
      ],
      "metadata": {
        "colab": {
          "base_uri": "https://localhost:8080/"
        },
        "id": "nKyhNem7i9_P",
        "outputId": "a3ecfc51-d612-4253-eaf7-6cf37eb45a73"
      },
      "execution_count": 3,
      "outputs": [
        {
          "output_type": "stream",
          "name": "stdout",
          "text": [
            "{'test': 4, 'class': 5, 'dict': 4}\n"
          ]
        }
      ]
    },
    {
      "cell_type": "code",
      "source": [
        "def word_freq(filename):\n",
        "  with open(filename, 'r') as file:\n",
        "    words = file.read().lower().split()\n",
        "    word_count = {}\n",
        "\n",
        "    for word in words:\n",
        "      word = ''.join(char for char in word if char.isalnum())\n",
        "      word_count[word] = word_count.get(word, 0) + 1\n",
        "\n",
        "    for word in sorted(word_count, key=word_count.get, reverse=True):\n",
        "      print(f\"{word}: {word_count[word]}\")\n",
        "\n",
        "word_freq('text.txt')"
      ],
      "metadata": {
        "id": "BRCvH-wOkPrf"
      },
      "execution_count": null,
      "outputs": []
    }
  ]
}