{
  "nbformat": 4,
  "nbformat_minor": 0,
  "metadata": {
    "colab": {
      "provenance": [],
      "authorship_tag": "ABX9TyO5ZpYYtGa7t8lRPeeJ8PPS",
      "include_colab_link": true
    },
    "kernelspec": {
      "name": "python3",
      "display_name": "Python 3"
    },
    "language_info": {
      "name": "python"
    }
  },
  "cells": [
    {
      "cell_type": "markdown",
      "metadata": {
        "id": "view-in-github",
        "colab_type": "text"
      },
      "source": [
        "<a href=\"https://colab.research.google.com/github/GitMishka/1/blob/main/2_12_2024.ipynb\" target=\"_parent\"><img src=\"https://colab.research.google.com/assets/colab-badge.svg\" alt=\"Open In Colab\"/></a>"
      ]
    },
    {
      "cell_type": "markdown",
      "source": [],
      "metadata": {
        "id": "aULJpqrrzBLS"
      }
    },
    {
      "cell_type": "code",
      "execution_count": null,
      "metadata": {
        "id": "tKxwIQFHxn5v"
      },
      "outputs": [],
      "source": [
        "my_list1 = [1, 2, 3]\n",
        "my_list2 = [1, 2, 3]\n",
        "same_list = my_list1  # Reference the same list in memory\n",
        "\n",
        "print(my_list1 == my_list2)  # True, values are equal\n",
        "print(my_list1 is my_list2)  # False, different objects\n",
        "print(my_list1 is same_list)  # True, same object in memory\n"
      ]
    },
    {
      "cell_type": "markdown",
      "source": [
        "Write code to reverse a string using different methods:"
      ],
      "metadata": {
        "id": "2ec0GTDfzH0B"
      }
    },
    {
      "cell_type": "code",
      "source": [
        "def reverse_string_slice(s):\n",
        "    return s[::-1]\n",
        "\n",
        "original = \"Hello, world!\"\n",
        "reversed_string = reverse_string_slice(original)\n",
        "print(reversed_string)"
      ],
      "metadata": {
        "id": "mvXcvpp7zAVD"
      },
      "execution_count": null,
      "outputs": []
    },
    {
      "cell_type": "code",
      "source": [
        "def reverse_string_loop(s):\n",
        "    reversed_string = \"\"\n",
        "    for char in s:\n",
        "        reversed_string = char + reversed_string\n",
        "    return reversed_string\n",
        "\n",
        "original = \"Hello, world!\"\n",
        "reversed_string = reverse_string_loop(original)\n",
        "print(reversed_string)\n"
      ],
      "metadata": {
        "id": "Mzel_LQ6zPCR"
      },
      "execution_count": null,
      "outputs": []
    },
    {
      "cell_type": "code",
      "source": [
        "def reverse_string_recursive(s):\n",
        "    if len(s) == 0:\n",
        "        return \"\"\n",
        "    else:\n",
        "        return s[-1] + reverse_string_recursive(s[:-1])\n",
        "\n",
        "original = \"Hello, world!\"\n",
        "reversed_string = reverse_string_recursive(original)\n",
        "print(reversed_string)  # !dlrow ,olleH\n"
      ],
      "metadata": {
        "id": "aM33AQwJzR6M"
      },
      "execution_count": null,
      "outputs": []
    }
  ]
}