{
  "nbformat": 4,
  "nbformat_minor": 0,
  "metadata": {
    "colab": {
      "provenance": [],
      "authorship_tag": "ABX9TyP6xLRdEq6VfmddqDV5ZsA6",
      "include_colab_link": true
    },
    "kernelspec": {
      "name": "python3",
      "display_name": "Python 3"
    },
    "language_info": {
      "name": "python"
    }
  },
  "cells": [
    {
      "cell_type": "markdown",
      "metadata": {
        "id": "view-in-github",
        "colab_type": "text"
      },
      "source": [
        "<a href=\"https://colab.research.google.com/github/GitMishka/1/blob/main/2_12_2024.ipynb\" target=\"_parent\"><img src=\"https://colab.research.google.com/assets/colab-badge.svg\" alt=\"Open In Colab\"/></a>"
      ]
    },
    {
      "cell_type": "markdown",
      "source": [],
      "metadata": {
        "id": "aULJpqrrzBLS"
      }
    },
    {
      "cell_type": "code",
      "execution_count": null,
      "metadata": {
        "id": "tKxwIQFHxn5v"
      },
      "outputs": [],
      "source": [
        "my_list1 = [1, 2, 3]\n",
        "my_list2 = [1, 2, 3]\n",
        "same_list = my_list1  # Reference the same list in memory\n",
        "\n",
        "print(my_list1 == my_list2)  # True, values are equal\n",
        "print(my_list1 is my_list2)  # False, different objects\n",
        "print(my_list1 is same_list)  # True, same object in memory\n"
      ]
    },
    {
      "cell_type": "markdown",
      "source": [
        "Write code to reverse a string using different methods:"
      ],
      "metadata": {
        "id": "2ec0GTDfzH0B"
      }
    },
    {
      "cell_type": "code",
      "source": [
        "def reverse_string_slice(s):\n",
        "    return s[::-1]\n",
        "\n",
        "original = \"Hello, world!\"\n",
        "reversed_string = reverse_string_slice(original)\n",
        "print(reversed_string)"
      ],
      "metadata": {
        "id": "mvXcvpp7zAVD"
      },
      "execution_count": null,
      "outputs": []
    },
    {
      "cell_type": "code",
      "source": [
        "def reverse_string_loop(s):\n",
        "    reversed_string = \"\"\n",
        "    for char in s:\n",
        "        reversed_string = char + reversed_string\n",
        "    return reversed_string\n",
        "\n",
        "original = \"Hello, world!\"\n",
        "reversed_string = reverse_string_loop(original)\n",
        "print(reversed_string)\n"
      ],
      "metadata": {
        "id": "Mzel_LQ6zPCR"
      },
      "execution_count": null,
      "outputs": []
    },
    {
      "cell_type": "code",
      "source": [
        "def reverse_string_recursive(s):\n",
        "    if len(s) == 0:\n",
        "        return \"\"\n",
        "    else:\n",
        "        return s[-1] + reverse_string_recursive(s[:-1])\n",
        "\n",
        "original = \"Hello, world!\"\n",
        "reversed_string = reverse_string_recursive(original)\n",
        "print(reversed_string)  # !dlrow ,olleH\n"
      ],
      "metadata": {
        "id": "aM33AQwJzR6M"
      },
      "execution_count": null,
      "outputs": []
    },
    {
      "cell_type": "markdown",
      "source": [
        "How do you iterate over elements in a list/dictionary/tuple?:"
      ],
      "metadata": {
        "id": "7J_WlvrmzbPi"
      }
    },
    {
      "cell_type": "code",
      "source": [
        "# List iteration\n",
        "my_list = [1, 2, 3]\n",
        "for item in my_list:\n",
        "    print(item)  # 1, 2, 3\n",
        "\n",
        "# Dictionary iteration (keys)\n",
        "my_dict = {\"a\": 1, \"b\": 2}\n",
        "for key in my_dict:\n",
        "    print(key)  # a, b\n",
        "\n",
        "# Dictionary iteration (values)\n",
        "for value in my_dict.values():\n",
        "    print(value)  # 1, 2\n",
        "\n",
        "# Dictionary iteration (items)\n",
        "for key, value in my_dict.items():\n",
        "    print(key, value)  # a 1, b 2\n",
        "\n",
        "# Tuple iteration (similar to lists)\n",
        "my_tuple = (1, 2, 3)\n",
        "for item in my_tuple:\n",
        "    print(item)  # 1, 2, 3\n"
      ],
      "metadata": {
        "id": "DEK5NvfizZxw"
      },
      "execution_count": null,
      "outputs": []
    },
    {
      "cell_type": "code",
      "source": [
        "Explain list comprehensions and their syntax:"
      ],
      "metadata": {
        "id": "9f6UN9kyzkRQ"
      },
      "execution_count": null,
      "outputs": []
    },
    {
      "cell_type": "code",
      "source": [
        "# Create a list of squares\n",
        "squares = [x * x for x in range(5)]  # [0, 1, 4, 9, 16]\n",
        "\n",
        "# Filter even numbers and create a new list\n",
        "even_numbers = [x for x in range(10) if x % 2 == 0]  # [0, 2, 4, 6, 8]\n",
        "\n",
        "# Conditional expression and dictionary creation\n",
        "person_data = {\"name\": \"Alice\", \"age\":\n"
      ],
      "metadata": {
        "id": "_UZDaO92zlM-"
      },
      "execution_count": null,
      "outputs": []
    }
  ]
}