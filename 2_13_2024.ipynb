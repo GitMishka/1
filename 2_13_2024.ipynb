{
  "nbformat": 4,
  "nbformat_minor": 0,
  "metadata": {
    "colab": {
      "provenance": [],
      "authorship_tag": "ABX9TyMAVlWv+AJPj7bW0T/l8Zui",
      "include_colab_link": true
    },
    "kernelspec": {
      "name": "python3",
      "display_name": "Python 3"
    },
    "language_info": {
      "name": "python"
    }
  },
  "cells": [
    {
      "cell_type": "markdown",
      "metadata": {
        "id": "view-in-github",
        "colab_type": "text"
      },
      "source": [
        "<a href=\"https://colab.research.google.com/github/GitMishka/1/blob/main/2_13_2024.ipynb\" target=\"_parent\"><img src=\"https://colab.research.google.com/assets/colab-badge.svg\" alt=\"Open In Colab\"/></a>"
      ]
    },
    {
      "cell_type": "code",
      "execution_count": 1,
      "metadata": {
        "colab": {
          "base_uri": "https://localhost:8080/"
        },
        "id": "xBf5lDLj1eP0",
        "outputId": "939e6ea0-c089-4a8c-feaf-39d4cde60e99"
      },
      "outputs": [
        {
          "output_type": "stream",
          "name": "stdout",
          "text": [
            "w\n",
            "v\n"
          ]
        }
      ],
      "source": [
        "def first_non_repeating_character(s):\n",
        "    char_count = {}\n",
        "    for char in s:\n",
        "        if char in char_count:\n",
        "            char_count[char] += 1\n",
        "        else:\n",
        "            char_count[char] = 1\n",
        "\n",
        "    for char in s:\n",
        "        if char_count[char] == 1:\n",
        "            return char\n",
        "    return -1\n",
        "\n",
        "print(first_non_repeating_character('swiss'))\n",
        "print(first_non_repeating_character('level'))\n"
      ]
    },
    {
      "cell_type": "code",
      "source": [
        "def merge_sorted_lists(list1, list2):\n",
        "    merged_list = []\n",
        "    i, j = 0, 0\n",
        "\n",
        "    while i < len(list1) and j < len(list2):\n",
        "        if list1[i] < list2[j]:\n",
        "            merged_list.append(list1[i])\n",
        "            i += 1\n",
        "        else:\n",
        "            merged_list.append(list2[j])\n",
        "            j += 1\n",
        "\n",
        "    while i < len(list1):\n",
        "        merged_list.append(list1[i])\n",
        "        i += 1\n",
        "\n",
        "    while j < len(list2):\n",
        "        merged_list.append(list2[j])\n",
        "        j += 1\n",
        "\n",
        "    return merged_list\n",
        "\n",
        "list1 = [1, 3, 5]\n",
        "list2 = [2, 4, 6]\n",
        "print(merge_sorted_lists(list1, list2))"
      ],
      "metadata": {
        "colab": {
          "base_uri": "https://localhost:8080/"
        },
        "id": "969h8DeT22Dy",
        "outputId": "63720dbe-ad78-404e-9db4-4e3bdb33b991"
      },
      "execution_count": 2,
      "outputs": [
        {
          "output_type": "stream",
          "name": "stdout",
          "text": [
            "[1, 2, 3, 4, 5, 6]\n"
          ]
        }
      ]
    },
    {
      "cell_type": "code",
      "source": [
        "def find_duplicates(nums):\n",
        "    i = 0\n",
        "    while i < len(nums):\n",
        "        correct_pos = nums[i] - 1\n",
        "        if nums[i] != nums[correct_pos]:\n",
        "            nums[i], nums[correct_pos] = nums[correct_pos], nums[i]\n",
        "        else:\n",
        "            i += 1\n",
        "\n",
        "    duplicates = []\n",
        "    for i, num in enumerate(nums):\n",
        "        if num - 1 != i:\n",
        "            duplicates.append(num)\n",
        "    return duplicates\n",
        "\n",
        "nums = [4, 3, 2, 7, 8, 2, 3, 1]\n",
        "print(find_duplicates(nums))\n"
      ],
      "metadata": {
        "id": "SUGbQTNL3UYC"
      },
      "execution_count": null,
      "outputs": []
    }
  ]
}