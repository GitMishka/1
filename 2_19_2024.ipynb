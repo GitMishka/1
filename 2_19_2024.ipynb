{
  "nbformat": 4,
  "nbformat_minor": 0,
  "metadata": {
    "colab": {
      "provenance": [],
      "authorship_tag": "ABX9TyMv1/F4pEPw3DGOJ3rqbaUx",
      "include_colab_link": true
    },
    "kernelspec": {
      "name": "python3",
      "display_name": "Python 3"
    },
    "language_info": {
      "name": "python"
    }
  },
  "cells": [
    {
      "cell_type": "markdown",
      "metadata": {
        "id": "view-in-github",
        "colab_type": "text"
      },
      "source": [
        "<a href=\"https://colab.research.google.com/github/GitMishka/1/blob/main/2_19_2024.ipynb\" target=\"_parent\"><img src=\"https://colab.research.google.com/assets/colab-badge.svg\" alt=\"Open In Colab\"/></a>"
      ]
    },
    {
      "cell_type": "code",
      "execution_count": 3,
      "metadata": {
        "colab": {
          "base_uri": "https://localhost:8080/"
        },
        "id": "HDdKgpUXyoMB",
        "outputId": "c7910817-a633-4646-993f-159f20400f00"
      },
      "outputs": [
        {
          "output_type": "stream",
          "name": "stdout",
          "text": [
            "1\n",
            "2\n",
            "3\n",
            "4\n",
            "5\n",
            "6\n",
            "7\n",
            "8\n",
            "9\n",
            "10\n"
          ]
        }
      ],
      "source": [
        "for i in range(1,11):\n",
        "  print(i)"
      ]
    },
    {
      "cell_type": "code",
      "source": [
        "n = int(input(\"enter n: \"))\n",
        "total = 0\n",
        "\n",
        "for i in range (1, n + 1):\n",
        "  total += i\n",
        "\n",
        "print(\"sum of first\", n, \"number is:\", total)"
      ],
      "metadata": {
        "colab": {
          "base_uri": "https://localhost:8080/"
        },
        "id": "X2WoHD6813gg",
        "outputId": "1032ac83-60b4-466c-a850-adb6e7674b96"
      },
      "execution_count": 4,
      "outputs": [
        {
          "output_type": "stream",
          "name": "stdout",
          "text": [
            "enter n:12\n",
            "sum of first 12 number is: 78\n"
          ]
        }
      ]
    }
  ]
}