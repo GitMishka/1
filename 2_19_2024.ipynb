{
  "nbformat": 4,
  "nbformat_minor": 0,
  "metadata": {
    "colab": {
      "provenance": [],
      "authorship_tag": "ABX9TyNsnzk9dCFFfsx8fk7LVV02",
      "include_colab_link": true
    },
    "kernelspec": {
      "name": "python3",
      "display_name": "Python 3"
    },
    "language_info": {
      "name": "python"
    }
  },
  "cells": [
    {
      "cell_type": "markdown",
      "metadata": {
        "id": "view-in-github",
        "colab_type": "text"
      },
      "source": [
        "<a href=\"https://colab.research.google.com/github/GitMishka/1/blob/main/2_19_2024.ipynb\" target=\"_parent\"><img src=\"https://colab.research.google.com/assets/colab-badge.svg\" alt=\"Open In Colab\"/></a>"
      ]
    },
    {
      "cell_type": "code",
      "execution_count": 3,
      "metadata": {
        "colab": {
          "base_uri": "https://localhost:8080/"
        },
        "id": "HDdKgpUXyoMB",
        "outputId": "c7910817-a633-4646-993f-159f20400f00"
      },
      "outputs": [
        {
          "output_type": "stream",
          "name": "stdout",
          "text": [
            "1\n",
            "2\n",
            "3\n",
            "4\n",
            "5\n",
            "6\n",
            "7\n",
            "8\n",
            "9\n",
            "10\n"
          ]
        }
      ],
      "source": [
        "for i in range(1,11):\n",
        "  print(i)"
      ]
    },
    {
      "cell_type": "code",
      "source": [
        "n = int(input(\"enter n: \"))\n",
        "total = 0\n",
        "\n",
        "for i in range (1, n + 1):\n",
        "  total += i\n",
        "  print(total)\n",
        "\n",
        "print(\"sum of first\", n, \"number is:\", total)"
      ],
      "metadata": {
        "colab": {
          "base_uri": "https://localhost:8080/"
        },
        "id": "X2WoHD6813gg",
        "outputId": "23e7041e-2317-4097-cafd-51cfd5b21c49"
      },
      "execution_count": 5,
      "outputs": [
        {
          "output_type": "stream",
          "name": "stdout",
          "text": [
            "enter n: 5\n",
            "1\n",
            "3\n",
            "6\n",
            "10\n",
            "15\n",
            "sum of first 5 number is: 15\n"
          ]
        }
      ]
    },
    {
      "cell_type": "code",
      "source": [],
      "metadata": {
        "id": "Jv0GdVTa3XQL"
      },
      "execution_count": null,
      "outputs": []
    },
    {
      "cell_type": "code",
      "source": [
        "numbers = [1,2,3,4,5]\n",
        "for number in numbers:\n",
        "  print(number ** 2)\n",
        ""
      ],
      "metadata": {
        "id": "wnkXEJRJ2nUN"
      },
      "execution_count": null,
      "outputs": []
    },
    {
      "cell_type": "code",
      "source": [
        "n = int(input(\"enter n: \"))\n",
        "factorial = 1\n",
        "for i in range(1, n + 1):\n",
        "  factorial *= i\n",
        "print(f'facotrial of {n} is {factorial}')"
      ],
      "metadata": {
        "id": "P7Kozo-725y1"
      },
      "execution_count": null,
      "outputs": []
    }
  ]
}