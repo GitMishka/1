{
  "nbformat": 4,
  "nbformat_minor": 0,
  "metadata": {
    "colab": {
      "provenance": [],
      "authorship_tag": "ABX9TyPRfQvfn9ZW/KJU2MKq+3vC",
      "include_colab_link": true
    },
    "kernelspec": {
      "name": "python3",
      "display_name": "Python 3"
    },
    "language_info": {
      "name": "python"
    }
  },
  "cells": [
    {
      "cell_type": "markdown",
      "metadata": {
        "id": "view-in-github",
        "colab_type": "text"
      },
      "source": [
        "<a href=\"https://colab.research.google.com/github/GitMishka/1/blob/main/2_1_2024.ipynb\" target=\"_parent\"><img src=\"https://colab.research.google.com/assets/colab-badge.svg\" alt=\"Open In Colab\"/></a>"
      ]
    },
    {
      "cell_type": "code",
      "execution_count": 1,
      "metadata": {
        "colab": {
          "base_uri": "https://localhost:8080/"
        },
        "id": "ETm6Swq0KmMg",
        "outputId": "83dc8393-c56e-4b8b-ea82-7f985f8a112c"
      },
      "outputs": [
        {
          "output_type": "stream",
          "name": "stdout",
          "text": [
            "   ID                  Title               Author  Year               Genre\n",
            "0   1       The Great Gatsby  F. Scott Fitzgerald  1925             Fiction\n",
            "1   2  To Kill a Mockingbird           Harper Lee  1960             Fiction\n",
            "2   3                   1984        George Orwell  1949           Dystopian\n",
            "3   4    Pride and Prejudice          Jane Austen  1813             Romance\n",
            "4   5                Beloved        Toni Morrison  1987  Historical Fiction\n"
          ]
        }
      ],
      "source": [
        "import pandas as pd\n",
        "\n",
        "data = [\n",
        "    (1, \"The Great Gatsby\", \"F. Scott Fitzgerald\", 1925, \"Fiction\"),\n",
        "    (2, \"To Kill a Mockingbird\", \"Harper Lee\", 1960, \"Fiction\"),\n",
        "    (3, \"1984\", \"George Orwell\", 1949, \"Dystopian\"),\n",
        "    (4, \"Pride and Prejudice\", \"Jane Austen\", 1813, \"Romance\"),\n",
        "    (5, \"Beloved\", \"Toni Morrison\", 1987, \"Historical Fiction\"),\n",
        "\n",
        "]\n",
        "\n",
        "df = pd.DataFrame(data, columns=[\"ID\", \"Title\", \"Author\", \"Year\", \"Genre\"])\n",
        "\n",
        "print(df)\n"
      ]
    }
  ]
}