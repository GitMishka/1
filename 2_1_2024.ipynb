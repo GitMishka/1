{
  "nbformat": 4,
  "nbformat_minor": 0,
  "metadata": {
    "colab": {
      "provenance": [],
      "authorship_tag": "ABX9TyPgjUGMpOxnid4u8qiGD60z",
      "include_colab_link": true
    },
    "kernelspec": {
      "name": "python3",
      "display_name": "Python 3"
    },
    "language_info": {
      "name": "python"
    }
  },
  "cells": [
    {
      "cell_type": "markdown",
      "metadata": {
        "id": "view-in-github",
        "colab_type": "text"
      },
      "source": [
        "<a href=\"https://colab.research.google.com/github/GitMishka/1/blob/main/2_1_2024.ipynb\" target=\"_parent\"><img src=\"https://colab.research.google.com/assets/colab-badge.svg\" alt=\"Open In Colab\"/></a>"
      ]
    },
    {
      "cell_type": "code",
      "execution_count": 1,
      "metadata": {
        "colab": {
          "base_uri": "https://localhost:8080/"
        },
        "id": "ETm6Swq0KmMg",
        "outputId": "83dc8393-c56e-4b8b-ea82-7f985f8a112c"
      },
      "outputs": [
        {
          "output_type": "stream",
          "name": "stdout",
          "text": [
            "   ID                  Title               Author  Year               Genre\n",
            "0   1       The Great Gatsby  F. Scott Fitzgerald  1925             Fiction\n",
            "1   2  To Kill a Mockingbird           Harper Lee  1960             Fiction\n",
            "2   3                   1984        George Orwell  1949           Dystopian\n",
            "3   4    Pride and Prejudice          Jane Austen  1813             Romance\n",
            "4   5                Beloved        Toni Morrison  1987  Historical Fiction\n"
          ]
        }
      ],
      "source": [
        "import pandas as pd\n",
        "\n",
        "data = [\n",
        "    (1, \"The Great Gatsby\", \"F. Scott Fitzgerald\", 1925, \"Fiction\"),\n",
        "    (2, \"To Kill a Mockingbird\", \"Harper Lee\", 1960, \"Fiction\"),\n",
        "    (3, \"1984\", \"George Orwell\", 1949, \"Dystopian\"),\n",
        "    (4, \"Pride and Prejudice\", \"Jane Austen\", 1813, \"Romance\"),\n",
        "    (5, \"Beloved\", \"Toni Morrison\", 1987, \"Historical Fiction\"),\n",
        "\n",
        "]\n",
        "\n",
        "df = pd.DataFrame(data, columns=[\"ID\", \"Title\", \"Author\", \"Year\", \"Genre\"])\n",
        "\n",
        "print(df)\n"
      ]
    },
    {
      "cell_type": "code",
      "source": [
        "transactions = [\n",
        "    {\"transaction_id\": 1, \"product_name\": \"Product A\", \"amount\": 100},\n",
        "    {\"transaction_id\": 2, \"product_name\": \"Product B\", \"amount\": 150},\n",
        "    {\"transaction_id\": 3, \"product_name\": \"Product A\", \"amount\": 200},\n",
        "]\n",
        "\n",
        "def summarize_sales(transactions):\n",
        "    summary = {}\n",
        "    for t in transactions:\n",
        "        if t[\"product_name\"] in summary:\n",
        "            summary[t[\"product_name\"]] += t[\"amount\"]\n",
        "        else:\n",
        "            summary[t[\"product_name\"]] = t[\"amount\"]\n",
        "    return summary\n",
        "\n",
        "print(summarize_sales(transactions))\n"
      ],
      "metadata": {
        "colab": {
          "base_uri": "https://localhost:8080/"
        },
        "id": "4-1czatZNfSv",
        "outputId": "87b16517-d051-4bb2-843b-de7561f9e088"
      },
      "execution_count": 2,
      "outputs": [
        {
          "output_type": "stream",
          "name": "stdout",
          "text": [
            "{'Product A': 300, 'Product B': 150}\n"
          ]
        }
      ]
    },
    {
      "cell_type": "code",
      "source": [
        "def process_stream(records):\n",
        "    totals = {}\n",
        "    for record in records:\n",
        "        pid = record[\"product_id\"]\n",
        "        quantity = record[\"quantity\"]\n",
        "        if pid in totals:\n",
        "            totals[pid] += quantity\n",
        "        else:\n",
        "            totals[pid] = quantity\n",
        "    return totals\n",
        "\n",
        "records = [\n",
        "    {\"product_id\": 1, \"quantity\": 4},\n",
        "    {\"product_id\": 2, \"quantity\": 2},\n",
        "    {\"product_id\": 1, \"quantity\": 3},\n",
        "]\n",
        "print(process_stream(records))\n"
      ],
      "metadata": {
        "colab": {
          "base_uri": "https://localhost:8080/"
        },
        "id": "RemcR6NENgo2",
        "outputId": "0280ecf3-1266-468b-9870-487fa6116bb8"
      },
      "execution_count": 3,
      "outputs": [
        {
          "output_type": "stream",
          "name": "stdout",
          "text": [
            "{1: 7, 2: 2}\n"
          ]
        }
      ]
    }
  ]
}