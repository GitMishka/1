{
  "nbformat": 4,
  "nbformat_minor": 0,
  "metadata": {
    "colab": {
      "provenance": [],
      "authorship_tag": "ABX9TyNPArRcSb10WqjpjinFDpKA",
      "include_colab_link": true
    },
    "kernelspec": {
      "name": "python3",
      "display_name": "Python 3"
    },
    "language_info": {
      "name": "python"
    }
  },
  "cells": [
    {
      "cell_type": "markdown",
      "metadata": {
        "id": "view-in-github",
        "colab_type": "text"
      },
      "source": [
        "<a href=\"https://colab.research.google.com/github/GitMishka/1/blob/main/2_20_2024.ipynb\" target=\"_parent\"><img src=\"https://colab.research.google.com/assets/colab-badge.svg\" alt=\"Open In Colab\"/></a>"
      ]
    },
    {
      "cell_type": "code",
      "execution_count": 3,
      "metadata": {
        "colab": {
          "base_uri": "https://localhost:8080/",
          "height": 0
        },
        "id": "8GcVYpZpTQ4f",
        "outputId": "9e0844cb-fda2-4cdc-e58d-416889f63073"
      },
      "outputs": [
        {
          "output_type": "stream",
          "name": "stdout",
          "text": [
            "original list: [0, 1, 2, 3, 4, 5, 6, 7, 8, 9]\n",
            "filtered_list: [0, 2, 4, 6, 8]\n"
          ]
        }
      ],
      "source": [
        "original_list = [0,1,2,3,4,5,6,7,8,9]\n",
        "filtered_list = []\n",
        "\n",
        "for number in original_list:\n",
        "  if number % 2 == 0:\n",
        "    filtered_list.append(number)\n",
        "\n",
        "print(f'original list: {original_list}')\n",
        "print(f'filtered_list: {filtered_list}')"
      ]
    },
    {
      "cell_type": "code",
      "source": [
        "string_numbers = [\"1\", \"2\", \"3\", \"4\", \"5\"]\n",
        "sum_of_numbers = 0\n",
        "\n",
        "for num_str in string_numbers:\n",
        "  sum_of_numbers += int(num_str)\n",
        "\n",
        "print(f'sum of numbers: {sum_of_numbers}')"
      ],
      "metadata": {
        "colab": {
          "base_uri": "https://localhost:8080/"
        },
        "id": "WU3lXykcbJJE",
        "outputId": "cdc2fd68-7cda-438b-b5e1-e575235cf5e6"
      },
      "execution_count": 6,
      "outputs": [
        {
          "output_type": "stream",
          "name": "stdout",
          "text": [
            "sum of numbers: 15\n"
          ]
        }
      ]
    },
    {
      "cell_type": "code",
      "source": [
        "products = {\"apple\": 1.00, \"banana\": .50, \"orange\": .75}\n",
        "discounted_products = {}\n",
        "\n",
        "for product, price in products.items():\n",
        "  discounted_price = round(price * 0.9,2)\n",
        "  discounted_products[product] = discounted_price\n",
        "\n",
        "print(f'original price: {products}')\n",
        "print(f'discounted prices: {discounted_products}')\n"
      ],
      "metadata": {
        "colab": {
          "base_uri": "https://localhost:8080/"
        },
        "id": "1fo8Ljx9b19Z",
        "outputId": "0fb66432-09ec-4fce-ebb3-20badfd23fbe"
      },
      "execution_count": 7,
      "outputs": [
        {
          "output_type": "stream",
          "name": "stdout",
          "text": [
            "original price: {'apple': 1.0, 'banana': 0.5, 'orange': 0.75}\n",
            "discounted prices: {'apple': 0.9, 'banana': 0.45, 'orange': 0.68}\n"
          ]
        }
      ]
    },
    {
      "cell_type": "code",
      "source": [
        "matrix = [\n",
        "    [1,2,3],\n",
        "    [4,5,6],\n",
        "    [7,8,9]\n",
        "\n",
        "]\n",
        "\n",
        "transpose = [[row[i] for row in matrix] for i in range(len(matrix))]\n",
        "\n",
        "print(f'original matrix: ')\n",
        "for row in matrix:\n",
        "  print(row)\n",
        "\n",
        "print('\\ntransposed matrix:')\n",
        "for row in transpose:\n",
        "  print(row)"
      ],
      "metadata": {
        "colab": {
          "base_uri": "https://localhost:8080/"
        },
        "id": "Vz_LV-ZhbL-R",
        "outputId": "755d95da-87d0-4a3e-c4b9-27e8e9f2fcd4"
      },
      "execution_count": 8,
      "outputs": [
        {
          "output_type": "stream",
          "name": "stdout",
          "text": [
            "original matrix: \n",
            "[1, 2, 3]\n",
            "[4, 5, 6]\n",
            "[7, 8, 9]\n",
            "\n",
            "transposed matrix:\n",
            "[1, 4, 7]\n",
            "[2, 5, 8]\n",
            "[3, 6, 9]\n"
          ]
        }
      ]
    },
    {
      "cell_type": "code",
      "source": [
        "def count_vowels(s):\n",
        "  vowels = 'aeiouAEIOU'\n",
        "  count = 0\n",
        "\n",
        "  for char in s:\n",
        "    if char in vowels:\n",
        "      count += 1\n",
        "  return count\n",
        "\n",
        "s = \"Hello World\"\n",
        "print(count_vowels(s))\n",
        "\n",
        "count_vowels('wdwadasfdfgdfsksdgnosdfghnsdhgsuiodgh')"
      ],
      "metadata": {
        "colab": {
          "base_uri": "https://localhost:8080/"
        },
        "id": "FZXJ9Wo0-zBn",
        "outputId": "2936f68d-af5a-4563-f4ac-68d8c1779bd0"
      },
      "execution_count": 1,
      "outputs": [
        {
          "output_type": "stream",
          "name": "stdout",
          "text": [
            "3\n"
          ]
        },
        {
          "output_type": "execute_result",
          "data": {
            "text/plain": [
              "6"
            ]
          },
          "metadata": {},
          "execution_count": 1
        }
      ]
    }
  ]
}