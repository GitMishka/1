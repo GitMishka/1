{
  "nbformat": 4,
  "nbformat_minor": 0,
  "metadata": {
    "colab": {
      "provenance": [],
      "authorship_tag": "ABX9TyM8sD8LDvXvnAY8jespOUq2",
      "include_colab_link": true
    },
    "kernelspec": {
      "name": "python3",
      "display_name": "Python 3"
    },
    "language_info": {
      "name": "python"
    }
  },
  "cells": [
    {
      "cell_type": "markdown",
      "metadata": {
        "id": "view-in-github",
        "colab_type": "text"
      },
      "source": [
        "<a href=\"https://colab.research.google.com/github/GitMishka/1/blob/main/2_29_2024.ipynb\" target=\"_parent\"><img src=\"https://colab.research.google.com/assets/colab-badge.svg\" alt=\"Open In Colab\"/></a>"
      ]
    },
    {
      "cell_type": "code",
      "execution_count": null,
      "metadata": {
        "colab": {
          "base_uri": "https://localhost:8080/"
        },
        "id": "Hy60CFMqyXU_",
        "outputId": "666e1434-f888-40fe-f677-47d2c6d65320"
      },
      "outputs": [
        {
          "output_type": "stream",
          "name": "stdout",
          "text": [
            "Alice scored 85\n",
            "Bob scored 90\n",
            "Charlie scored 88\n"
          ]
        }
      ],
      "source": [
        "names = [\"Alice\", \"Bob\", \"Charlie\"]\n",
        "scores = [85, 90, 88]\n",
        "\n",
        "for name, score in zip(names, scores):\n",
        "    print(f\"{name} scored {score}\")\n"
      ]
    },
    {
      "cell_type": "code",
      "source": [
        "ascii_map = {chr(i): i for i in range(65, 91)}\n"
      ],
      "metadata": {
        "id": "j-8M6t5UonOn"
      },
      "execution_count": null,
      "outputs": []
    },
    {
      "cell_type": "code",
      "source": [
        "a, b, *rest = range(10)\n",
        "a, b, *rest"
      ],
      "metadata": {
        "colab": {
          "base_uri": "https://localhost:8080/"
        },
        "id": "sNItnDFDoxxJ",
        "outputId": "b55cf698-5169-41f0-f3c7-d1cc8dc3842c"
      },
      "execution_count": null,
      "outputs": [
        {
          "output_type": "execute_result",
          "data": {
            "text/plain": [
              "(0, 1, 2, 3, 4, 5, 6, 7, 8, 9)"
            ]
          },
          "metadata": {},
          "execution_count": 7
        }
      ]
    }
  ]
}