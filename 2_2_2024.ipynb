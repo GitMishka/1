{
  "nbformat": 4,
  "nbformat_minor": 0,
  "metadata": {
    "colab": {
      "provenance": [],
      "authorship_tag": "ABX9TyPwXf33I8X6GPUwCz0f36Uu",
      "include_colab_link": true
    },
    "kernelspec": {
      "name": "python3",
      "display_name": "Python 3"
    },
    "language_info": {
      "name": "python"
    }
  },
  "cells": [
    {
      "cell_type": "markdown",
      "metadata": {
        "id": "view-in-github",
        "colab_type": "text"
      },
      "source": [
        "<a href=\"https://colab.research.google.com/github/GitMishka/1/blob/main/2_2_2024.ipynb\" target=\"_parent\"><img src=\"https://colab.research.google.com/assets/colab-badge.svg\" alt=\"Open In Colab\"/></a>"
      ]
    },
    {
      "cell_type": "code",
      "execution_count": null,
      "metadata": {
        "id": "bTTo7pDruIZB"
      },
      "outputs": [],
      "source": [
        "import pandas as pd\n",
        "\n",
        "df = pd.read_csv('data.csv')\n"
      ]
    },
    {
      "cell_type": "code",
      "source": [
        "df = pd.read_excel('data.xlsx')\n"
      ],
      "metadata": {
        "id": "peeAUAHTuwfT"
      },
      "execution_count": null,
      "outputs": []
    },
    {
      "cell_type": "code",
      "source": [
        "print(df.head())\n",
        "print(df.tail())\n"
      ],
      "metadata": {
        "id": "KFKTdU3au4Xh"
      },
      "execution_count": null,
      "outputs": []
    },
    {
      "cell_type": "code",
      "source": [
        "df_clean = df.dropna()\n"
      ],
      "metadata": {
        "id": "rUWC4OhFvBE_"
      },
      "execution_count": null,
      "outputs": []
    },
    {
      "cell_type": "code",
      "source": [
        "df_filled = df.fillna(value=0)\n"
      ],
      "metadata": {
        "id": "L1VhBB_avCmL"
      },
      "execution_count": null,
      "outputs": []
    },
    {
      "cell_type": "code",
      "source": [
        "df_dropped = df.drop(columns=['column_name'])\n"
      ],
      "metadata": {
        "id": "UhgxOogQvIUA"
      },
      "execution_count": null,
      "outputs": []
    },
    {
      "cell_type": "code",
      "source": [
        "df_loc = df.loc[:, ['column1', 'column2']]\n"
      ],
      "metadata": {
        "id": "49fjTE3AvKxn"
      },
      "execution_count": null,
      "outputs": []
    },
    {
      "cell_type": "code",
      "source": [
        "df['new_column'] = df['existing_column'].apply(lambda x: x * 10)\n"
      ],
      "metadata": {
        "id": "0e9vQL66vRcL"
      },
      "execution_count": null,
      "outputs": []
    },
    {
      "cell_type": "code",
      "source": [
        "merged_df = pd.merge(df1, df2, on='common_column')\n",
        "concatenated_df = pd.concat([df1, df2])\n"
      ],
      "metadata": {
        "id": "GBR5fA2HvWQk"
      },
      "execution_count": null,
      "outputs": []
    },
    {
      "cell_type": "code",
      "source": [
        "df.to_csv('output.csv', index=False)\n"
      ],
      "metadata": {
        "id": "fhH6-RZLvoCR"
      },
      "execution_count": null,
      "outputs": []
    },
    {
      "cell_type": "code",
      "source": [
        "result = df.groupby('column').agg({'column_to_sum': 'sum', 'column_to_mean': 'mean'})\n"
      ],
      "metadata": {
        "id": "5PS7UpNGvkAL"
      },
      "execution_count": null,
      "outputs": []
    }
  ]
}