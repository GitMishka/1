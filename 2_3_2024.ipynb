{
  "nbformat": 4,
  "nbformat_minor": 0,
  "metadata": {
    "colab": {
      "provenance": [],
      "authorship_tag": "ABX9TyNXwgDTZMuOemV9mvqYctyR",
      "include_colab_link": true
    },
    "kernelspec": {
      "name": "python3",
      "display_name": "Python 3"
    },
    "language_info": {
      "name": "python"
    }
  },
  "cells": [
    {
      "cell_type": "markdown",
      "metadata": {
        "id": "view-in-github",
        "colab_type": "text"
      },
      "source": [
        "<a href=\"https://colab.research.google.com/github/GitMishka/1/blob/main/2_3_2024.ipynb\" target=\"_parent\"><img src=\"https://colab.research.google.com/assets/colab-badge.svg\" alt=\"Open In Colab\"/></a>"
      ]
    },
    {
      "cell_type": "code",
      "execution_count": null,
      "metadata": {
        "id": "f6RGDqG6x7Eq"
      },
      "outputs": [],
      "source": [
        "import pandas as pd"
      ]
    },
    {
      "cell_type": "code",
      "source": [
        "df = pd.read_csv('file.csv')"
      ],
      "metadata": {
        "id": "PZnGWqPkEEdw"
      },
      "execution_count": null,
      "outputs": []
    },
    {
      "cell_type": "code",
      "source": [
        "from datetime import datetime, timedelta\n",
        "new_date = datetime.now() + timedelta(days=5)"
      ],
      "metadata": {
        "id": "ZVIhAPG1EIY6"
      },
      "execution_count": null,
      "outputs": []
    },
    {
      "cell_type": "code",
      "source": [
        "string1 = \"split,this,string\"\n",
        "words = s.split(',')\n",
        "new_string = ' '.join(words)"
      ],
      "metadata": {
        "id": "6ITSt3pcESxU"
      },
      "execution_count": null,
      "outputs": []
    },
    {
      "cell_type": "code",
      "source": [
        "def clean_data(df,columns):\n",
        "  for column in columns:\n",
        "    df[column] = df[column].fillna(0)\n",
        "    df[column] = df[column].apply(lambda x: x.sptrip() if isinstance(x, str)else x)\n",
        "  return df"
      ],
      "metadata": {
        "id": "urnxkouqEegF"
      },
      "execution_count": null,
      "outputs": []
    },
    {
      "cell_type": "code",
      "source": [
        "def transform_data(df, date_column):\n",
        "  df[date_column] = pd.to_datetime(df[date_column])\n",
        "  df['year'] = df[date_column].dt.year\n",
        "  df['month'] = df[date_column].df.month\n",
        "  df['day'] = df[date_column.dt.day]\n",
        "  return df"
      ],
      "metadata": {
        "id": "488knyDjFcaV"
      },
      "execution_count": null,
      "outputs": []
    },
    {
      "cell_type": "code",
      "source": [
        "def agg_sales(df, group_by_columns):\n",
        "  return df.groupby(group_by_columns).agg({'sales': 'sum'}).reset_index()"
      ],
      "metadata": {
        "id": "c2l1chUFF3EA"
      },
      "execution_count": null,
      "outputs": []
    },
    {
      "cell_type": "code",
      "source": [
        "def merge_sorted_lists(list1,list2):\n",
        "  i, j = 0,0\n",
        "  merged_list = []\n",
        "  while i < len(list1) and j < len(list2):\n",
        "    if list1[i] < list2[j]:\n",
        "      merged_list.append(list1[i])\n",
        "      i += 1\n",
        "    else:\n",
        "      merged_list.append(list2[j])\n",
        "      j += 1\n",
        "  merged_list.extend(list1[i:])\n",
        "  merged_list.extend(list2[j:])\n",
        "  return merged_list\n",
        "\n",
        "list1 = [1, 3, 5]\n",
        "list2 = [2, 4, 6]\n",
        "\n",
        "print(merged_sorted_list(list1,list2))"
      ],
      "metadata": {
        "id": "fSFwvdyFJ5WF"
      },
      "execution_count": null,
      "outputs": []
    },
    {
      "cell_type": "code",
      "source": [],
      "metadata": {
        "id": "G8_tIjzkKxFY"
      },
      "execution_count": null,
      "outputs": []
    }
  ]
}