{
  "nbformat": 4,
  "nbformat_minor": 0,
  "metadata": {
    "colab": {
      "provenance": [],
      "authorship_tag": "ABX9TyP9l8MUUUpyW1vgUocYUIK5",
      "include_colab_link": true
    },
    "kernelspec": {
      "name": "python3",
      "display_name": "Python 3"
    },
    "language_info": {
      "name": "python"
    }
  },
  "cells": [
    {
      "cell_type": "markdown",
      "metadata": {
        "id": "view-in-github",
        "colab_type": "text"
      },
      "source": [
        "<a href=\"https://colab.research.google.com/github/GitMishka/1/blob/main/3_1_2024.ipynb\" target=\"_parent\"><img src=\"https://colab.research.google.com/assets/colab-badge.svg\" alt=\"Open In Colab\"/></a>"
      ]
    },
    {
      "cell_type": "code",
      "execution_count": null,
      "metadata": {
        "colab": {
          "base_uri": "https://localhost:8080/"
        },
        "id": "PhyxxA5-SvRf",
        "outputId": "07bddd4a-3f91-4b44-cde4-4da1136f2743"
      },
      "outputs": [
        {
          "output_type": "stream",
          "name": "stdout",
          "text": [
            "1\n",
            "2\n",
            "3\n",
            "4\n",
            "5\n",
            "6\n",
            "7\n",
            "8\n",
            "9\n",
            "10\n"
          ]
        }
      ],
      "source": [
        "i = 1\n",
        "while i <= 10:\n",
        "  print(i)\n",
        "  i += 1"
      ]
    },
    {
      "cell_type": "code",
      "source": [
        "n = int(input(\"Enter a number: \" ))\n",
        "sum = 0\n",
        "i = 1\n",
        "while i <= n:\n",
        "  sum += i\n",
        "  i += 1\n",
        "\n",
        "print(f'sum of the first {n} natural numbers: {sum}')"
      ],
      "metadata": {
        "colab": {
          "base_uri": "https://localhost:8080/"
        },
        "id": "wWMVz1QLS_Mt",
        "outputId": "0c700b57-042b-4560-8471-7f11152008e8"
      },
      "execution_count": null,
      "outputs": [
        {
          "output_type": "stream",
          "name": "stdout",
          "text": [
            "Enter a number: 11\n",
            "sum of the first 11 natural numbers: 66\n"
          ]
        }
      ]
    },
    {
      "cell_type": "code",
      "source": [
        "n = int(input(\"Enter a number: \"))\n",
        "sum = 0\n",
        "i = 1\n",
        "while i <= n:\n",
        "    sum += i\n",
        "    print(sum)\n",
        "    i += 1\n",
        "print(f\"The sum of the first {n} natural numbers is: {sum}\")\n"
      ],
      "metadata": {
        "colab": {
          "base_uri": "https://localhost:8080/"
        },
        "id": "cBg5U9amVjT9",
        "outputId": "636f1183-30db-4e70-fdf3-f2fc296ca6c8"
      },
      "execution_count": null,
      "outputs": [
        {
          "output_type": "stream",
          "name": "stdout",
          "text": [
            "Enter a number: 7\n",
            "1\n",
            "3\n",
            "6\n",
            "10\n",
            "15\n",
            "21\n",
            "28\n",
            "The sum of the first 7 natural numbers is: 28\n"
          ]
        }
      ]
    },
    {
      "cell_type": "code",
      "source": [
        "import time\n",
        "\n",
        "n = int(input(\"Enter the countdown start number: \"))\n",
        "while n > 0:\n",
        "    print(n)\n",
        "    time.sleep(1)\n",
        "    n -= 1\n",
        "print(\"Time's up!\")\n"
      ],
      "metadata": {
        "id": "K20XDf2ZWuwe"
      },
      "execution_count": null,
      "outputs": []
    },
    {
      "cell_type": "code",
      "source": [
        "import random\n",
        "\n",
        "target = random.randint(1, 10)\n",
        "guess = None\n",
        "\n",
        "while guess != target:\n",
        "    guess = int(input(\"Guess a number between 1 and 10: \"))\n",
        "    if guess < target:\n",
        "        print(\"Higher...\")\n",
        "    elif guess > target:\n",
        "        print(\"Lower...\")\n",
        "\n",
        "print(\"Congratulations! You guessed it!\")\n"
      ],
      "metadata": {
        "id": "70xZCf52ZlxI"
      },
      "execution_count": null,
      "outputs": []
    },
    {
      "cell_type": "code",
      "source": [
        "n = int(input(\"Enter a number: \"))\n",
        "i = 2\n",
        "is_prime = True\n",
        "while i <= n // 2:\n",
        "    if n % i == 0:\n",
        "        is_prime = False\n",
        "        break\n",
        "    #i += 1\n",
        "\n",
        "if is_prime and n > 1:\n",
        "    print(f\"{n} is a prime number.\")\n",
        "else:\n",
        "    print(f\"{n} is not a prime number.\")\n"
      ],
      "metadata": {
        "colab": {
          "base_uri": "https://localhost:8080/"
        },
        "id": "hnvRIn1JcKFr",
        "outputId": "6a757a60-854c-41c4-d774-fdb5e584cdb0"
      },
      "execution_count": null,
      "outputs": [
        {
          "output_type": "stream",
          "name": "stdout",
          "text": [
            "Enter a number: 3\n",
            "3 is a prime number.\n"
          ]
        }
      ]
    },
    {
      "cell_type": "code",
      "source": [
        "n = int(input(\"Enter a number: \"))\n",
        "i = 2\n",
        "while i <= n:\n",
        "    if i % 2 == 0:\n",
        "        print(i)\n",
        "    i += 1\n"
      ],
      "metadata": {
        "colab": {
          "base_uri": "https://localhost:8080/"
        },
        "id": "l-eUZ74teWL0",
        "outputId": "34d8cc83-0082-44b5-ee8d-c8132ff64d08"
      },
      "execution_count": null,
      "outputs": [
        {
          "output_type": "stream",
          "name": "stdout",
          "text": [
            "Enter a number: 3\n",
            "2\n"
          ]
        }
      ]
    },
    {
      "cell_type": "code",
      "source": [
        "text = input(\"Enter a string: \")\n",
        "i = 0\n",
        "while i < len(text):\n",
        "    print(text[i],text[i-1])\n",
        "    i += 1\n"
      ],
      "metadata": {
        "colab": {
          "base_uri": "https://localhost:8080/"
        },
        "id": "jU8Kq_qEhUiy",
        "outputId": "26e1c3aa-4f57-4811-baa1-dbd5b187f996"
      },
      "execution_count": null,
      "outputs": [
        {
          "output_type": "stream",
          "name": "stdout",
          "text": [
            "Enter a string: abcdefg\n",
            "a g\n",
            "b a\n",
            "c b\n",
            "d c\n",
            "e d\n",
            "f e\n",
            "g f\n"
          ]
        }
      ]
    },
    {
      "cell_type": "code",
      "source": [
        "n = int(input())\n",
        "\n",
        "if n < 0:\n",
        "  n = n * -1\n",
        "  n"
      ],
      "metadata": {
        "colab": {
          "base_uri": "https://localhost:8080/"
        },
        "id": "mdVY9R7Tr1S7",
        "outputId": "5e1812b5-6fce-4ea7-d259-5520bb6c8af0"
      },
      "execution_count": null,
      "outputs": [
        {
          "output_type": "stream",
          "name": "stdout",
          "text": [
            "-3\n",
            "3\n"
          ]
        }
      ]
    }
  ]
}