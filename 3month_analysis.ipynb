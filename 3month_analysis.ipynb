{
  "nbformat": 4,
  "nbformat_minor": 0,
  "metadata": {
    "colab": {
      "provenance": [],
      "authorship_tag": "ABX9TyPrQONiaA7L8jfOYvs+fGgY",
      "include_colab_link": true
    },
    "kernelspec": {
      "name": "python3",
      "display_name": "Python 3"
    },
    "language_info": {
      "name": "python"
    }
  },
  "cells": [
    {
      "cell_type": "markdown",
      "metadata": {
        "id": "view-in-github",
        "colab_type": "text"
      },
      "source": [
        "<a href=\"https://colab.research.google.com/github/GitMishka/1/blob/main/3month_analysis.ipynb\" target=\"_parent\"><img src=\"https://colab.research.google.com/assets/colab-badge.svg\" alt=\"Open In Colab\"/></a>"
      ]
    },
    {
      "cell_type": "code",
      "execution_count": null,
      "metadata": {
        "id": "YP7lXC1KqB2y"
      },
      "outputs": [],
      "source": [
        "import pandas as pd\n",
        "\n",
        "\n",
        "df = pd.read_csv('3month_qualtrix.csv')\n",
        "\n",
        "\n",
        "\n"
      ]
    },
    {
      "cell_type": "code",
      "source": [
        "grouped = df.groupby(['com_code', 'month'])\n",
        "\n",
        "unique_participants = grouped['Id'].nunique()\n",
        "\n",
        "average_score = grouped['Score'].mean()\n",
        "\n",
        "average_days_since_hired = grouped['daySinceHire'].mean()\n",
        "\n",
        "average_age = grouped['age'].mean()\n",
        "\n",
        "count_employed = grouped.apply(lambda x: (x['Status'] == 'A').sum())\n",
        "\n",
        "count_terminated = grouped.apply(lambda x: (x['Status'] == 'T').sum())\n",
        "\n",
        "result = pd.DataFrame({\n",
        "    'Unique Participants': unique_participants,\n",
        "    'Average Score': average_score,\n",
        "    'Average Days Since Hired': average_days_since_hired,\n",
        "    'Average Age': average_age,\n",
        "    'Count Employed': count_employed,\n",
        "    'Count Terminated': count_terminated\n",
        "})\n",
        "\n",
        "result.to_csv('enhanced_analysis_results.csv', index=True)\n",
        "\n",
        "files.download('enhanced_analysis_results.csv')"
      ],
      "metadata": {
        "colab": {
          "base_uri": "https://localhost:8080/",
          "height": 17
        },
        "id": "3oqDx_AH1f76",
        "outputId": "4bef29a6-8af5-48ec-995a-b4ebc737a282"
      },
      "execution_count": null,
      "outputs": [
        {
          "output_type": "display_data",
          "data": {
            "text/plain": [
              "<IPython.core.display.Javascript object>"
            ],
            "application/javascript": [
              "\n",
              "    async function download(id, filename, size) {\n",
              "      if (!google.colab.kernel.accessAllowed) {\n",
              "        return;\n",
              "      }\n",
              "      const div = document.createElement('div');\n",
              "      const label = document.createElement('label');\n",
              "      label.textContent = `Downloading \"${filename}\": `;\n",
              "      div.appendChild(label);\n",
              "      const progress = document.createElement('progress');\n",
              "      progress.max = size;\n",
              "      div.appendChild(progress);\n",
              "      document.body.appendChild(div);\n",
              "\n",
              "      const buffers = [];\n",
              "      let downloaded = 0;\n",
              "\n",
              "      const channel = await google.colab.kernel.comms.open(id);\n",
              "      // Send a message to notify the kernel that we're ready.\n",
              "      channel.send({})\n",
              "\n",
              "      for await (const message of channel.messages) {\n",
              "        // Send a message to notify the kernel that we're ready.\n",
              "        channel.send({})\n",
              "        if (message.buffers) {\n",
              "          for (const buffer of message.buffers) {\n",
              "            buffers.push(buffer);\n",
              "            downloaded += buffer.byteLength;\n",
              "            progress.value = downloaded;\n",
              "          }\n",
              "        }\n",
              "      }\n",
              "      const blob = new Blob(buffers, {type: 'application/binary'});\n",
              "      const a = document.createElement('a');\n",
              "      a.href = window.URL.createObjectURL(blob);\n",
              "      a.download = filename;\n",
              "      div.appendChild(a);\n",
              "      a.click();\n",
              "      div.remove();\n",
              "    }\n",
              "  "
            ]
          },
          "metadata": {}
        },
        {
          "output_type": "display_data",
          "data": {
            "text/plain": [
              "<IPython.core.display.Javascript object>"
            ],
            "application/javascript": [
              "download(\"download_4cabb408-bb69-43bb-a32b-f3b997a17ec9\", \"enhanced_analysis_results.csv\", 6554)"
            ]
          },
          "metadata": {}
        }
      ]
    },
    {
      "cell_type": "code",
      "source": [
        "grouped = df.groupby(['com_code', 'month'])\n",
        "\n",
        "unique_participants = grouped['Id'].nunique()\n",
        "\n",
        "average_score = grouped['Score'].mean()\n",
        "\n",
        "average_days_since_hired = grouped['daySinceHire'].mean()\n",
        "\n",
        "result = pd.DataFrame({\n",
        "    'Unique Participants': unique_participants,\n",
        "    'Average Score': average_score,\n",
        "    'Average Days Since Hired': average_days_since_hired\n",
        "})\n",
        "\n",
        "# Display the result\n",
        "print(result)"
      ],
      "metadata": {
        "colab": {
          "base_uri": "https://localhost:8080/"
        },
        "id": "WAUAHaMiqvAY",
        "outputId": "0f504f0c-c058-48ec-8144-dda6e8dbae66"
      },
      "execution_count": null,
      "outputs": [
        {
          "output_type": "stream",
          "name": "stdout",
          "text": [
            "                Unique Participants  Average Score  Average Days Since Hired\n",
            "com_code month                                                              \n",
            "ATHS     9                        9       8.888889               1157.222222\n",
            "         10                       8       9.000000                663.750000\n",
            "         11                      10       8.933333               1051.266667\n",
            "BRWD     9                       18       6.650000                763.650000\n",
            "         10                      11       7.636364               1016.818182\n",
            "...                             ...            ...                       ...\n",
            "TULA     10                      10       6.800000               1358.000000\n",
            "         11                      18       6.291667               1204.208333\n",
            "TUSC     9                       16       7.777778               1164.722222\n",
            "         10                       9       8.000000                277.888889\n",
            "         11                      14       8.650000                564.550000\n",
            "\n",
            "[114 rows x 3 columns]\n"
          ]
        }
      ]
    },
    {
      "cell_type": "code",
      "source": [],
      "metadata": {
        "id": "E4q7Yzsdw93q"
      },
      "execution_count": null,
      "outputs": []
    },
    {
      "cell_type": "code",
      "source": [
        "unique_participants = df.groupby('com_code')['Id'].nunique()\n",
        "\n",
        "average_score = df.groupby('com_code')['Score'].mean()\n",
        "\n",
        "average_days_since_hired = df.groupby('com_code')['daySinceHire'].mean()\n",
        "\n",
        "result = pd.DataFrame({\n",
        "    'Unique Participants': unique_participants,\n",
        "    'Average Score': average_score,\n",
        "    'Average Days Since Hired': average_days_since_hired\n",
        "})\n",
        "\n",
        "print(result)"
      ],
      "metadata": {
        "colab": {
          "base_uri": "https://localhost:8080/"
        },
        "id": "hlE11Z8NqIqh",
        "outputId": "2c5314eb-b04d-4210-953e-f30e69e79fbd"
      },
      "execution_count": null,
      "outputs": [
        {
          "output_type": "stream",
          "name": "stdout",
          "text": [
            "          Unique Participants  Average Score  Average Days Since Hired\n",
            "com_code                                                              \n",
            "ATHS                       14       8.937500                984.187500\n",
            "BRWD                       25       7.372549                780.607843\n",
            "CALH                       26       6.310345               1088.694915\n",
            "CGDL                       12       8.230769                638.307692\n",
            "CHTL                       22       7.341463                527.682927\n",
            "CHTT                       21       8.250000                811.450000\n",
            "CLIN                       16       6.529412                427.882353\n",
            "COLM                       15       8.323529               1628.411765\n",
            "DANV                       28       7.927273                428.854545\n",
            "EHAM                       22       5.477273                496.659091\n",
            "FKTL                       18       8.117647                609.088235\n",
            "FKTN                       18       6.085714                659.885714\n",
            "FRKL                       10       8.500000                697.636364\n",
            "FRKT                       11       7.619048                599.666667\n",
            "FRLN                       28       5.039216               1025.294118\n",
            "GRNB                       19       8.288889               1342.533333\n",
            "GRNV                       15       8.500000                698.392857\n",
            "HARD                       28       7.037037                323.166667\n",
            "HIXN                       25       7.551724               1246.482759\n",
            "HPPY                       15       9.687500                 54.437500\n",
            "KNOX                       18       8.289474                776.052632\n",
            "KNXL                       16       7.096774                684.161290\n",
            "LENC                       16       8.809524               1033.833333\n",
            "LENL                        6       5.750000                346.625000\n",
            "LEXE                       20       7.314286                374.257143\n",
            "LEXL                       28       8.459016                405.360656\n",
            "LEXN                       15       5.434783                982.869565\n",
            "LVLL                       19       7.793103                158.620690\n",
            "LVLM                       16       8.000000               1129.392857\n",
            "POWL                       16       8.500000                499.687500\n",
            "PWLL                       15       5.809524                326.619048\n",
            "RICH                       23       7.268293                970.243902\n",
            "RUSL                       18       8.200000                681.514286\n",
            "RUSS                       21       7.571429                639.081633\n",
            "SPRH                       24       7.731343                350.014925\n",
            "SPRL                       20       5.941176                308.735294\n",
            "TULA                       20       6.767442               1213.139535\n",
            "TUSC                       23       8.191489                739.510638\n"
          ]
        }
      ]
    },
    {
      "cell_type": "code",
      "source": [
        "from google.colab import files\n",
        "result.to_csv('analysis_results.csv', index=True)\n",
        "\n",
        "files.download('analysis_results.csv')"
      ],
      "metadata": {
        "colab": {
          "base_uri": "https://localhost:8080/",
          "height": 17
        },
        "id": "yx5q496Uw-lT",
        "outputId": "4217e57f-55a6-436a-fb71-4afd1d98395a"
      },
      "execution_count": null,
      "outputs": [
        {
          "output_type": "display_data",
          "data": {
            "text/plain": [
              "<IPython.core.display.Javascript object>"
            ],
            "application/javascript": [
              "\n",
              "    async function download(id, filename, size) {\n",
              "      if (!google.colab.kernel.accessAllowed) {\n",
              "        return;\n",
              "      }\n",
              "      const div = document.createElement('div');\n",
              "      const label = document.createElement('label');\n",
              "      label.textContent = `Downloading \"${filename}\": `;\n",
              "      div.appendChild(label);\n",
              "      const progress = document.createElement('progress');\n",
              "      progress.max = size;\n",
              "      div.appendChild(progress);\n",
              "      document.body.appendChild(div);\n",
              "\n",
              "      const buffers = [];\n",
              "      let downloaded = 0;\n",
              "\n",
              "      const channel = await google.colab.kernel.comms.open(id);\n",
              "      // Send a message to notify the kernel that we're ready.\n",
              "      channel.send({})\n",
              "\n",
              "      for await (const message of channel.messages) {\n",
              "        // Send a message to notify the kernel that we're ready.\n",
              "        channel.send({})\n",
              "        if (message.buffers) {\n",
              "          for (const buffer of message.buffers) {\n",
              "            buffers.push(buffer);\n",
              "            downloaded += buffer.byteLength;\n",
              "            progress.value = downloaded;\n",
              "          }\n",
              "        }\n",
              "      }\n",
              "      const blob = new Blob(buffers, {type: 'application/binary'});\n",
              "      const a = document.createElement('a');\n",
              "      a.href = window.URL.createObjectURL(blob);\n",
              "      a.download = filename;\n",
              "      div.appendChild(a);\n",
              "      a.click();\n",
              "      div.remove();\n",
              "    }\n",
              "  "
            ]
          },
          "metadata": {}
        },
        {
          "output_type": "display_data",
          "data": {
            "text/plain": [
              "<IPython.core.display.Javascript object>"
            ],
            "application/javascript": [
              "download(\"download_0c343bbe-66c0-4bb5-b71d-d1f684d69770\", \"analysis_results.csv\", 4397)"
            ]
          },
          "metadata": {}
        }
      ]
    }
  ]
}