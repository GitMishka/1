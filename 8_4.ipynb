{
  "nbformat": 4,
  "nbformat_minor": 0,
  "metadata": {
    "colab": {
      "provenance": [],
      "authorship_tag": "ABX9TyOIJS8bSyVUCInA3vybZW0h",
      "include_colab_link": true
    },
    "kernelspec": {
      "name": "python3",
      "display_name": "Python 3"
    },
    "language_info": {
      "name": "python"
    }
  },
  "cells": [
    {
      "cell_type": "markdown",
      "metadata": {
        "id": "view-in-github",
        "colab_type": "text"
      },
      "source": [
        "<a href=\"https://colab.research.google.com/github/GitMishka/1/blob/main/8_4.ipynb\" target=\"_parent\"><img src=\"https://colab.research.google.com/assets/colab-badge.svg\" alt=\"Open In Colab\"/></a>"
      ]
    },
    {
      "cell_type": "code",
      "execution_count": null,
      "metadata": {
        "id": "tiTjcLwSrcN8"
      },
      "outputs": [],
      "source": [
        "!apt-get install openjdk-11-jdk-headless -qq > /dev/null\n",
        "!wget -q https://archive.apache.org/dist/spark/spark-3.1.2/spark-3.1.2-bin-hadoop3.2.tgz\n",
        "!tar xf spark-3.1.2-bin-hadoop3.2.tgz\n",
        "!pip install -q findspark\n"
      ]
    },
    {
      "cell_type": "code",
      "source": [
        "import os\n",
        "os.environ[\"JAVA_HOME\"] = \"/usr/lib/jvm/java-11-openjdk-amd64\"\n",
        "os.environ[\"SPARK_HOME\"] = \"/content/spark-3.1.2-bin-hadoop3.2\"\n"
      ],
      "metadata": {
        "id": "irCE-SburggR"
      },
      "execution_count": null,
      "outputs": []
    },
    {
      "cell_type": "code",
      "source": [
        "import findspark\n",
        "findspark.init()\n",
        "\n",
        "from pyspark.sql import SparkSession\n",
        "spark = SparkSession.builder.master(\"local[*]\").getOrCreate()\n"
      ],
      "metadata": {
        "id": "1hPdTOKyridP"
      },
      "execution_count": null,
      "outputs": []
    },
    {
      "cell_type": "code",
      "source": [
        "# Create a simple DataFrame\n",
        "df = spark.createDataFrame([(1, 'John', 'Doe', 30), (2, 'Jane', 'Doe', 25)], [\"Id\", \"First Name\", \"Last Name\", \"Age\"])\n",
        "\n",
        "# Show the DataFrame content\n",
        "df.show()\n",
        "\n",
        "# Print the schema of the DataFrame\n",
        "df.printSchema()\n",
        "\n",
        "# Perform a filter operation\n",
        "df.filter(df['Age'] > 28).show()\n"
      ],
      "metadata": {
        "colab": {
          "base_uri": "https://localhost:8080/"
        },
        "id": "hDAjAB7arkZo",
        "outputId": "1fd3ee62-8c6d-4960-dc3f-b6a85c09b841"
      },
      "execution_count": null,
      "outputs": [
        {
          "output_type": "stream",
          "name": "stdout",
          "text": [
            "+---+----------+---------+---+\n",
            "| Id|First Name|Last Name|Age|\n",
            "+---+----------+---------+---+\n",
            "|  1|      John|      Doe| 30|\n",
            "|  2|      Jane|      Doe| 25|\n",
            "+---+----------+---------+---+\n",
            "\n",
            "root\n",
            " |-- Id: long (nullable = true)\n",
            " |-- First Name: string (nullable = true)\n",
            " |-- Last Name: string (nullable = true)\n",
            " |-- Age: long (nullable = true)\n",
            "\n",
            "+---+----------+---------+---+\n",
            "| Id|First Name|Last Name|Age|\n",
            "+---+----------+---------+---+\n",
            "|  1|      John|      Doe| 30|\n",
            "+---+----------+---------+---+\n",
            "\n"
          ]
        }
      ]
    }
  ]
}