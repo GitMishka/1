{
  "nbformat": 4,
  "nbformat_minor": 0,
  "metadata": {
    "colab": {
      "provenance": [],
      "authorship_tag": "ABX9TyOyK54Amh5GDT6XrVe696gY",
      "include_colab_link": true
    },
    "kernelspec": {
      "name": "python3",
      "display_name": "Python 3"
    },
    "language_info": {
      "name": "python"
    }
  },
  "cells": [
    {
      "cell_type": "markdown",
      "metadata": {
        "id": "view-in-github",
        "colab_type": "text"
      },
      "source": [
        "<a href=\"https://colab.research.google.com/github/GitMishka/1/blob/main/9_23_2023.ipynb\" target=\"_parent\"><img src=\"https://colab.research.google.com/assets/colab-badge.svg\" alt=\"Open In Colab\"/></a>"
      ]
    },
    {
      "cell_type": "code",
      "execution_count": 2,
      "metadata": {
        "colab": {
          "base_uri": "https://localhost:8080/"
        },
        "id": "0eu65jLsOs3Y",
        "outputId": "844e5021-81d0-4f0d-836e-084468c8b544"
      },
      "outputs": [
        {
          "output_type": "stream",
          "name": "stdout",
          "text": [
            "['31-12-2020', '28-02-2021']\n"
          ]
        }
      ],
      "source": [
        "import datetime\n",
        "\n",
        "def is_valid_date(date_str):\n",
        "    try:\n",
        "        datetime.datetime.strptime(date_str, \"%d-%m-%Y\")\n",
        "        return True\n",
        "    except ValueError:\n",
        "        return False\n",
        "\n",
        "dates = [\"31-12-2020\", \"32-01-2020\", \"28-02-2021\", \"29-02-2021\"]\n",
        "valid_dates = [date for date in dates if is_valid_date(date)]\n",
        "print(valid_dates)\n"
      ]
    },
    {
      "cell_type": "code",
      "source": [
        "def transform_data(data):\n",
        "    return {person['name']: person['age'] for person in data}\n",
        "\n",
        "data = [{\"name\": \"Alice\", \"age\": 30}, {\"name\": \"Bob\", \"age\": 25}, {\"name\": \"Charlie\", \"age\": 35}]\n",
        "transformed_data = transform_data(data)\n",
        "print(transformed_data)\n"
      ],
      "metadata": {
        "colab": {
          "base_uri": "https://localhost:8080/"
        },
        "id": "wMCyzZ27Pbas",
        "outputId": "d2b47cb4-3374-4eb6-a116-25cd2657a934"
      },
      "execution_count": 5,
      "outputs": [
        {
          "output_type": "stream",
          "name": "stdout",
          "text": [
            "{'Alice': 30, 'Bob': 25, 'Charlie': 35}\n"
          ]
        }
      ]
    },
    {
      "cell_type": "code",
      "source": [
        "def average_price(products):\n",
        "    total_price = sum([price for _, price in products])\n",
        "    return total_price / len(products)\n",
        "\n",
        "products = [(\"apple\", 0.5), (\"banana\", 0.3), (\"cherry\", 0.2), (\"date\", 0.8)]\n",
        "avg = average_price(products)\n",
        "print(avg)\n"
      ],
      "metadata": {
        "colab": {
          "base_uri": "https://localhost:8080/"
        },
        "id": "alPKF7wKPKTJ",
        "outputId": "e0c50197-d28d-4fe3-aec1-227bd2689feb"
      },
      "execution_count": 3,
      "outputs": [
        {
          "output_type": "stream",
          "name": "stdout",
          "text": [
            "0.45\n"
          ]
        }
      ]
    },
    {
      "cell_type": "code",
      "source": [
        "print(products)"
      ],
      "metadata": {
        "colab": {
          "base_uri": "https://localhost:8080/"
        },
        "id": "xiIeF5gEPPAh",
        "outputId": "79d1ef79-d743-49eb-ffb7-1201dd02638a"
      },
      "execution_count": 4,
      "outputs": [
        {
          "output_type": "stream",
          "name": "stdout",
          "text": [
            "[('apple', 0.5), ('banana', 0.3), ('cherry', 0.2), ('date', 0.8)]\n"
          ]
        }
      ]
    }
  ]
}