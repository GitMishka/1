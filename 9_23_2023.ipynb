{
  "nbformat": 4,
  "nbformat_minor": 0,
  "metadata": {
    "colab": {
      "provenance": [],
      "authorship_tag": "ABX9TyO+2l5elrmJI3zzQDrolNBO",
      "include_colab_link": true
    },
    "kernelspec": {
      "name": "python3",
      "display_name": "Python 3"
    },
    "language_info": {
      "name": "python"
    }
  },
  "cells": [
    {
      "cell_type": "markdown",
      "metadata": {
        "id": "view-in-github",
        "colab_type": "text"
      },
      "source": [
        "<a href=\"https://colab.research.google.com/github/GitMishka/1/blob/main/9_23_2023.ipynb\" target=\"_parent\"><img src=\"https://colab.research.google.com/assets/colab-badge.svg\" alt=\"Open In Colab\"/></a>"
      ]
    },
    {
      "cell_type": "code",
      "execution_count": 1,
      "metadata": {
        "colab": {
          "base_uri": "https://localhost:8080/"
        },
        "id": "0eu65jLsOs3Y",
        "outputId": "3c9c1516-8ec3-4673-f0ce-521f84c3495e"
      },
      "outputs": [
        {
          "output_type": "stream",
          "name": "stdout",
          "text": [
            "['31-12-2020', '28-02-2021']\n"
          ]
        }
      ],
      "source": [
        "import datetime\n",
        "\n",
        "def is_valid_date(date_str):\n",
        "    try:\n",
        "        datetime.datetime.strptime(date_str, \"%d-%m-%Y\")\n",
        "        return True\n",
        "    except ValueError:\n",
        "        return False\n",
        "\n",
        "dates = [\"31-12-2020\", \"32-01-2020\", \"28-02-2021\", \"29-02-2021\"]\n",
        "valid_dates = [date for date in dates if is_valid_date(date)]\n",
        "print(valid_dates)\n"
      ]
    }
  ]
}