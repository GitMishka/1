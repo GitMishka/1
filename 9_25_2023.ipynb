{
  "nbformat": 4,
  "nbformat_minor": 0,
  "metadata": {
    "colab": {
      "provenance": [],
      "authorship_tag": "ABX9TyNLbLXwEOMQLol14Cje0HL0",
      "include_colab_link": true
    },
    "kernelspec": {
      "name": "python3",
      "display_name": "Python 3"
    },
    "language_info": {
      "name": "python"
    }
  },
  "cells": [
    {
      "cell_type": "markdown",
      "metadata": {
        "id": "view-in-github",
        "colab_type": "text"
      },
      "source": [
        "<a href=\"https://colab.research.google.com/github/GitMishka/1/blob/main/9_25_2023.ipynb\" target=\"_parent\"><img src=\"https://colab.research.google.com/assets/colab-badge.svg\" alt=\"Open In Colab\"/></a>"
      ]
    },
    {
      "cell_type": "code",
      "execution_count": 4,
      "metadata": {
        "colab": {
          "base_uri": "https://localhost:8080/"
        },
        "id": "fLrul_aykp8s",
        "outputId": "5323f662-8a49-4458-b79d-c8639c1db2a1"
      },
      "outputs": [
        {
          "output_type": "stream",
          "name": "stdout",
          "text": [
            "   A  B\n",
            "0  1  4\n",
            "1  2  5\n",
            "2  3  6\n",
            "   A  B\n",
            "0  1  4\n",
            "1  2  5\n",
            "2  3  6\n",
            "         A    B\n",
            "count  3.0  3.0\n",
            "mean   2.0  5.0\n",
            "std    1.0  1.0\n",
            "min    1.0  4.0\n",
            "25%    1.5  4.5\n",
            "50%    2.0  5.0\n",
            "75%    2.5  5.5\n",
            "max    3.0  6.0\n"
          ]
        }
      ],
      "source": [
        "import pandas as pd\n",
        "\n",
        "df = pd.DataFrame({'A': [1, 2, 3], 'B': [4, 5, 6]})\n",
        "print(df)\n",
        "\n",
        "df.to_csv('data.csv')\n",
        "\n",
        "print(df.head())\n",
        "print(df.describe())\n",
        "\n",
        "df = df.dropna()\n",
        "df = df.fillna(0)\n",
        "\n",
        "subset = df[df['A'] > 1]\n",
        "row = df.loc[0]\n",
        "\n",
        "grouped = df.groupby('A').mean()\n",
        "grouped.to_csv('data1.csv')"
      ]
    }
  ]
}