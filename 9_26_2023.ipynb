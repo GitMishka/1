{
  "nbformat": 4,
  "nbformat_minor": 0,
  "metadata": {
    "colab": {
      "provenance": [],
      "authorship_tag": "ABX9TyN0iNM5fXAybtFjrkjwqcV/",
      "include_colab_link": true
    },
    "kernelspec": {
      "name": "python3",
      "display_name": "Python 3"
    },
    "language_info": {
      "name": "python"
    }
  },
  "cells": [
    {
      "cell_type": "markdown",
      "metadata": {
        "id": "view-in-github",
        "colab_type": "text"
      },
      "source": [
        "<a href=\"https://colab.research.google.com/github/GitMishka/1/blob/main/9_26_2023.ipynb\" target=\"_parent\"><img src=\"https://colab.research.google.com/assets/colab-badge.svg\" alt=\"Open In Colab\"/></a>"
      ]
    },
    {
      "cell_type": "code",
      "execution_count": null,
      "metadata": {
        "id": "r4IO0Ym_xgh3"
      },
      "outputs": [],
      "source": [
        "import pandas as pd\n",
        "\n",
        "# Creating DataFrame\n",
        "data = {'A': [1, 2, 3], 'B': [4, 5, 6]}\n",
        "df = pd.DataFrame(data)\n",
        "\n",
        "# Indexing and selection\n",
        "first_row = df.iloc[0]\n",
        "column_A = df['A']\n",
        "\n",
        "# Conditional selection\n",
        "filtered_df = df[df['A'] > 1]\n",
        "\n",
        "# Adding columns\n",
        "df['C'] = df['A'] + df['B']\n",
        "\n",
        "# Handling missing values\n",
        "df['D'] = [1, np.nan, 3]\n",
        "df.fillna(0, inplace=True)\n",
        "\n",
        "# Applying functions\n",
        "df['E'] = df['A'].apply(lambda x: x**2)\n",
        "\n",
        "# Sorting\n",
        "df_sorted = df.sort_values(by='B')\n",
        "\n",
        "# Aggregations\n",
        "grouped = df.groupby('A').sum()\n",
        "\n",
        "# Date handling\n",
        "df['date'] = pd.date_range(start=\"20220101\", periods=3)\n",
        "df['year'] = df['date'].dt.year\n",
        "\n",
        "# Concatenation\n",
        "df2 = pd.DataFrame({'A': [4, 5], 'B': [7, 8]})\n",
        "df_combined = pd.concat([df, df2], ignore_index=True)\n",
        "\n",
        "# Merging data\n",
        "df3 = pd.DataFrame({'A': [1, 2, 3], 'Z': [7, 8, 9]})\n",
        "merged_df = pd.merge(df, df3, on='A')\n",
        "\n",
        "# Pivot tables\n",
        "pivot = df.pivot_table(values='B', index='A', aggfunc='sum')\n"
      ]
    },
    {
      "cell_type": "code",
      "source": [
        "import numpy as np\n",
        "\n",
        "a = np.array([1, 2, 3])\n",
        "b = np.array([4, 5, 6])\n",
        "c = np.add(a, b)\n",
        "d = np.subtract(a, b)\n",
        "e = np.multiply(a, b)\n",
        "\n",
        "matrix_product = np.dot(a, b)\n",
        "determinant = np.linalg.det(np.array([[1, 2], [3, 4]]))\n",
        "inverse = np.linalg.inv(np.array([[1, 2], [3, 4]]))\n",
        "\n",
        "arr = np.array([1, 2, 3, 4, 5, 6])\n",
        "filtered_arr = arr[arr > 3]\n",
        "\n",
        "result = a + 10\n",
        "two_d_array = np.array([[1, 2, 3], [4, 5, 6], [7, 8, 9]])\n",
        "slice_2d = two_d_array[1:, 1:]\n",
        "\n",
        "v_stacked = np.vstack((a, b))\n",
        "h_stacked = np.hstack((a, b))\n"
      ],
      "metadata": {
        "id": "TEv_XjezyfIc"
      },
      "execution_count": null,
      "outputs": []
    }
  ]
}