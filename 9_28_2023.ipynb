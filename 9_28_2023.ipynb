{
  "nbformat": 4,
  "nbformat_minor": 0,
  "metadata": {
    "colab": {
      "provenance": [],
      "authorship_tag": "ABX9TyMbOEvXWvoKm6efCvk9n7ud",
      "include_colab_link": true
    },
    "kernelspec": {
      "name": "python3",
      "display_name": "Python 3"
    },
    "language_info": {
      "name": "python"
    }
  },
  "cells": [
    {
      "cell_type": "markdown",
      "metadata": {
        "id": "view-in-github",
        "colab_type": "text"
      },
      "source": [
        "<a href=\"https://colab.research.google.com/github/GitMishka/1/blob/main/9_28_2023.ipynb\" target=\"_parent\"><img src=\"https://colab.research.google.com/assets/colab-badge.svg\" alt=\"Open In Colab\"/></a>"
      ]
    },
    {
      "cell_type": "code",
      "execution_count": 1,
      "metadata": {
        "colab": {
          "base_uri": "https://localhost:8080/"
        },
        "id": "sazN48PEDq-z",
        "outputId": "674907c4-fde1-4d85-8b90-794d1d854b15"
      },
      "outputs": [
        {
          "output_type": "stream",
          "name": "stdout",
          "text": [
            "Requirement already satisfied: pandas in /usr/local/lib/python3.10/dist-packages (1.5.3)\n",
            "Requirement already satisfied: openpyxl in /usr/local/lib/python3.10/dist-packages (3.1.2)\n",
            "Requirement already satisfied: python-dateutil>=2.8.1 in /usr/local/lib/python3.10/dist-packages (from pandas) (2.8.2)\n",
            "Requirement already satisfied: pytz>=2020.1 in /usr/local/lib/python3.10/dist-packages (from pandas) (2023.3.post1)\n",
            "Requirement already satisfied: numpy>=1.21.0 in /usr/local/lib/python3.10/dist-packages (from pandas) (1.23.5)\n",
            "Requirement already satisfied: et-xmlfile in /usr/local/lib/python3.10/dist-packages (from openpyxl) (1.1.0)\n",
            "Requirement already satisfied: six>=1.5 in /usr/local/lib/python3.10/dist-packages (from python-dateutil>=2.8.1->pandas) (1.16.0)\n"
          ]
        }
      ],
      "source": [
        "!pip install pandas openpyxl"
      ]
    },
    {
      "cell_type": "code",
      "source": [],
      "metadata": {
        "id": "H8lZYF1hEESc"
      },
      "execution_count": null,
      "outputs": []
    },
    {
      "cell_type": "code",
      "source": [
        "import pandas as pd"
      ],
      "metadata": {
        "id": "ZhVEi7jSD4Xn"
      },
      "execution_count": null,
      "outputs": []
    },
    {
      "cell_type": "code",
      "source": [
        "import pandas as pd\n",
        "\n",
        "data = {\n",
        "    'ID': [1, 2, 3, 4, 5],\n",
        "    'Name': ['Alice', 'Bob', 'Carol', 'Dave', 'Eve'],\n",
        "    'Age': [23, 29, 35, 24, 40],\n",
        "    'Score': [85, 90, 88, 82, 95],\n",
        "    'Department': ['HR', 'IT', 'HR', 'Sales', 'IT'],\n",
        "    'Address': ['1234 Elm St.', '5678 Maple St.', '9101 Oak St.', '1121 Pine St.', '1314 Birch St.']\n",
        "}\n",
        "\n",
        "df = pd.DataFrame(data)\n",
        "\n",
        "df.to_excel(\"data.xlsx\", index=False, engine='openpyxl')\n",
        "\n",
        "print(\"Excel file 'data.xlsx' created!\")\n"
      ],
      "metadata": {
        "colab": {
          "base_uri": "https://localhost:8080/"
        },
        "id": "7g88Ea8WEqGH",
        "outputId": "f859f4da-7819-4c50-b81c-ad1d003f3974"
      },
      "execution_count": 2,
      "outputs": [
        {
          "output_type": "stream",
          "name": "stdout",
          "text": [
            "Excel file 'data.xlsx' created!\n"
          ]
        }
      ]
    },
    {
      "cell_type": "code",
      "source": [
        "df = pd.read_excel(\"data.xlsx\", engine='openpyxl')\n",
        "print(df.head())\n"
      ],
      "metadata": {
        "colab": {
          "base_uri": "https://localhost:8080/"
        },
        "id": "ZSxR4BYLDwO5",
        "outputId": "074cd5c0-cde3-4640-e8c8-31a902d60773"
      },
      "execution_count": 3,
      "outputs": [
        {
          "output_type": "stream",
          "name": "stdout",
          "text": [
            "   ID   Name  Age  Score Department         Address\n",
            "0   1  Alice   23     85         HR    1234 Elm St.\n",
            "1   2    Bob   29     90         IT  5678 Maple St.\n",
            "2   3  Carol   35     88         HR    9101 Oak St.\n",
            "3   4   Dave   24     82      Sales   1121 Pine St.\n",
            "4   5    Eve   40     95         IT  1314 Birch St.\n"
          ]
        }
      ]
    },
    {
      "cell_type": "code",
      "source": [
        "df.to_excel(\"output.xlsx\", index=False, engine='openpyxl')\n"
      ],
      "metadata": {
        "id": "KcNHvv0rD8yp"
      },
      "execution_count": 4,
      "outputs": []
    },
    {
      "cell_type": "code",
      "source": [
        "filtered_df = df[df['Age'] > 25]\n",
        "print(filtered_df)\n"
      ],
      "metadata": {
        "colab": {
          "base_uri": "https://localhost:8080/"
        },
        "id": "vM8YcQ30EFP5",
        "outputId": "38fe4a88-71b6-4cb4-eea8-9bf0dd02a595"
      },
      "execution_count": 5,
      "outputs": [
        {
          "output_type": "stream",
          "name": "stdout",
          "text": [
            "   ID   Name  Age  Score Department         Address\n",
            "1   2    Bob   29     90         IT  5678 Maple St.\n",
            "2   3  Carol   35     88         HR    9101 Oak St.\n",
            "4   5    Eve   40     95         IT  1314 Birch St.\n"
          ]
        }
      ]
    },
    {
      "cell_type": "code",
      "source": [
        "avg_score = df['Score'].mean()\n",
        "print(avg_score)\n"
      ],
      "metadata": {
        "colab": {
          "base_uri": "https://localhost:8080/"
        },
        "id": "cnQF612mEF_e",
        "outputId": "b14af6ee-4496-4e84-ef88-a406109f65e5"
      },
      "execution_count": 7,
      "outputs": [
        {
          "output_type": "stream",
          "name": "stdout",
          "text": [
            "88.0\n"
          ]
        }
      ]
    },
    {
      "cell_type": "code",
      "source": [
        "sorted_df = df.sort_values(by='Score', ascending=False)\n",
        "print(sorted_df)\n"
      ],
      "metadata": {
        "id": "WnzOd-TtEJpr"
      },
      "execution_count": null,
      "outputs": []
    },
    {
      "cell_type": "code",
      "source": [
        "df.drop(columns=['Address'], inplace=True)\n",
        "print(df)\n"
      ],
      "metadata": {
        "id": "v94Q9nU-ES7A"
      },
      "execution_count": null,
      "outputs": []
    },
    {
      "cell_type": "code",
      "source": [
        "sheet1_df = pd.read_excel(\"data.xlsx\", sheet_name=\"Sheet1\", engine='openpyxl')\n",
        "sheet2_df = pd.read_excel(\"data.xlsx\", sheet_name=\"Sheet2\", engine='openpyxl')\n",
        "\n",
        "sheet1_df.to_excel(\"output_sheet1.xlsx\", index=False, engine='openpyxl')\n",
        "sheet2_df.to_excel(\"output_sheet2.xlsx\", index=False, engine='openpyxl')\n"
      ],
      "metadata": {
        "id": "qzapFrSzETKe"
      },
      "execution_count": null,
      "outputs": []
    }
  ]
}