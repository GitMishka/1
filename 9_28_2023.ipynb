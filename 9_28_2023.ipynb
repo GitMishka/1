{
  "nbformat": 4,
  "nbformat_minor": 0,
  "metadata": {
    "colab": {
      "provenance": [],
      "authorship_tag": "ABX9TyMmGhCdxJrhIq+4cljB5C65",
      "include_colab_link": true
    },
    "kernelspec": {
      "name": "python3",
      "display_name": "Python 3"
    },
    "language_info": {
      "name": "python"
    }
  },
  "cells": [
    {
      "cell_type": "markdown",
      "metadata": {
        "id": "view-in-github",
        "colab_type": "text"
      },
      "source": [
        "<a href=\"https://colab.research.google.com/github/GitMishka/1/blob/main/9_28_2023.ipynb\" target=\"_parent\"><img src=\"https://colab.research.google.com/assets/colab-badge.svg\" alt=\"Open In Colab\"/></a>"
      ]
    },
    {
      "cell_type": "code",
      "execution_count": 1,
      "metadata": {
        "colab": {
          "base_uri": "https://localhost:8080/"
        },
        "id": "sazN48PEDq-z",
        "outputId": "674907c4-fde1-4d85-8b90-794d1d854b15"
      },
      "outputs": [
        {
          "output_type": "stream",
          "name": "stdout",
          "text": [
            "Requirement already satisfied: pandas in /usr/local/lib/python3.10/dist-packages (1.5.3)\n",
            "Requirement already satisfied: openpyxl in /usr/local/lib/python3.10/dist-packages (3.1.2)\n",
            "Requirement already satisfied: python-dateutil>=2.8.1 in /usr/local/lib/python3.10/dist-packages (from pandas) (2.8.2)\n",
            "Requirement already satisfied: pytz>=2020.1 in /usr/local/lib/python3.10/dist-packages (from pandas) (2023.3.post1)\n",
            "Requirement already satisfied: numpy>=1.21.0 in /usr/local/lib/python3.10/dist-packages (from pandas) (1.23.5)\n",
            "Requirement already satisfied: et-xmlfile in /usr/local/lib/python3.10/dist-packages (from openpyxl) (1.1.0)\n",
            "Requirement already satisfied: six>=1.5 in /usr/local/lib/python3.10/dist-packages (from python-dateutil>=2.8.1->pandas) (1.16.0)\n"
          ]
        }
      ],
      "source": [
        "!pip install pandas openpyxl"
      ]
    },
    {
      "cell_type": "code",
      "source": [],
      "metadata": {
        "id": "H8lZYF1hEESc"
      },
      "execution_count": null,
      "outputs": []
    },
    {
      "cell_type": "code",
      "source": [
        "import pandas as pd"
      ],
      "metadata": {
        "id": "ZhVEi7jSD4Xn"
      },
      "execution_count": null,
      "outputs": []
    },
    {
      "cell_type": "code",
      "source": [
        "df = pd.read_excel(\"data.xlsx\", engine='openpyxl')\n",
        "print(df.head())\n"
      ],
      "metadata": {
        "id": "ZSxR4BYLDwO5"
      },
      "execution_count": null,
      "outputs": []
    },
    {
      "cell_type": "code",
      "source": [
        "df.to_excel(\"output.xlsx\", index=False, engine='openpyxl')\n"
      ],
      "metadata": {
        "id": "KcNHvv0rD8yp"
      },
      "execution_count": null,
      "outputs": []
    },
    {
      "cell_type": "code",
      "source": [
        "filtered_df = df[df['Age'] > 25]\n",
        "print(filtered_df)\n"
      ],
      "metadata": {
        "id": "vM8YcQ30EFP5"
      },
      "execution_count": null,
      "outputs": []
    },
    {
      "cell_type": "code",
      "source": [
        "avg_score = df['Score'].mean()\n",
        "print(avg_score)\n"
      ],
      "metadata": {
        "id": "cnQF612mEF_e"
      },
      "execution_count": null,
      "outputs": []
    },
    {
      "cell_type": "code",
      "source": [
        "sorted_df = df.sort_values(by='Score', ascending=False)\n",
        "print(sorted_df)\n"
      ],
      "metadata": {
        "id": "WnzOd-TtEJpr"
      },
      "execution_count": null,
      "outputs": []
    },
    {
      "cell_type": "code",
      "source": [
        "df.drop(columns=['Address'], inplace=True)\n",
        "print(df)\n"
      ],
      "metadata": {
        "id": "v94Q9nU-ES7A"
      },
      "execution_count": null,
      "outputs": []
    },
    {
      "cell_type": "code",
      "source": [
        "sheet1_df = pd.read_excel(\"data.xlsx\", sheet_name=\"Sheet1\", engine='openpyxl')\n",
        "sheet2_df = pd.read_excel(\"data.xlsx\", sheet_name=\"Sheet2\", engine='openpyxl')\n",
        "\n",
        "sheet1_df.to_excel(\"output_sheet1.xlsx\", index=False, engine='openpyxl')\n",
        "sheet2_df.to_excel(\"output_sheet2.xlsx\", index=False, engine='openpyxl')\n"
      ],
      "metadata": {
        "id": "qzapFrSzETKe"
      },
      "execution_count": null,
      "outputs": []
    }
  ]
}