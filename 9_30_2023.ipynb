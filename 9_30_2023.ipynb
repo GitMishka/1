{
  "nbformat": 4,
  "nbformat_minor": 0,
  "metadata": {
    "colab": {
      "provenance": [],
      "authorship_tag": "ABX9TyOJQLhYvTgXpOyg8jVfPQ6B",
      "include_colab_link": true
    },
    "kernelspec": {
      "name": "python3",
      "display_name": "Python 3"
    },
    "language_info": {
      "name": "python"
    }
  },
  "cells": [
    {
      "cell_type": "markdown",
      "metadata": {
        "id": "view-in-github",
        "colab_type": "text"
      },
      "source": [
        "<a href=\"https://colab.research.google.com/github/GitMishka/1/blob/main/9_30_2023.ipynb\" target=\"_parent\"><img src=\"https://colab.research.google.com/assets/colab-badge.svg\" alt=\"Open In Colab\"/></a>"
      ]
    },
    {
      "cell_type": "code",
      "execution_count": 1,
      "metadata": {
        "colab": {
          "base_uri": "https://localhost:8080/"
        },
        "id": "hztu6DBNBOs6",
        "outputId": "764c32fd-ec0c-4719-fb52-5ab1c8057ba3"
      },
      "outputs": [
        {
          "output_type": "stream",
          "name": "stdout",
          "text": [
            "(1, 'Alice')\n"
          ]
        }
      ],
      "source": [
        "import sqlite3\n",
        "\n",
        "conn = sqlite3.connect('merch_store.db')\n",
        "cursor = conn.cursor()\n",
        "\n",
        "cursor.execute('''\n",
        "CREATE TABLE Users (\n",
        "    user_id INTEGER PRIMARY KEY,\n",
        "    username TEXT NOT NULL,\n",
        "    password TEXT NOT NULL,\n",
        "    email TEXT UNIQUE NOT NULL,\n",
        "    first_name TEXT,\n",
        "    last_name TEXT,\n",
        "    address TEXT,\n",
        "    city TEXT,\n",
        "    state TEXT,\n",
        "    country TEXT,\n",
        "    zip_code TEXT,\n",
        "    phone_number TEXT,\n",
        "    date_joined TEXT\n",
        ")\n",
        "''')\n",
        "\n",
        "\n"
      ]
    },
    {
      "cell_type": "code",
      "source": [
        "cursor.execute('''\n",
        "CREATE TABLE Products (\n",
        "    product_id INTEGER PRIMARY KEY,\n",
        "    product_name TEXT NOT NULL,\n",
        "    description TEXT,\n",
        "    price REAL NOT NULL,\n",
        "    stock_quantity INTEGER,\n",
        "    category_id INTEGER,\n",
        "    image_url TEXT\n",
        ")\n",
        "''')"
      ],
      "metadata": {
        "id": "wwX_-EmaEPUW"
      },
      "execution_count": null,
      "outputs": []
    },
    {
      "cell_type": "code",
      "source": [
        "cursor.execute('''\n",
        "CREATE TABLE ProductCategories (\n",
        "    category_id INTEGER PRIMARY KEY,\n",
        "    category_name TEXT NOT NULL UNIQUE\n",
        ")\n",
        "''')"
      ],
      "metadata": {
        "id": "ql_eyAjfEUaF"
      },
      "execution_count": null,
      "outputs": []
    }
  ]
}