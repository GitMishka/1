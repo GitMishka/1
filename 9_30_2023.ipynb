{
  "nbformat": 4,
  "nbformat_minor": 0,
  "metadata": {
    "colab": {
      "provenance": [],
      "authorship_tag": "ABX9TyOr2GxaHF7eWOkfBymcLz16",
      "include_colab_link": true
    },
    "kernelspec": {
      "name": "python3",
      "display_name": "Python 3"
    },
    "language_info": {
      "name": "python"
    }
  },
  "cells": [
    {
      "cell_type": "markdown",
      "metadata": {
        "id": "view-in-github",
        "colab_type": "text"
      },
      "source": [
        "<a href=\"https://colab.research.google.com/github/GitMishka/1/blob/main/9_30_2023.ipynb\" target=\"_parent\"><img src=\"https://colab.research.google.com/assets/colab-badge.svg\" alt=\"Open In Colab\"/></a>"
      ]
    },
    {
      "cell_type": "code",
      "execution_count": 1,
      "metadata": {
        "colab": {
          "base_uri": "https://localhost:8080/"
        },
        "id": "hztu6DBNBOs6",
        "outputId": "764c32fd-ec0c-4719-fb52-5ab1c8057ba3"
      },
      "outputs": [
        {
          "output_type": "stream",
          "name": "stdout",
          "text": [
            "(1, 'Alice')\n"
          ]
        }
      ],
      "source": [
        "import sqlite3\n",
        "\n",
        "conn = sqlite3.connect('merch_store.db')\n",
        "cursor = conn.cursor()\n",
        "\n",
        "cursor.execute('''\n",
        "CREATE TABLE Users (\n",
        "    user_id INTEGER PRIMARY KEY,\n",
        "    username TEXT NOT NULL,\n",
        "    password TEXT NOT NULL,\n",
        "    email TEXT UNIQUE NOT NULL,\n",
        "    first_name TEXT,\n",
        "    last_name TEXT,\n",
        "    address TEXT,\n",
        "    city TEXT,\n",
        "    state TEXT,\n",
        "    country TEXT,\n",
        "    zip_code TEXT,\n",
        "    phone_number TEXT,\n",
        "    date_joined TEXT\n",
        ")\n",
        "''')\n",
        "\n",
        "\n"
      ]
    },
    {
      "cell_type": "code",
      "source": [
        "cursor.execute('''\n",
        "CREATE TABLE Products (\n",
        "    product_id INTEGER PRIMARY KEY,\n",
        "    product_name TEXT NOT NULL,\n",
        "    description TEXT,\n",
        "    price REAL NOT NULL,\n",
        "    stock_quantity INTEGER,\n",
        "    category_id INTEGER,\n",
        "    image_url TEXT\n",
        ")\n",
        "''')"
      ],
      "metadata": {
        "id": "wwX_-EmaEPUW"
      },
      "execution_count": null,
      "outputs": []
    },
    {
      "cell_type": "code",
      "source": [
        "cursor.execute('''\n",
        "CREATE TABLE ProductCategories (\n",
        "    category_id INTEGER PRIMARY KEY,\n",
        "    category_name TEXT NOT NULL UNIQUE\n",
        ")\n",
        "''')"
      ],
      "metadata": {
        "id": "ql_eyAjfEUaF"
      },
      "execution_count": null,
      "outputs": []
    },
    {
      "cell_type": "code",
      "source": [
        "cursor.execute('''\n",
        "CREATE TABLE Orders (\n",
        "    order_id INTEGER PRIMARY KEY,\n",
        "    user_id INTEGER,\n",
        "    date_placed TEXT,\n",
        "    total_price REAL,\n",
        "    shipping_address TEXT,\n",
        "    status TEXT,\n",
        "    FOREIGN KEY (user_id) REFERENCES Users(user_id)\n",
        ")\n",
        "''')"
      ],
      "metadata": {
        "id": "Hizz0feWEc3K"
      },
      "execution_count": null,
      "outputs": []
    },
    {
      "cell_type": "code",
      "source": [
        "cursor.execute('''\n",
        "CREATE TABLE OrderItems (\n",
        "    order_item_id INTEGER PRIMARY KEY,\n",
        "    order_id INTEGER,\n",
        "    product_id INTEGER,\n",
        "    quantity INTEGER,\n",
        "    price REAL,\n",
        "    FOREIGN KEY (order_id) REFERENCES Orders(order_id),\n",
        "    FOREIGN KEY (product_id) REFERENCES Products(product_id)\n",
        ")\n",
        "''')\n",
        "\n",
        "cursor.execute('''\n",
        "CREATE TABLE Payments (\n",
        "    payment_id INTEGER PRIMARY KEY,\n",
        "    order_id INTEGER,\n",
        "    date_paid TEXT,\n",
        "    amount REAL,\n",
        "    payment_method TEXT,\n",
        "    status TEXT,\n",
        "    FOREIGN KEY (order_id) REFERENCES Orders(order_id)\n",
        ")\n",
        "''')\n"
      ],
      "metadata": {
        "id": "8MWfsu3rEks7"
      },
      "execution_count": null,
      "outputs": []
    },
    {
      "cell_type": "code",
      "source": [
        "cursor.execute('''\n",
        "CREATE TABLE Reviews (\n",
        "    review_id INTEGER PRIMARY KEY,\n",
        "    product_id INTEGER,\n",
        "    user_id INTEGER,\n",
        "    rating INTEGER,\n",
        "    comment TEXT,\n",
        "    date_posted TEXT,\n",
        "    FOREIGN KEY (product_id) REFERENCES Products(product_id),\n",
        "    FOREIGN KEY (user_id) REFERENCES Users(user_id)\n",
        ")\n",
        "''')\n",
        "\n",
        "conn.commit()\n",
        "conn.close()\n",
        "\n",
        "print(\"Database and tables created successfully!\")"
      ],
      "metadata": {
        "id": "Ebju-Jt7Ek1N"
      },
      "execution_count": null,
      "outputs": []
    }
  ]
}