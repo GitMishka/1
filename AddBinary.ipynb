{
  "nbformat": 4,
  "nbformat_minor": 0,
  "metadata": {
    "colab": {
      "provenance": [],
      "authorship_tag": "ABX9TyPizfK2aMhP1nUkjnez/Hv7",
      "include_colab_link": true
    },
    "kernelspec": {
      "name": "python3",
      "display_name": "Python 3"
    },
    "language_info": {
      "name": "python"
    }
  },
  "cells": [
    {
      "cell_type": "markdown",
      "metadata": {
        "id": "view-in-github",
        "colab_type": "text"
      },
      "source": [
        "<a href=\"https://colab.research.google.com/github/GitMishka/1/blob/main/AddBinary.ipynb\" target=\"_parent\"><img src=\"https://colab.research.google.com/assets/colab-badge.svg\" alt=\"Open In Colab\"/></a>"
      ]
    },
    {
      "cell_type": "code",
      "execution_count": null,
      "metadata": {
        "id": "wO70CfAFI-VY"
      },
      "outputs": [],
      "source": [
        "def add_binary(bin1, bin2):\n",
        "    num1 = int(bin1, 2)\n",
        "    num2 = int(bin2, 2)\n",
        "\n",
        "    sum = num1 + num2\n",
        "\n",
        "\n",
        "    return bin(sum)[2:]\n",
        "\n",
        "bin1 = \"1011\"\n",
        "bin2 = \"1101\"\n",
        "print(f\"{bin1} + {bin2} = {add_binary(bin1, bin2)}\")\n"
      ]
    },
    {
      "cell_type": "code",
      "source": [
        "def add_binary_without_bin(bin1, bin2):\n",
        "    if len(bin1) < len(bin2):\n",
        "        bin1, bin2 = bin2, bin1\n",
        "\n",
        "    bin1 = bin1[::-1]\n",
        "    bin2 = bin2[::-1]\n",
        "\n",
        "    result = ''\n",
        "    carry = 0\n",
        "\n",
        "    for i in range(len(bin1)):\n",
        "        sum = carry + int(bin1[i])\n",
        "\n",
        "        if i < len(bin2):\n",
        "            sum += int(bin2[i])\n",
        "\n",
        "        carry = sum // 2\n",
        "\n",
        "        result += str(sum % 2)\n",
        "\n",
        "    if carry:\n",
        "        result += str(carry)\n",
        "\n",
        "    return result[::-1]\n",
        "\n",
        "bin1 = \"1011\"\n",
        "bin2 = \"1101\"\n",
        "print(f\"{bin1} + {bin2} = {add_binary_without_bin(bin1, bin2)}\")\n"
      ],
      "metadata": {
        "id": "W6AccVP-JNsO"
      },
      "execution_count": null,
      "outputs": []
    },
    {
      "cell_type": "code",
      "source": [],
      "metadata": {
        "id": "GFrdOdqeJUjy"
      },
      "execution_count": null,
      "outputs": []
    }
  ]
}