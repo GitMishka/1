{
  "nbformat": 4,
  "nbformat_minor": 0,
  "metadata": {
    "colab": {
      "provenance": [],
      "authorship_tag": "ABX9TyPBW300NQq2pOnkmkUT2EpG",
      "include_colab_link": true
    },
    "kernelspec": {
      "name": "python3",
      "display_name": "Python 3"
    },
    "language_info": {
      "name": "python"
    }
  },
  "cells": [
    {
      "cell_type": "markdown",
      "metadata": {
        "id": "view-in-github",
        "colab_type": "text"
      },
      "source": [
        "<a href=\"https://colab.research.google.com/github/GitMishka/1/blob/main/CCC_'04_J2.ipynb\" target=\"_parent\"><img src=\"https://colab.research.google.com/assets/colab-badge.svg\" alt=\"Open In Colab\"/></a>"
      ]
    },
    {
      "cell_type": "code",
      "execution_count": 1,
      "metadata": {
        "colab": {
          "base_uri": "https://localhost:8080/"
        },
        "id": "cnLMh4R2BdF5",
        "outputId": "6b5475e5-272a-4a8c-b3d0-a576ca67926b"
      },
      "outputs": [
        {
          "output_type": "stream",
          "name": "stdout",
          "text": [
            "2004\n",
            "2100\n",
            "All positions change in year 2040\n",
            "All positions change in year 2100\n"
          ]
        }
      ],
      "source": [
        "def gcd(a, b):\n",
        "    while b:\n",
        "        a, b = b, a % b\n",
        "    return a\n",
        "\n",
        "def lcm(a, b):\n",
        "    return abs(a*b) // gcd(a, b)\n",
        "\n",
        "lcm_value = lcm(2, lcm(3, lcm(4, 5)))\n",
        "\n",
        "X = int(input())\n",
        "Y = int(input())\n",
        "\n",
        "for year in range(X, Y+1):\n",
        "    if year % lcm_value == 0:\n",
        "        print(f\"All positions change in year {year}\")\n"
      ]
    }
  ]
}