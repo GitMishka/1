{
  "nbformat": 4,
  "nbformat_minor": 0,
  "metadata": {
    "colab": {
      "provenance": [],
      "authorship_tag": "ABX9TyNNgEfEgpuZfcKxkAobXcpg",
      "include_colab_link": true
    },
    "kernelspec": {
      "name": "python3",
      "display_name": "Python 3"
    },
    "language_info": {
      "name": "python"
    }
  },
  "cells": [
    {
      "cell_type": "markdown",
      "metadata": {
        "id": "view-in-github",
        "colab_type": "text"
      },
      "source": [
        "<a href=\"https://colab.research.google.com/github/GitMishka/1/blob/main/CCC_'14_S1_Party_Invitation.ipynb\" target=\"_parent\"><img src=\"https://colab.research.google.com/assets/colab-badge.svg\" alt=\"Open In Colab\"/></a>"
      ]
    },
    {
      "cell_type": "code",
      "execution_count": null,
      "metadata": {
        "id": "LLZq0J6lIFys"
      },
      "outputs": [],
      "source": [
        "def main():\n",
        "    # Read the total number of friends\n",
        "    K = int(input())\n",
        "\n",
        "    # Read the number of rounds\n",
        "    m = int(input())\n",
        "\n",
        "    # Generate a list of all friends\n",
        "    friends = list(range(1, K + 1))\n",
        "\n",
        "    # Iterate over each round\n",
        "    for _ in range(m):\n",
        "        r = int(input())\n",
        "        # We use list comprehension to create a new list by filtering out every r-th friend\n",
        "        # The use of enumerate helps to keep track of the current position in the list\n",
        "        # Since list positions start at 0, we need to add 1 to the index to get the correct position\n",
        "        friends = [friend for idx, friend in enumerate(friends) if (idx + 1) % r != 0]\n",
        "\n",
        "    # Print the remaining friends\n",
        "    for friend in friends:\n",
        "        print(friend)\n",
        "\n",
        "if __name__ == \"__main__\":\n",
        "    main()\n"
      ]
    }
  ]
}