{
  "nbformat": 4,
  "nbformat_minor": 0,
  "metadata": {
    "colab": {
      "provenance": [],
      "authorship_tag": "ABX9TyNquEJCGeNzeaKHf2edvgbE",
      "include_colab_link": true
    },
    "kernelspec": {
      "name": "python3",
      "display_name": "Python 3"
    },
    "language_info": {
      "name": "python"
    }
  },
  "cells": [
    {
      "cell_type": "markdown",
      "metadata": {
        "id": "view-in-github",
        "colab_type": "text"
      },
      "source": [
        "<a href=\"https://colab.research.google.com/github/GitMishka/1/blob/main/CCC_'16_J2.ipynb\" target=\"_parent\"><img src=\"https://colab.research.google.com/assets/colab-badge.svg\" alt=\"Open In Colab\"/></a>"
      ]
    },
    {
      "cell_type": "code",
      "execution_count": 1,
      "metadata": {
        "id": "nL6Fnm2qeDAW",
        "colab": {
          "base_uri": "https://localhost:8080/"
        },
        "outputId": "87fc027c-2ff3-47d5-d235-7d45c899969b"
      },
      "outputs": [
        {
          "output_type": "stream",
          "name": "stdout",
          "text": [
            "16 3 2 13\n",
            "5 10 11 8\n",
            "9 6 7 12\n",
            "4 15 14 1\n",
            "magic\n"
          ]
        }
      ],
      "source": [
        "def is_magic_square(square):\n",
        "    magic_sum = sum(square[0])\n",
        "\n",
        "    for row in square:\n",
        "        if sum(row) != magic_sum:\n",
        "            return False\n",
        "\n",
        "    for col in range(4):\n",
        "        if sum(square[row][col] for row in range(4)) != magic_sum:\n",
        "\n",
        "            return False\n",
        "\n",
        "    return True\n",
        "\n",
        "square = []\n",
        "for _ in range(4):\n",
        "    square.append(list(map(int, input().split())))\n",
        "\n",
        "print(\"magic\" if is_magic_square(square) else \"not magic\")\n"
      ]
    },
    {
      "cell_type": "code",
      "source": [
        "square = []\n",
        "for _ in range(4):\n",
        "    square.append(list(map(int, input().split())))\n",
        "print(square)"
      ],
      "metadata": {
        "colab": {
          "base_uri": "https://localhost:8080/"
        },
        "id": "vnR-Cpx2lMds",
        "outputId": "fabb8e14-c25d-4efa-cfc6-c5ede8575c15"
      },
      "execution_count": 3,
      "outputs": [
        {
          "output_type": "stream",
          "name": "stdout",
          "text": [
            "16 3 2 13\n",
            "5 10 11 8\n",
            "9 6 7 12\n",
            "4 15 14 1\n",
            "[[16, 3, 2, 13], [5, 10, 11, 8], [9, 6, 7, 12], [4, 15, 14, 1]]\n"
          ]
        }
      ]
    }
  ]
}