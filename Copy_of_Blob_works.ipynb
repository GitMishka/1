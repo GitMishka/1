{
  "nbformat": 4,
  "nbformat_minor": 0,
  "metadata": {
    "colab": {
      "provenance": [],
      "authorship_tag": "ABX9TyPmzEST6RU7r+peNt2wDQRX",
      "include_colab_link": true
    },
    "kernelspec": {
      "name": "python3",
      "display_name": "Python 3"
    },
    "language_info": {
      "name": "python"
    }
  },
  "cells": [
    {
      "cell_type": "markdown",
      "metadata": {
        "id": "view-in-github",
        "colab_type": "text"
      },
      "source": [
        "<a href=\"https://colab.research.google.com/github/GitMishka/1/blob/main/Copy_of_Blob_works.ipynb\" target=\"_parent\"><img src=\"https://colab.research.google.com/assets/colab-badge.svg\" alt=\"Open In Colab\"/></a>"
      ]
    },
    {
      "cell_type": "code",
      "execution_count": null,
      "metadata": {
        "id": "zquwda0acT_K"
      },
      "outputs": [],
      "source": [
        "import pandas as pd\n",
        "from nltk.sentiment import SentimentIntensityAnalyzer\n",
        "from nltk import download\n",
        "from google.colab import files\n",
        "\n"
      ]
    },
    {
      "cell_type": "code",
      "source": [
        "\n",
        "download('vader_lexicon')\n",
        "\n",
        "uploaded = files.upload()"
      ],
      "metadata": {
        "colab": {
          "base_uri": "https://localhost:8080/",
          "height": 92
        },
        "id": "mhIHQubLckGe",
        "outputId": "6681e80b-5f6f-4ae3-cadc-41782ee8f895"
      },
      "execution_count": null,
      "outputs": [
        {
          "output_type": "stream",
          "name": "stderr",
          "text": [
            "[nltk_data] Downloading package vader_lexicon to /root/nltk_data...\n"
          ]
        },
        {
          "output_type": "display_data",
          "data": {
            "text/plain": [
              "<IPython.core.display.HTML object>"
            ],
            "text/html": [
              "\n",
              "     <input type=\"file\" id=\"files-15545d0a-4370-4961-b019-28a55e1363ec\" name=\"files[]\" multiple disabled\n",
              "        style=\"border:none\" />\n",
              "     <output id=\"result-15545d0a-4370-4961-b019-28a55e1363ec\">\n",
              "      Upload widget is only available when the cell has been executed in the\n",
              "      current browser session. Please rerun this cell to enable.\n",
              "      </output>\n",
              "      <script>// Copyright 2017 Google LLC\n",
              "//\n",
              "// Licensed under the Apache License, Version 2.0 (the \"License\");\n",
              "// you may not use this file except in compliance with the License.\n",
              "// You may obtain a copy of the License at\n",
              "//\n",
              "//      http://www.apache.org/licenses/LICENSE-2.0\n",
              "//\n",
              "// Unless required by applicable law or agreed to in writing, software\n",
              "// distributed under the License is distributed on an \"AS IS\" BASIS,\n",
              "// WITHOUT WARRANTIES OR CONDITIONS OF ANY KIND, either express or implied.\n",
              "// See the License for the specific language governing permissions and\n",
              "// limitations under the License.\n",
              "\n",
              "/**\n",
              " * @fileoverview Helpers for google.colab Python module.\n",
              " */\n",
              "(function(scope) {\n",
              "function span(text, styleAttributes = {}) {\n",
              "  const element = document.createElement('span');\n",
              "  element.textContent = text;\n",
              "  for (const key of Object.keys(styleAttributes)) {\n",
              "    element.style[key] = styleAttributes[key];\n",
              "  }\n",
              "  return element;\n",
              "}\n",
              "\n",
              "// Max number of bytes which will be uploaded at a time.\n",
              "const MAX_PAYLOAD_SIZE = 100 * 1024;\n",
              "\n",
              "function _uploadFiles(inputId, outputId) {\n",
              "  const steps = uploadFilesStep(inputId, outputId);\n",
              "  const outputElement = document.getElementById(outputId);\n",
              "  // Cache steps on the outputElement to make it available for the next call\n",
              "  // to uploadFilesContinue from Python.\n",
              "  outputElement.steps = steps;\n",
              "\n",
              "  return _uploadFilesContinue(outputId);\n",
              "}\n",
              "\n",
              "// This is roughly an async generator (not supported in the browser yet),\n",
              "// where there are multiple asynchronous steps and the Python side is going\n",
              "// to poll for completion of each step.\n",
              "// This uses a Promise to block the python side on completion of each step,\n",
              "// then passes the result of the previous step as the input to the next step.\n",
              "function _uploadFilesContinue(outputId) {\n",
              "  const outputElement = document.getElementById(outputId);\n",
              "  const steps = outputElement.steps;\n",
              "\n",
              "  const next = steps.next(outputElement.lastPromiseValue);\n",
              "  return Promise.resolve(next.value.promise).then((value) => {\n",
              "    // Cache the last promise value to make it available to the next\n",
              "    // step of the generator.\n",
              "    outputElement.lastPromiseValue = value;\n",
              "    return next.value.response;\n",
              "  });\n",
              "}\n",
              "\n",
              "/**\n",
              " * Generator function which is called between each async step of the upload\n",
              " * process.\n",
              " * @param {string} inputId Element ID of the input file picker element.\n",
              " * @param {string} outputId Element ID of the output display.\n",
              " * @return {!Iterable<!Object>} Iterable of next steps.\n",
              " */\n",
              "function* uploadFilesStep(inputId, outputId) {\n",
              "  const inputElement = document.getElementById(inputId);\n",
              "  inputElement.disabled = false;\n",
              "\n",
              "  const outputElement = document.getElementById(outputId);\n",
              "  outputElement.innerHTML = '';\n",
              "\n",
              "  const pickedPromise = new Promise((resolve) => {\n",
              "    inputElement.addEventListener('change', (e) => {\n",
              "      resolve(e.target.files);\n",
              "    });\n",
              "  });\n",
              "\n",
              "  const cancel = document.createElement('button');\n",
              "  inputElement.parentElement.appendChild(cancel);\n",
              "  cancel.textContent = 'Cancel upload';\n",
              "  const cancelPromise = new Promise((resolve) => {\n",
              "    cancel.onclick = () => {\n",
              "      resolve(null);\n",
              "    };\n",
              "  });\n",
              "\n",
              "  // Wait for the user to pick the files.\n",
              "  const files = yield {\n",
              "    promise: Promise.race([pickedPromise, cancelPromise]),\n",
              "    response: {\n",
              "      action: 'starting',\n",
              "    }\n",
              "  };\n",
              "\n",
              "  cancel.remove();\n",
              "\n",
              "  // Disable the input element since further picks are not allowed.\n",
              "  inputElement.disabled = true;\n",
              "\n",
              "  if (!files) {\n",
              "    return {\n",
              "      response: {\n",
              "        action: 'complete',\n",
              "      }\n",
              "    };\n",
              "  }\n",
              "\n",
              "  for (const file of files) {\n",
              "    const li = document.createElement('li');\n",
              "    li.append(span(file.name, {fontWeight: 'bold'}));\n",
              "    li.append(span(\n",
              "        `(${file.type || 'n/a'}) - ${file.size} bytes, ` +\n",
              "        `last modified: ${\n",
              "            file.lastModifiedDate ? file.lastModifiedDate.toLocaleDateString() :\n",
              "                                    'n/a'} - `));\n",
              "    const percent = span('0% done');\n",
              "    li.appendChild(percent);\n",
              "\n",
              "    outputElement.appendChild(li);\n",
              "\n",
              "    const fileDataPromise = new Promise((resolve) => {\n",
              "      const reader = new FileReader();\n",
              "      reader.onload = (e) => {\n",
              "        resolve(e.target.result);\n",
              "      };\n",
              "      reader.readAsArrayBuffer(file);\n",
              "    });\n",
              "    // Wait for the data to be ready.\n",
              "    let fileData = yield {\n",
              "      promise: fileDataPromise,\n",
              "      response: {\n",
              "        action: 'continue',\n",
              "      }\n",
              "    };\n",
              "\n",
              "    // Use a chunked sending to avoid message size limits. See b/62115660.\n",
              "    let position = 0;\n",
              "    do {\n",
              "      const length = Math.min(fileData.byteLength - position, MAX_PAYLOAD_SIZE);\n",
              "      const chunk = new Uint8Array(fileData, position, length);\n",
              "      position += length;\n",
              "\n",
              "      const base64 = btoa(String.fromCharCode.apply(null, chunk));\n",
              "      yield {\n",
              "        response: {\n",
              "          action: 'append',\n",
              "          file: file.name,\n",
              "          data: base64,\n",
              "        },\n",
              "      };\n",
              "\n",
              "      let percentDone = fileData.byteLength === 0 ?\n",
              "          100 :\n",
              "          Math.round((position / fileData.byteLength) * 100);\n",
              "      percent.textContent = `${percentDone}% done`;\n",
              "\n",
              "    } while (position < fileData.byteLength);\n",
              "  }\n",
              "\n",
              "  // All done.\n",
              "  yield {\n",
              "    response: {\n",
              "      action: 'complete',\n",
              "    }\n",
              "  };\n",
              "}\n",
              "\n",
              "scope.google = scope.google || {};\n",
              "scope.google.colab = scope.google.colab || {};\n",
              "scope.google.colab._files = {\n",
              "  _uploadFiles,\n",
              "  _uploadFilesContinue,\n",
              "};\n",
              "})(self);\n",
              "</script> "
            ]
          },
          "metadata": {}
        },
        {
          "output_type": "stream",
          "name": "stdout",
          "text": [
            "Saving all_data.csv to all_data.csv\n"
          ]
        }
      ]
    },
    {
      "cell_type": "code",
      "source": [
        "import pandas as pd\n",
        "import matplotlib.pyplot as plt\n",
        "import seaborn as sns\n",
        "from datetime import datetime, timedelta\n",
        "\n",
        "# Read the CSV\n",
        "data = pd.read_csv('all_data.csv')#, parse_dates=['Survey Metadata - Start Date (+00:00 GMT)'])\n",
        "\n",
        "# Filter data from the past two months\n",
        "#two_months_ago = datetime.now() - timedelta(days=30)\n",
        "#filtered_data = data[data['Survey Metadata - Start Date (+00:00 GMT)'] >= two_months_ago]\n",
        "\n"
      ],
      "metadata": {
        "id": "mBkPEXxQckL6"
      },
      "execution_count": null,
      "outputs": []
    },
    {
      "cell_type": "code",
      "source": [
        "\n",
        "\n",
        "#data = pd.read_csv('all_data.csv')\n",
        "\n",
        "#data = filtered_data[filtered_data['Q2 - What can we do better?'].notna()]\n",
        "\n",
        "sia = SentimentIntensityAnalyzer()\n",
        "data['Sentiment'] = data['question2'].apply(lambda x: sia.polarity_scores(x)['compound'])\n",
        "\n",
        "negative_comments = data[data['Sentiment'] < 0]['question2']\n"
      ],
      "metadata": {
        "id": "KyBNW0ffcdfV"
      },
      "execution_count": null,
      "outputs": []
    },
    {
      "cell_type": "code",
      "source": [
        "categories = {\n",
        "    'Training': ['training', 'skills', 'learning'],\n",
        "    'Work Environment': ['environment', 'workspace', 'colleagues'],\n",
        "    'Compensation': ['pay', 'salary', 'wage', 'compensation'],\n",
        "    'Team Dynamics': ['team', 'colleague', 'coworker', 'collaborate', 'teamwork'],\n",
        "    'Leadership': ['manager', 'leader', 'management', 'direction', 'boss'],\n",
        "    'Work-Life Balance': ['hours', 'overtime', 'work-life balance', 'time off', 'vacation'],\n",
        "    'Opportunities for Growth': ['growth', 'promotion', 'development', 'training', 'career'],\n",
        "    'Recognition': ['acknowledgment', 'recognition', 'value', 'reward', 'appreciation'],\n",
        "    'Resources & Tools': ['tools', 'software', 'technology', 'resource', 'equipment'],\n",
        "    'Benefits & Compensation': ['salary', 'pay', 'benefit', 'bonus', 'compensation', 'health', 'insurance'],\n",
        "    'Company Culture': ['culture', 'values', 'mission', 'ethics', 'environment'],\n",
        "    'Job Security': ['security', 'layoff', 'stability', 'future', 'position'],\n",
        "    'Communication': ['communicate', 'information', 'clarity', 'understand', 'role'],\n",
        "    'Diversity & Inclusion': ['diversity', 'inclusion', 'race', 'gender', 'equality', 'bias'],\n",
        "    'Workload': ['workload', 'busy', 'overwhelm', 'stress', 'pressure']\n",
        "}\n",
        "\n",
        "def categorize_feedback(feedback):\n",
        "    for category, keywords in categories.items():\n",
        "        for keyword in keywords:\n",
        "            if keyword in feedback.lower():\n",
        "                return category\n",
        "    return 'Other'\n",
        "data['Category'] = data['question2'].apply(categorize_feedback)"
      ],
      "metadata": {
        "id": "t_RO7XhNQo9z"
      },
      "execution_count": null,
      "outputs": []
    },
    {
      "cell_type": "code",
      "source": [
        "category_counts = data['Category'].value_counts()\n",
        "print(category_counts)\n"
      ],
      "metadata": {
        "colab": {
          "base_uri": "https://localhost:8080/"
        },
        "id": "o2_d06xFRM0W",
        "outputId": "513af416-1e32-4761-c199-dacfd7516699"
      },
      "execution_count": null,
      "outputs": [
        {
          "output_type": "stream",
          "name": "stdout",
          "text": [
            "Other                      224\n",
            "Compensation                80\n",
            "Leadership                  73\n",
            "Team Dynamics               28\n",
            "Training                    19\n",
            "Work Environment            12\n",
            "Workload                     7\n",
            "Work-Life Balance            6\n",
            "Communication                6\n",
            "Job Security                 5\n",
            "Benefits & Compensation      4\n",
            "Recognition                  3\n",
            "Resources & Tools            2\n",
            "Name: Category, dtype: int64\n"
          ]
        }
      ]
    },
    {
      "cell_type": "code",
      "source": [
        "grouped = data.groupby('Category').agg(\n",
        "    total_comments=pd.NamedAgg(column='question2', aggfunc='count'),\n",
        "    average_sentiment=pd.NamedAgg(column='Sentiment', aggfunc='mean'),\n",
        "    most_negative_comment=pd.NamedAgg(column='Sentiment', aggfunc='idxmin')\n",
        ")\n",
        "\n",
        "grouped['most_negative_comment'] = grouped['most_negative_comment'].apply(lambda idx: data.at[idx, 'question2'] if pd.notna(idx) else None)\n",
        "\n",
        "print(grouped)\n"
      ],
      "metadata": {
        "colab": {
          "base_uri": "https://localhost:8080/"
        },
        "id": "vK7sGaBTR7R2",
        "outputId": "f8485ffa-7502-4081-dacc-21fb1c1e2638"
      },
      "execution_count": null,
      "outputs": [
        {
          "output_type": "stream",
          "name": "stdout",
          "text": [
            "                         total_comments  average_sentiment  \\\n",
            "Category                                                     \n",
            "Benefits & Compensation               4           0.106775   \n",
            "Communication                         6           0.320067   \n",
            "Compensation                         80           0.171319   \n",
            "Job Security                          5           0.413660   \n",
            "Leadership                           73           0.149214   \n",
            "Other                               224           0.053703   \n",
            "Recognition                           3          -0.275800   \n",
            "Resources & Tools                     2           0.000000   \n",
            "Team Dynamics                        28           0.380804   \n",
            "Training                             19           0.257516   \n",
            "Work Environment                     12           0.008750   \n",
            "Work-Life Balance                     6          -0.123383   \n",
            "Workload                              7          -0.113614   \n",
            "\n",
            "                                                     most_negative_comment  \n",
            "Category                                                                    \n",
            "Benefits & Compensation  I was forced to resign this past weekend. Work...  \n",
            "Communication            The past 8 weeks we have lost several good emp...  \n",
            "Compensation             Staff turn over is horrible, don't pay enough ...  \n",
            "Job Security             Get rid the bullying and on the job harassment...  \n",
            "Leadership               The management is the problem. They tell us to...  \n",
            "Other                    Find a house keeper that do her job because th...  \n",
            "Recognition              As I say every month, when I fill out this hap...  \n",
            "Resources & Tools        Staffing is still an issue, we still dont have...  \n",
            "Team Dynamics            We need more people hired. I had my say at our...  \n",
            "Training                 Stacy fields the DON is the one who is sucking...  \n",
            "Work Environment         Management is disrespectful and most of us fee...  \n",
            "Work-Life Balance        Paid holiday, paid vacation...not just pto. Pa...  \n",
            "Workload                 Communication is still an on going issue and r...  \n"
          ]
        }
      ]
    },
    {
      "cell_type": "code",
      "source": [
        "comments_and_categories = data[['Survey Metadata - Start Date (+00:00 GMT)','Category','Q2 - What can we do better?',  'Embedded Data - Community', 'Embedded Data - Gender', 'Embedded Data - Job Title - Current', 'Embedded Data - Employee Status']]\n",
        "print(comments_and_categories)\n"
      ],
      "metadata": {
        "colab": {
          "base_uri": "https://localhost:8080/",
          "height": 382
        },
        "id": "MB3hecdcSWD8",
        "outputId": "36a46a84-b6d1-4982-828f-1e41320542ed"
      },
      "execution_count": null,
      "outputs": [
        {
          "output_type": "error",
          "ename": "KeyError",
          "evalue": "ignored",
          "traceback": [
            "\u001b[0;31m---------------------------------------------------------------------------\u001b[0m",
            "\u001b[0;31mKeyError\u001b[0m                                  Traceback (most recent call last)",
            "\u001b[0;32m<ipython-input-14-b03d8e868757>\u001b[0m in \u001b[0;36m<cell line: 1>\u001b[0;34m()\u001b[0m\n\u001b[0;32m----> 1\u001b[0;31m \u001b[0mcomments_and_categories\u001b[0m \u001b[0;34m=\u001b[0m \u001b[0mdata\u001b[0m\u001b[0;34m[\u001b[0m\u001b[0;34m[\u001b[0m\u001b[0;34m'Survey Metadata - Start Date (+00:00 GMT)'\u001b[0m\u001b[0;34m,\u001b[0m\u001b[0;34m'Category'\u001b[0m\u001b[0;34m,\u001b[0m\u001b[0;34m'Q2 - What can we do better?'\u001b[0m\u001b[0;34m,\u001b[0m  \u001b[0;34m'Embedded Data - Community'\u001b[0m\u001b[0;34m,\u001b[0m \u001b[0;34m'Embedded Data - Gender'\u001b[0m\u001b[0;34m,\u001b[0m \u001b[0;34m'Embedded Data - Job Title - Current'\u001b[0m\u001b[0;34m,\u001b[0m \u001b[0;34m'Embedded Data - Employee Status'\u001b[0m\u001b[0;34m]\u001b[0m\u001b[0;34m]\u001b[0m\u001b[0;34m\u001b[0m\u001b[0;34m\u001b[0m\u001b[0m\n\u001b[0m\u001b[1;32m      2\u001b[0m \u001b[0mprint\u001b[0m\u001b[0;34m(\u001b[0m\u001b[0mcomments_and_categories\u001b[0m\u001b[0;34m)\u001b[0m\u001b[0;34m\u001b[0m\u001b[0;34m\u001b[0m\u001b[0m\n",
            "\u001b[0;32m/usr/local/lib/python3.10/dist-packages/pandas/core/frame.py\u001b[0m in \u001b[0;36m__getitem__\u001b[0;34m(self, key)\u001b[0m\n\u001b[1;32m   3811\u001b[0m             \u001b[0;32mif\u001b[0m \u001b[0mis_iterator\u001b[0m\u001b[0;34m(\u001b[0m\u001b[0mkey\u001b[0m\u001b[0;34m)\u001b[0m\u001b[0;34m:\u001b[0m\u001b[0;34m\u001b[0m\u001b[0;34m\u001b[0m\u001b[0m\n\u001b[1;32m   3812\u001b[0m                 \u001b[0mkey\u001b[0m \u001b[0;34m=\u001b[0m \u001b[0mlist\u001b[0m\u001b[0;34m(\u001b[0m\u001b[0mkey\u001b[0m\u001b[0;34m)\u001b[0m\u001b[0;34m\u001b[0m\u001b[0;34m\u001b[0m\u001b[0m\n\u001b[0;32m-> 3813\u001b[0;31m             \u001b[0mindexer\u001b[0m \u001b[0;34m=\u001b[0m \u001b[0mself\u001b[0m\u001b[0;34m.\u001b[0m\u001b[0mcolumns\u001b[0m\u001b[0;34m.\u001b[0m\u001b[0m_get_indexer_strict\u001b[0m\u001b[0;34m(\u001b[0m\u001b[0mkey\u001b[0m\u001b[0;34m,\u001b[0m \u001b[0;34m\"columns\"\u001b[0m\u001b[0;34m)\u001b[0m\u001b[0;34m[\u001b[0m\u001b[0;36m1\u001b[0m\u001b[0;34m]\u001b[0m\u001b[0;34m\u001b[0m\u001b[0;34m\u001b[0m\u001b[0m\n\u001b[0m\u001b[1;32m   3814\u001b[0m \u001b[0;34m\u001b[0m\u001b[0m\n\u001b[1;32m   3815\u001b[0m         \u001b[0;31m# take() does not accept boolean indexers\u001b[0m\u001b[0;34m\u001b[0m\u001b[0;34m\u001b[0m\u001b[0m\n",
            "\u001b[0;32m/usr/local/lib/python3.10/dist-packages/pandas/core/indexes/base.py\u001b[0m in \u001b[0;36m_get_indexer_strict\u001b[0;34m(self, key, axis_name)\u001b[0m\n\u001b[1;32m   6068\u001b[0m             \u001b[0mkeyarr\u001b[0m\u001b[0;34m,\u001b[0m \u001b[0mindexer\u001b[0m\u001b[0;34m,\u001b[0m \u001b[0mnew_indexer\u001b[0m \u001b[0;34m=\u001b[0m \u001b[0mself\u001b[0m\u001b[0;34m.\u001b[0m\u001b[0m_reindex_non_unique\u001b[0m\u001b[0;34m(\u001b[0m\u001b[0mkeyarr\u001b[0m\u001b[0;34m)\u001b[0m\u001b[0;34m\u001b[0m\u001b[0;34m\u001b[0m\u001b[0m\n\u001b[1;32m   6069\u001b[0m \u001b[0;34m\u001b[0m\u001b[0m\n\u001b[0;32m-> 6070\u001b[0;31m         \u001b[0mself\u001b[0m\u001b[0;34m.\u001b[0m\u001b[0m_raise_if_missing\u001b[0m\u001b[0;34m(\u001b[0m\u001b[0mkeyarr\u001b[0m\u001b[0;34m,\u001b[0m \u001b[0mindexer\u001b[0m\u001b[0;34m,\u001b[0m \u001b[0maxis_name\u001b[0m\u001b[0;34m)\u001b[0m\u001b[0;34m\u001b[0m\u001b[0;34m\u001b[0m\u001b[0m\n\u001b[0m\u001b[1;32m   6071\u001b[0m \u001b[0;34m\u001b[0m\u001b[0m\n\u001b[1;32m   6072\u001b[0m         \u001b[0mkeyarr\u001b[0m \u001b[0;34m=\u001b[0m \u001b[0mself\u001b[0m\u001b[0;34m.\u001b[0m\u001b[0mtake\u001b[0m\u001b[0;34m(\u001b[0m\u001b[0mindexer\u001b[0m\u001b[0;34m)\u001b[0m\u001b[0;34m\u001b[0m\u001b[0;34m\u001b[0m\u001b[0m\n",
            "\u001b[0;32m/usr/local/lib/python3.10/dist-packages/pandas/core/indexes/base.py\u001b[0m in \u001b[0;36m_raise_if_missing\u001b[0;34m(self, key, indexer, axis_name)\u001b[0m\n\u001b[1;32m   6131\u001b[0m \u001b[0;34m\u001b[0m\u001b[0m\n\u001b[1;32m   6132\u001b[0m             \u001b[0mnot_found\u001b[0m \u001b[0;34m=\u001b[0m \u001b[0mlist\u001b[0m\u001b[0;34m(\u001b[0m\u001b[0mensure_index\u001b[0m\u001b[0;34m(\u001b[0m\u001b[0mkey\u001b[0m\u001b[0;34m)\u001b[0m\u001b[0;34m[\u001b[0m\u001b[0mmissing_mask\u001b[0m\u001b[0;34m.\u001b[0m\u001b[0mnonzero\u001b[0m\u001b[0;34m(\u001b[0m\u001b[0;34m)\u001b[0m\u001b[0;34m[\u001b[0m\u001b[0;36m0\u001b[0m\u001b[0;34m]\u001b[0m\u001b[0;34m]\u001b[0m\u001b[0;34m.\u001b[0m\u001b[0munique\u001b[0m\u001b[0;34m(\u001b[0m\u001b[0;34m)\u001b[0m\u001b[0;34m)\u001b[0m\u001b[0;34m\u001b[0m\u001b[0;34m\u001b[0m\u001b[0m\n\u001b[0;32m-> 6133\u001b[0;31m             \u001b[0;32mraise\u001b[0m \u001b[0mKeyError\u001b[0m\u001b[0;34m(\u001b[0m\u001b[0;34mf\"{not_found} not in index\"\u001b[0m\u001b[0;34m)\u001b[0m\u001b[0;34m\u001b[0m\u001b[0;34m\u001b[0m\u001b[0m\n\u001b[0m\u001b[1;32m   6134\u001b[0m \u001b[0;34m\u001b[0m\u001b[0m\n\u001b[1;32m   6135\u001b[0m     \u001b[0;34m@\u001b[0m\u001b[0moverload\u001b[0m\u001b[0;34m\u001b[0m\u001b[0;34m\u001b[0m\u001b[0m\n",
            "\u001b[0;31mKeyError\u001b[0m: \"['Survey Metadata - Start Date (+00:00 GMT)', 'Q2 - What can we do better?', 'Embedded Data - Community', 'Embedded Data - Gender', 'Embedded Data - Job Title - Current', 'Embedded Data - Employee Status'] not in index\""
          ]
        }
      ]
    },
    {
      "cell_type": "code",
      "source": [
        "comments_and_categories.to_csv('categorized_comments.csv', index=False)\n"
      ],
      "metadata": {
        "id": "YUi43cERSW2B"
      },
      "execution_count": null,
      "outputs": []
    },
    {
      "cell_type": "code",
      "source": [
        "from google.colab import files\n",
        "files.download('categorized_comments.csv')\n"
      ],
      "metadata": {
        "id": "RcIU1OpYSXBF"
      },
      "execution_count": null,
      "outputs": []
    },
    {
      "cell_type": "code",
      "source": [],
      "metadata": {
        "id": "VLqNjMkidJYn"
      },
      "execution_count": null,
      "outputs": []
    },
    {
      "cell_type": "code",
      "source": [
        "import pandas as pd\n",
        "import matplotlib.pyplot as plt\n",
        "import seaborn as sns\n",
        "\n",
        "category_counts = filtered_data['Category'].value_counts()\n",
        "\n",
        "sns.set_style(\"whitegrid\")\n",
        "sns.set_context(\"talk\")\n",
        "\n",
        "plt.figure(figsize=(12, 8))\n",
        "\n",
        "palette = sns.color_palette(\"coolwarm\", len(category_counts))\n",
        "\n",
        "bars = sns.barplot(x=category_counts.index, y=category_counts.values, palette=palette)\n",
        "\n",
        "for bar in bars.patches:\n",
        "    bars.annotate(f'{int(bar.get_height())}',\n",
        "                 (bar.get_x() + bar.get_width() / 2., bar.get_height()),\n",
        "                 ha='center', va='center',\n",
        "                 xytext=(0, 5),\n",
        "                 textcoords='offset points')\n",
        "\n",
        "plt.title('Frequency of Feedback Categories', fontsize=16)\n",
        "plt.xlabel('Category', fontsize=14)\n",
        "plt.ylabel('Number of Comments', fontsize=14)\n",
        "plt.xticks(rotation=45, ha='right')\n",
        "plt.tight_layout()\n",
        "\n",
        "plt.show()\n"
      ],
      "metadata": {
        "id": "XCnH95uIh1KG"
      },
      "execution_count": null,
      "outputs": []
    },
    {
      "cell_type": "code",
      "source": [
        ".topriority_categories = category_counts.sort_values(ascending=False)\n",
        "print(priority_categories)\n"
      ],
      "metadata": {
        "id": "LDSqphQYjJhX"
      },
      "execution_count": null,
      "outputs": []
    },
    {
      "cell_type": "code",
      "source": [
        "top_category = priority_categories.index[0]\n",
        "top_comments = filtered_data[filtered_data['Category'] == top_category]['Q2 - What can we do better?']\n",
        "print(top_comments)\n"
      ],
      "metadata": {
        "id": "pGP4k4G_jL9S"
      },
      "execution_count": null,
      "outputs": []
    },
    {
      "cell_type": "code",
      "source": [
        "negative_comments = filtered_data[filtered_data['Sentiment'] < -0.5]\n",
        "negative_comments.to_csv('negative_feedback.csv', columns=['Contact Fields - Recipient Email', 'Q2 - What can we do better?', 'Category'], index=False)\n"
      ],
      "metadata": {
        "id": "DyhQJ1d_jQXV"
      },
      "execution_count": null,
      "outputs": []
    },
    {
      "cell_type": "code",
      "source": [
        "training_issues = len(filtered_data[filtered_data['Category'] == 'Training'])\n",
        "print(f\"There are {training_issues} comments related to Training that need to be addressed.\")\n"
      ],
      "metadata": {
        "id": "YIfmgNrsjSPt"
      },
      "execution_count": null,
      "outputs": []
    },
    {
      "cell_type": "code",
      "source": [
        "old_data = pd.read_csv('all_data.csv')\n",
        "old_counts = old_data['Q2 - What can we do better?'].value_counts()\n",
        "comparison = pd.DataFrame({'Old': old_counts, 'New': category_counts}).fillna(0)\n",
        "print(comparison)\n"
      ],
      "metadata": {
        "id": "NH6Edu34jUVR"
      },
      "execution_count": null,
      "outputs": []
    },
    {
      "cell_type": "code",
      "source": [
        "import seaborn as sns\n",
        "import matplotlib.pyplot as plt\n",
        "\n",
        "sns.set_style(\"whitegrid\")\n",
        "\n",
        "# 1. Distribution of Feedback Categories by Gender\n",
        "plt.figure(figsize=(14, 6))\n",
        "sns.countplot(data=filtered_data, x='Category', hue='Embedded Data - Gender', palette=\"pastel\", order=filtered_data['Category'].value_counts().index)\n",
        "plt.xticks(rotation=45, ha=\"right\")\n",
        "plt.title(\"Distribution of Feedback Categories by Gender\")\n",
        "plt.show()\n",
        "\n",
        "# 2. Distribution of Feedback Categories by Job Title\n",
        "plt.figure(figsize=(14, 6))\n",
        "sns.countplot(data=filtered_data, x='Category', hue='Embedded Data - Job Title - Current', palette=\"pastel\", order=filtered_data['Category'].value_counts().index)\n",
        "plt.xticks(rotation=45, ha=\"right\")\n",
        "plt.title(\"Distribution of Feedback Categories by Job Title\")\n",
        "plt.legend(loc='upper right', bbox_to_anchor=(1.25, 1))\n",
        "plt.show()\n",
        "\n",
        "# 3. Feedback Sentiment by Job Title\n",
        "plt.figure(figsize=(14, 6))\n",
        "sns.boxplot(data=filtered_data, x='Embedded Data - Job Title - Current', y='Sentiment', palette=\"pastel\")\n",
        "plt.xticks(rotation=45, ha=\"right\")\n",
        "plt.title(\"Feedback Sentiment by Job Title\")\n",
        "plt.show()\n",
        "\n",
        "# 4. Distribution of Feedback by Employee Status\n",
        "plt.figure(figsize=(14, 6))\n",
        "sns.countplot(data=filtered_data, x='Category', hue='Embedded Data - Employee Status', palette=\"pastel\", order=filtered_data['Category'].value_counts().index)\n",
        "plt.xticks(rotation=45, ha=\"right\")\n",
        "plt.title(\"Distribution of Feedback by Employee Status\")\n",
        "plt.legend(loc='upper right', bbox_to_anchor=(1.25, 1))\n",
        "plt.show()\n",
        "\n",
        "# 5. Feedback Sentiment by Community\n",
        "plt.figure(figsize=(14, 6))\n",
        "sns\n"
      ],
      "metadata": {
        "id": "fO73xQLLTis0"
      },
      "execution_count": null,
      "outputs": []
    }
  ]
}