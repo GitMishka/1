{
  "nbformat": 4,
  "nbformat_minor": 0,
  "metadata": {
    "colab": {
      "provenance": [],
      "authorship_tag": "ABX9TyO7HpD+u8UK75LhCa4OYulY",
      "include_colab_link": true
    },
    "kernelspec": {
      "name": "python3",
      "display_name": "Python 3"
    },
    "language_info": {
      "name": "python"
    }
  },
  "cells": [
    {
      "cell_type": "markdown",
      "metadata": {
        "id": "view-in-github",
        "colab_type": "text"
      },
      "source": [
        "<a href=\"https://colab.research.google.com/github/GitMishka/1/blob/main/Happiness.ipynb\" target=\"_parent\"><img src=\"https://colab.research.google.com/assets/colab-badge.svg\" alt=\"Open In Colab\"/></a>"
      ]
    },
    {
      "cell_type": "code",
      "execution_count": null,
      "metadata": {
        "id": "yEQffJ1LRY84"
      },
      "outputs": [],
      "source": [
        "import pandas as pd\n",
        "\n",
        "file_path = ''\n",
        "data = pd.read_csv(file_path)\n",
        "\n",
        "data.head()\n"
      ]
    },
    {
      "cell_type": "code",
      "source": [
        "aggregated_data = data.groupby('comCode')['Score', 'age', 'rate'].mean().reset_index()\n",
        "\n",
        "output_file_path = '/mnt/data/aggregated_nov_jan.csv'\n",
        "aggregated_data.to_csv(output_file_path, index=False)\n",
        "\n",
        "output_file_path\n"
      ],
      "metadata": {
        "id": "a0P3VVKmRh1G"
      },
      "execution_count": null,
      "outputs": []
    },
    {
      "cell_type": "code",
      "source": [
        "data['month'] = pd.to_datetime(data['startTime']).dt.month\n",
        "\n",
        "monthly_aggregated_data = data.groupby(['comCode', 'month'])['Score', 'age', 'rate'].mean().reset_index()\n",
        "\n",
        "monthly_output_file_path = '/mnt/data/monthly_aggregated_nov_jan.csv'\n",
        "monthly_aggregated_data.to_csv(monthly_output_file_path, index=False)\n",
        "\n",
        "monthly_output_file_path\n"
      ],
      "metadata": {
        "id": "f7x3aNZoRkOW"
      },
      "execution_count": null,
      "outputs": []
    },
    {
      "cell_type": "code",
      "source": [],
      "metadata": {
        "id": "jJcBWVOZSJOs"
      },
      "execution_count": null,
      "outputs": []
    }
  ]
}