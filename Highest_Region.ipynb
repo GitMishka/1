{
  "nbformat": 4,
  "nbformat_minor": 0,
  "metadata": {
    "colab": {
      "provenance": [],
      "authorship_tag": "ABX9TyNYeOQl22tw8kwbvYK61ErT",
      "include_colab_link": true
    },
    "kernelspec": {
      "name": "python3",
      "display_name": "Python 3"
    },
    "language_info": {
      "name": "python"
    }
  },
  "cells": [
    {
      "cell_type": "markdown",
      "metadata": {
        "id": "view-in-github",
        "colab_type": "text"
      },
      "source": [
        "<a href=\"https://colab.research.google.com/github/GitMishka/1/blob/main/Highest_Region.ipynb\" target=\"_parent\"><img src=\"https://colab.research.google.com/assets/colab-badge.svg\" alt=\"Open In Colab\"/></a>"
      ]
    },
    {
      "cell_type": "code",
      "execution_count": null,
      "metadata": {
        "id": "ymsVi3KmhCEm"
      },
      "outputs": [],
      "source": [
        "import pandas as pd"
      ]
    },
    {
      "cell_type": "code",
      "source": [
        "df = pd.read_csv('/content/drive/MyDrive/Work/Yammer/Book5.csv')"
      ],
      "metadata": {
        "id": "Y-IpqoGBlf-1"
      },
      "execution_count": null,
      "outputs": []
    },
    {
      "cell_type": "code",
      "source": [
        "grouped_df = df.groupby(['Region', 'Community'])['Score'].sum().reset_index()\n",
        "grouped_df = grouped_df.sort_values(['Region', 'Score'], ascending=[True, False])\n",
        "top_communities = grouped_df.groupby('Region').head(3)"
      ],
      "metadata": {
        "id": "1uXaq8Y8lhEI"
      },
      "execution_count": null,
      "outputs": []
    },
    {
      "cell_type": "code",
      "source": [
        "print(top_communities)"
      ],
      "metadata": {
        "id": "TDCGbJuWljH1",
        "colab": {
          "base_uri": "https://localhost:8080/"
        },
        "outputId": "bf316fe5-47ff-416b-ec54-255a5f6cf3fc"
      },
      "execution_count": null,
      "outputs": [
        {
          "output_type": "stream",
          "name": "stdout",
          "text": [
            "         Region                                  Community    Score\n",
            "9   Appalachian                Morning Pointe of Knoxville  11036.2\n",
            "10  Appalachian              Morning Pointe of Lenoir City   7596.4\n",
            "2   Appalachian  Morning Pointe of Chattanooga Shallowford   1953.7\n",
            "18    Bluegrass                Morning Pointe of Lexington   5754.4\n",
            "16    Bluegrass                Morning Pointe of Frankfort   3616.1\n",
            "19    Bluegrass           Morning Pointe of Lexington-East   2838.8\n",
            "30   Cumberland                   Morning Pointe of Powell   3542.9\n",
            "35   Cumberland    The Lantern at Morning Pointe of Powell   3353.3\n",
            "33   Cumberland               Morning Pointe of Tuscaloosa   2342.3\n"
          ]
        }
      ]
    },
    {
      "cell_type": "code",
      "source": [
        "df = pd.read_csv('/content/drive/MyDrive/Work/Yammer/caremp.csv')"
      ],
      "metadata": {
        "id": "xfIW-mw8o7iQ"
      },
      "execution_count": null,
      "outputs": []
    },
    {
      "cell_type": "code",
      "source": [
        "grouped_df = df.groupby(['Region','Community', 'Display Name'])['Score'].sum().reset_index()\n",
        "grouped_df = grouped_df.sort_values(['Region', 'Score'], ascending=[True, False])\n",
        "top_individuals = grouped_df.groupby('Region').head(3)\n",
        "print(top_individuals)"
      ],
      "metadata": {
        "id": "Zl7y8jYsoQKR"
      },
      "execution_count": null,
      "outputs": []
    },
    {
      "cell_type": "code",
      "source": [
        "output_filename = \"top_individuals_by_region.csv\"\n",
        "top_individuals.to_csv(output_filename, index=False)"
      ],
      "metadata": {
        "id": "19H3xa3jDqHb"
      },
      "execution_count": null,
      "outputs": []
    },
    {
      "cell_type": "code",
      "source": [
        "from google.colab import files\n",
        "files.download(output_filename)"
      ],
      "metadata": {
        "colab": {
          "base_uri": "https://localhost:8080/",
          "height": 17
        },
        "id": "dKZLFBY2EMjV",
        "outputId": "96d9e188-31ba-4082-a4ec-acea4ebddddd"
      },
      "execution_count": null,
      "outputs": [
        {
          "output_type": "display_data",
          "data": {
            "text/plain": [
              "<IPython.core.display.Javascript object>"
            ],
            "application/javascript": [
              "\n",
              "    async function download(id, filename, size) {\n",
              "      if (!google.colab.kernel.accessAllowed) {\n",
              "        return;\n",
              "      }\n",
              "      const div = document.createElement('div');\n",
              "      const label = document.createElement('label');\n",
              "      label.textContent = `Downloading \"${filename}\": `;\n",
              "      div.appendChild(label);\n",
              "      const progress = document.createElement('progress');\n",
              "      progress.max = size;\n",
              "      div.appendChild(progress);\n",
              "      document.body.appendChild(div);\n",
              "\n",
              "      const buffers = [];\n",
              "      let downloaded = 0;\n",
              "\n",
              "      const channel = await google.colab.kernel.comms.open(id);\n",
              "      // Send a message to notify the kernel that we're ready.\n",
              "      channel.send({})\n",
              "\n",
              "      for await (const message of channel.messages) {\n",
              "        // Send a message to notify the kernel that we're ready.\n",
              "        channel.send({})\n",
              "        if (message.buffers) {\n",
              "          for (const buffer of message.buffers) {\n",
              "            buffers.push(buffer);\n",
              "            downloaded += buffer.byteLength;\n",
              "            progress.value = downloaded;\n",
              "          }\n",
              "        }\n",
              "      }\n",
              "      const blob = new Blob(buffers, {type: 'application/binary'});\n",
              "      const a = document.createElement('a');\n",
              "      a.href = window.URL.createObjectURL(blob);\n",
              "      a.download = filename;\n",
              "      div.appendChild(a);\n",
              "      a.click();\n",
              "      div.remove();\n",
              "    }\n",
              "  "
            ]
          },
          "metadata": {}
        },
        {
          "output_type": "display_data",
          "data": {
            "text/plain": [
              "<IPython.core.display.Javascript object>"
            ],
            "application/javascript": [
              "download(\"download_c1ad22fc-1ebf-47c8-9f63-afe7da63ea32\", \"top_individuals_by_region.csv\", 615)"
            ]
          },
          "metadata": {}
        }
      ]
    },
    {
      "cell_type": "code",
      "source": [
        "df = pd.read_csv('/content/drive/MyDrive/Work/Yammer/Book5.csv')"
      ],
      "metadata": {
        "id": "qW4AjE3hp5GP"
      },
      "execution_count": null,
      "outputs": []
    },
    {
      "cell_type": "code",
      "source": [
        "grouped_df = df.groupby(['Region', 'Display Name'])['Score'].sum().reset_index()\n",
        "grouped_df = grouped_df.sort_values(['Region', 'Score'], ascending=[True, False])\n",
        "top_individuals = grouped_df.groupby('Region').head(3)\n",
        "print(top_individuals)"
      ],
      "metadata": {
        "colab": {
          "base_uri": "https://localhost:8080/"
        },
        "id": "DGMzZ7UZp5SH",
        "outputId": "fac5c095-8362-4fc0-ea3a-acf0cc058425"
      },
      "execution_count": null,
      "outputs": [
        {
          "output_type": "stream",
          "name": "stdout",
          "text": [
            "           Region     Display Name   Score\n",
            "409   Appalachian     Kristy Ritch  2254.5\n",
            "117   Appalachian  Carol Guillemet  1892.6\n",
            "617   Appalachian      Tammy Price  1415.0\n",
            "779     Bluegrass   Chase Williams  1854.1\n",
            "958     Bluegrass   Kelsey Pickens   968.6\n",
            "1152    Bluegrass   Sylvona Farris   949.8\n",
            "1586   Cumberland    Nicole Walker  1943.9\n",
            "1448   Cumberland  Jennifer Ricker  1224.0\n",
            "1470   Cumberland    Kara Greenlee   797.9\n"
          ]
        }
      ]
    }
  ]
}