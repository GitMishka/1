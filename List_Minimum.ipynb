{
  "nbformat": 4,
  "nbformat_minor": 0,
  "metadata": {
    "colab": {
      "provenance": [],
      "authorship_tag": "ABX9TyOnkjArHSLxTCFgG3P2ROi9",
      "include_colab_link": true
    },
    "kernelspec": {
      "name": "python3",
      "display_name": "Python 3"
    },
    "language_info": {
      "name": "python"
    }
  },
  "cells": [
    {
      "cell_type": "markdown",
      "metadata": {
        "id": "view-in-github",
        "colab_type": "text"
      },
      "source": [
        "<a href=\"https://colab.research.google.com/github/GitMishka/1/blob/main/List_Minimum.ipynb\" target=\"_parent\"><img src=\"https://colab.research.google.com/assets/colab-badge.svg\" alt=\"Open In Colab\"/></a>"
      ]
    },
    {
      "cell_type": "code",
      "execution_count": 16,
      "metadata": {
        "colab": {
          "base_uri": "https://localhost:8080/"
        },
        "id": "R-cD3q8qCKkO",
        "outputId": "5a7caa3a-edcd-4c00-be6d-a85590989efe"
      },
      "outputs": [
        {
          "output_type": "stream",
          "name": "stdout",
          "text": [
            "3\n",
            "5\n",
            "8\n",
            "2\n",
            "2\n",
            "5\n",
            "8\n"
          ]
        }
      ],
      "source": [
        "n = int(input())\n",
        "numbers = [int(input()) for _ in range(n)]\n",
        "#numbers.remove(min(numbers))\n",
        "\n",
        "numbers.sort()\n",
        "for _ in numbers:\n",
        "  print(_)"
      ]
    },
    {
      "cell_type": "code",
      "source": [],
      "metadata": {
        "id": "k7aonwUdGIpO"
      },
      "execution_count": null,
      "outputs": []
    }
  ]
}