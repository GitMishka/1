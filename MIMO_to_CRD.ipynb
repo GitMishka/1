{
  "nbformat": 4,
  "nbformat_minor": 0,
  "metadata": {
    "colab": {
      "provenance": [],
      "authorship_tag": "ABX9TyNe1kw5doYpKTa2hmAfQhBT",
      "include_colab_link": true
    },
    "kernelspec": {
      "name": "python3",
      "display_name": "Python 3"
    },
    "language_info": {
      "name": "python"
    }
  },
  "cells": [
    {
      "cell_type": "markdown",
      "metadata": {
        "id": "view-in-github",
        "colab_type": "text"
      },
      "source": [
        "<a href=\"https://colab.research.google.com/github/GitMishka/1/blob/main/MIMO_to_CRD.ipynb\" target=\"_parent\"><img src=\"https://colab.research.google.com/assets/colab-badge.svg\" alt=\"Open In Colab\"/></a>"
      ]
    },
    {
      "cell_type": "code",
      "execution_count": null,
      "metadata": {
        "colab": {
          "base_uri": "https://localhost:8080/",
          "height": 124
        },
        "id": "koFERWd_yQUI",
        "outputId": "c35e52ec-910b-48ce-b57e-4099214c22b0"
      },
      "outputs": [
        {
          "output_type": "stream",
          "name": "stderr",
          "text": [
            "<ipython-input-2-fd162493b6c3>:22: SettingWithCopyWarning: \n",
            "A value is trying to be set on a copy of a slice from a DataFrame.\n",
            "Try using .loc[row_indexer,col_indexer] = value instead\n",
            "\n",
            "See the caveats in the documentation: https://pandas.pydata.org/pandas-docs/stable/user_guide/indexing.html#returning-a-view-versus-a-copy\n",
            "  df_moveout['Move Out\\nDate'] = pd.to_datetime(df_moveout['Move Out\\nDate'], errors='coerce')\n"
          ]
        },
        {
          "output_type": "display_data",
          "data": {
            "text/plain": [
              "<IPython.core.display.Javascript object>"
            ],
            "application/javascript": [
              "\n",
              "    async function download(id, filename, size) {\n",
              "      if (!google.colab.kernel.accessAllowed) {\n",
              "        return;\n",
              "      }\n",
              "      const div = document.createElement('div');\n",
              "      const label = document.createElement('label');\n",
              "      label.textContent = `Downloading \"${filename}\": `;\n",
              "      div.appendChild(label);\n",
              "      const progress = document.createElement('progress');\n",
              "      progress.max = size;\n",
              "      div.appendChild(progress);\n",
              "      document.body.appendChild(div);\n",
              "\n",
              "      const buffers = [];\n",
              "      let downloaded = 0;\n",
              "\n",
              "      const channel = await google.colab.kernel.comms.open(id);\n",
              "      // Send a message to notify the kernel that we're ready.\n",
              "      channel.send({})\n",
              "\n",
              "      for await (const message of channel.messages) {\n",
              "        // Send a message to notify the kernel that we're ready.\n",
              "        channel.send({})\n",
              "        if (message.buffers) {\n",
              "          for (const buffer of message.buffers) {\n",
              "            buffers.push(buffer);\n",
              "            downloaded += buffer.byteLength;\n",
              "            progress.value = downloaded;\n",
              "          }\n",
              "        }\n",
              "      }\n",
              "      const blob = new Blob(buffers, {type: 'application/binary'});\n",
              "      const a = document.createElement('a');\n",
              "      a.href = window.URL.createObjectURL(blob);\n",
              "      a.download = filename;\n",
              "      div.appendChild(a);\n",
              "      a.click();\n",
              "      div.remove();\n",
              "    }\n",
              "  "
            ]
          },
          "metadata": {}
        },
        {
          "output_type": "display_data",
          "data": {
            "text/plain": [
              "<IPython.core.display.Javascript object>"
            ],
            "application/javascript": [
              "download(\"download_82ace7ff-7996-4289-8e1d-72bee38b701c\", \"moveout_summary_2024-03-22_20-37-26.xlsx\", 109177)"
            ]
          },
          "metadata": {}
        }
      ],
      "source": [
        "import pandas as pd\n",
        "from datetime import datetime, timedelta\n",
        "from google.colab import file\n",
        "# Load the Excel file, skipping the first 15 rows\n",
        "file_path_moveout = 'rs_SeniorMoveOut (2)(1).xlsx'  # Adjust this path to match the location of your uploaded file\n",
        "df_moveout = pd.read_excel(file_path_moveout, skiprows=15)\n",
        "\n",
        "# Initial population of 'Community' column based on the first column's \"Community:\" markers\n",
        "df_moveout['Community'] = None\n",
        "current_community = None\n",
        "for index, row in df_moveout.iterrows():\n",
        "    if str(row.iloc[0]).startswith('Community:'):\n",
        "        current_community = row.iloc[0].split(':', 1)[1].strip()\n",
        "    else:\n",
        "        df_moveout.at[index, 'Community'] = current_community\n",
        "\n",
        "# Now refine 'Community' column values by applying LEFT(RIGHT(community,5),4) logic\n",
        "df_moveout['Community'] = df_moveout['Community'].apply(lambda x: x[-5:-1] if x is not None else None)\n",
        "\n",
        "# Continue with the rest of the processing\n",
        "df_moveout = df_moveout.dropna(subset=['Resident '])\n",
        "df_moveout['Move Out\\nDate'] = pd.to_datetime(df_moveout['Move Out\\nDate'], errors='coerce')\n",
        "values_to_delete = [\n",
        "    \"Morning Pointe of Athens (aths)\", \"Death-At Community\", \"Death-Outside Community\", \"Financial-Competitor\", \"Move Out \\nReason\", \"Move-out Analysis \\nby Move Out Reason\",\n",
        "    \"Financial-Family Home\", \"Health improved\", \"Higher LOC-Nursing Home\", \"Relocating to other area\",\n",
        "    \"Morning Pointe of Brentwood (brwd)\", \"Discharged to Family\", \"Evicted-Financial\", \"Higher LOC-Hospice\",\n",
        "    \"Higher LOC-Memory Care\",\n",
        "    \"Morning Pointe of Calhoun (calh)\", \"Dissatisfied-Competitor\", \"Evicted-Behavior\", \"Evicted-Medical\",\n",
        "    \"Morning Pointe of Chattanooga Shallowford (chtt)\", \"Dissatisfied-Family Home\", \"Financial-Own Home\",\n",
        "    \"Transfer to Sister MP\",\n",
        "    \"Morning Pointe of Clinton (clin)\", \"Higher LOC-Geri/Psych\",\n",
        "    \"Morning Pointe of Columbia (colm)\",\n",
        "    \"Morning Pointe of Danville (danv)\",\n",
        "    \"Morning Pointe of East Hamilton (eham)\", \"Dissatisfied-Own Home\",\n",
        "    \"Morning Pointe of Frankfort (frkt)\",\n",
        "    \"Morning Pointe of Franklin (frln)\",\n",
        "    \"Morning Pointe of Franklin TN (fktn)\",\n",
        "    \"Morning Pointe of Greenbriar (grnb)\",\n",
        "    \"Morning Pointe of Greeneville (grnv)\",\n",
        "    \"Morning Pointe of Happy Valley (hppy)\",\n",
        "    \"Morning Pointe of Hardin Valley (hard)\", \"Natural Disaster - Moved to Competitor\",\n",
        "    \"Morning Pointe of Hixson (hixn)\",\n",
        "    \"Morning Pointe of Knoxville (knox)\",\n",
        "    \"Morning Pointe of Lenoir City (lenc)\",\n",
        "    \"Morning Pointe of Lexington (lexn)\", \"End of Respite\",\n",
        "    \"Morning Pointe of Lexington-East (lexe)\",\n",
        "    \"Morning Pointe of Louisville (lvlm)\",\n",
        "    \"Morning Pointe of Powell (powl)\",\n",
        "    \"Morning Pointe of Richmond (rich)\",\n",
        "    \"Morning Pointe of Russell (russ)\",\n",
        "    \"Morning Pointe of Spring Hill (sprh)\",\n",
        "    \"Morning Pointe of Tullahoma (tula)\",\n",
        "    \"Morning Pointe of Tuscaloosa (tusc)\",\n",
        "    \"The Lantern at Morning Pointe of Chattanooga (chtl)\",\n",
        "    \"The Lantern at Morning Pointe of Collegedale (cgdl)\",\n",
        "    \"The Lantern at Morning Pointe of Frankfort (frkl)\",\n",
        "    \"The Lantern at Morning Pointe of Franklin TN (fktl)\",\n",
        "    \"The Lantern at Morning Pointe of Knoxville (knxl)\",\n",
        "    \"The Lantern at Morning Pointe of Lenoir City (lenl)\",\n",
        "    \"The Lantern at Morning Pointe of Lexington (lexl)\",\n",
        "    \"The Lantern at Morning Pointe of Louisville (lvll)\",\n",
        "    \"The Lantern at Morning Pointe of Powell (pwll)\",\n",
        "    \"The Lantern at Morning Pointe of Russell (rusl)\",\n",
        "    \"The Lantern at Morning Pointe of Spring Hill (sprl)\"\n",
        "]\n",
        "# Filter out rows where 'Resident ' column contains any of the specified values\n",
        "df_moveout = df_moveout[~df_moveout['Resident '].isin(values_to_delete)]\n",
        "\n",
        "# Defer deletion of specified columns until after all other processing\n",
        "df_moveout = df_moveout.loc[:, ~df_moveout.columns.str.contains('^Unnamed')]\n",
        "df_moveout['ID'] = df_moveout['Resident '].apply(lambda x: x[x.find(\"(\"):x.find(\")\")+1])\n",
        "\n",
        "# Extract the name part for the 'Name' column\n",
        "df_moveout['Name'] = df_moveout['Resident '].apply(lambda x: '('.join(x.split('(')[:-1]).strip())\n",
        "\n",
        "# Extract Move Out Month name from 'Move Out\\nDate'\n",
        "df_moveout['Move Out Month'] = df_moveout['Move Out\\nDate'].dt.month_name()\n",
        "\n",
        "# For \"Community/Campus\", assuming 'Community' is already processed as per your instructions\n",
        "df_moveout['Community/Campus'] = df_moveout['Community']\n",
        "\n",
        "# Now select only the columns you need\n",
        "df_moveout_final = df_moveout[['ID', 'Name', 'Move Out Month', 'Community/Campus']]\n",
        "# This will align rows based on the 'ID' column and update/add the columns from df_moveout_final into df_moveout\n",
        "df_combined = pd.merge(df_moveout, df_moveout_final, on='ID', how='left')\n",
        "\n",
        "\n",
        "# Save the processed DataFrame to a new Excel file\n",
        "timestamp = datetime.now().strftime(\"%Y-%m-%d_%H-%M-%S\")\n",
        "output_filename = f'moveout_summary_{timestamp}.xlsx'\n",
        "#df_moveout_final.to_excel(output_filename, index=False)\n",
        "df_moveout.to_excel(output_filename, index=False)\n",
        "\n",
        "files.download(output_filename)"
      ]
    },
    {
      "cell_type": "code",
      "source": [
        "# Install openpyxl if not already installed\n",
        "!pip install openpyxl\n",
        "\n",
        "import openpyxl\n",
        "\n",
        "# Load the workbook\n",
        "wb = openpyxl.load_workbook('rs_SeniorMoveIn.xlsx')\n",
        "\n",
        "# Delete the sheets \"Document map\" and \"Sheet3\" if they exist\n",
        "sheets_to_delete = ['Document map', 'Sheet3']\n",
        "for sheet in sheets_to_delete:\n",
        "    if sheet in wb.sheetnames:\n",
        "        std = wb[sheet]\n",
        "        wb.remove(std)\n",
        "\n",
        "# Delete the first 11 rows in \"Sheet2\", preserving headers in row 12\n",
        "if 'Sheet2' in wb.sheetnames:\n",
        "    ws = wb['Sheet2']\n",
        "    for row in range(1, 12):\n",
        "        ws.delete_rows(1)\n",
        "\n",
        "# Save the workbook with changes\n",
        "wb.save('modified_rs_SeniorMoveIn.xlsx')\n",
        "import pandas as pd\n",
        "from datetime import datetime, timedelta\n",
        "\n",
        "# Load the data\n",
        "file_path = 'modified_rs_SeniorMoveIn.xlsx'  # Adjust this to your file's path\n",
        "df_movein = pd.read_csv(file_path)\n",
        "\n",
        "# Your existing data processing steps...\n",
        "\n",
        "# Convert dates from string to datetime\n",
        "df_movein['Service Start\\nDate'] = pd.to_datetime(df_movein['Service Start\\nDate'], errors='coerce')\n",
        "df_movein['Move In\\nDate'] = pd.to_datetime(df_movein['Move In\\nDate'], errors='coerce')\n",
        "\n",
        "# Assume 'server_start_date_str' is the server start date in 'YYYY-MM-DD' format\n",
        "server_start_date_str = '2024-03-01'  # Example server start date\n",
        "server_start_date = datetime.strptime(server_start_date_str, '%Y-%m-%d')\n",
        "\n",
        "# Calculate the date 3 months before the server start date\n",
        "three_months_prior = server_start_date - timedelta(days=90)\n",
        "\n",
        "# Filter the DataFrame to include only rows where the 'Service Start\\nDate' is within the last three months before the server start date\n",
        "df_movein = df_movein[(df_movein['Service Start\\nDate'] >= three_months_prior) & (df_movein['Service Start\\nDate'] < server_start_date)]\n",
        "\n",
        "# Continue with your existing data processing steps...\n",
        "\n",
        "# Remove the first 10 rows of the DataFrame\n",
        "df_movein = df_movein.iloc[10:].reset_index(drop=True)\n",
        "\n",
        "# Create a timestamp for the filename\n",
        "timestamp = datetime.now().strftime(\"%Y-%m-%d_%H-%M-%S\")\n",
        "df_movein = df_movein.loc[:, ~df_movein.columns.str.contains('Unnamed')]  # NEW LINE TO DELETE UNNAMED COLUMNS\n",
        "\n",
        "# Save the cleaned and updated dataframe to a new CSV with timestamp in filename\n",
        "filename = f'movein_summary_{timestamp}.csv'\n",
        "df_movein.to_csv(filename, index=False)\n",
        "\n",
        "# Display the filename for confirmation\n",
        "#print(f\"File saved as: {filename}\")\n",
        "\n",
        "# Count the number of entries per region and display the counts\n",
        "# weights_sum_by_region = df_movein.groupby('Region')['Weights'].sum()\n",
        "# print(weights_sum_by_region)\n"
      ],
      "metadata": {
        "colab": {
          "base_uri": "https://localhost:8080/",
          "height": 311
        },
        "id": "tSBFID8b6HqQ",
        "outputId": "da239e4d-f712-475d-c864-0cb5d2f3b2cc"
      },
      "execution_count": null,
      "outputs": [
        {
          "output_type": "stream",
          "name": "stdout",
          "text": [
            "Requirement already satisfied: openpyxl in /usr/local/lib/python3.10/dist-packages (3.1.2)\n",
            "Requirement already satisfied: et-xmlfile in /usr/local/lib/python3.10/dist-packages (from openpyxl) (1.1.0)\n"
          ]
        },
        {
          "output_type": "error",
          "ename": "UnicodeDecodeError",
          "evalue": "'utf-8' codec can't decode byte 0xc1 in position 16: invalid start byte",
          "traceback": [
            "\u001b[0;31m---------------------------------------------------------------------------\u001b[0m",
            "\u001b[0;31mUnicodeDecodeError\u001b[0m                        Traceback (most recent call last)",
            "\u001b[0;32m<ipython-input-3-967b5526231e>\u001b[0m in \u001b[0;36m<cell line: 29>\u001b[0;34m()\u001b[0m\n\u001b[1;32m     27\u001b[0m \u001b[0;31m# Load the data\u001b[0m\u001b[0;34m\u001b[0m\u001b[0;34m\u001b[0m\u001b[0m\n\u001b[1;32m     28\u001b[0m \u001b[0mfile_path\u001b[0m \u001b[0;34m=\u001b[0m \u001b[0;34m'modified_rs_SeniorMoveIn.xlsx'\u001b[0m  \u001b[0;31m# Adjust this to your file's path\u001b[0m\u001b[0;34m\u001b[0m\u001b[0;34m\u001b[0m\u001b[0m\n\u001b[0;32m---> 29\u001b[0;31m \u001b[0mdf_movein\u001b[0m \u001b[0;34m=\u001b[0m \u001b[0mpd\u001b[0m\u001b[0;34m.\u001b[0m\u001b[0mread_csv\u001b[0m\u001b[0;34m(\u001b[0m\u001b[0mfile_path\u001b[0m\u001b[0;34m)\u001b[0m\u001b[0;34m\u001b[0m\u001b[0;34m\u001b[0m\u001b[0m\n\u001b[0m\u001b[1;32m     30\u001b[0m \u001b[0;34m\u001b[0m\u001b[0m\n\u001b[1;32m     31\u001b[0m \u001b[0;31m# Your existing data processing steps...\u001b[0m\u001b[0;34m\u001b[0m\u001b[0;34m\u001b[0m\u001b[0m\n",
            "\u001b[0;32m/usr/local/lib/python3.10/dist-packages/pandas/util/_decorators.py\u001b[0m in \u001b[0;36mwrapper\u001b[0;34m(*args, **kwargs)\u001b[0m\n\u001b[1;32m    209\u001b[0m                 \u001b[0;32melse\u001b[0m\u001b[0;34m:\u001b[0m\u001b[0;34m\u001b[0m\u001b[0;34m\u001b[0m\u001b[0m\n\u001b[1;32m    210\u001b[0m                     \u001b[0mkwargs\u001b[0m\u001b[0;34m[\u001b[0m\u001b[0mnew_arg_name\u001b[0m\u001b[0;34m]\u001b[0m \u001b[0;34m=\u001b[0m \u001b[0mnew_arg_value\u001b[0m\u001b[0;34m\u001b[0m\u001b[0;34m\u001b[0m\u001b[0m\n\u001b[0;32m--> 211\u001b[0;31m             \u001b[0;32mreturn\u001b[0m \u001b[0mfunc\u001b[0m\u001b[0;34m(\u001b[0m\u001b[0;34m*\u001b[0m\u001b[0margs\u001b[0m\u001b[0;34m,\u001b[0m \u001b[0;34m**\u001b[0m\u001b[0mkwargs\u001b[0m\u001b[0;34m)\u001b[0m\u001b[0;34m\u001b[0m\u001b[0;34m\u001b[0m\u001b[0m\n\u001b[0m\u001b[1;32m    212\u001b[0m \u001b[0;34m\u001b[0m\u001b[0m\n\u001b[1;32m    213\u001b[0m         \u001b[0;32mreturn\u001b[0m \u001b[0mcast\u001b[0m\u001b[0;34m(\u001b[0m\u001b[0mF\u001b[0m\u001b[0;34m,\u001b[0m \u001b[0mwrapper\u001b[0m\u001b[0;34m)\u001b[0m\u001b[0;34m\u001b[0m\u001b[0;34m\u001b[0m\u001b[0m\n",
            "\u001b[0;32m/usr/local/lib/python3.10/dist-packages/pandas/util/_decorators.py\u001b[0m in \u001b[0;36mwrapper\u001b[0;34m(*args, **kwargs)\u001b[0m\n\u001b[1;32m    329\u001b[0m                     \u001b[0mstacklevel\u001b[0m\u001b[0;34m=\u001b[0m\u001b[0mfind_stack_level\u001b[0m\u001b[0;34m(\u001b[0m\u001b[0;34m)\u001b[0m\u001b[0;34m,\u001b[0m\u001b[0;34m\u001b[0m\u001b[0;34m\u001b[0m\u001b[0m\n\u001b[1;32m    330\u001b[0m                 )\n\u001b[0;32m--> 331\u001b[0;31m             \u001b[0;32mreturn\u001b[0m \u001b[0mfunc\u001b[0m\u001b[0;34m(\u001b[0m\u001b[0;34m*\u001b[0m\u001b[0margs\u001b[0m\u001b[0;34m,\u001b[0m \u001b[0;34m**\u001b[0m\u001b[0mkwargs\u001b[0m\u001b[0;34m)\u001b[0m\u001b[0;34m\u001b[0m\u001b[0;34m\u001b[0m\u001b[0m\n\u001b[0m\u001b[1;32m    332\u001b[0m \u001b[0;34m\u001b[0m\u001b[0m\n\u001b[1;32m    333\u001b[0m         \u001b[0;31m# error: \"Callable[[VarArg(Any), KwArg(Any)], Any]\" has no\u001b[0m\u001b[0;34m\u001b[0m\u001b[0;34m\u001b[0m\u001b[0m\n",
            "\u001b[0;32m/usr/local/lib/python3.10/dist-packages/pandas/io/parsers/readers.py\u001b[0m in \u001b[0;36mread_csv\u001b[0;34m(filepath_or_buffer, sep, delimiter, header, names, index_col, usecols, squeeze, prefix, mangle_dupe_cols, dtype, engine, converters, true_values, false_values, skipinitialspace, skiprows, skipfooter, nrows, na_values, keep_default_na, na_filter, verbose, skip_blank_lines, parse_dates, infer_datetime_format, keep_date_col, date_parser, dayfirst, cache_dates, iterator, chunksize, compression, thousands, decimal, lineterminator, quotechar, quoting, doublequote, escapechar, comment, encoding, encoding_errors, dialect, error_bad_lines, warn_bad_lines, on_bad_lines, delim_whitespace, low_memory, memory_map, float_precision, storage_options)\u001b[0m\n\u001b[1;32m    948\u001b[0m     \u001b[0mkwds\u001b[0m\u001b[0;34m.\u001b[0m\u001b[0mupdate\u001b[0m\u001b[0;34m(\u001b[0m\u001b[0mkwds_defaults\u001b[0m\u001b[0;34m)\u001b[0m\u001b[0;34m\u001b[0m\u001b[0;34m\u001b[0m\u001b[0m\n\u001b[1;32m    949\u001b[0m \u001b[0;34m\u001b[0m\u001b[0m\n\u001b[0;32m--> 950\u001b[0;31m     \u001b[0;32mreturn\u001b[0m \u001b[0m_read\u001b[0m\u001b[0;34m(\u001b[0m\u001b[0mfilepath_or_buffer\u001b[0m\u001b[0;34m,\u001b[0m \u001b[0mkwds\u001b[0m\u001b[0;34m)\u001b[0m\u001b[0;34m\u001b[0m\u001b[0;34m\u001b[0m\u001b[0m\n\u001b[0m\u001b[1;32m    951\u001b[0m \u001b[0;34m\u001b[0m\u001b[0m\n\u001b[1;32m    952\u001b[0m \u001b[0;34m\u001b[0m\u001b[0m\n",
            "\u001b[0;32m/usr/local/lib/python3.10/dist-packages/pandas/io/parsers/readers.py\u001b[0m in \u001b[0;36m_read\u001b[0;34m(filepath_or_buffer, kwds)\u001b[0m\n\u001b[1;32m    603\u001b[0m \u001b[0;34m\u001b[0m\u001b[0m\n\u001b[1;32m    604\u001b[0m     \u001b[0;31m# Create the parser.\u001b[0m\u001b[0;34m\u001b[0m\u001b[0;34m\u001b[0m\u001b[0m\n\u001b[0;32m--> 605\u001b[0;31m     \u001b[0mparser\u001b[0m \u001b[0;34m=\u001b[0m \u001b[0mTextFileReader\u001b[0m\u001b[0;34m(\u001b[0m\u001b[0mfilepath_or_buffer\u001b[0m\u001b[0;34m,\u001b[0m \u001b[0;34m**\u001b[0m\u001b[0mkwds\u001b[0m\u001b[0;34m)\u001b[0m\u001b[0;34m\u001b[0m\u001b[0;34m\u001b[0m\u001b[0m\n\u001b[0m\u001b[1;32m    606\u001b[0m \u001b[0;34m\u001b[0m\u001b[0m\n\u001b[1;32m    607\u001b[0m     \u001b[0;32mif\u001b[0m \u001b[0mchunksize\u001b[0m \u001b[0;32mor\u001b[0m \u001b[0miterator\u001b[0m\u001b[0;34m:\u001b[0m\u001b[0;34m\u001b[0m\u001b[0;34m\u001b[0m\u001b[0m\n",
            "\u001b[0;32m/usr/local/lib/python3.10/dist-packages/pandas/io/parsers/readers.py\u001b[0m in \u001b[0;36m__init__\u001b[0;34m(self, f, engine, **kwds)\u001b[0m\n\u001b[1;32m   1440\u001b[0m \u001b[0;34m\u001b[0m\u001b[0m\n\u001b[1;32m   1441\u001b[0m         \u001b[0mself\u001b[0m\u001b[0;34m.\u001b[0m\u001b[0mhandles\u001b[0m\u001b[0;34m:\u001b[0m \u001b[0mIOHandles\u001b[0m \u001b[0;34m|\u001b[0m \u001b[0;32mNone\u001b[0m \u001b[0;34m=\u001b[0m \u001b[0;32mNone\u001b[0m\u001b[0;34m\u001b[0m\u001b[0;34m\u001b[0m\u001b[0m\n\u001b[0;32m-> 1442\u001b[0;31m         \u001b[0mself\u001b[0m\u001b[0;34m.\u001b[0m\u001b[0m_engine\u001b[0m \u001b[0;34m=\u001b[0m \u001b[0mself\u001b[0m\u001b[0;34m.\u001b[0m\u001b[0m_make_engine\u001b[0m\u001b[0;34m(\u001b[0m\u001b[0mf\u001b[0m\u001b[0;34m,\u001b[0m \u001b[0mself\u001b[0m\u001b[0;34m.\u001b[0m\u001b[0mengine\u001b[0m\u001b[0;34m)\u001b[0m\u001b[0;34m\u001b[0m\u001b[0;34m\u001b[0m\u001b[0m\n\u001b[0m\u001b[1;32m   1443\u001b[0m \u001b[0;34m\u001b[0m\u001b[0m\n\u001b[1;32m   1444\u001b[0m     \u001b[0;32mdef\u001b[0m \u001b[0mclose\u001b[0m\u001b[0;34m(\u001b[0m\u001b[0mself\u001b[0m\u001b[0;34m)\u001b[0m \u001b[0;34m->\u001b[0m \u001b[0;32mNone\u001b[0m\u001b[0;34m:\u001b[0m\u001b[0;34m\u001b[0m\u001b[0;34m\u001b[0m\u001b[0m\n",
            "\u001b[0;32m/usr/local/lib/python3.10/dist-packages/pandas/io/parsers/readers.py\u001b[0m in \u001b[0;36m_make_engine\u001b[0;34m(self, f, engine)\u001b[0m\n\u001b[1;32m   1751\u001b[0m \u001b[0;34m\u001b[0m\u001b[0m\n\u001b[1;32m   1752\u001b[0m         \u001b[0;32mtry\u001b[0m\u001b[0;34m:\u001b[0m\u001b[0;34m\u001b[0m\u001b[0;34m\u001b[0m\u001b[0m\n\u001b[0;32m-> 1753\u001b[0;31m             \u001b[0;32mreturn\u001b[0m \u001b[0mmapping\u001b[0m\u001b[0;34m[\u001b[0m\u001b[0mengine\u001b[0m\u001b[0;34m]\u001b[0m\u001b[0;34m(\u001b[0m\u001b[0mf\u001b[0m\u001b[0;34m,\u001b[0m \u001b[0;34m**\u001b[0m\u001b[0mself\u001b[0m\u001b[0;34m.\u001b[0m\u001b[0moptions\u001b[0m\u001b[0;34m)\u001b[0m\u001b[0;34m\u001b[0m\u001b[0;34m\u001b[0m\u001b[0m\n\u001b[0m\u001b[1;32m   1754\u001b[0m         \u001b[0;32mexcept\u001b[0m \u001b[0mException\u001b[0m\u001b[0;34m:\u001b[0m\u001b[0;34m\u001b[0m\u001b[0;34m\u001b[0m\u001b[0m\n\u001b[1;32m   1755\u001b[0m             \u001b[0;32mif\u001b[0m \u001b[0mself\u001b[0m\u001b[0;34m.\u001b[0m\u001b[0mhandles\u001b[0m \u001b[0;32mis\u001b[0m \u001b[0;32mnot\u001b[0m \u001b[0;32mNone\u001b[0m\u001b[0;34m:\u001b[0m\u001b[0;34m\u001b[0m\u001b[0;34m\u001b[0m\u001b[0m\n",
            "\u001b[0;32m/usr/local/lib/python3.10/dist-packages/pandas/io/parsers/c_parser_wrapper.py\u001b[0m in \u001b[0;36m__init__\u001b[0;34m(self, src, **kwds)\u001b[0m\n\u001b[1;32m     77\u001b[0m \u001b[0;34m\u001b[0m\u001b[0m\n\u001b[1;32m     78\u001b[0m         \u001b[0mkwds\u001b[0m\u001b[0;34m[\u001b[0m\u001b[0;34m\"dtype\"\u001b[0m\u001b[0;34m]\u001b[0m \u001b[0;34m=\u001b[0m \u001b[0mensure_dtype_objs\u001b[0m\u001b[0;34m(\u001b[0m\u001b[0mkwds\u001b[0m\u001b[0;34m.\u001b[0m\u001b[0mget\u001b[0m\u001b[0;34m(\u001b[0m\u001b[0;34m\"dtype\"\u001b[0m\u001b[0;34m,\u001b[0m \u001b[0;32mNone\u001b[0m\u001b[0;34m)\u001b[0m\u001b[0;34m)\u001b[0m\u001b[0;34m\u001b[0m\u001b[0;34m\u001b[0m\u001b[0m\n\u001b[0;32m---> 79\u001b[0;31m         \u001b[0mself\u001b[0m\u001b[0;34m.\u001b[0m\u001b[0m_reader\u001b[0m \u001b[0;34m=\u001b[0m \u001b[0mparsers\u001b[0m\u001b[0;34m.\u001b[0m\u001b[0mTextReader\u001b[0m\u001b[0;34m(\u001b[0m\u001b[0msrc\u001b[0m\u001b[0;34m,\u001b[0m \u001b[0;34m**\u001b[0m\u001b[0mkwds\u001b[0m\u001b[0;34m)\u001b[0m\u001b[0;34m\u001b[0m\u001b[0;34m\u001b[0m\u001b[0m\n\u001b[0m\u001b[1;32m     80\u001b[0m \u001b[0;34m\u001b[0m\u001b[0m\n\u001b[1;32m     81\u001b[0m         \u001b[0mself\u001b[0m\u001b[0;34m.\u001b[0m\u001b[0munnamed_cols\u001b[0m \u001b[0;34m=\u001b[0m \u001b[0mself\u001b[0m\u001b[0;34m.\u001b[0m\u001b[0m_reader\u001b[0m\u001b[0;34m.\u001b[0m\u001b[0munnamed_cols\u001b[0m\u001b[0;34m\u001b[0m\u001b[0;34m\u001b[0m\u001b[0m\n",
            "\u001b[0;32m/usr/local/lib/python3.10/dist-packages/pandas/_libs/parsers.pyx\u001b[0m in \u001b[0;36mpandas._libs.parsers.TextReader.__cinit__\u001b[0;34m()\u001b[0m\n",
            "\u001b[0;32m/usr/local/lib/python3.10/dist-packages/pandas/_libs/parsers.pyx\u001b[0m in \u001b[0;36mpandas._libs.parsers.TextReader._get_header\u001b[0;34m()\u001b[0m\n",
            "\u001b[0;32m/usr/local/lib/python3.10/dist-packages/pandas/_libs/parsers.pyx\u001b[0m in \u001b[0;36mpandas._libs.parsers.TextReader._tokenize_rows\u001b[0;34m()\u001b[0m\n",
            "\u001b[0;32m/usr/local/lib/python3.10/dist-packages/pandas/_libs/parsers.pyx\u001b[0m in \u001b[0;36mpandas._libs.parsers.raise_parser_error\u001b[0;34m()\u001b[0m\n",
            "\u001b[0;31mUnicodeDecodeError\u001b[0m: 'utf-8' codec can't decode byte 0xc1 in position 16: invalid start byte"
          ]
        }
      ]
    },
    {
      "cell_type": "code",
      "source": [
        "#!pip install openpyxl\n",
        "\n",
        "import openpyxl\n",
        "from copy import copy\n",
        "# Load the workbook\n",
        "wb = openpyxl.load_workbook('rs_SeniorMoveIn.xlsx')\n",
        "\n",
        "# Delete the sheets \"Document map\" and \"Sheet3\" if they exist\n",
        "sheets_to_delete = ['Document map', 'Sheet3']\n",
        "for sheet in sheets_to_delete:\n",
        "    if sheet in wb.sheetnames:\n",
        "        std = wb[sheet]\n",
        "        wb.remove(std)\n",
        "\n",
        "if 'Sheet2' in wb.sheetnames:\n",
        "    ws = wb['Sheet2']\n",
        "\n",
        "    # First, let's identify any merged cells that need to be handled.\n",
        "    merged_ranges = list(ws.merged_cells.ranges)\n",
        "    for merged_range in merged_ranges:\n",
        "        ws.unmerge_cells(str(merged_range))\n",
        "\n",
        "    # We'll copy the data and formatting for rows starting from 12 upwards\n",
        "    for row in range(12, ws.max_row + 1):\n",
        "        for col in range(1, ws.max_column + 1):\n",
        "            src_cell = ws.cell(row=row, column=col)\n",
        "            dest_cell = ws.cell(row=row-11, column=col)\n",
        "\n",
        "            # Copy value\n",
        "            dest_cell.value = src_cell.value\n",
        "\n",
        "            # Copy style\n",
        "            if src_cell.has_style:\n",
        "                dest_cell.font = copy(src_cell.font)\n",
        "                dest_cell.border = copy(src_cell.border)\n",
        "                dest_cell.fill = copy(src_cell.fill)\n",
        "                dest_cell.number_format = copy(src_cell.number_format)\n",
        "                dest_cell.protection = copy(src_cell.protection)\n",
        "                dest_cell.alignment = copy(src_cell.alignment)\n",
        "\n",
        "    # Delete the now-empty rows at the bottom\n",
        "    ws.delete_rows(2, 11)\n",
        "\n",
        "    # Re-merge cells as needed, adjusting for the shifted content\n",
        "    for range in merged_ranges:\n",
        "        new_start_row = max(1, range.min_row - 11)\n",
        "        new_end_row = max(1, range.max_row - 11)\n",
        "        ws.merge_cells(start_row=new_start_row, start_column=range.min_col, end_row=new_end_row, end_column=range.max_col)\n",
        "\n",
        "# Save the workbook with changes\n",
        "wb.save('corrected_rs_SeniorMoveIn.xlsx')"
      ],
      "metadata": {
        "id": "S5es0qJt7Jnm"
      },
      "execution_count": null,
      "outputs": []
    },
    {
      "cell_type": "code",
      "source": [
        "wb = openpyxl.load_workbook('rs_SeniorMoveIn.xlsx')\n",
        "\n",
        "# Ensure \"Sheet2\" is present\n"
      ],
      "metadata": {
        "colab": {
          "base_uri": "https://localhost:8080/",
          "height": 216
        },
        "id": "FO_HOAfK7GrI",
        "outputId": "b35fddc0-05ba-4ef9-aab8-136429e64de6"
      },
      "execution_count": null,
      "outputs": [
        {
          "output_type": "error",
          "ename": "NameError",
          "evalue": "name 'copy' is not defined",
          "traceback": [
            "\u001b[0;31m---------------------------------------------------------------------------\u001b[0m",
            "\u001b[0;31mNameError\u001b[0m                                 Traceback (most recent call last)",
            "\u001b[0;32m<ipython-input-7-3ffcfce1a1cf>\u001b[0m in \u001b[0;36m<cell line: 4>\u001b[0;34m()\u001b[0m\n\u001b[1;32m     11\u001b[0m         \u001b[0;32mfor\u001b[0m \u001b[0mcol\u001b[0m \u001b[0;32min\u001b[0m \u001b[0mrange\u001b[0m\u001b[0;34m(\u001b[0m\u001b[0;36m1\u001b[0m\u001b[0;34m,\u001b[0m \u001b[0mmax_col\u001b[0m \u001b[0;34m+\u001b[0m \u001b[0;36m1\u001b[0m\u001b[0;34m)\u001b[0m\u001b[0;34m:\u001b[0m\u001b[0;34m\u001b[0m\u001b[0;34m\u001b[0m\u001b[0m\n\u001b[1;32m     12\u001b[0m             \u001b[0mws\u001b[0m\u001b[0;34m.\u001b[0m\u001b[0mcell\u001b[0m\u001b[0;34m(\u001b[0m\u001b[0mrow\u001b[0m\u001b[0;34m=\u001b[0m\u001b[0mrow\u001b[0m\u001b[0;34m-\u001b[0m\u001b[0;36m11\u001b[0m\u001b[0;34m,\u001b[0m \u001b[0mcolumn\u001b[0m\u001b[0;34m=\u001b[0m\u001b[0mcol\u001b[0m\u001b[0;34m)\u001b[0m\u001b[0;34m.\u001b[0m\u001b[0mvalue\u001b[0m \u001b[0;34m=\u001b[0m \u001b[0mws\u001b[0m\u001b[0;34m.\u001b[0m\u001b[0mcell\u001b[0m\u001b[0;34m(\u001b[0m\u001b[0mrow\u001b[0m\u001b[0;34m=\u001b[0m\u001b[0mrow\u001b[0m\u001b[0;34m,\u001b[0m \u001b[0mcolumn\u001b[0m\u001b[0;34m=\u001b[0m\u001b[0mcol\u001b[0m\u001b[0;34m)\u001b[0m\u001b[0;34m.\u001b[0m\u001b[0mvalue\u001b[0m\u001b[0;34m\u001b[0m\u001b[0;34m\u001b[0m\u001b[0m\n\u001b[0;32m---> 13\u001b[0;31m             \u001b[0mws\u001b[0m\u001b[0;34m.\u001b[0m\u001b[0mcell\u001b[0m\u001b[0;34m(\u001b[0m\u001b[0mrow\u001b[0m\u001b[0;34m=\u001b[0m\u001b[0mrow\u001b[0m\u001b[0;34m-\u001b[0m\u001b[0;36m11\u001b[0m\u001b[0;34m,\u001b[0m \u001b[0mcolumn\u001b[0m\u001b[0;34m=\u001b[0m\u001b[0mcol\u001b[0m\u001b[0;34m)\u001b[0m\u001b[0;34m.\u001b[0m\u001b[0mfont\u001b[0m \u001b[0;34m=\u001b[0m \u001b[0mcopy\u001b[0m\u001b[0;34m(\u001b[0m\u001b[0mws\u001b[0m\u001b[0;34m.\u001b[0m\u001b[0mcell\u001b[0m\u001b[0;34m(\u001b[0m\u001b[0mrow\u001b[0m\u001b[0;34m=\u001b[0m\u001b[0mrow\u001b[0m\u001b[0;34m,\u001b[0m \u001b[0mcolumn\u001b[0m\u001b[0;34m=\u001b[0m\u001b[0mcol\u001b[0m\u001b[0;34m)\u001b[0m\u001b[0;34m.\u001b[0m\u001b[0mfont\u001b[0m\u001b[0;34m)\u001b[0m\u001b[0;34m\u001b[0m\u001b[0;34m\u001b[0m\u001b[0m\n\u001b[0m\u001b[1;32m     14\u001b[0m             \u001b[0mws\u001b[0m\u001b[0;34m.\u001b[0m\u001b[0mcell\u001b[0m\u001b[0;34m(\u001b[0m\u001b[0mrow\u001b[0m\u001b[0;34m=\u001b[0m\u001b[0mrow\u001b[0m\u001b[0;34m-\u001b[0m\u001b[0;36m11\u001b[0m\u001b[0;34m,\u001b[0m \u001b[0mcolumn\u001b[0m\u001b[0;34m=\u001b[0m\u001b[0mcol\u001b[0m\u001b[0;34m)\u001b[0m\u001b[0;34m.\u001b[0m\u001b[0mborder\u001b[0m \u001b[0;34m=\u001b[0m \u001b[0mcopy\u001b[0m\u001b[0;34m(\u001b[0m\u001b[0mws\u001b[0m\u001b[0;34m.\u001b[0m\u001b[0mcell\u001b[0m\u001b[0;34m(\u001b[0m\u001b[0mrow\u001b[0m\u001b[0;34m=\u001b[0m\u001b[0mrow\u001b[0m\u001b[0;34m,\u001b[0m \u001b[0mcolumn\u001b[0m\u001b[0;34m=\u001b[0m\u001b[0mcol\u001b[0m\u001b[0;34m)\u001b[0m\u001b[0;34m.\u001b[0m\u001b[0mborder\u001b[0m\u001b[0;34m)\u001b[0m\u001b[0;34m\u001b[0m\u001b[0;34m\u001b[0m\u001b[0m\n\u001b[1;32m     15\u001b[0m             \u001b[0mws\u001b[0m\u001b[0;34m.\u001b[0m\u001b[0mcell\u001b[0m\u001b[0;34m(\u001b[0m\u001b[0mrow\u001b[0m\u001b[0;34m=\u001b[0m\u001b[0mrow\u001b[0m\u001b[0;34m-\u001b[0m\u001b[0;36m11\u001b[0m\u001b[0;34m,\u001b[0m \u001b[0mcolumn\u001b[0m\u001b[0;34m=\u001b[0m\u001b[0mcol\u001b[0m\u001b[0;34m)\u001b[0m\u001b[0;34m.\u001b[0m\u001b[0mfill\u001b[0m \u001b[0;34m=\u001b[0m \u001b[0mcopy\u001b[0m\u001b[0;34m(\u001b[0m\u001b[0mws\u001b[0m\u001b[0;34m.\u001b[0m\u001b[0mcell\u001b[0m\u001b[0;34m(\u001b[0m\u001b[0mrow\u001b[0m\u001b[0;34m=\u001b[0m\u001b[0mrow\u001b[0m\u001b[0;34m,\u001b[0m \u001b[0mcolumn\u001b[0m\u001b[0;34m=\u001b[0m\u001b[0mcol\u001b[0m\u001b[0;34m)\u001b[0m\u001b[0;34m.\u001b[0m\u001b[0mfill\u001b[0m\u001b[0;34m)\u001b[0m\u001b[0;34m\u001b[0m\u001b[0;34m\u001b[0m\u001b[0m\n",
            "\u001b[0;31mNameError\u001b[0m: name 'copy' is not defined"
          ]
        }
      ]
    }
  ]
}