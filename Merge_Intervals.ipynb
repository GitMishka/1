{
  "nbformat": 4,
  "nbformat_minor": 0,
  "metadata": {
    "colab": {
      "provenance": [],
      "authorship_tag": "ABX9TyMdtzgYOpOZE17iFkYZUWE9",
      "include_colab_link": true
    },
    "kernelspec": {
      "name": "python3",
      "display_name": "Python 3"
    },
    "language_info": {
      "name": "python"
    }
  },
  "cells": [
    {
      "cell_type": "markdown",
      "metadata": {
        "id": "view-in-github",
        "colab_type": "text"
      },
      "source": [
        "<a href=\"https://colab.research.google.com/github/GitMishka/1/blob/main/Merge_Intervals.ipynb\" target=\"_parent\"><img src=\"https://colab.research.google.com/assets/colab-badge.svg\" alt=\"Open In Colab\"/></a>"
      ]
    },
    {
      "cell_type": "code",
      "execution_count": null,
      "metadata": {
        "id": "4sXs2Mqpvdvx"
      },
      "outputs": [],
      "source": [
        "def merge_intervals(intervals):\n",
        "    if not intervals:\n",
        "        return []\n",
        "\n",
        "    intervals.sort(key=lambda x: x[0])\n",
        "\n",
        "    merged = [intervals[0]]\n",
        "    for i in range(1, len(intervals)):\n",
        "        current_interval = intervals[i]\n",
        "        last_merged_interval = merged[-1]\n",
        "\n",
        "        if current_interval[0] <= last_merged_interval[1]:\n",
        "            merged[-1] = (last_merged_interval[0], max(last_merged_interval[1], current_interval[1]))\n",
        "        else:\n",
        "            merged.append(current_interval)\n",
        "\n",
        "    return merged\n"
      ]
    }
  ]
}