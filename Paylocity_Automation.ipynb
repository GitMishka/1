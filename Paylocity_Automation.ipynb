{
  "nbformat": 4,
  "nbformat_minor": 0,
  "metadata": {
    "colab": {
      "provenance": [],
      "authorship_tag": "ABX9TyPUc/t3kt70TnuU6hQZCL3K",
      "include_colab_link": true
    },
    "kernelspec": {
      "name": "python3",
      "display_name": "Python 3"
    },
    "language_info": {
      "name": "python"
    }
  },
  "cells": [
    {
      "cell_type": "markdown",
      "metadata": {
        "id": "view-in-github",
        "colab_type": "text"
      },
      "source": [
        "<a href=\"https://colab.research.google.com/github/GitMishka/1/blob/main/Paylocity_Automation.ipynb\" target=\"_parent\"><img src=\"https://colab.research.google.com/assets/colab-badge.svg\" alt=\"Open In Colab\"/></a>"
      ]
    },
    {
      "cell_type": "code",
      "execution_count": null,
      "metadata": {
        "id": "0EXnPIvsyyrh"
      },
      "outputs": [],
      "source": [
        "import paramiko\n",
        "import os\n",
        "import csv\n",
        "import psycopg2\n",
        "# SFTP Configuration\n",
        "hostname = os.environ.get('FILES_HOST')\n",
        "username = os.environ.get('FILES_USER')\n",
        "password = os.environ.get('FILES_PASSWORD')\n",
        "port = 22\n",
        "remote_dir_path = \"/yardi-qualtrics/testsftp\"\n",
        "local_dir_path = \"./downloaded_files\"\n",
        "\n",
        "DB_PARAMS = {\n",
        "    \"dbname\": os.environ.get('AZURE_DB_NAME'),\n",
        "    \"user\": os.environ.get('AZURE_DB_USER'),\n",
        "    \"password\": os.environ.get('AZURE_DB_PASSWORD'),\n",
        "    \"host\": os.environ.get('AZURE_DB_HOST'),\n",
        "    \"port\": \"5432\"\n",
        "}\n",
        "\n",
        "def insert_data_into_db(file_path):\n",
        "    conn = None\n",
        "    try:\n",
        "        conn = psycopg2.connect(**DB_PARAMS)\n",
        "        cursor = conn.cursor()\n",
        "\n",
        "        with open(file_path, 'r') as f:\n",
        "            reader = csv.reader(f)\n",
        "            next(reader)\n",
        "            for row in reader:\n",
        "\n",
        "                cursor.execute(\"\"\"INSERT INTO public.paylocityreport (\"Community\", \"Date\", \"ED\", \"BOD\", \"DON\", \"FSD\", \"LED\", \"LPD\", \"CRD\", \"MAINT\") VALUES (%s, %s, %s, %s, %s, %s, %s, %s, %s, %s)\"\"\", row)\n",
        "\n",
        "        conn.commit()\n",
        "        cursor.close()\n",
        "        print(f\"Data from {file_path} inserted into the database successfully.\")\n",
        "\n",
        "    except (Exception, psycopg2.DatabaseError) as error:\n",
        "        print(error)\n",
        "    finally:\n",
        "        if conn is not None:\n",
        "            conn.close()\n",
        "\n",
        "ssh_client = paramiko.SSHClient()\n",
        "ssh_client.set_missing_host_key_policy(paramiko.AutoAddPolicy())\n",
        "\n",
        "try:\n",
        "    ssh_client.connect(hostname, port, username, password)\n",
        "    sftp = ssh_client.open_sftp()\n",
        "\n",
        "    if not os.path.exists(local_dir_path):\n",
        "        os.makedirs(local_dir_path)\n",
        "\n",
        "    file_list = sftp.listdir(remote_dir_path)\n",
        "    csv_files = [file for file in file_list if file.endswith('.csv')]\n",
        "\n",
        "    for file in csv_files:\n",
        "        remote_file_path = os.path.join(remote_dir_path, file)\n",
        "        local_file_path = os.path.join(local_dir_path, file)\n",
        "\n",
        "        sftp.get(remote_file_path, local_file_path)\n",
        "        print(f\"File {file} downloaded successfully\")\n",
        "\n",
        "        sftp.remove(remote_file_path)\n",
        "        print(f\"File {file} removed from remote server\")\n",
        "\n",
        "        insert_data_into_db(local_file_path)\n",
        "\n",
        "except Exception as e:\n",
        "    print(f\"An error occurred: {e}\")\n",
        "\n",
        "finally:\n",
        "    if 'sftp' in locals():\n",
        "        sftp.close()\n",
        "    ssh_client.close()\n"
      ]
    }
  ]
}