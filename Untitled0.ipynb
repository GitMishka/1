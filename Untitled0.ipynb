{
  "nbformat": 4,
  "nbformat_minor": 0,
  "metadata": {
    "colab": {
      "provenance": [],
      "authorship_tag": "ABX9TyNy48YFnYEdNkSAae31y4mJ",
      "include_colab_link": true
    },
    "kernelspec": {
      "name": "python3",
      "display_name": "Python 3"
    },
    "language_info": {
      "name": "python"
    }
  },
  "cells": [
    {
      "cell_type": "markdown",
      "metadata": {
        "id": "view-in-github",
        "colab_type": "text"
      },
      "source": [
        "<a href=\"https://colab.research.google.com/github/GitMishka/1/blob/main/Untitled0.ipynb\" target=\"_parent\"><img src=\"https://colab.research.google.com/assets/colab-badge.svg\" alt=\"Open In Colab\"/></a>"
      ]
    },
    {
      "cell_type": "code",
      "execution_count": null,
      "metadata": {
        "id": "-3cKwq8oc7Gk"
      },
      "outputs": [],
      "source": [
        "agg_by_comcode_monthly = df.groupby(['comCode', 'month_year']).agg({\n",
        "    'employee_id': pd.Series.nunique,\n",
        "    'age': ['mean', pd.Series.nunique],\n",
        "    'rate': ['mean', pd.Series.nunique],\n",
        "    'Score': 'mean'\n",
        "}).rename(columns={'employee_id': 'Unique Employee ID', 'age': 'Age', 'rate': 'Rate', 'Score': 'Average Score'})\n",
        "\n",
        "agg_by_comcode_all = df.groupby('comCode').agg({\n",
        "    'employee_id': pd.Series.nunique,\n",
        "    'age': ['mean', pd.Series.nunique],\n",
        "    'rate': ['mean', pd.Series.nunique],\n",
        "    'Score': 'mean'\n",
        "}).rename(columns={'employee_id': 'Unique Employee ID', 'age': 'Age', 'rate': 'Rate', 'Score': 'Average Score'})\n",
        "\n",
        "agg_by_comcode_all.head(), agg_by_comcode_monthly.head()\n"
      ]
    },
    {
      "cell_type": "code",
      "source": [
        "writer = pd.ExcelWriter('employee_data_aggregated_by_comcode.xlsx', engine='xlsxwriter')\n",
        "\n",
        "agg_by_comcode_all.to_excel(writer, sheet_name='All Data by ComCode', index=True)\n",
        "\n",
        "agg_by_comcode_monthly.to_excel(writer, sheet_name='Monthly Data by ComCode', index=True)\n",
        "\n",
        "writer.save()\n",
        "\n"
      ],
      "metadata": {
        "id": "o1PSYqGoduvI"
      },
      "execution_count": null,
      "outputs": []
    }
  ]
}