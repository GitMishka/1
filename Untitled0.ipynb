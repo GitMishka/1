{
  "nbformat": 4,
  "nbformat_minor": 0,
  "metadata": {
    "colab": {
      "provenance": [],
      "authorship_tag": "ABX9TyNKkgvk1NvL4T6Nd1bTUm87",
      "include_colab_link": true
    },
    "kernelspec": {
      "name": "python3",
      "display_name": "Python 3"
    },
    "language_info": {
      "name": "python"
    }
  },
  "cells": [
    {
      "cell_type": "markdown",
      "metadata": {
        "id": "view-in-github",
        "colab_type": "text"
      },
      "source": [
        "<a href=\"https://colab.research.google.com/github/GitMishka/1/blob/main/Untitled0.ipynb\" target=\"_parent\"><img src=\"https://colab.research.google.com/assets/colab-badge.svg\" alt=\"Open In Colab\"/></a>"
      ]
    },
    {
      "cell_type": "code",
      "execution_count": null,
      "metadata": {
        "id": "RHJ8x8flPNEV"
      },
      "outputs": [],
      "source": [
        "import pandas as pd\n",
        "\n",
        "df_csv = pd.read_csv('data.csv')\n",
        "\n",
        "df_excel = pd.read_excel('data.xlsx')\n",
        "\n",
        "df_json = pd.read_json('data.json')\n"
      ]
    },
    {
      "cell_type": "code",
      "source": [
        "df = df.dropna()\n",
        "df = df.fillna(0)\n",
        "\n",
        "filtered_df = df[df['column'] > 10]\n",
        "\n",
        "df['column'] = df['column'].astype(float)\n"
      ],
      "metadata": {
        "id": "2KFbLNUSQFRi"
      },
      "execution_count": null,
      "outputs": []
    }
  ]
}