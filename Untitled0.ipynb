{
  "nbformat": 4,
  "nbformat_minor": 0,
  "metadata": {
    "colab": {
      "provenance": [],
      "authorship_tag": "ABX9TyMHkymipLW2bnyAUDl2J71Z",
      "include_colab_link": true
    },
    "kernelspec": {
      "name": "python3",
      "display_name": "Python 3"
    },
    "language_info": {
      "name": "python"
    }
  },
  "cells": [
    {
      "cell_type": "markdown",
      "metadata": {
        "id": "view-in-github",
        "colab_type": "text"
      },
      "source": [
        "<a href=\"https://colab.research.google.com/github/GitMishka/1/blob/main/Untitled0.ipynb\" target=\"_parent\"><img src=\"https://colab.research.google.com/assets/colab-badge.svg\" alt=\"Open In Colab\"/></a>"
      ]
    },
    {
      "cell_type": "code",
      "execution_count": null,
      "metadata": {
        "id": "pPN07afk33Ka"
      },
      "outputs": [],
      "source": [
        "SELECT\n",
        "  DATEPART(YEAR, datetime) AS year,\n",
        "  DATEPART(QUARTER, datetime) AS quarter,\n",
        "  SUM(sales) AS total_sales,\n",
        "  SUM(price * sales) AS total_sales_value\n",
        "FROM sales_table\n",
        "GROUP BY DATEPART(YEAR, datetime), DATEPART(QUARTER, datetime)\n",
        "ORDER BY year, quarter;\n"
      ]
    },
    {
      "cell_type": "code",
      "source": [
        "WITH ranked_salespeople AS (\n",
        "  SELECT\n",
        "    salesman,\n",
        "    SUM(price * sales) AS total_sales_value,\n",
        "    RANK() OVER (ORDER BY SUM(price * sales) DESC) AS rank\n",
        "  FROM sales_table\n",
        "  GROUP BY salesman\n",
        ")\n",
        "SELECT *\n",
        "FROM ranked_salespeople\n",
        "WHERE rank <= 5;\n"
      ],
      "metadata": {
        "id": "rN73iDfl39hh"
      },
      "execution_count": null,
      "outputs": []
    },
    {
      "cell_type": "code",
      "source": [
        "# prompt: typical data cleaning script\n",
        "\n",
        "import pandas as pd\n",
        "\n",
        "# Load the data\n",
        "df = pd.read_csv('data.csv')\n",
        "\n",
        "# Check for missing values\n",
        "missing_values = df.isnull().sum()\n",
        "\n",
        "# Drop columns with too many missing values\n",
        "df = df.dropna(axis=1, thresh=0.5)\n",
        "\n",
        "# Fill missing values with the mean\n",
        "df = df.fillna(df.mean())\n",
        "\n",
        "# Check for duplicate rows\n",
        "duplicate_rows = df.duplicated()\n",
        "\n",
        "# Drop duplicate rows\n",
        "df = df.drop_duplicates()\n",
        "\n",
        "# Check for outliers\n",
        "outliers = df.loc[(df - df.mean()).abs() > 3 * df.std()]\n",
        "\n",
        "# Remove outliers\n",
        "df = df.drop(outliers.index)\n",
        "\n",
        "# Save the cleaned data\n",
        "df.to_csv('cleaned_data.csv')\n"
      ],
      "metadata": {
        "id": "0e2eh0n74B24"
      },
      "execution_count": null,
      "outputs": []
    }
  ]
}