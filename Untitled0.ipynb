{
  "nbformat": 4,
  "nbformat_minor": 0,
  "metadata": {
    "colab": {
      "provenance": [],
      "authorship_tag": "ABX9TyPDaFWMSRw6iJfSzmL1Z5sf",
      "include_colab_link": true
    },
    "kernelspec": {
      "name": "python3",
      "display_name": "Python 3"
    },
    "language_info": {
      "name": "python"
    }
  },
  "cells": [
    {
      "cell_type": "markdown",
      "metadata": {
        "id": "view-in-github",
        "colab_type": "text"
      },
      "source": [
        "<a href=\"https://colab.research.google.com/github/GitMishka/1/blob/main/Untitled0.ipynb\" target=\"_parent\"><img src=\"https://colab.research.google.com/assets/colab-badge.svg\" alt=\"Open In Colab\"/></a>"
      ]
    },
    {
      "cell_type": "code",
      "execution_count": 1,
      "metadata": {
        "id": "PviXnh3lVHF2"
      },
      "outputs": [],
      "source": [
        "import pandas as pd\n",
        "import json\n",
        "from pandas import json_normalize"
      ]
    },
    {
      "cell_type": "code",
      "source": [
        "with open('fpgh-69ti.json', 'r') as file:\n",
        "    json_data = json.load(file)"
      ],
      "metadata": {
        "id": "5oUowJ7JVMbF"
      },
      "execution_count": 2,
      "outputs": []
    },
    {
      "cell_type": "code",
      "source": [
        "df = json_normalize(json_data)"
      ],
      "metadata": {
        "id": "m597LF9iVZUq"
      },
      "execution_count": 3,
      "outputs": []
    },
    {
      "cell_type": "code",
      "source": [
        "if isinstance(json_data, list):\n",
        "    df = pd.DataFrame(json_data)\n",
        "else:\n",
        "    df = pd.DataFrame([json_data])\n"
      ],
      "metadata": {
        "id": "FmSvG27LVk8j"
      },
      "execution_count": 4,
      "outputs": []
    },
    {
      "cell_type": "code",
      "source": [
        "df.to_csv('output.csv', index=False)\n"
      ],
      "metadata": {
        "id": "WVx1w6nHVnyn"
      },
      "execution_count": 7,
      "outputs": []
    }
  ]
}