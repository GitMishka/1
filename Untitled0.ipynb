{
  "nbformat": 4,
  "nbformat_minor": 0,
  "metadata": {
    "colab": {
      "provenance": [],
      "authorship_tag": "ABX9TyNugQ7QPP8rDOMjIDZlhi+z",
      "include_colab_link": true
    },
    "kernelspec": {
      "name": "python3",
      "display_name": "Python 3"
    },
    "language_info": {
      "name": "python"
    }
  },
  "cells": [
    {
      "cell_type": "markdown",
      "metadata": {
        "id": "view-in-github",
        "colab_type": "text"
      },
      "source": [
        "<a href=\"https://colab.research.google.com/github/GitMishka/1/blob/main/Untitled0.ipynb\" target=\"_parent\"><img src=\"https://colab.research.google.com/assets/colab-badge.svg\" alt=\"Open In Colab\"/></a>"
      ]
    },
    {
      "cell_type": "code",
      "execution_count": null,
      "metadata": {
        "id": "pPN07afk33Ka"
      },
      "outputs": [],
      "source": [
        "SELECT\n",
        "  DATEPART(YEAR, datetime) AS year,\n",
        "  DATEPART(QUARTER, datetime) AS quarter,\n",
        "  SUM(sales) AS total_sales,\n",
        "  SUM(price * sales) AS total_sales_value\n",
        "FROM sales_table\n",
        "GROUP BY DATEPART(YEAR, datetime), DATEPART(QUARTER, datetime)\n",
        "ORDER BY year, quarter;\n"
      ]
    },
    {
      "cell_type": "code",
      "source": [
        "WITH ranked_salespeople AS (\n",
        "  SELECT\n",
        "    salesman,\n",
        "    SUM(price * sales) AS total_sales_value,\n",
        "    RANK() OVER (ORDER BY SUM(price * sales) DESC) AS rank\n",
        "  FROM sales_table\n",
        "  GROUP BY salesman\n",
        ")\n",
        "SELECT *\n",
        "FROM ranked_salespeople\n",
        "WHERE rank <= 5;\n"
      ],
      "metadata": {
        "id": "rN73iDfl39hh"
      },
      "execution_count": null,
      "outputs": []
    },
    {
      "cell_type": "code",
      "source": [],
      "metadata": {
        "id": "0e2eh0n74B24"
      },
      "execution_count": null,
      "outputs": []
    }
  ]
}