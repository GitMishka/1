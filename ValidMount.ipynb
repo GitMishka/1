{
  "nbformat": 4,
  "nbformat_minor": 0,
  "metadata": {
    "colab": {
      "provenance": [],
      "authorship_tag": "ABX9TyNR7nmx+nwhhIVfXgV7z4rf",
      "include_colab_link": true
    },
    "kernelspec": {
      "name": "python3",
      "display_name": "Python 3"
    },
    "language_info": {
      "name": "python"
    }
  },
  "cells": [
    {
      "cell_type": "markdown",
      "metadata": {
        "id": "view-in-github",
        "colab_type": "text"
      },
      "source": [
        "<a href=\"https://colab.research.google.com/github/GitMishka/1/blob/main/ValidMount.ipynb\" target=\"_parent\"><img src=\"https://colab.research.google.com/assets/colab-badge.svg\" alt=\"Open In Colab\"/></a>"
      ]
    },
    {
      "cell_type": "code",
      "execution_count": 5,
      "metadata": {
        "colab": {
          "base_uri": "https://localhost:8080/"
        },
        "id": "ujCLS18bgdYd",
        "outputId": "aa99dc48-cda8-4aff-b574-ee33450bd51f"
      },
      "outputs": [
        {
          "output_type": "stream",
          "name": "stdout",
          "text": [
            "False\n"
          ]
        }
      ],
      "source": [
        "a = [0,2,3,4,5]\n",
        "\n",
        "def mount(a):\n",
        "  i = 1\n",
        "  while(i < len(a) and a[i] > a[i-1]):\n",
        "    i+=1\n",
        "\n",
        "  if(i==1 or i==len(a)):\n",
        "    return False\n",
        "\n",
        "  while(i < len(a) and a[i] < a[i-1]):\n",
        "    i+=1\n",
        "  return i==len(a)\n",
        "print(mount(a))"
      ]
    }
  ]
}