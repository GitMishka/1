{
  "nbformat": 4,
  "nbformat_minor": 0,
  "metadata": {
    "colab": {
      "provenance": [],
      "authorship_tag": "ABX9TyO1mQ2X26t+4PQt6M2aUMh0",
      "include_colab_link": true
    },
    "kernelspec": {
      "name": "python3",
      "display_name": "Python 3"
    },
    "language_info": {
      "name": "python"
    }
  },
  "cells": [
    {
      "cell_type": "markdown",
      "metadata": {
        "id": "view-in-github",
        "colab_type": "text"
      },
      "source": [
        "<a href=\"https://colab.research.google.com/github/GitMishka/1/blob/main/WC_'18_Contest_3_J1_An_Honest_Day's_Work.ipynb\" target=\"_parent\"><img src=\"https://colab.research.google.com/assets/colab-badge.svg\" alt=\"Open In Colab\"/></a>"
      ]
    },
    {
      "cell_type": "code",
      "execution_count": 2,
      "metadata": {
        "colab": {
          "base_uri": "https://localhost:8080/"
        },
        "id": "X7WDZqi-aTSb",
        "outputId": "aadec442-e50d-41f2-e755-63e5797373a0"
      },
      "outputs": [
        {
          "output_type": "execute_result",
          "data": {
            "text/plain": [
              "42"
            ]
          },
          "metadata": {},
          "execution_count": 2
        }
      ],
      "source": [
        "\n",
        "P = int(input())\n",
        "B = int(input())\n",
        "D = int(input())\n",
        "badges_made = P // B\n",
        "\n",
        "leftover_paint = P % B\n",
        "\n",
        "total_money = (badges_made * D) + leftover_paint\n",
        "\n",
        "total_money\n"
      ]
    }
  ]
}