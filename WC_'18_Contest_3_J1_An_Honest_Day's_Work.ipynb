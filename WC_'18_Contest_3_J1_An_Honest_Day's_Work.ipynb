{
  "nbformat": 4,
  "nbformat_minor": 0,
  "metadata": {
    "colab": {
      "provenance": [],
      "authorship_tag": "ABX9TyMTuo3bhfQCsMEUFnK0PPu+",
      "include_colab_link": true
    },
    "kernelspec": {
      "name": "python3",
      "display_name": "Python 3"
    },
    "language_info": {
      "name": "python"
    }
  },
  "cells": [
    {
      "cell_type": "markdown",
      "metadata": {
        "id": "view-in-github",
        "colab_type": "text"
      },
      "source": [
        "<a href=\"https://colab.research.google.com/github/GitMishka/1/blob/main/WC_'18_Contest_3_J1_An_Honest_Day's_Work.ipynb\" target=\"_parent\"><img src=\"https://colab.research.google.com/assets/colab-badge.svg\" alt=\"Open In Colab\"/></a>"
      ]
    },
    {
      "cell_type": "code",
      "execution_count": 2,
      "metadata": {
        "colab": {
          "base_uri": "https://localhost:8080/"
        },
        "id": "X7WDZqi-aTSb",
        "outputId": "aadec442-e50d-41f2-e755-63e5797373a0"
      },
      "outputs": [
        {
          "output_type": "execute_result",
          "data": {
            "text/plain": [
              "42"
            ]
          },
          "metadata": {},
          "execution_count": 2
        }
      ],
      "source": [
        "\n",
        "# P = int(input())\n",
        "# B = int(input())\n",
        "# D = int(input())\n",
        "\n",
        "\n",
        "P = 14  # litres of paint\n",
        "B = 3   # litres of paint per badge\n",
        "D = 10  # Pokédollars per badge\n",
        "badges_made = P // B\n",
        "\n",
        "leftover_paint = P % B\n",
        "\n",
        "total_money = (badges_made * D) + leftover_paint\n",
        "\n",
        "total_money\n"
      ]
    },
    {
      "cell_type": "code",
      "source": [],
      "metadata": {
        "id": "HRcH8SI1bgA-"
      },
      "execution_count": null,
      "outputs": []
    }
  ]
}