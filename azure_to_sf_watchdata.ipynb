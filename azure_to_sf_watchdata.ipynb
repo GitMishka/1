{
  "nbformat": 4,
  "nbformat_minor": 0,
  "metadata": {
    "colab": {
      "provenance": [],
      "authorship_tag": "ABX9TyNYU9JCiqM79DZl2j5NhqsE",
      "include_colab_link": true
    },
    "kernelspec": {
      "name": "python3",
      "display_name": "Python 3"
    },
    "language_info": {
      "name": "python"
    }
  },
  "cells": [
    {
      "cell_type": "markdown",
      "metadata": {
        "id": "view-in-github",
        "colab_type": "text"
      },
      "source": [
        "<a href=\"https://colab.research.google.com/github/GitMishka/1/blob/main/azure_to_sf_watchdata.ipynb\" target=\"_parent\"><img src=\"https://colab.research.google.com/assets/colab-badge.svg\" alt=\"Open In Colab\"/></a>"
      ]
    },
    {
      "cell_type": "code",
      "execution_count": null,
      "metadata": {
        "id": "EKdUEji9Rs6R"
      },
      "outputs": [],
      "source": [
        "use database azure;\n",
        "CREATE FILE FORMAT my_csv_format\n",
        "TYPE = 'CSV'\n",
        "FIELD_DELIMITER = ','\n",
        "SKIP_HEADER = 1;\n",
        "\n",
        "\n",
        "\n",
        "\n",
        "CREATE STORAGE INTEGRATION azure_integration\n",
        "TYPE = EXTERNAL_STAGE\n",
        "STORAGE_PROVIDER = AZURE\n",
        "ENABLED = TRUE\n",
        "AZURE_TENANT_ID = 'c87f340c-7713-40bf--c398f0cc3780'\n",
        "STORAGE_ALLOWED_LOCATIONS = ('azure://projectolympics.blob.core..net/github1');\n",
        "\n",
        "DROP STAGE MY_EXTERNAL_STAGE;\n",
        "\n",
        "CREATE STAGE my_external_stage\n",
        "URL = 'azure://projectolympics.blob.core.windows.net/github1'\n",
        "STORAGE_INTEGRATION = azure_integration\n",
        "CREDENTIALS = (AZURE_SAS_TOKEN = '');\n",
        "\n",
        "\n",
        "CREATE STAGE my_external_stage\n",
        "URL = 'azure://projectolympics.blob.core.windows.net/github1'\n",
        "CREDENTIALS = (AZURE_SAS_TOKEN = '');\n",
        "\n",
        "CREATE TABLE my_reddit_data (\n",
        "    Unnamed_0 INT,\n",
        "    title VARCHAR(500),\n",
        "    selftext VARCHAR(8000), -- or TEXT if you expect very long posts\n",
        "    created_utc TIMESTAMP_NTZ,\n",
        "    upvotes INT,\n",
        "    url VARCHAR(1000)\n",
        ");\n",
        "\n",
        "COPY INTO my_reddit_data\n",
        "FROM @MY_EXTERNAL_STAGE/sample_20231103_001530.csv\n",
        "FILE_FORMAT = (FORMAT_NAME = my_csv_format)\n",
        "ON_ERROR = CONTINUE;\n",
        "\n",
        "SHOW FILE FORMATS;\n",
        "\n",
        "CREATE FILE FORMAT MY_CSV_FORMAT\n",
        "    TYPE = 'CSV'\n",
        "    FIELD_DELIMITER = ','\n",
        "    SKIP_HEADER = 1\n",
        "    FIELD_OPTIONALLY_ENCLOSED_BY = '\"'\n",
        "    EMPTY_FIELD_AS_NULL = TRUE\n",
        "    TRIM_SPACE = TRUE;\n",
        "\n",
        "\n",
        "\n"
      ]
    }
  ]
}