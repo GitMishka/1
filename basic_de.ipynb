{
  "nbformat": 4,
  "nbformat_minor": 0,
  "metadata": {
    "colab": {
      "provenance": [],
      "authorship_tag": "ABX9TyMCaZzDaPbtMw/uLHE8vtF0",
      "include_colab_link": true
    },
    "kernelspec": {
      "name": "python3",
      "display_name": "Python 3"
    },
    "language_info": {
      "name": "python"
    }
  },
  "cells": [
    {
      "cell_type": "markdown",
      "metadata": {
        "id": "view-in-github",
        "colab_type": "text"
      },
      "source": [
        "<a href=\"https://colab.research.google.com/github/GitMishka/1/blob/main/basic_de.ipynb\" target=\"_parent\"><img src=\"https://colab.research.google.com/assets/colab-badge.svg\" alt=\"Open In Colab\"/></a>"
      ]
    },
    {
      "cell_type": "code",
      "execution_count": null,
      "metadata": {
        "id": "RHJ8x8flPNEV"
      },
      "outputs": [],
      "source": [
        "import pandas as pd\n",
        "\n",
        "df_csv = pd.read_csv('data.csv')\n",
        "\n",
        "df_excel = pd.read_excel('data.xlsx')\n",
        "\n",
        "df_json = pd.read_json('data.json')\n"
      ]
    },
    {
      "cell_type": "code",
      "source": [
        "df = df.dropna()\n",
        "df = df.fillna(0)\n",
        "\n",
        "filtered_df = df[df['column'] > 10]\n",
        "\n",
        "df['column'] = df['column'].astype(float)\n"
      ],
      "metadata": {
        "id": "2KFbLNUSQFRi"
      },
      "execution_count": null,
      "outputs": []
    },
    {
      "cell_type": "code",
      "source": [
        "grouped_df = df.groupby('column').sum()"
      ],
      "metadata": {
        "id": "0edQmeU2QQgC"
      },
      "execution_count": null,
      "outputs": []
    },
    {
      "cell_type": "code",
      "source": [
        "df.to_csv('data_cleaned.csv')"
      ],
      "metadata": {
        "id": "DH7bjEtTQRoH"
      },
      "execution_count": null,
      "outputs": []
    },
    {
      "cell_type": "code",
      "source": [
        "print(df.describe())\n",
        "print(df.head())\n"
      ],
      "metadata": {
        "id": "bWg20fPEQW5g"
      },
      "execution_count": null,
      "outputs": []
    },
    {
      "cell_type": "code",
      "source": [
        "from pyspark.sql import SparkSession\n",
        "\n",
        "spark = SparkSession.builder.appName('example').getOrCreate()\n",
        "\n",
        "df_spark = spark.read.csv('large_data.csv')\n"
      ],
      "metadata": {
        "id": "j2tJdWBpRU4x"
      },
      "execution_count": null,
      "outputs": []
    },
    {
      "cell_type": "code",
      "source": [
        "import matplotlib.pyplot as plt\n",
        "df['column'].plot(kind='bar')\n",
        "plt.show()\n"
      ],
      "metadata": {
        "id": "xLzPvzgkRWbF"
      },
      "execution_count": null,
      "outputs": []
    },
    {
      "cell_type": "code",
      "source": [
        "df['new_column'] = df['existing_column'].apply(lambda x: x * 2)\n",
        "\n",
        "df['combined_column'] = df['col1'] + df['col2']\n",
        "\n",
        "pivot = df.pivot_table(index='category', columns='type', values='value', aggfunc='sum')\n"
      ],
      "metadata": {
        "id": "9p8UYb90R4FN"
      },
      "execution_count": null,
      "outputs": []
    },
    {
      "cell_type": "code",
      "source": [
        "merged_df = pd.merge(df1, df2, on='common_column')\n",
        "concatenated_df = pd.concat([df1, df2], axis=0)\n",
        "duplicates = df[df.duplicated()]\n",
        "invalid_data = df[(df['column'] < 0) | (df['column'] > 100)]\n"
      ],
      "metadata": {
        "id": "4UM6qdwYR-mh"
      },
      "execution_count": null,
      "outputs": []
    },
    {
      "cell_type": "code",
      "source": [
        "import pandas as pd\n",
        "\n",
        "def read_csv(filename):\n",
        "    data = pd.read_csv(filename)\n",
        "    print(data)\n",
        "\n",
        "read_csv('data.csv')\n"
      ],
      "metadata": {
        "id": "zqgbNJ4Vgm0e"
      },
      "execution_count": null,
      "outputs": []
    },
    {
      "cell_type": "code",
      "source": [
        "import json\n",
        "\n",
        "data = {\"name\": \"John\", \"age\": 30, \"city\": \"New York\"}\n",
        "\n",
        "with open('data.json', 'w') as f:\n",
        "    json.dump(data, f)\n"
      ],
      "metadata": {
        "id": "I8qIf6nRhK14"
      },
      "execution_count": null,
      "outputs": []
    },
    {
      "cell_type": "code",
      "source": [
        "def filter_even_numbers(numbers):\n",
        "    return [num for num in numbers if num % 2 == 0]\n",
        "\n",
        "numbers = [1, 2, 3, 4, 5, 6]\n",
        "print(filter_even_numbers(numbers))\n"
      ],
      "metadata": {
        "id": "jL9aiXJphOhS"
      },
      "execution_count": null,
      "outputs": []
    },
    {
      "cell_type": "code",
      "source": [
        "SELECT * FROM employees WHERE salary > 50000;\n"
      ],
      "metadata": {
        "id": "Wsv3ZP0XhTqr"
      },
      "execution_count": null,
      "outputs": []
    },
    {
      "cell_type": "code",
      "source": [
        "import gzip\n",
        "import shutil\n",
        "\n",
        "with open('log.txt', 'rb') as f_in:\n",
        "    with gzip.open('log.txt.gz', 'wb') as f_out:\n",
        "        shutil.copyfileobj(f_in, f_out)\n"
      ],
      "metadata": {
        "id": "t4YYtF3HhbnR"
      },
      "execution_count": null,
      "outputs": []
    },
    {
      "cell_type": "code",
      "source": [
        "from collections import defaultdict\n",
        "\n",
        "def group_by_age(data):\n",
        "    grouped_data = defaultdict(list)\n",
        "    for name, age in data:\n",
        "        grouped_data[age].append(name)\n",
        "    return dict(grouped_data)\n",
        "\n",
        "data = [(\"Alice\", 30), (\"Bob\", 25), (\"Eve\", 30)]\n",
        "print(group_by_age(data))\n"
      ],
      "metadata": {
        "id": "j5eCbpXLhdfD"
      },
      "execution_count": null,
      "outputs": []
    },
    {
      "cell_type": "code",
      "source": [
        "import requests\n",
        "\n",
        "def fetch_data(url):\n",
        "    response = requests.get(url)\n",
        "    if response.status_code == 200:\n",
        "        return response.json()\n",
        "    else:\n",
        "        return \"Error\"\n",
        "\n",
        "url = 'https://api.example.com/data'\n",
        "print(fetch_data(url))\n"
      ],
      "metadata": {
        "id": "z4jQuWa8hjJY"
      },
      "execution_count": null,
      "outputs": []
    },
    {
      "cell_type": "code",
      "source": [
        "import pandas as pd\n",
        "\n",
        "def filter_dataframe(df):\n",
        "    return df[df['age'] > 30]\n",
        "\n",
        "data = {'name': ['Alice', 'Bob', 'Charlie'], 'age': [25, 35, 45]}\n",
        "df = pd.DataFrame(data)\n",
        "print(filter_dataframe(df))\n"
      ],
      "metadata": {
        "id": "agSdPRGShpTt"
      },
      "execution_count": null,
      "outputs": []
    },
    {
      "cell_type": "code",
      "source": [
        "def reverse_sentence(sentence):\n",
        "    words = sentence.split()\n",
        "    return ' '.join(reversed(words))\n",
        "\n",
        "sentence = \"Hello world\"\n",
        "print(reverse_sentence(sentence))\n"
      ],
      "metadata": {
        "id": "cdQCET75hlcK"
      },
      "execution_count": null,
      "outputs": []
    },
    {
      "cell_type": "code",
      "source": [
        "from datetime import datetime\n",
        "\n",
        "def print_current_date():\n",
        "    print(datetime.now().strftime(\"%Y-%m-%d\"))\n",
        "\n",
        "print_current_date()\n"
      ],
      "metadata": {
        "id": "vLHpWv7whq3O"
      },
      "execution_count": null,
      "outputs": []
    },
    {
      "cell_type": "code",
      "source": [
        "SELECT * FROM table_name;\n",
        "SELECT column1, column2 FROM table_name;\n",
        "SELECT * FROM table_name WHERE condition;\n",
        "SELECT DISTINCT column_name FROM table_name;\n",
        "SELECT * FROM table_name ORDER BY column1 ASC, column2 DESC;\n"
      ],
      "metadata": {
        "id": "ev8lTxeBsBXl"
      },
      "execution_count": null,
      "outputs": []
    },
    {
      "cell_type": "code",
      "source": [
        "SELECT COUNT(column_name) FROM table_name;\n",
        "SELECT column1, COUNT(column2) FROM table_name GROUP BY column1;\n",
        "SELECT * FROM table1 JOIN table2 ON table1.common_field = table2.common_field;\n",
        "SELECT * FROM table_name WHERE column_name IN (SELECT column_name FROM other_table WHERE condition);\n",
        "INSERT INTO table_name (column1, column2) VALUES (value1, value2);\n",
        "UPDATE table_name SET column1 = value1, column2 = value2 WHERE condition;\n",
        "DELETE FROM table_name WHERE condition;\n"
      ],
      "metadata": {
        "id": "vpkmUuBIsJF0"
      },
      "execution_count": null,
      "outputs": []
    },
    {
      "cell_type": "code",
      "source": [
        "CREATE TABLE table_name (\n",
        "    column1 datatype,\n",
        "    column2 datatype,\n",
        "    column3 datatype\n",
        ");\n",
        "ALTER TABLE table_name ADD column_name datatype;\n",
        "CREATE INDEX index_name ON table_name (column_name);\n"
      ],
      "metadata": {
        "id": "MBpm8Z3fsS-u"
      },
      "execution_count": null,
      "outputs": []
    }
  ]
}