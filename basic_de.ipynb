{
  "nbformat": 4,
  "nbformat_minor": 0,
  "metadata": {
    "colab": {
      "provenance": [],
      "authorship_tag": "ABX9TyP46KtDdIsSQYXSQiVidBjQ",
      "include_colab_link": true
    },
    "kernelspec": {
      "name": "python3",
      "display_name": "Python 3"
    },
    "language_info": {
      "name": "python"
    }
  },
  "cells": [
    {
      "cell_type": "markdown",
      "metadata": {
        "id": "view-in-github",
        "colab_type": "text"
      },
      "source": [
        "<a href=\"https://colab.research.google.com/github/GitMishka/1/blob/main/basic_de.ipynb\" target=\"_parent\"><img src=\"https://colab.research.google.com/assets/colab-badge.svg\" alt=\"Open In Colab\"/></a>"
      ]
    },
    {
      "cell_type": "code",
      "execution_count": null,
      "metadata": {
        "id": "RHJ8x8flPNEV"
      },
      "outputs": [],
      "source": [
        "import pandas as pd\n",
        "\n",
        "df_csv = pd.read_csv('data.csv')\n",
        "\n",
        "df_excel = pd.read_excel('data.xlsx')\n",
        "\n",
        "df_json = pd.read_json('data.json')\n"
      ]
    },
    {
      "cell_type": "code",
      "source": [
        "df = df.dropna()\n",
        "df = df.fillna(0)\n",
        "\n",
        "filtered_df = df[df['column'] > 10]\n",
        "\n",
        "df['column'] = df['column'].astype(float)\n"
      ],
      "metadata": {
        "id": "2KFbLNUSQFRi"
      },
      "execution_count": null,
      "outputs": []
    },
    {
      "cell_type": "code",
      "source": [
        "grouped_df = df.groupby('column').sum()"
      ],
      "metadata": {
        "id": "0edQmeU2QQgC"
      },
      "execution_count": null,
      "outputs": []
    },
    {
      "cell_type": "code",
      "source": [
        "df.to_csv('data_cleaned.csv')"
      ],
      "metadata": {
        "id": "DH7bjEtTQRoH"
      },
      "execution_count": null,
      "outputs": []
    },
    {
      "cell_type": "code",
      "source": [
        "print(df.describe())\n",
        "print(df.head())\n"
      ],
      "metadata": {
        "id": "bWg20fPEQW5g"
      },
      "execution_count": null,
      "outputs": []
    },
    {
      "cell_type": "code",
      "source": [
        "from pyspark.sql import SparkSession\n",
        "\n",
        "spark = SparkSession.builder.appName('example').getOrCreate()\n",
        "\n",
        "df_spark = spark.read.csv('large_data.csv')\n"
      ],
      "metadata": {
        "id": "j2tJdWBpRU4x"
      },
      "execution_count": null,
      "outputs": []
    },
    {
      "cell_type": "code",
      "source": [
        "import matplotlib.pyplot as plt\n",
        "df['column'].plot(kind='bar')\n",
        "plt.show()\n"
      ],
      "metadata": {
        "id": "xLzPvzgkRWbF"
      },
      "execution_count": null,
      "outputs": []
    },
    {
      "cell_type": "code",
      "source": [
        "df['new_column'] = df['existing_column'].apply(lambda x: x * 2)\n",
        "\n",
        "df['combined_column'] = df['col1'] + df['col2']\n",
        "\n",
        "pivot = df.pivot_table(index='category', columns='type', values='value', aggfunc='sum')\n"
      ],
      "metadata": {
        "id": "9p8UYb90R4FN"
      },
      "execution_count": null,
      "outputs": []
    },
    {
      "cell_type": "code",
      "source": [
        "merged_df = pd.merge(df1, df2, on='common_column')\n",
        "concatenated_df = pd.concat([df1, df2], axis=0)\n",
        "duplicates = df[df.duplicated()]\n",
        "invalid_data = df[(df['column'] < 0) | (df['column'] > 100)]\n"
      ],
      "metadata": {
        "id": "4UM6qdwYR-mh"
      },
      "execution_count": null,
      "outputs": []
    },
    {
      "cell_type": "code",
      "source": [
        "import pandas as pd\n",
        "\n",
        "def read_csv(filename):\n",
        "    data = pd.read_csv(filename)\n",
        "    print(data)\n",
        "\n",
        "read_csv('data.csv')\n"
      ],
      "metadata": {
        "id": "zqgbNJ4Vgm0e"
      },
      "execution_count": null,
      "outputs": []
    },
    {
      "cell_type": "code",
      "source": [
        "import json\n",
        "\n",
        "data = {\"name\": \"John\", \"age\": 30, \"city\": \"New York\"}\n",
        "\n",
        "with open('data.json', 'w') as f:\n",
        "    json.dump(data, f)\n"
      ],
      "metadata": {
        "id": "I8qIf6nRhK14"
      },
      "execution_count": null,
      "outputs": []
    },
    {
      "cell_type": "code",
      "source": [
        "def filter_even_numbers(numbers):\n",
        "    return [num for num in numbers if num % 2 == 0]\n",
        "\n",
        "numbers = [1, 2, 3, 4, 5, 6]\n",
        "print(filter_even_numbers(numbers))\n"
      ],
      "metadata": {
        "id": "jL9aiXJphOhS"
      },
      "execution_count": null,
      "outputs": []
    },
    {
      "cell_type": "code",
      "source": [
        "SELECT * FROM employees WHERE salary > 50000;\n"
      ],
      "metadata": {
        "id": "Wsv3ZP0XhTqr"
      },
      "execution_count": null,
      "outputs": []
    }
  ]
}