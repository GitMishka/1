{
  "nbformat": 4,
  "nbformat_minor": 0,
  "metadata": {
    "colab": {
      "provenance": [],
      "authorship_tag": "ABX9TyPx6gtRNmRnXsXD3N8vEo5p",
      "include_colab_link": true
    },
    "kernelspec": {
      "name": "python3",
      "display_name": "Python 3"
    },
    "language_info": {
      "name": "python"
    }
  },
  "cells": [
    {
      "cell_type": "markdown",
      "metadata": {
        "id": "view-in-github",
        "colab_type": "text"
      },
      "source": [
        "<a href=\"https://colab.research.google.com/github/GitMishka/1/blob/main/commFileCreator.ipynb\" target=\"_parent\"><img src=\"https://colab.research.google.com/assets/colab-badge.svg\" alt=\"Open In Colab\"/></a>"
      ]
    },
    {
      "cell_type": "code",
      "source": [
        "from google.colab import drive\n",
        "drive.mount('/content/drive')\n"
      ],
      "metadata": {
        "colab": {
          "base_uri": "https://localhost:8080/"
        },
        "id": "3BwYIyaVfUXh",
        "outputId": "5f7fb6a6-e928-4720-e245-f8d89c1c0284"
      },
      "execution_count": null,
      "outputs": [
        {
          "output_type": "stream",
          "name": "stdout",
          "text": [
            "Drive already mounted at /content/drive; to attempt to forcibly remount, call drive.mount(\"/content/drive\", force_remount=True).\n"
          ]
        }
      ]
    },
    {
      "cell_type": "code",
      "source": [],
      "metadata": {
        "id": "3MvVt9zygvhr"
      },
      "execution_count": null,
      "outputs": []
    },
    {
      "cell_type": "code",
      "execution_count": null,
      "metadata": {
        "colab": {
          "base_uri": "https://localhost:8080/"
        },
        "id": "K2bf4VjIfIol",
        "outputId": "8df4d2d5-c815-4a06-b3d3-4b2f63a7d1ef"
      },
      "outputs": [
        {
          "output_type": "stream",
          "name": "stdout",
          "text": [
            "CSV files have been created for each community.\n"
          ]
        }
      ],
      "source": [
        "import pandas as pd\n",
        "import os\n",
        "\n",
        "data = pd.read_csv('/content/forColab.csv')\n",
        "data['Community'] = data['Community'].fillna('Unknown Community')\n",
        "\n",
        "for community in data['Community'].unique():\n",
        "    community_data = data[data['Community'] == community]\n",
        "    safe_filename = community[:50].replace(' ', '_').replace('/', '_') + '.csv'\n",
        "\n",
        "    directory_path = ''\n",
        "    # Check if the directory exists, if not, create it\n",
        "    if not os.path.exists(directory_path):\n",
        "        os.makedirs(directory_path)\n",
        "\n",
        "    file_path = os.path.join(directory_path, safe_filename)\n",
        "\n",
        "    # Save the community data to CSV\n",
        "    community_data.to_csv(file_path, index=False)\n",
        "\n",
        "print(\"CSV files have been created for each community.\")\n"
      ]
    },
    {
      "cell_type": "code",
      "source": [
        "from google.colab import files\n",
        "\n",
        "files.download('path_to_your_file_inside_colab')\n"
      ],
      "metadata": {
        "id": "8xmV84OKh2pk"
      },
      "execution_count": null,
      "outputs": []
    }
  ]
}