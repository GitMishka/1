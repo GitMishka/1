{
  "nbformat": 4,
  "nbformat_minor": 0,
  "metadata": {
    "colab": {
      "provenance": [],
      "authorship_tag": "ABX9TyN6sS4W3f4AFCaQ5qJ1ZUJ+",
      "include_colab_link": true
    },
    "kernelspec": {
      "name": "python3",
      "display_name": "Python 3"
    },
    "language_info": {
      "name": "python"
    }
  },
  "cells": [
    {
      "cell_type": "markdown",
      "metadata": {
        "id": "view-in-github",
        "colab_type": "text"
      },
      "source": [
        "<a href=\"https://colab.research.google.com/github/GitMishka/1/blob/main/data_eng.ipynb\" target=\"_parent\"><img src=\"https://colab.research.google.com/assets/colab-badge.svg\" alt=\"Open In Colab\"/></a>"
      ]
    },
    {
      "cell_type": "code",
      "execution_count": 1,
      "metadata": {
        "id": "xO76HWd384bt"
      },
      "outputs": [],
      "source": [
        "data = {\n",
        "    'Name': ['Alice', 'Bob', 'Charlie'],\n",
        "    'Age': [24, 27, 22],\n",
        "    'City': ['New York', 'Los Angeles', 'Chicago']\n",
        "}\n"
      ]
    },
    {
      "cell_type": "code",
      "source": [
        "import pandas as pd\n",
        "\n",
        "data = {\n",
        "    'Name': ['Alice', 'Bob', 'Charlie'],\n",
        "    'Age': [24, 27, 22],\n",
        "    'City': ['New York', 'Los Angeles', 'Chicago']\n",
        "}\n",
        "\n",
        "df = pd.DataFrame(data)\n",
        "print(df)\n"
      ],
      "metadata": {
        "colab": {
          "base_uri": "https://localhost:8080/"
        },
        "id": "2B_GUXvJ9XsB",
        "outputId": "1fbfdef2-bb08-49f7-cf57-f4623e7b122b"
      },
      "execution_count": 3,
      "outputs": [
        {
          "output_type": "stream",
          "name": "stdout",
          "text": [
            "      Name  Age         City\n",
            "0    Alice   24     New York\n",
            "1      Bob   27  Los Angeles\n",
            "2  Charlie   22      Chicago\n"
          ]
        }
      ]
    },
    {
      "cell_type": "code",
      "source": [
        "print(df['Age'])\n"
      ],
      "metadata": {
        "colab": {
          "base_uri": "https://localhost:8080/"
        },
        "id": "FGiHrJZP9ic_",
        "outputId": "0fb685a5-0625-45f5-c70f-d0189fec17a9"
      },
      "execution_count": 4,
      "outputs": [
        {
          "output_type": "stream",
          "name": "stdout",
          "text": [
            "0    24\n",
            "1    27\n",
            "2    22\n",
            "Name: Age, dtype: int64\n"
          ]
        }
      ]
    },
    {
      "cell_type": "code",
      "source": [
        "print(df[df['Age'] > 23])\n"
      ],
      "metadata": {
        "colab": {
          "base_uri": "https://localhost:8080/"
        },
        "id": "y5oQmV3j9kvo",
        "outputId": "c4ed4c6e-1582-4738-f9d8-d8e5a7823888"
      },
      "execution_count": 5,
      "outputs": [
        {
          "output_type": "stream",
          "name": "stdout",
          "text": [
            "    Name  Age         City\n",
            "0  Alice   24     New York\n",
            "1    Bob   27  Los Angeles\n"
          ]
        }
      ]
    },
    {
      "cell_type": "code",
      "source": [
        "df['Years of Experience'] = [2, 6, 1]\n",
        "print(df)\n"
      ],
      "metadata": {
        "colab": {
          "base_uri": "https://localhost:8080/"
        },
        "id": "NnTLSnKF9k3V",
        "outputId": "f37369df-bbdd-49f1-8ae2-43729a4a23d0"
      },
      "execution_count": 6,
      "outputs": [
        {
          "output_type": "stream",
          "name": "stdout",
          "text": [
            "      Name  Age         City  Years of Experience\n",
            "0    Alice   24     New York                    2\n",
            "1      Bob   27  Los Angeles                    6\n",
            "2  Charlie   22      Chicago                    1\n"
          ]
        }
      ]
    },
    {
      "cell_type": "code",
      "source": [
        "average_age = df['Age'].mean()\n",
        "print(f\"Average Age: {average_age}\")\n"
      ],
      "metadata": {
        "colab": {
          "base_uri": "https://localhost:8080/"
        },
        "id": "3x7tCyXY9k-P",
        "outputId": "1710758b-d982-493a-e55a-6ce1739e8e60"
      },
      "execution_count": 7,
      "outputs": [
        {
          "output_type": "stream",
          "name": "stdout",
          "text": [
            "Average Age: 24.333333333333332\n"
          ]
        }
      ]
    },
    {
      "cell_type": "code",
      "source": [
        "df.to_csv('exported_data.csv', index=False)\n"
      ],
      "metadata": {
        "id": "X9Iv_zbO-Adz"
      },
      "execution_count": 8,
      "outputs": []
    },
    {
      "cell_type": "code",
      "source": [
        "grouped_data = df.groupby('City')['Age'].mean()\n",
        "print(grouped_data)\n"
      ],
      "metadata": {
        "colab": {
          "base_uri": "https://localhost:8080/"
        },
        "id": "TZeFC0yk-Alv",
        "outputId": "c0650c4c-dc7b-4492-d65f-ee4ca79eb532"
      },
      "execution_count": 9,
      "outputs": [
        {
          "output_type": "stream",
          "name": "stdout",
          "text": [
            "City\n",
            "Chicago        22.0\n",
            "Los Angeles    27.0\n",
            "New York       24.0\n",
            "Name: Age, dtype: float64\n"
          ]
        }
      ]
    },
    {
      "cell_type": "code",
      "source": [
        "data_with_nans = {\n",
        "    'A': [1, 2, None, 4],\n",
        "    'B': [5, None, None, 8],\n",
        "    'C': [9, 10, 11, 12]\n",
        "}\n"
      ],
      "metadata": {
        "id": "OHHgdS8f-Asc"
      },
      "execution_count": 10,
      "outputs": []
    },
    {
      "cell_type": "code",
      "source": [
        "df_with_nans = pd.DataFrame(data_with_nans)\n",
        "df_filled = df_with_nans.fillna(df_with_nans.mean())\n",
        "print(df_filled)\n"
      ],
      "metadata": {
        "colab": {
          "base_uri": "https://localhost:8080/"
        },
        "id": "kwCDtdw1-QHh",
        "outputId": "e4bd76ce-c906-4810-8a7b-c0e110950e8a"
      },
      "execution_count": 11,
      "outputs": [
        {
          "output_type": "stream",
          "name": "stdout",
          "text": [
            "          A    B   C\n",
            "0  1.000000  5.0   9\n",
            "1  2.000000  6.5  10\n",
            "2  2.333333  6.5  11\n",
            "3  4.000000  8.0  12\n"
          ]
        }
      ]
    },
    {
      "cell_type": "code",
      "source": [
        "df1 = pd.DataFrame({'ID': [1, 2, 3], 'Name': ['Alice', 'Bob', 'Charlie']})\n",
        "df2 = pd.DataFrame({'ID': [1, 2, 4], 'Age': [24, 27, 26]})\n"
      ],
      "metadata": {
        "id": "noCrkyL2-WMS"
      },
      "execution_count": 12,
      "outputs": []
    },
    {
      "cell_type": "code",
      "source": [
        "merged_df = pd.merge(df1, df2, on='ID', how='inner')\n",
        "print(merged_df)\n"
      ],
      "metadata": {
        "colab": {
          "base_uri": "https://localhost:8080/"
        },
        "id": "w29SpqX_-XbO",
        "outputId": "02da8cd4-ac1d-4e3d-dfb2-044fc830813f"
      },
      "execution_count": 13,
      "outputs": [
        {
          "output_type": "stream",
          "name": "stdout",
          "text": [
            "   ID   Name  Age\n",
            "0   1  Alice   24\n",
            "1   2    Bob   27\n"
          ]
        }
      ]
    },
    {
      "cell_type": "code",
      "source": [
        "WITH RankedSales AS (\n",
        "    SELECT\n",
        "        product_id,\n",
        "        amount_in_sales,\n",
        "        amount_sold,\n",
        "        RANK() OVER (PARTITION BY product_id ORDER BY amount_in_sales DESC) AS sales_rank\n",
        "    FROM\n",
        "        sales\n",
        ")\n",
        "SELECT\n",
        "    product_id,\n",
        "    amount_in_sales,\n",
        "    amount_sold\n",
        "FROM\n",
        "    RankedSales\n",
        "WHERE\n",
        "    sales_rank <= 10;\n"
      ],
      "metadata": {
        "id": "x10YGL_t_m0U"
      },
      "execution_count": null,
      "outputs": []
    },
    {
      "cell_type": "code",
      "source": [
        "WITH TotalSales AS (\n",
        "    SELECT\n",
        "        customer_id,\n",
        "        SUM(amount_in_sales) AS total_sales\n",
        "    FROM\n",
        "        sales\n",
        "    GROUP BY\n",
        "        customer_id\n",
        ")\n",
        "SELECT\n",
        "    customer_id,\n",
        "    total_sales\n",
        "FROM\n",
        "    TotalSales\n",
        "ORDER BY\n",
        "    total_sales DESC\n",
        "LIMIT 5;\n"
      ],
      "metadata": {
        "id": "YuHzbvXgA18j"
      },
      "execution_count": null,
      "outputs": []
    },
    {
      "cell_type": "code",
      "source": [
        "WITH SalesRanking AS (\n",
        "    SELECT\n",
        "        employee_id,\n",
        "        COUNT(*) AS number_of_sales,\n",
        "        RANK() OVER (ORDER BY COUNT(*) DESC) AS rank\n",
        "    FROM\n",
        "        sales\n",
        "    GROUP BY\n",
        "        employee_id\n",
        ")\n",
        "SELECT\n",
        "    employee_id,\n",
        "    number_of_sales,\n",
        "    rank\n",
        "FROM\n",
        "    SalesRanking;\n"
      ],
      "metadata": {
        "id": "2xiPAbtVA2Es"
      },
      "execution_count": null,
      "outputs": []
    },
    {
      "cell_type": "code",
      "source": [
        "WITH DailyAverage AS (\n",
        "  SELECT\n",
        "    sale_date,\n",
        "    AVG(amount) OVER (PARTITION BY sale_date) AS avg_sale_per_day\n",
        "  FROM sales\n",
        ")\n",
        "SELECT sale_date\n",
        "FROM DailyAverage\n",
        "WHERE avg_sale_per_day > (\n",
        "  SELECT AVG(avg_sale_per_day) FROM DailyAverage\n",
        ");\n"
      ],
      "metadata": {
        "id": "Os7xwHdOA2Ho"
      },
      "execution_count": null,
      "outputs": []
    },
    {
      "cell_type": "code",
      "source": [
        "WITH EmployeeMetrics AS (\n",
        "  SELECT\n",
        "    employee_id,\n",
        "    salary,\n",
        "    performance_score,\n",
        "    AVG(salary) OVER () AS avg_salary,\n",
        "    AVG(performance_score) OVER () AS avg_performance\n",
        "  FROM employees\n",
        ")\n",
        "SELECT\n",
        "  employee_id,\n",
        "  salary,\n",
        "  performance_score,\n",
        "  CASE\n",
        "    WHEN salary > avg_salary AND performance_score > avg_performance THEN 'High Performer, High Salary'\n",
        "    WHEN salary <= avg_salary AND performance_score > avg_performance THEN 'High Performer, Average Salary'\n",
        "    ELSE 'Needs Improvement'\n",
        "  END AS classification\n",
        "FROM EmployeeMetrics;\n"
      ],
      "metadata": {
        "id": "4g2hkGatItWK"
      },
      "execution_count": null,
      "outputs": []
    },
    {
      "cell_type": "code",
      "source": [
        "WITH RankedSalespeople AS (\n",
        "  SELECT\n",
        "    salesperson_id,\n",
        "    region,\n",
        "    total_sales,\n",
        "    RANK() OVER (PARTITION BY region ORDER BY total_sales DESC) AS rank\n",
        "  FROM sales_by_salesperson\n",
        ")\n",
        "SELECT *\n",
        "FROM RankedSalespeople\n",
        "WHERE rank <= 3;\n"
      ],
      "metadata": {
        "id": "H16WMp2JI7NC"
      },
      "execution_count": null,
      "outputs": []
    },
    {
      "cell_type": "code",
      "source": [
        "grouped_means = df.groupby('Group')['A'].mean()\n",
        "print(grouped_means)\n"
      ],
      "metadata": {
        "colab": {
          "base_uri": "https://localhost:8080/",
          "height": 194
        },
        "id": "CFgEkDYhJ56f",
        "outputId": "6757a46e-9edc-4468-92e0-62997f8e2567"
      },
      "execution_count": 1,
      "outputs": [
        {
          "output_type": "error",
          "ename": "NameError",
          "evalue": "name 'df' is not defined",
          "traceback": [
            "\u001b[0;31m---------------------------------------------------------------------------\u001b[0m",
            "\u001b[0;31mNameError\u001b[0m                                 Traceback (most recent call last)",
            "\u001b[0;32m<ipython-input-1-b131708b232f>\u001b[0m in \u001b[0;36m<cell line: 1>\u001b[0;34m()\u001b[0m\n\u001b[0;32m----> 1\u001b[0;31m \u001b[0mgrouped_means\u001b[0m \u001b[0;34m=\u001b[0m \u001b[0mdf\u001b[0m\u001b[0;34m.\u001b[0m\u001b[0mgroupby\u001b[0m\u001b[0;34m(\u001b[0m\u001b[0;34m'Group'\u001b[0m\u001b[0;34m)\u001b[0m\u001b[0;34m[\u001b[0m\u001b[0;34m'A'\u001b[0m\u001b[0;34m]\u001b[0m\u001b[0;34m.\u001b[0m\u001b[0mmean\u001b[0m\u001b[0;34m(\u001b[0m\u001b[0;34m)\u001b[0m\u001b[0;34m\u001b[0m\u001b[0;34m\u001b[0m\u001b[0m\n\u001b[0m\u001b[1;32m      2\u001b[0m \u001b[0mprint\u001b[0m\u001b[0;34m(\u001b[0m\u001b[0mgrouped_means\u001b[0m\u001b[0;34m)\u001b[0m\u001b[0;34m\u001b[0m\u001b[0;34m\u001b[0m\u001b[0m\n",
            "\u001b[0;31mNameError\u001b[0m: name 'df' is not defined"
          ]
        }
      ]
    },
    {
      "cell_type": "code",
      "source": [],
      "metadata": {
        "id": "GRIfof4PJ5-a"
      },
      "execution_count": null,
      "outputs": []
    },
    {
      "cell_type": "code",
      "source": [],
      "metadata": {
        "id": "bfzNkgfRJ6B1"
      },
      "execution_count": null,
      "outputs": []
    },
    {
      "cell_type": "code",
      "source": [],
      "metadata": {
        "id": "54QO4mpXJ6E7"
      },
      "execution_count": null,
      "outputs": []
    }
  ]
}