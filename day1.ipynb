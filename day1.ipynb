{
  "nbformat": 4,
  "nbformat_minor": 0,
  "metadata": {
    "colab": {
      "provenance": [],
      "authorship_tag": "ABX9TyNV2cQolq1tgWAdggGZpfUP",
      "include_colab_link": true
    },
    "kernelspec": {
      "name": "python3",
      "display_name": "Python 3"
    },
    "language_info": {
      "name": "python"
    }
  },
  "cells": [
    {
      "cell_type": "markdown",
      "metadata": {
        "id": "view-in-github",
        "colab_type": "text"
      },
      "source": [
        "<a href=\"https://colab.research.google.com/github/GitMishka/1/blob/main/day1.ipynb\" target=\"_parent\"><img src=\"https://colab.research.google.com/assets/colab-badge.svg\" alt=\"Open In Colab\"/></a>"
      ]
    },
    {
      "cell_type": "code",
      "execution_count": 6,
      "metadata": {
        "id": "vuUMDcr1ki6Z"
      },
      "outputs": [],
      "source": [
        "#twosum\n",
        "nums = [2,1,5,3]\n",
        "target = 4\n",
        "def twoSum(nums,target):\n",
        "  prevMap = {}\n",
        "  for i, n in enumerate(nums):\n",
        "    diff = target - n\n",
        "    if diff in prevMap:\n",
        "      return [prevMap[diff], i]\n",
        "    prevMap[n] = i\n",
        "  return"
      ]
    },
    {
      "cell_type": "code",
      "source": [
        "#Merge Strings Alternately\n",
        "class Solution:\n",
        "    def mergeAlternately(self, word1: str, word2: str) -> str:\n",
        "\n",
        "        i, j = 0, 0\n",
        "\n",
        "        res = []\n",
        "\n",
        "        while i <len(word1) and j < len(word2):\n",
        "            res.append(word1[i])\n",
        "            res.append(word2[j])\n",
        "            i += 1\n",
        "            j += 1\n",
        "        res.append(word1[i:])\n",
        "        res.append(word2[j:])\n",
        "        return \"\".join(res)"
      ],
      "metadata": {
        "id": "qwpdfwbYrWzy"
      },
      "execution_count": 7,
      "outputs": []
    }
  ]
}