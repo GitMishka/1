{
  "nbformat": 4,
  "nbformat_minor": 0,
  "metadata": {
    "colab": {
      "provenance": [],
      "authorship_tag": "ABX9TyNLWJfYzd1gT9jhcwP3CcWd",
      "include_colab_link": true
    },
    "kernelspec": {
      "name": "python3",
      "display_name": "Python 3"
    },
    "language_info": {
      "name": "python"
    }
  },
  "cells": [
    {
      "cell_type": "markdown",
      "metadata": {
        "id": "view-in-github",
        "colab_type": "text"
      },
      "source": [
        "<a href=\"https://colab.research.google.com/github/GitMishka/1/blob/main/db_app1.ipynb\" target=\"_parent\"><img src=\"https://colab.research.google.com/assets/colab-badge.svg\" alt=\"Open In Colab\"/></a>"
      ]
    },
    {
      "cell_type": "code",
      "execution_count": 1,
      "metadata": {
        "colab": {
          "base_uri": "https://localhost:8080/"
        },
        "id": "iN_ku1AWi3Xc",
        "outputId": "e5e05502-ec18-4f7d-cbdd-d10ba799597e"
      },
      "outputs": [
        {
          "output_type": "stream",
          "name": "stderr",
          "text": [
            "/usr/local/lib/python3.10/dist-packages/sklearn/datasets/_openml.py:968: FutureWarning: The default value of `parser` will change from `'liac-arff'` to `'auto'` in 1.4. You can set `parser='auto'` to silence this warning. Therefore, an `ImportError` will be raised from 1.4 if the dataset is dense and pandas is not installed. Note that the pandas parser may return different data types. See the Notes Section in fetch_openml's API doc for details.\n",
            "  warn(\n"
          ]
        }
      ],
      "source": [
        "from sklearn.datasets import fetch_openml\n",
        "import pandas as pd\n",
        "\n",
        "data = fetch_openml(name=\"iris\", version=1, as_frame=True)\n",
        "df = data.data.join(data.target)\n",
        "\n",
        "csv_file = 'iris.csv'\n",
        "df.to_csv(csv_file)\n"
      ]
    },
    {
      "cell_type": "code",
      "source": [
        "df['species'] = df['class'].astype('category').cat.codes\n",
        "df.drop(columns='class', inplace=True)\n"
      ],
      "metadata": {
        "id": "bGW2DH3VjLfQ"
      },
      "execution_count": 2,
      "outputs": []
    }
  ]
}