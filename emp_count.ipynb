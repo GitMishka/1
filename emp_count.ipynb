{
  "nbformat": 4,
  "nbformat_minor": 0,
  "metadata": {
    "colab": {
      "provenance": [],
      "authorship_tag": "ABX9TyOAp0SUdqr93J314viuHrrd",
      "include_colab_link": true
    },
    "kernelspec": {
      "name": "python3",
      "display_name": "Python 3"
    },
    "language_info": {
      "name": "python"
    }
  },
  "cells": [
    {
      "cell_type": "markdown",
      "metadata": {
        "id": "view-in-github",
        "colab_type": "text"
      },
      "source": [
        "<a href=\"https://colab.research.google.com/github/GitMishka/1/blob/main/emp_count.ipynb\" target=\"_parent\"><img src=\"https://colab.research.google.com/assets/colab-badge.svg\" alt=\"Open In Colab\"/></a>"
      ]
    },
    {
      "cell_type": "code",
      "execution_count": null,
      "metadata": {
        "id": "0_NNNARJrzsm"
      },
      "outputs": [],
      "source": [
        "import pandas as pd\n",
        "import io\n",
        "from google.colab import files\n",
        "\n",
        "def count_employees_by_costcenter(df):\n",
        "    filtered_df = df[df['EmployeeStatus'] != 'T']\n",
        "\n",
        "    count_by_costcenter = filtered_df.groupby('CostCenter1')['EmployeeID'].nunique().reset_index(name='EmployeeCount')\n",
        "\n",
        "    csv_filename = 'count_by_costcenter.csv'\n",
        "    count_by_costcenter.to_csv(csv_filename, index=False)\n",
        "\n",
        "    files.download(csv_filename)\n",
        "\n",
        "    return count_by_costcenter\n",
        "\n",
        "uploaded = files.upload()\n",
        "filename = next(iter(uploaded))\n",
        "df = pd.read_csv(io.BytesIO(uploaded[filename]))\n",
        "\n",
        "count_employees_by_costcenter(df)\n"
      ]
    },
    {
      "cell_type": "code",
      "source": [],
      "metadata": {
        "id": "UY-bd75hsCGQ"
      },
      "execution_count": null,
      "outputs": []
    }
  ]
}