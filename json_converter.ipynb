{
  "nbformat": 4,
  "nbformat_minor": 0,
  "metadata": {
    "colab": {
      "provenance": [],
      "authorship_tag": "ABX9TyPIjC+MiJhd7soc6lU34wiJ",
      "include_colab_link": true
    },
    "kernelspec": {
      "name": "python3",
      "display_name": "Python 3"
    },
    "language_info": {
      "name": "python"
    }
  },
  "cells": [
    {
      "cell_type": "markdown",
      "metadata": {
        "id": "view-in-github",
        "colab_type": "text"
      },
      "source": [
        "<a href=\"https://colab.research.google.com/github/GitMishka/1/blob/main/json_converter.ipynb\" target=\"_parent\"><img src=\"https://colab.research.google.com/assets/colab-badge.svg\" alt=\"Open In Colab\"/></a>"
      ]
    },
    {
      "cell_type": "code",
      "execution_count": 7,
      "metadata": {
        "id": "c5lOdbYDQujV"
      },
      "outputs": [],
      "source": [
        "import pandas as pd\n",
        "import json\n"
      ]
    },
    {
      "cell_type": "code",
      "source": [
        "with open('fpgh-69ti.json', 'r') as file:\n",
        "    json_data = json.load(file)\n"
      ],
      "metadata": {
        "id": "ibSwpcx_RKZu"
      },
      "execution_count": 8,
      "outputs": []
    },
    {
      "cell_type": "code",
      "source": [
        "if isinstance(json_data, list):\n",
        "    df = pd.DataFrame(json_data)\n",
        "else:\n",
        "    df = pd.DataFrame([json_data])\n"
      ],
      "metadata": {
        "id": "IpmcU7BXS8Xf"
      },
      "execution_count": 9,
      "outputs": []
    },
    {
      "cell_type": "code",
      "source": [
        "df.to_csv('output2.csv', index=False)"
      ],
      "metadata": {
        "id": "zCm614nFS-TA"
      },
      "execution_count": 10,
      "outputs": []
    },
    {
      "cell_type": "code",
      "source": [
        "def flatten_json(y):\n",
        "    out = {}\n",
        "\n",
        "    def flatten(x, name=''):\n",
        "        if type(x) is dict:\n",
        "            for a in x:\n",
        "                flatten(x[a], name + a + '_')\n",
        "        elif type(x) is list:\n",
        "            i = 0\n",
        "            for a in x:\n",
        "                flatten(a, name + str(i) + '_')\n",
        "                i += 1\n",
        "        else:\n",
        "            out[name[:-1]] = x\n",
        "\n",
        "    flatten(y)\n",
        "    return out\n",
        "\n",
        "flat_data = flatten_json(json_data)\n"
      ],
      "metadata": {
        "id": "OZEwDjFCRLyC"
      },
      "execution_count": 4,
      "outputs": []
    },
    {
      "cell_type": "code",
      "source": [
        "df = pd.DataFrame([flat_data])\n"
      ],
      "metadata": {
        "id": "K-m45m7iRO-C"
      },
      "execution_count": 5,
      "outputs": []
    },
    {
      "cell_type": "code",
      "source": [
        "df.to_csv('output.csv', index=False)\n"
      ],
      "metadata": {
        "id": "r9VUu7TXRPh-"
      },
      "execution_count": 6,
      "outputs": []
    },
    {
      "cell_type": "code",
      "source": [],
      "metadata": {
        "id": "7SyxkfsLRPp5"
      },
      "execution_count": null,
      "outputs": []
    }
  ]
}