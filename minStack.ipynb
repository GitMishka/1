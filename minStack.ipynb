{
  "nbformat": 4,
  "nbformat_minor": 0,
  "metadata": {
    "colab": {
      "provenance": [],
      "authorship_tag": "ABX9TyO47JSPXj89q2H5ubQBvW4R",
      "include_colab_link": true
    },
    "kernelspec": {
      "name": "python3",
      "display_name": "Python 3"
    },
    "language_info": {
      "name": "python"
    }
  },
  "cells": [
    {
      "cell_type": "markdown",
      "metadata": {
        "id": "view-in-github",
        "colab_type": "text"
      },
      "source": [
        "<a href=\"https://colab.research.google.com/github/GitMishka/1/blob/main/minStack.ipynb\" target=\"_parent\"><img src=\"https://colab.research.google.com/assets/colab-badge.svg\" alt=\"Open In Colab\"/></a>"
      ]
    },
    {
      "cell_type": "code",
      "execution_count": 1,
      "metadata": {
        "id": "258WIK5bSNJQ"
      },
      "outputs": [],
      "source": [
        "class MinStack:\n",
        "    def __init__(self):\n",
        "        self.stack = []\n",
        "        self.minStack = []"
      ]
    },
    {
      "cell_type": "code",
      "source": [
        "    def push(self, x):\n",
        "        self.stack.append(x)\n",
        "\n",
        "        if not self.minStack or x <= self.minStack[-1]:\n",
        "            self.minStack.append(x)"
      ],
      "metadata": {
        "id": "Kh6mXCs0U-4P"
      },
      "execution_count": null,
      "outputs": []
    },
    {
      "cell_type": "code",
      "source": [
        "\n",
        "    def pop(self):\n",
        "        if self.stack.pop() == self.minStack[-1]:\n",
        "            self.minStack.pop()"
      ],
      "metadata": {
        "id": "ZjksH9cZVhg-"
      },
      "execution_count": null,
      "outputs": []
    },
    {
      "cell_type": "code",
      "source": [
        "    def top(self):\n",
        "        return self.stack[-1] if self.stack else None\n",
        "\n",
        "    def getMin(self):\n",
        "        return self.minStack[-1] if self.minStack else None"
      ],
      "metadata": {
        "id": "WHm5piDrVlTI"
      },
      "execution_count": null,
      "outputs": []
    }
  ]
}