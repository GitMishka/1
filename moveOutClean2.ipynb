{
  "nbformat": 4,
  "nbformat_minor": 0,
  "metadata": {
    "colab": {
      "provenance": [],
      "authorship_tag": "ABX9TyPxNBshCTlfZJFZwDcXEp1e",
      "include_colab_link": true
    },
    "kernelspec": {
      "name": "python3",
      "display_name": "Python 3"
    },
    "language_info": {
      "name": "python"
    }
  },
  "cells": [
    {
      "cell_type": "markdown",
      "metadata": {
        "id": "view-in-github",
        "colab_type": "text"
      },
      "source": [
        "<a href=\"https://colab.research.google.com/github/GitMishka/1/blob/main/moveOutClean2.ipynb\" target=\"_parent\"><img src=\"https://colab.research.google.com/assets/colab-badge.svg\" alt=\"Open In Colab\"/></a>"
      ]
    },
    {
      "cell_type": "code",
      "execution_count": null,
      "metadata": {
        "colab": {
          "base_uri": "https://localhost:8080/",
          "height": 121
        },
        "id": "3UiWYDGf1Wtv",
        "outputId": "62832672-03dd-4605-ce60-b3cfcd032652"
      },
      "outputs": [
        {
          "output_type": "stream",
          "name": "stderr",
          "text": [
            "<ipython-input-5-0a66dffbebe9>:24: SettingWithCopyWarning: \n",
            "A value is trying to be set on a copy of a slice from a DataFrame.\n",
            "Try using .loc[row_indexer,col_indexer] = value instead\n",
            "\n",
            "See the caveats in the documentation: https://pandas.pydata.org/pandas-docs/stable/user_guide/indexing.html#returning-a-view-versus-a-copy\n",
            "  df_moveout['Move Out\\nDate'] = pd.to_datetime(df_moveout['Move Out\\nDate'], errors='coerce')\n"
          ]
        },
        {
          "output_type": "display_data",
          "data": {
            "text/plain": [
              "<IPython.core.display.Javascript object>"
            ],
            "application/javascript": [
              "\n",
              "    async function download(id, filename, size) {\n",
              "      if (!google.colab.kernel.accessAllowed) {\n",
              "        return;\n",
              "      }\n",
              "      const div = document.createElement('div');\n",
              "      const label = document.createElement('label');\n",
              "      label.textContent = `Downloading \"${filename}\": `;\n",
              "      div.appendChild(label);\n",
              "      const progress = document.createElement('progress');\n",
              "      progress.max = size;\n",
              "      div.appendChild(progress);\n",
              "      document.body.appendChild(div);\n",
              "\n",
              "      const buffers = [];\n",
              "      let downloaded = 0;\n",
              "\n",
              "      const channel = await google.colab.kernel.comms.open(id);\n",
              "      // Send a message to notify the kernel that we're ready.\n",
              "      channel.send({})\n",
              "\n",
              "      for await (const message of channel.messages) {\n",
              "        // Send a message to notify the kernel that we're ready.\n",
              "        channel.send({})\n",
              "        if (message.buffers) {\n",
              "          for (const buffer of message.buffers) {\n",
              "            buffers.push(buffer);\n",
              "            downloaded += buffer.byteLength;\n",
              "            progress.value = downloaded;\n",
              "          }\n",
              "        }\n",
              "      }\n",
              "      const blob = new Blob(buffers, {type: 'application/binary'});\n",
              "      const a = document.createElement('a');\n",
              "      a.href = window.URL.createObjectURL(blob);\n",
              "      a.download = filename;\n",
              "      div.appendChild(a);\n",
              "      a.click();\n",
              "      div.remove();\n",
              "    }\n",
              "  "
            ]
          },
          "metadata": {}
        },
        {
          "output_type": "display_data",
          "data": {
            "text/plain": [
              "<IPython.core.display.Javascript object>"
            ],
            "application/javascript": [
              "download(\"download_b5c24976-c299-4df9-aabd-0f25991be479\", \"processed_moveout.csv\", 20035)"
            ]
          },
          "metadata": {}
        }
      ],
      "source": [
        "import pandas as pd\n",
        "from datetime import datetime, timedelta\n",
        "from google.colab import files\n",
        "\n",
        "# Load the CSV file\n",
        "file_path_moveout = 'moveout.csv'  # Adjust this path to match the location of your uploaded file\n",
        "df_moveout = pd.read_csv(file_path_moveout)\n",
        "\n",
        "# Initial population of 'Community' column based on the first column's \"Community:\" markers\n",
        "df_moveout['Community'] = None\n",
        "current_community = None\n",
        "for index, row in df_moveout.iterrows():\n",
        "    if str(row.iloc[0]).startswith('Community:'):\n",
        "        current_community = row.iloc[0].split(':', 1)[1].strip()\n",
        "    else:\n",
        "        df_moveout.at[index, 'Community'] = current_community\n",
        "\n",
        "# Now refine 'Community' column values by applying LEFT(RIGHT(community,5),4) logic\n",
        "df_moveout['Community'] = df_moveout['Community'].apply(lambda x: x[-5:-1] if x is not None else None)\n",
        "\n",
        "# Continue with the rest of the processing\n",
        "# Assuming 'Resident' is correctly named and dropping rows without a Resident value\n",
        "df_moveout = df_moveout.dropna(subset=['Resident '])\n",
        "df_moveout['Move Out\\nDate'] = pd.to_datetime(df_moveout['Move Out\\nDate'], errors='coerce')\n",
        "\n",
        "# Check if conversion was successful by ensuring the column is datetime\n",
        "if pd.api.types.is_datetime64_any_dtype(df_moveout['Move Out\\nDate']):\n",
        "    # Calculate the previous month and year for filtering\n",
        "    today = datetime.now()\n",
        "    first_day_of_current_month = today.replace(day=1)\n",
        "    last_day_of_previous_month = first_day_of_current_month - timedelta(days=1)\n",
        "    previous_month = last_day_of_previous_month.month\n",
        "    previous_month_year = last_day_of_previous_month.year\n",
        "\n",
        "    df_moveout = df_moveout[(df_moveout['Move Out\\nDate'].dt.month == previous_month) & (df_moveout['Move Out\\nDate'].dt.year == previous_month_year)]\n",
        "else:\n",
        "    print(\"Error: Move Out Date column is not in datetime format.\")\n",
        "\n",
        "\n",
        "# Defer deletion of specified columns until after all other processing\n",
        "df_moveout = df_moveout.loc[:, ~df_moveout.columns.str.contains('Unnamed')]\n",
        "\n",
        "# Save the processed DataFrame to a new CSV file and initiate download\n",
        "output_filename = 'processed_moveout.csv'\n",
        "df_moveout.to_csv(output_filename, index=False)\n",
        "files.download(output_filename)\n"
      ]
    }
  ]
}