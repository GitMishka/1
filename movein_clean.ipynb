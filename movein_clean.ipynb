{
  "nbformat": 4,
  "nbformat_minor": 0,
  "metadata": {
    "colab": {
      "provenance": [],
      "authorship_tag": "ABX9TyPIRI2DbMTrp6UYcCIznfyW",
      "include_colab_link": true
    },
    "kernelspec": {
      "name": "python3",
      "display_name": "Python 3"
    },
    "language_info": {
      "name": "python"
    }
  },
  "cells": [
    {
      "cell_type": "markdown",
      "metadata": {
        "id": "view-in-github",
        "colab_type": "text"
      },
      "source": [
        "<a href=\"https://colab.research.google.com/github/GitMishka/1/blob/main/movein_clean.ipynb\" target=\"_parent\"><img src=\"https://colab.research.google.com/assets/colab-badge.svg\" alt=\"Open In Colab\"/></a>"
      ]
    },
    {
      "cell_type": "code",
      "execution_count": null,
      "metadata": {
        "colab": {
          "base_uri": "https://localhost:8080/"
        },
        "id": "V4hMbRvLy0P8",
        "outputId": "e9d302ae-ad92-4d6d-c744-e4aeef3404fd"
      },
      "outputs": [
        {
          "output_type": "stream",
          "name": "stdout",
          "text": [
            "File saved as: final_processed_2024-03-15_17-55-26.csv\n",
            "Region\n",
            "Appalachian    49.5\n",
            "Bluegrass      25.0\n",
            "Cumberland     26.0\n",
            "Name: Weights, dtype: float64\n"
          ]
        }
      ],
      "source": [
        "import pandas as pd\n",
        "from datetime import datetime, timedelta\n",
        "\n",
        "# Load the data\n",
        "file_path = 'movein2.csv'  # Adjust this to your file's path\n",
        "df = pd.read_csv(file_path)\n",
        "\n",
        "# Remove the first 10 rows of the DataFrame as the very first step\n",
        "# df = df.iloc[10:].reset_index(drop=True)\n",
        "# df.to_csv('test.csv')\n",
        "# Process to label each row with its community\n",
        "df['Community'] = None\n",
        "current_community = None\n",
        "for index, row in df.iterrows():\n",
        "    if str(row['Unit']).startswith('Community:'):\n",
        "        current_community = row['Unit'].split(':', 1)[1].strip()\n",
        "    else:\n",
        "        df.at[index, 'Community'] = current_community\n",
        "df = df.dropna(subset=['Community'])  # Remove community header rows\n",
        "df.reset_index(drop=True, inplace=True)\n",
        "\n",
        "# Remove rows without a Move In Date\n",
        "df = df.dropna(subset=['Move In\\nDate'])\n",
        "\n",
        "# Convert dates from string to datetime\n",
        "df['Service Start\\nDate'] = pd.to_datetime(df['Service Start\\nDate'], errors='coerce')\n",
        "df['Move In\\nDate'] = pd.to_datetime(df['Move In\\nDate'], errors='coerce')\n",
        "\n",
        "# Calculate the previous month and year\n",
        "today = datetime.now()\n",
        "first_day_of_current_month = today.replace(day=1)\n",
        "last_day_of_previous_month = first_day_of_current_month - timedelta(days=1)\n",
        "previous_month = last_day_of_previous_month.month\n",
        "previous_month_year = last_day_of_previous_month.year\n",
        "\n",
        "# Filter out rows where Service Start Date is not in the previous month\n",
        "df = df[(df['Service Start\\nDate'].dt.month == previous_month) & (df['Service Start\\nDate'].dt.year == previous_month_year)]\n",
        "\n",
        "# Mapping communities to regions (add your mappings here)\n",
        "community_to_region = {\n",
        "    \"The Lantern at Morning Pointe of Chattanooga (chtl)\": \"Appalachian\",\n",
        "    \"Morning Pointe of Powell (powl)\": \"Cumberland\",\n",
        "    \"Morning Pointe of Lexington (lexn)\": \"Bluegrass\",\n",
        "    \"The Lantern at Morning Pointe of Lexington (lexl)\": \"Bluegrass\",\n",
        "    \"Morning Pointe of Lexington-East (lexe)\": \"Bluegrass\",\n",
        "    \"Morning Pointe of Chattanooga Shallowford (chtt)\": \"Appalachian\",\n",
        "    \"Morning Pointe of Franklin TN (fktn)\": \"Cumberland\",\n",
        "    \"Morning Pointe of Louisville (lvlm)\": \"Bluegrass\",\n",
        "    \"Morning Pointe of Russell (russ)\": \"Bluegrass\",\n",
        "    \"Morning Pointe of Richmond (rich)\": \"Bluegrass\",\n",
        "    \"Morning Pointe of Hixson (hixn)\": \"Appalachian\",\n",
        "    \"Morning Pointe of Athens (aths)\": \"Appalachian\",\n",
        "    \"Morning Pointe of Brentwood (brwd)\": \"Cumberland\",\n",
        "    \"Morning Pointe of Calhoun (calh)\": \"Appalachian\",\n",
        "    \"Morning Pointe of Clinton (clin)\": \"Cumberland\",\n",
        "    \"The Lantern at Morning Pointe of Collegedale (cgdl)\": \"Appalachian\",\n",
        "    \"Morning Pointe of Columbia (colm)\": \"Cumberland\",\n",
        "    \"Morning Pointe of Frankfort (frkt)\": \"Bluegrass\",\n",
        "    \"The Lantern at Morning Pointe of Frankfort (frkl)\": \"Bluegrass\",\n",
        "    \"Morning Pointe of Franklin (frln)\": \"Bluegrass\",\n",
        "    \"Morning Pointe of Greenbriar (grnb)\": \"Appalachian\",\n",
        "    \"Morning Pointe of Greeneville (grnv)\": \"Appalachian\",\n",
        "    \"Morning Pointe of Lenoir City (lenc)\": \"Appalachian\",\n",
        "    \"The Lantern at Morning Pointe of Lenoir City (lenl)\": \"Appalachian\",\n",
        "    \"Morning Pointe of Tullahoma (tula)\": \"Cumberland\",\n",
        "    \"Morning Pointe of Tuscaloosa (tusc)\": \"Cumberland\",\n",
        "    \"Morning Pointe of Danville (danv)\": \"Bluegrass\",\n",
        "    \"The Lantern at Morning Pointe of Russell (rusl)\": \"Bluegrass\",\n",
        "    \"The Lantern at Morning Pointe of Louisville (lvll)\": \"Bluegrass\",\n",
        "    \"Morning Pointe of Spring Hill (sprh)\": \"Cumberland\",\n",
        "    \"The Lantern at Morning Pointe of Spring Hill (sprl)\": \"Cumberland\",\n",
        "    \"The Lantern at Morning Pointe of Franklin TN (fktl)\": \"Cumberland\",\n",
        "    \"Morning Pointe of Knoxville (knox)\": \"Appalachian\",\n",
        "    \"The Lantern at Morning Pointe of Knoxville (knxl)\": \"Appalachian\",\n",
        "    \"Morning Pointe of East Hamilton (eham)\": \"Appalachian\",\n",
        "    \"Morning Pointe of Hardin Valley (hard)\": \"Appalachian\",\n",
        "    \"The Lantern at Morning Pointe of Powell (pwll)\": \"Cumberland\",\n",
        "    \"Morning Pointe of Happy Valley (hppy)\": \"Appalachian\",\n",
        "}\n",
        "\n",
        "\n",
        "# Add the 'Region' column based on the 'Community' column\n",
        "df['Region'] = df['Community'].map(community_to_region)\n",
        "\n",
        "# Add 'Weights' column based on 'Privacy\\nLevel'\n",
        "df['Weights'] = df['Privacy\\nLevel'].apply(lambda x: 1 if x == 'Single' else 0.5)\n",
        "\n",
        "# Remove the first 10 rows of the DataFrame\n",
        "\n",
        "\n",
        "# Create a timestamp for the filename\n",
        "timestamp = datetime.now().strftime(\"%Y-%m-%d_%H-%M-%S\")\n",
        "\n",
        "# Save the cleaned and updated dataframe to a new CSV with timestamp in filename\n",
        "filename = f'final_processed_{timestamp}.csv'\n",
        "df.to_csv(filename, index=False)\n",
        "\n",
        "# Display the filename for confirmation\n",
        "print(f\"File saved as: {filename}\")\n",
        "\n",
        "# Count the number of entries per region\n",
        "weights_sum_by_region = df.groupby('Region')['Weights'].sum()\n",
        "# Display the counts\n",
        "print(weights_sum_by_region)\n"
      ]
    },
    {
      "cell_type": "code",
      "source": [
        "weights_sum_by_region.to_csv(f'final_{timestamp}.csv')"
      ],
      "metadata": {
        "id": "i5PJvEzX6egW"
      },
      "execution_count": null,
      "outputs": []
    }
  ]
}