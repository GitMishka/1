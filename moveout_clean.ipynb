{
  "nbformat": 4,
  "nbformat_minor": 0,
  "metadata": {
    "colab": {
      "provenance": [],
      "authorship_tag": "ABX9TyOpi9swdwUUO4LeC/8OY5IO",
      "include_colab_link": true
    },
    "kernelspec": {
      "name": "python3",
      "display_name": "Python 3"
    },
    "language_info": {
      "name": "python"
    }
  },
  "cells": [
    {
      "cell_type": "markdown",
      "metadata": {
        "id": "view-in-github",
        "colab_type": "text"
      },
      "source": [
        "<a href=\"https://colab.research.google.com/github/GitMishka/1/blob/main/moveout_clean.ipynb\" target=\"_parent\"><img src=\"https://colab.research.google.com/assets/colab-badge.svg\" alt=\"Open In Colab\"/></a>"
      ]
    },
    {
      "cell_type": "code",
      "source": [
        "\n",
        "\n",
        "import pandas as pd\n",
        "from datetime import datetime, timedelta\n",
        "from google.colab import files\n",
        "\n",
        "# Load the CSV file\n",
        "file_path_moveout = 'moveout.csv'  # Adjust this path to match the location of your uploaded file\n",
        "df_moveout = pd.read_csv(file_path_moveout)"
      ],
      "metadata": {
        "id": "l-b_fo13zYDj"
      },
      "execution_count": null,
      "outputs": []
    },
    {
      "cell_type": "code",
      "execution_count": null,
      "metadata": {
        "colab": {
          "base_uri": "https://localhost:8080/",
          "height": 121
        },
        "id": "EmPQFNi4vNBy",
        "outputId": "da9b6dc3-76f9-4992-8740-0179cdde4ce7"
      },
      "outputs": [
        {
          "output_type": "stream",
          "name": "stderr",
          "text": [
            "<ipython-input-41-a07dcfbe132f>:11: SettingWithCopyWarning: \n",
            "A value is trying to be set on a copy of a slice from a DataFrame.\n",
            "Try using .loc[row_indexer,col_indexer] = value instead\n",
            "\n",
            "See the caveats in the documentation: https://pandas.pydata.org/pandas-docs/stable/user_guide/indexing.html#returning-a-view-versus-a-copy\n",
            "  df_moveout['Move Out\\nDate'] = pd.to_datetime(df_moveout['Move Out\\nDate'], errors='coerce')\n"
          ]
        },
        {
          "output_type": "display_data",
          "data": {
            "text/plain": [
              "<IPython.core.display.Javascript object>"
            ],
            "application/javascript": [
              "\n",
              "    async function download(id, filename, size) {\n",
              "      if (!google.colab.kernel.accessAllowed) {\n",
              "        return;\n",
              "      }\n",
              "      const div = document.createElement('div');\n",
              "      const label = document.createElement('label');\n",
              "      label.textContent = `Downloading \"${filename}\": `;\n",
              "      div.appendChild(label);\n",
              "      const progress = document.createElement('progress');\n",
              "      progress.max = size;\n",
              "      div.appendChild(progress);\n",
              "      document.body.appendChild(div);\n",
              "\n",
              "      const buffers = [];\n",
              "      let downloaded = 0;\n",
              "\n",
              "      const channel = await google.colab.kernel.comms.open(id);\n",
              "      // Send a message to notify the kernel that we're ready.\n",
              "      channel.send({})\n",
              "\n",
              "      for await (const message of channel.messages) {\n",
              "        // Send a message to notify the kernel that we're ready.\n",
              "        channel.send({})\n",
              "        if (message.buffers) {\n",
              "          for (const buffer of message.buffers) {\n",
              "            buffers.push(buffer);\n",
              "            downloaded += buffer.byteLength;\n",
              "            progress.value = downloaded;\n",
              "          }\n",
              "        }\n",
              "      }\n",
              "      const blob = new Blob(buffers, {type: 'application/binary'});\n",
              "      const a = document.createElement('a');\n",
              "      a.href = window.URL.createObjectURL(blob);\n",
              "      a.download = filename;\n",
              "      div.appendChild(a);\n",
              "      a.click();\n",
              "      div.remove();\n",
              "    }\n",
              "  "
            ]
          },
          "metadata": {}
        },
        {
          "output_type": "display_data",
          "data": {
            "text/plain": [
              "<IPython.core.display.Javascript object>"
            ],
            "application/javascript": [
              "download(\"download_34387982-1f29-4168-bce9-bcbb80b20c7c\", \"processed_moveout.csv\", 24115)"
            ]
          },
          "metadata": {}
        }
      ],
      "source": [
        "df_moveout['Community'] = None\n",
        "current_community = None\n",
        "for index, row in df_moveout.iterrows():\n",
        "    if str(row.iloc[0]).startswith('Community:'):\n",
        "        current_community = row.iloc[0].split(':', 1)[1].strip()\n",
        "    else:\n",
        "        df_moveout.at[index, 'Community'] = current_community\n",
        "\n",
        "# Assuming 'Resident' and a placeholder for your date column are correctly named\n",
        "df_moveout = df_moveout.dropna(subset=['Resident '])\n",
        "df_moveout['Move Out\\nDate'] = pd.to_datetime(df_moveout['Move Out\\nDate'], errors='coerce')\n",
        "\n",
        "# Check if conversion was successful by ensuring the column is datetime\n",
        "if pd.api.types.is_datetime64_any_dtype(df_moveout['Move Out\\nDate']):\n",
        "    # Calculate the previous month and year for filtering\n",
        "    today = datetime.now()\n",
        "    first_day_of_current_month = today.replace(day=1)\n",
        "    last_day_of_previous_month = first_day_of_current_month - timedelta(days=1)\n",
        "    previous_month = last_day_of_previous_month.month\n",
        "    previous_month_year = last_day_of_previous_month.year\n",
        "\n",
        "    df_moveout = df_moveout[(df_moveout['Move Out\\nDate'].dt.month == previous_month) & (df_moveout['Move Out\\nDate'].dt.year == previous_month_year)]\n",
        "else:\n",
        "    print(\"Error: Move Out Date column is not in datetime format.\")\n",
        "\n",
        "\n",
        "# Defer deletion of specified columns until after all other processing\n",
        "df_moveout = df_moveout.loc[:, ~df_moveout.columns.str.contains('Unnamed')]\n",
        "\n",
        "# Save the processed DataFrame to a new CSV file and initiate download\n",
        "output_filename = 'processed_moveout.csv'\n",
        "df_moveout.to_csv(output_filename, index=False)\n",
        "files.download(output_filename)\n"
      ]
    },
    {
      "cell_type": "code",
      "source": [
        "# # Defer deletion of specified columns until after all other processing\n",
        "# df_moveout = df_moveout.loc[:, ~df_moveout.columns.str.contains('Unnamed')]\n",
        "# df_moveout = df_moveout.dropna(subset=['Resident '])\n",
        "# # Save the processed DataFrame to a new CSV file and initiate download\n",
        "# output_filename = 'processed_moveout.csv'\n",
        "# df_moveout.to_csv(output_filename, index=False)\n",
        "# files.download(output_filename)"
      ],
      "metadata": {
        "colab": {
          "base_uri": "https://localhost:8080/",
          "height": 17
        },
        "id": "7SpB2K-A2QWw",
        "outputId": "f9d6b3bb-80f3-47c4-cf23-bc08a91a4e67"
      },
      "execution_count": null,
      "outputs": [
        {
          "output_type": "display_data",
          "data": {
            "text/plain": [
              "<IPython.core.display.Javascript object>"
            ],
            "application/javascript": [
              "\n",
              "    async function download(id, filename, size) {\n",
              "      if (!google.colab.kernel.accessAllowed) {\n",
              "        return;\n",
              "      }\n",
              "      const div = document.createElement('div');\n",
              "      const label = document.createElement('label');\n",
              "      label.textContent = `Downloading \"${filename}\": `;\n",
              "      div.appendChild(label);\n",
              "      const progress = document.createElement('progress');\n",
              "      progress.max = size;\n",
              "      div.appendChild(progress);\n",
              "      document.body.appendChild(div);\n",
              "\n",
              "      const buffers = [];\n",
              "      let downloaded = 0;\n",
              "\n",
              "      const channel = await google.colab.kernel.comms.open(id);\n",
              "      // Send a message to notify the kernel that we're ready.\n",
              "      channel.send({})\n",
              "\n",
              "      for await (const message of channel.messages) {\n",
              "        // Send a message to notify the kernel that we're ready.\n",
              "        channel.send({})\n",
              "        if (message.buffers) {\n",
              "          for (const buffer of message.buffers) {\n",
              "            buffers.push(buffer);\n",
              "            downloaded += buffer.byteLength;\n",
              "            progress.value = downloaded;\n",
              "          }\n",
              "        }\n",
              "      }\n",
              "      const blob = new Blob(buffers, {type: 'application/binary'});\n",
              "      const a = document.createElement('a');\n",
              "      a.href = window.URL.createObjectURL(blob);\n",
              "      a.download = filename;\n",
              "      div.appendChild(a);\n",
              "      a.click();\n",
              "      div.remove();\n",
              "    }\n",
              "  "
            ]
          },
          "metadata": {}
        },
        {
          "output_type": "display_data",
          "data": {
            "text/plain": [
              "<IPython.core.display.Javascript object>"
            ],
            "application/javascript": [
              "download(\"download_c2d7734b-4d1c-46b3-9886-7503bcf36058\", \"processed_moveout.csv\", 19559)"
            ]
          },
          "metadata": {}
        }
      ]
    }
  ]
}