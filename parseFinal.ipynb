{
  "nbformat": 4,
  "nbformat_minor": 0,
  "metadata": {
    "colab": {
      "provenance": [],
      "authorship_tag": "ABX9TyMVaQn8KLPfvL1U4YxoSA1f",
      "include_colab_link": true
    },
    "kernelspec": {
      "name": "python3",
      "display_name": "Python 3"
    },
    "language_info": {
      "name": "python"
    }
  },
  "cells": [
    {
      "cell_type": "markdown",
      "metadata": {
        "id": "view-in-github",
        "colab_type": "text"
      },
      "source": [
        "<a href=\"https://colab.research.google.com/github/GitMishka/1/blob/main/parseFinal.ipynb\" target=\"_parent\"><img src=\"https://colab.research.google.com/assets/colab-badge.svg\" alt=\"Open In Colab\"/></a>"
      ]
    },
    {
      "cell_type": "code",
      "execution_count": null,
      "metadata": {
        "id": "WnE7T1iv5_vt"
      },
      "outputs": [],
      "source": [
        "import pandas as pd\n",
        "import numpy as np\n",
        "\n",
        "def process_files(csv_file_path, excel_file_path):\n",
        "    data_csv = pd.read_csv(csv_file_path)\n",
        "    data_csv['date'] = pd.to_datetime(data_csv['date'])\n",
        "    filtered_data_csv = data_csv[data_csv['posLabel'].isin(['Director', 'Staff'])]\n",
        "    unique_employee_counts_csv = filtered_data_csv.groupby(['ComCode', 'posLabel'])['EmployeeId'].nunique().reset_index(name='commEmpCount')\n",
        "\n",
        "    data_excel = pd.read_excel(excel_file_path)\n",
        "    data_excel['date'] = pd.to_datetime(data_excel['date'])\n",
        "    filtered_data_excel = data_excel[data_excel['posLabel'].isin(['Director', 'Staff'])]\n",
        "    unique_employee_counts_excel = filtered_data_excel.groupby(['comCode', 'posLabel'])['employee_id'].nunique().reset_index(name='happEmpCount')\n",
        "    avg_score_by_poslabel_excel = filtered_data_excel.groupby(['comCode', 'posLabel'])['score'].mean().reset_index(name='AvgScore')\n",
        "\n",
        "    combined_results = pd.merge(unique_employee_counts_csv, unique_employee_counts_excel, left_on=['ComCode', 'posLabel'], right_on=['comCode', 'posLabel'], how='outer')\n",
        "    combined_results_final = pd.merge(combined_results, avg_score_by_poslabel_excel, on=['comCode', 'posLabel'], how='outer').drop(columns=['comCode']).rename(columns={'ComCode': 'comCode'})\n",
        "\n",
        "    combined_results_final['Participation'] = combined_results_final['happEmpCount'] / combined_results_final['commEmpCount']\n",
        "    combined_results_final['Participation'] = combined_results_final['Participation'].replace([float('inf'), -float('inf')], np.nan).fillna(0)\n",
        "\n",
        "    output_file_path = 'final_combined_results_revised.csv'\n",
        "    combined_results_final.to_csv(output_file_path, index=False)\n",
        "    print(f'File saved as: {output_file_path}')\n",
        "\n",
        "csv_file_path = '/path/to/your/3month_list.csv'\n",
        "excel_file_path = '/path/to/your/happiness_posLabel.xlsx'\n",
        "process_files(csv_file_path, excel_file_path)\n"
      ]
    }
  ]
}