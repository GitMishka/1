{
  "nbformat": 4,
  "nbformat_minor": 0,
  "metadata": {
    "colab": {
      "provenance": [],
      "mount_file_id": "1BLucrNgjhh09egdNJxicPNQFaRaZj9ih",
      "authorship_tag": "ABX9TyMniGfkZYibz0PGVsfIUT5f",
      "include_colab_link": true
    },
    "kernelspec": {
      "name": "python3",
      "display_name": "Python 3"
    },
    "language_info": {
      "name": "python"
    }
  },
  "cells": [
    {
      "cell_type": "markdown",
      "metadata": {
        "id": "view-in-github",
        "colab_type": "text"
      },
      "source": [
        "<a href=\"https://colab.research.google.com/github/GitMishka/1/blob/main/properties_output.ipynb\" target=\"_parent\"><img src=\"https://colab.research.google.com/assets/colab-badge.svg\" alt=\"Open In Colab\"/></a>"
      ]
    },
    {
      "cell_type": "code",
      "execution_count": null,
      "metadata": {
        "id": "1nFgmPSPvpsZ"
      },
      "outputs": [],
      "source": [
        "import pandas as pd\n",
        "\n",
        "df = pd.read_csv('/content/drive/MyDrive/Work/Migration/for_google_colab.csv')\n",
        "\n",
        "unique_property_codes = df['property_code'].unique()\n",
        "\n",
        "with pd.ExcelWriter('properties_output.xlsx', engine='openpyxl') as writer:\n",
        "    for code in unique_property_codes:\n",
        "        df_code = df[df['property_code'] == code]\n",
        "        df_code.to_excel(writer, sheet_name=str(code), index=False)\n",
        "\n"
      ]
    }
  ]
}