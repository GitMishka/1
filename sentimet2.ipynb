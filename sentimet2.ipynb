{
  "nbformat": 4,
  "nbformat_minor": 0,
  "metadata": {
    "colab": {
      "provenance": [],
      "authorship_tag": "ABX9TyOy4Jcv2akDZlc14IKUKi9y",
      "include_colab_link": true
    },
    "kernelspec": {
      "name": "python3",
      "display_name": "Python 3"
    },
    "language_info": {
      "name": "python"
    }
  },
  "cells": [
    {
      "cell_type": "markdown",
      "metadata": {
        "id": "view-in-github",
        "colab_type": "text"
      },
      "source": [
        "<a href=\"https://colab.research.google.com/github/GitMishka/1/blob/main/sentimet2.ipynb\" target=\"_parent\"><img src=\"https://colab.research.google.com/assets/colab-badge.svg\" alt=\"Open In Colab\"/></a>"
      ]
    },
    {
      "cell_type": "code",
      "execution_count": null,
      "metadata": {
        "colab": {
          "base_uri": "https://localhost:8080/"
        },
        "id": "XDvdaSdhz-Sr",
        "outputId": "c4b478c3-f063-4591-8132-037287423c3b"
      },
      "outputs": [
        {
          "output_type": "stream",
          "name": "stderr",
          "text": [
            "[nltk_data] Downloading package stopwords to /root/nltk_data...\n",
            "[nltk_data]   Package stopwords is already up-to-date!\n",
            "[nltk_data] Downloading package punkt to /root/nltk_data...\n",
            "[nltk_data]   Package punkt is already up-to-date!\n",
            "<ipython-input-5-33529f6ab97b>:38: FutureWarning: The default value of numeric_only in DataFrameGroupBy.mean is deprecated. In a future version, numeric_only will default to False. Either specify numeric_only or select only columns which should be valid for the function.\n",
            "  grouped_results = df.groupby('Embedded Data - Community').mean()\n"
          ]
        }
      ],
      "source": [
        "import pandas as pd\n",
        "from textblob import TextBlob\n",
        "import nltk\n",
        "from nltk.corpus import stopwords\n",
        "nltk.download('stopwords')\n",
        "import nltk\n",
        "nltk.download('punkt')  # This line downloads the punkt tokenizer models\n",
        "\n",
        "# Now continue with the rest of your script\n",
        "\n",
        "\n",
        "df = pd.read_csv('/content/Family Survey Comments.csv')\n",
        "\n",
        "# Function to analyze sentiment\n",
        "def analyze_sentiment(text):\n",
        "    if pd.notna(text):\n",
        "        return TextBlob(str(text)).sentiment.polarity\n",
        "    else:\n",
        "        return None\n",
        "\n",
        "# Function to find most common issues\n",
        "def find_common_issues(text):\n",
        "    if pd.notna(text):\n",
        "        words = nltk.word_tokenize(str(text))\n",
        "        filtered_words = [word for word in words if word.lower() not in stopwords.words('english')]\n",
        "        freq_dist = nltk.FreqDist(filtered_words)\n",
        "        return freq_dist.most_common(1)\n",
        "    else:\n",
        "        return None\n",
        "\n",
        "# Apply sentiment analysis and issue identification\n",
        "for column in df.columns:\n",
        "    if column != 'Embedded Data - Community':\n",
        "        df[column + ' Sentiment'] = df[column].apply(analyze_sentiment)\n",
        "        df[column + ' Key Issue'] = df[column].apply(find_common_issues)\n",
        "\n",
        "# Group by 'Embedded Data - Community'\n",
        "grouped_results = df.groupby('Embedded Data - Community').mean()\n"
      ]
    },
    {
      "cell_type": "code",
      "source": [
        "grouped_results"
      ],
      "metadata": {
        "id": "dpODXUel03mO"
      },
      "execution_count": null,
      "outputs": []
    },
    {
      "cell_type": "code",
      "source": [
        "from google.colab import files\n",
        "\n",
        "output_file_name = 'Sentiment2_Analysis_Results.csv'\n",
        "grouped_results.to_csv(output_file_name)\n",
        "\n",
        "# Download the file\n",
        "files.download(output_file_name)"
      ],
      "metadata": {
        "colab": {
          "base_uri": "https://localhost:8080/",
          "height": 795
        },
        "id": "bn0mhc391J9T",
        "outputId": "ced3c00b-ef1e-4796-94c2-62637fe0abf9"
      },
      "execution_count": null,
      "outputs": [
        {
          "output_type": "error",
          "ename": "NameError",
          "evalue": "ignored",
          "traceback": [
            "\u001b[0;31m---------------------------------------------------------------------------\u001b[0m",
            "\u001b[0;31mNameError\u001b[0m                                 Traceback (most recent call last)",
            "\u001b[0;32m<ipython-input-1-6571a64d84c7>\u001b[0m in \u001b[0;36m<cell line: 4>\u001b[0;34m()\u001b[0m\n\u001b[1;32m      2\u001b[0m \u001b[0;34m\u001b[0m\u001b[0m\n\u001b[1;32m      3\u001b[0m \u001b[0moutput_file_name\u001b[0m \u001b[0;34m=\u001b[0m \u001b[0;34m'Sentiment2_Analysis_Results.csv'\u001b[0m\u001b[0;34m\u001b[0m\u001b[0;34m\u001b[0m\u001b[0m\n\u001b[0;32m----> 4\u001b[0;31m \u001b[0mgrouped_results\u001b[0m\u001b[0;34m.\u001b[0m\u001b[0mto_csv\u001b[0m\u001b[0;34m(\u001b[0m\u001b[0moutput_file_name\u001b[0m\u001b[0;34m)\u001b[0m\u001b[0;34m\u001b[0m\u001b[0;34m\u001b[0m\u001b[0m\n\u001b[0m\u001b[1;32m      5\u001b[0m \u001b[0;34m\u001b[0m\u001b[0m\n\u001b[1;32m      6\u001b[0m \u001b[0;31m# Download the file\u001b[0m\u001b[0;34m\u001b[0m\u001b[0;34m\u001b[0m\u001b[0m\n",
            "\u001b[0;31mNameError\u001b[0m: name 'grouped_results' is not defined"
          ]
        }
      ]
    }
  ]
}