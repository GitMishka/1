{
  "nbformat": 4,
  "nbformat_minor": 0,
  "metadata": {
    "colab": {
      "provenance": [],
      "authorship_tag": "ABX9TyNlcQmTjbnKRA7euPTs37ui",
      "include_colab_link": true
    },
    "kernelspec": {
      "name": "python3",
      "display_name": "Python 3"
    },
    "language_info": {
      "name": "python"
    }
  },
  "cells": [
    {
      "cell_type": "markdown",
      "metadata": {
        "id": "view-in-github",
        "colab_type": "text"
      },
      "source": [
        "<a href=\"https://colab.research.google.com/github/GitMishka/1/blob/main/template_pipeline.ipynb\" target=\"_parent\"><img src=\"https://colab.research.google.com/assets/colab-badge.svg\" alt=\"Open In Colab\"/></a>"
      ]
    },
    {
      "cell_type": "code",
      "execution_count": null,
      "metadata": {
        "id": "MJ3vjjlNcEcr"
      },
      "outputs": [],
      "source": [
        "import pandas as pd\n",
        "from sqlalchemy import create_engine"
      ]
    },
    {
      "cell_type": "code",
      "source": [
        "DATABASE_TYPE = 'postgresql'\n",
        "DBAPI = 'psycopg2'\n",
        "HOST = 'your_host'\n",
        "USER = 'your_user'\n",
        "PASSWORD = 'your_password'\n",
        "DATABASE = 'your_database'\n",
        "PORT = 5432\n"
      ],
      "metadata": {
        "id": "XIyk6cohcJF-"
      },
      "execution_count": null,
      "outputs": []
    },
    {
      "cell_type": "code",
      "source": [
        "DATABASE_URI = f\"{DATABASE_TYPE}+{DBAPI}://{USER}:{PASSWORD}@{HOST}:{PORT}/{DATABASE}\"\n",
        "engine = create_engine(DATABASE_URI)"
      ],
      "metadata": {
        "id": "ENnsNStCcKeG"
      },
      "execution_count": null,
      "outputs": []
    },
    {
      "cell_type": "code",
      "source": [
        "def extract_data(query, engine):\n",
        "\n",
        "    data = pd.read_sql(query, engine)\n",
        "    return data"
      ],
      "metadata": {
        "id": "knMd2uaecWsJ"
      },
      "execution_count": null,
      "outputs": []
    },
    {
      "cell_type": "code",
      "source": [
        "def transform_data(data):\n",
        "\n",
        "    transformed_data = data.dropna()\n",
        "    return transformed_data"
      ],
      "metadata": {
        "id": "fC6vd30IcZkl"
      },
      "execution_count": null,
      "outputs": []
    },
    {
      "cell_type": "code",
      "source": [
        "def data_pipeline(query, table_name, engine):\n",
        "\n",
        "    data = extract_data(query, engine)\n",
        "    transformed_data = transform_data(data)\n",
        "    load_data(transformed_data, table_name, engine)"
      ],
      "metadata": {
        "id": "qa29yQuGcOrZ"
      },
      "execution_count": null,
      "outputs": []
    },
    {
      "cell_type": "code",
      "source": [
        "sql_query = \"SELECT * FROM your_source_table\"\n",
        "target_table = \"your_target_table\"\n",
        "\n",
        "data_pipeline(sql_query, target_table, engine)"
      ],
      "metadata": {
        "id": "NcbgT89Ccs6c"
      },
      "execution_count": null,
      "outputs": []
    }
  ]
}