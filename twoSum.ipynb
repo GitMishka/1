{
  "nbformat": 4,
  "nbformat_minor": 0,
  "metadata": {
    "colab": {
      "provenance": [],
      "authorship_tag": "ABX9TyPFRp+ZZdGqDUkuz0kOq5C9",
      "include_colab_link": true
    },
    "kernelspec": {
      "name": "python3",
      "display_name": "Python 3"
    },
    "language_info": {
      "name": "python"
    }
  },
  "cells": [
    {
      "cell_type": "markdown",
      "metadata": {
        "id": "view-in-github",
        "colab_type": "text"
      },
      "source": [
        "<a href=\"https://colab.research.google.com/github/GitMishka/1/blob/main/twoSum.ipynb\" target=\"_parent\"><img src=\"https://colab.research.google.com/assets/colab-badge.svg\" alt=\"Open In Colab\"/></a>"
      ]
    },
    {
      "cell_type": "code",
      "execution_count": 3,
      "metadata": {
        "id": "BPa9f59TX1Cd"
      },
      "outputs": [],
      "source": [
        "def twoSum(nums,target):\n",
        "\n",
        "  num_map = {}\n",
        "\n",
        "  for index, num in enumerate(nums):\n",
        "    complement  = target - num\n",
        "    if complement  in num_map:\n",
        "      return [num_map[complement], index]\n",
        "\n",
        "    num_map[num] = index"
      ]
    },
    {
      "cell_type": "code",
      "source": [
        "print(twoSum([1,2,3,4,5,6,7],5))"
      ],
      "metadata": {
        "colab": {
          "base_uri": "https://localhost:8080/"
        },
        "id": "1Ij2UvoPYaWI",
        "outputId": "69967d3e-2c00-4247-8b72-c491e75a00b3"
      },
      "execution_count": 5,
      "outputs": [
        {
          "output_type": "stream",
          "name": "stdout",
          "text": [
            "[1, 2]\n"
          ]
        }
      ]
    }
  ]
}