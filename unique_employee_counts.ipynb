{
  "nbformat": 4,
  "nbformat_minor": 0,
  "metadata": {
    "colab": {
      "provenance": [],
      "mount_file_id": "1CXSuWy--D4gC5fEKYi4YgosvPnfgMMve",
      "authorship_tag": "ABX9TyOV2DmDbO4dUtOD9owqdzZB",
      "include_colab_link": true
    },
    "kernelspec": {
      "name": "python3",
      "display_name": "Python 3"
    },
    "language_info": {
      "name": "python"
    }
  },
  "cells": [
    {
      "cell_type": "markdown",
      "metadata": {
        "id": "view-in-github",
        "colab_type": "text"
      },
      "source": [
        "<a href=\"https://colab.research.google.com/github/GitMishka/1/blob/main/unique_employee_counts.ipynb\" target=\"_parent\"><img src=\"https://colab.research.google.com/assets/colab-badge.svg\" alt=\"Open In Colab\"/></a>"
      ]
    },
    {
      "cell_type": "code",
      "source": [
        "import pandas as pd\n",
        "import io\n",
        "from google.colab import files\n",
        "df = pd.read_csv('/content/drive/MyDrive/Work/BI/use_me.csv')"
      ],
      "metadata": {
        "id": "GNA-8M9AwL_r"
      },
      "execution_count": null,
      "outputs": []
    },
    {
      "cell_type": "code",
      "execution_count": null,
      "metadata": {
        "id": "H4_Hir7ywKah"
      },
      "outputs": [],
      "source": [
        "df = pd.read_csv('/content/drive/MyDrive/Work/BI/use_me.csv')\n",
        "\n",
        "df['startDate'] = pd.to_datetime(df['startDate'])\n",
        "\n",
        "df['month_year'] = df['startDate'].dt.to_period('M')\n",
        "\n",
        "unique_counts = df.groupby(['community', 'month_year'])['employeeID'].nunique().reset_index()\n",
        "unique_counts.rename(columns={'employeeID': 'unique_employee_count'}, inplace=True)\n",
        "unique_counts.to_csv('/content/unique_employee_counts.csv', index=False)\n",
        "files.download('/content/unique_employee_counts.csv')\n"
      ]
    },
    {
      "cell_type": "markdown",
      "source": [],
      "metadata": {
        "id": "oK3zD7kuy7tq"
      }
    },
    {
      "cell_type": "code",
      "source": [
        "df = pd.read_csv('/content/drive/MyDrive/Work/BI/use_me.csv')\n",
        "\n",
        "df['startDate'] = pd.to_datetime(df['startDate'])\n",
        "\n",
        "df['month_year'] = df['startDate'].dt.to_period('M')\n",
        "\n",
        "grouped_df = df.groupby(['community', 'month_year']).agg({\n",
        "    'employeeID': pd.Series.nunique,\n",
        "    'question1Number': 'mean'\n",
        "}).reset_index()\n",
        "\n",
        "grouped_df.rename(columns={'employeeID': 'unique_employee_count'}, inplace=True)\n",
        "\n",
        "grouped_df.to_csv('/content/unique_employee_counts_with_average.csv', index=False)\n",
        "\n",
        "files.download('/content/unique_employee_counts_with_average.csv')"
      ],
      "metadata": {
        "colab": {
          "base_uri": "https://localhost:8080/",
          "height": 17
        },
        "id": "5oMDjwSawLYx",
        "outputId": "53cec507-d2d0-4471-c3bc-a2c37b33cb05"
      },
      "execution_count": null,
      "outputs": [
        {
          "output_type": "display_data",
          "data": {
            "text/plain": [
              "<IPython.core.display.Javascript object>"
            ],
            "application/javascript": [
              "\n",
              "    async function download(id, filename, size) {\n",
              "      if (!google.colab.kernel.accessAllowed) {\n",
              "        return;\n",
              "      }\n",
              "      const div = document.createElement('div');\n",
              "      const label = document.createElement('label');\n",
              "      label.textContent = `Downloading \"${filename}\": `;\n",
              "      div.appendChild(label);\n",
              "      const progress = document.createElement('progress');\n",
              "      progress.max = size;\n",
              "      div.appendChild(progress);\n",
              "      document.body.appendChild(div);\n",
              "\n",
              "      const buffers = [];\n",
              "      let downloaded = 0;\n",
              "\n",
              "      const channel = await google.colab.kernel.comms.open(id);\n",
              "      // Send a message to notify the kernel that we're ready.\n",
              "      channel.send({})\n",
              "\n",
              "      for await (const message of channel.messages) {\n",
              "        // Send a message to notify the kernel that we're ready.\n",
              "        channel.send({})\n",
              "        if (message.buffers) {\n",
              "          for (const buffer of message.buffers) {\n",
              "            buffers.push(buffer);\n",
              "            downloaded += buffer.byteLength;\n",
              "            progress.value = downloaded;\n",
              "          }\n",
              "        }\n",
              "      }\n",
              "      const blob = new Blob(buffers, {type: 'application/binary'});\n",
              "      const a = document.createElement('a');\n",
              "      a.href = window.URL.createObjectURL(blob);\n",
              "      a.download = filename;\n",
              "      div.appendChild(a);\n",
              "      a.click();\n",
              "      div.remove();\n",
              "    }\n",
              "  "
            ]
          },
          "metadata": {}
        },
        {
          "output_type": "display_data",
          "data": {
            "text/plain": [
              "<IPython.core.display.Javascript object>"
            ],
            "application/javascript": [
              "download(\"download_855b0edf-62ac-46b5-84ee-0dde458f737a\", \"unique_employee_counts_with_average.csv\", 23803)"
            ]
          },
          "metadata": {}
        }
      ]
    }
  ]
}