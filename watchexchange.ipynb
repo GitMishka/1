{
  "nbformat": 4,
  "nbformat_minor": 0,
  "metadata": {
    "colab": {
      "provenance": [],
      "authorship_tag": "ABX9TyMWnTu3Xe0g0ETS0fcx1h4W",
      "include_colab_link": true
    },
    "kernelspec": {
      "name": "python3",
      "display_name": "Python 3"
    },
    "language_info": {
      "name": "python"
    }
  },
  "cells": [
    {
      "cell_type": "markdown",
      "metadata": {
        "id": "view-in-github",
        "colab_type": "text"
      },
      "source": [
        "<a href=\"https://colab.research.google.com/github/GitMishka/1/blob/main/watchexchange.ipynb\" target=\"_parent\"><img src=\"https://colab.research.google.com/assets/colab-badge.svg\" alt=\"Open In Colab\"/></a>"
      ]
    },
    {
      "cell_type": "code",
      "source": [
        "!pip install praw\n"
      ],
      "metadata": {
        "id": "LUbg-Vu4Q-Ep"
      },
      "execution_count": null,
      "outputs": []
    },
    {
      "cell_type": "code",
      "execution_count": 12,
      "metadata": {
        "colab": {
          "base_uri": "https://localhost:8080/"
        },
        "id": "IFKTY_w6NPOE",
        "outputId": "6225dc40-d4ef-4d75-c99e-270e613f64a4"
      },
      "outputs": [
        {
          "output_type": "stream",
          "name": "stdout",
          "text": [
            "Requirement already satisfied: praw in /usr/local/lib/python3.10/dist-packages (7.7.1)\n",
            "Requirement already satisfied: prawcore<3,>=2.1 in /usr/local/lib/python3.10/dist-packages (from praw) (2.4.0)\n",
            "Requirement already satisfied: update-checker>=0.18 in /usr/local/lib/python3.10/dist-packages (from praw) (0.18.0)\n",
            "Requirement already satisfied: websocket-client>=0.54.0 in /usr/local/lib/python3.10/dist-packages (from praw) (1.6.4)\n",
            "Requirement already satisfied: requests<3.0,>=2.6.0 in /usr/local/lib/python3.10/dist-packages (from prawcore<3,>=2.1->praw) (2.31.0)\n",
            "Requirement already satisfied: charset-normalizer<4,>=2 in /usr/local/lib/python3.10/dist-packages (from requests<3.0,>=2.6.0->prawcore<3,>=2.1->praw) (3.3.2)\n",
            "Requirement already satisfied: idna<4,>=2.5 in /usr/local/lib/python3.10/dist-packages (from requests<3.0,>=2.6.0->prawcore<3,>=2.1->praw) (3.4)\n",
            "Requirement already satisfied: urllib3<3,>=1.21.1 in /usr/local/lib/python3.10/dist-packages (from requests<3.0,>=2.6.0->prawcore<3,>=2.1->praw) (2.0.7)\n",
            "Requirement already satisfied: certifi>=2017.4.17 in /usr/local/lib/python3.10/dist-packages (from requests<3.0,>=2.6.0->prawcore<3,>=2.1->praw) (2023.7.22)\n"
          ]
        }
      ],
      "source": [
        "import praw\n",
        "import pandas as pd\n",
        "from datetime import datetime"
      ]
    },
    {
      "cell_type": "code",
      "source": [],
      "metadata": {
        "id": "0Jb8sEgeQljj"
      },
      "execution_count": null,
      "outputs": []
    },
    {
      "cell_type": "code",
      "source": [
        "reddit = praw.Reddit(username=\"Searchbot_01\",\n",
        "                      password=\"\",\n",
        "                      client_id=\"Ai32qfXNqvGuMEvHFFMlAw\",\n",
        "                      client_secret=\"IG5XKjyUGkcG2cgXfBSwVvalMTxFRg\",\n",
        "                      user_agent=\"user_agent\",\n",
        "                      check_for_async=False)"
      ],
      "metadata": {
        "id": "RIirKd9MN_hj"
      },
      "execution_count": 9,
      "outputs": []
    },
    {
      "cell_type": "code",
      "source": [
        "watch_brands = [\n",
        "    \"Rolex\", \"Omega\", \"TAG Heuer\", \"Patek Philippe\", \"Audemars Piguet\", \"Cartier\",\n",
        "    \"Breitling\", \"Seiko\", \"Tissot\", \"Longines\", \"Hublot\", \"Panerai\",\n",
        "    \"IWC Schaffhausen\", \"Jaeger-LeCoultre\", \"Vacheron Constantin\", \"Breguet\",\n",
        "    \"Zenith\", \"Fossil\", \"Casio\", \"Citizen\", \"Timex\", \"Bulova\", \"Hamilton\",\n",
        "    \"Movado\", \"Invicta\", \"Swatch\", \"Richard Mille\", \"Bell & Ross\",\n",
        "    \"Girard-Perregaux\", \"Chopard\", \"Ulysse Nardin\", \"Maurice Lacroix\", \"Rado\",\n",
        "    \"Nomos Glashütte\", \"Oris\", \"Blancpain\", \"Piaget\"\n",
        "]"
      ],
      "metadata": {
        "id": "D9a_hAK1Qqb6"
      },
      "execution_count": 10,
      "outputs": []
    },
    {
      "cell_type": "code",
      "source": [
        "subreddit = reddit.subreddit('watchexchange')\n",
        "\n",
        "posts_data = []\n",
        "\n",
        "for post in subreddit.top(limit=2000, time_filter='all'):\n",
        "    post_title = post.title\n",
        "    brand = next((b for b in watch_brands if b in post_title), \"Unknown\")\n",
        "\n",
        "    price = post.link_flair_text if post.link_flair_text else \"N/A\"\n",
        "\n",
        "    posts_data.append({\n",
        "        'brand': brand,\n",
        "        'title': post_title,\n",
        "        'price': price,\n",
        "        'date_posted': datetime.fromtimestamp(post.created_utc).strftime('%Y-%m-%d %H:%M:%S'),\n",
        "        'comment_count': post.num_comments,\n",
        "        'upvotes': post.score\n",
        "    })\n"
      ],
      "metadata": {
        "id": "WkW5BCRmPVDP"
      },
      "execution_count": 19,
      "outputs": []
    },
    {
      "cell_type": "code",
      "source": [
        "df = pd.DataFrame(posts_data)\n",
        "\n",
        "df.to_csv('watchexchange_data.csv', index=False)"
      ],
      "metadata": {
        "id": "VUE1gMplPakD"
      },
      "execution_count": 20,
      "outputs": []
    }
  ]
}