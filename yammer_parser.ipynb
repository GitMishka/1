{
  "nbformat": 4,
  "nbformat_minor": 0,
  "metadata": {
    "colab": {
      "provenance": [],
      "authorship_tag": "ABX9TyN1HAUqZLAkC65gZhJsGedR",
      "include_colab_link": true
    },
    "kernelspec": {
      "name": "python3",
      "display_name": "Python 3"
    },
    "language_info": {
      "name": "python"
    }
  },
  "cells": [
    {
      "cell_type": "markdown",
      "metadata": {
        "id": "view-in-github",
        "colab_type": "text"
      },
      "source": [
        "<a href=\"https://colab.research.google.com/github/GitMishka/1/blob/main/yammer_parser.ipynb\" target=\"_parent\"><img src=\"https://colab.research.google.com/assets/colab-badge.svg\" alt=\"Open In Colab\"/></a>"
      ]
    },
    {
      "cell_type": "code",
      "execution_count": null,
      "metadata": {
        "id": "ZLcsuAqVnZNS"
      },
      "outputs": [],
      "source": [
        "new_data['Last Activity Date'] = pd.to_datetime(new_data['Last Activity Date'])\n",
        "\n",
        "new_data['month_year'] = new_data['Last Activity Date'].dt.to_period('M')\n",
        "\n",
        "\n",
        "overall_user_aggregation = new_data.groupby('com').agg(\n",
        "    unique_users=('user', 'nunique')\n",
        ").reset_index()\n",
        "\n",
        "monthly_user_aggregation = new_data.groupby(['com', 'month_year']).agg(\n",
        "    unique_users=('user', 'nunique')\n",
        ").reset_index()\n",
        "\n",
        "overall_user_aggregation.head(), monthly_user_aggregation.head()\n"
      ]
    },
    {
      "cell_type": "code",
      "source": [
        "new_excel_path = '/mnt/data/yammer_data_aggregated.xlsx'\n",
        "writer = pd.ExcelWriter(new_excel_path, engine='xlsxwriter')\n",
        "\n",
        "overall_user_aggregation.to_excel(writer, sheet_name='Overall', index=False)\n",
        "monthly_user_aggregation.to_excel(writer, sheet_name='Monthly', index=False)\n",
        "\n",
        "writer.save()\n",
        "\n",
        "new_excel_path\n"
      ],
      "metadata": {
        "id": "IJaw0cYkndBk"
      },
      "execution_count": null,
      "outputs": []
    }
  ]
}